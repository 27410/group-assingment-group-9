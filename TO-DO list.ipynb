{
 "cells": [
  {
   "cell_type": "markdown",
   "id": "77c3129a",
   "metadata": {},
   "source": [
    "# To-Do List\n",
    "\n",
    "## @Haroun\n",
    "\n",
    "### Remaining\n",
    "\n",
    "1. [ ] Task 1\n",
    "2. [ ] Task 2\n",
    "\n",
    "### Completed\n",
    "\n",
    "- [x] Initial setup (GitHub)\n",
    "- [x] Checking old repositories\n",
    "\n"
   ]
  }
 ],
 "metadata": {
  "kernelspec": {
   "display_name": "Python 3",
   "language": "python",
   "name": "python3"
  },
  "language_info": {
   "codemirror_mode": {
    "name": "ipython",
    "version": 3
   },
   "file_extension": ".py",
   "mimetype": "text/x-python",
   "name": "python",
   "nbconvert_exporter": "python",
   "pygments_lexer": "ipython3",
   "version": "3.8.8"
  }
 },
 "nbformat": 4,
 "nbformat_minor": 5
}
