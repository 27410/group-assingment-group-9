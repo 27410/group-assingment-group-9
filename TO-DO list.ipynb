{
 "cells": [
  {
   "cell_type": "markdown",
   "id": "f6d332ad",
   "metadata": {},
   "source": [
    "### To-Do List\n",
    "- [X] DONE\n",
    "- [ ] Calculate theoretical maximum yields for chosen product for suitable carbon sources\n",
    "- [ ] Plot phenotypic phase planes for relevant process conditions (anaerobic vs aerobic for example, what makes more sense?)\n",
    "- [ ] Computationally enumerate all potential production pathways to your chosen product (even if it is a native product) and score them by different metrics (yield, number of steps added,)\n",
    "- [ ] Compute gene knockout strategies using algorithms like OptKnock, OptGene and OptCouple\n",
    "- [ ] Compute over-expression and down-regulation targets\n",
    "- [ ] Compute co-factor swap targets\n",
    "- [ ] Assess your predicted strain designs using simulations and pathway visualizations\n",
    "- [ ] Assess manually derived strain designs using model simulations\n",
    "- [ ] Simulate batch cultivations using dynamic FBA\n",
    "- [ ] Based on your computations, provide a top 10 list of most promising cell factory designs. The criteria for \"most promising\" are the number of modifications, yield, growth rate and others you might define\n",
    "\n",
    "### Current\n",
    "\n",
    "- Compute gene knockout strategies using algorithms like OptKnock, OptGene and OptCouple (@HB)\n"
   ]
  },
  {
   "cell_type": "code",
   "execution_count": null,
   "id": "e23286cc",
   "metadata": {},
   "outputs": [],
   "source": []
  }
 ],
 "metadata": {
  "kernelspec": {
   "display_name": "Python 3",
   "language": "python",
   "name": "python3"
  },
  "language_info": {
   "codemirror_mode": {
    "name": "ipython",
    "version": 3
   },
   "file_extension": ".py",
   "mimetype": "text/x-python",
   "name": "python",
   "nbconvert_exporter": "python",
   "pygments_lexer": "ipython3",
   "version": "3.8.8"
  }
 },
 "nbformat": 4,
 "nbformat_minor": 5
}
