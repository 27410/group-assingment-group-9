{
 "cells": [
  {
   "cell_type": "markdown",
   "id": "f6d332ad",
   "metadata": {},
   "source": [
    "## To-Do List @Haroun\n",
    "\n",
    "### Remaining\n",
    "\n",
    "- [ ] Start coding\n",
    "- [ ] Setting up the visualization\n",
    "\n",
    "### Completed\n",
    "\n",
    "- [x] Initial setup (GitHub, access to repositories) (12/11)\n",
    "- [x] Checking the old repositories for previous teams (12/11)\n",
    "\n"
   ]
  },
  {
   "cell_type": "code",
   "execution_count": null,
   "id": "4b85f60b",
   "metadata": {},
   "outputs": [],
   "source": []
  }
 ],
 "metadata": {
  "kernelspec": {
   "display_name": "Python 3",
   "language": "python",
   "name": "python3"
  },
  "language_info": {
   "codemirror_mode": {
    "name": "ipython",
    "version": 3
   },
   "file_extension": ".py",
   "mimetype": "text/x-python",
   "name": "python",
   "nbconvert_exporter": "python",
   "pygments_lexer": "ipython3",
   "version": "3.8.8"
  }
 },
 "nbformat": 4,
 "nbformat_minor": 5
}
