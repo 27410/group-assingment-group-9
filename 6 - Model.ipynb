{
 "cells": [
  {
   "cell_type": "markdown",
   "id": "8c2f0634-acad-45b2-a1e3-2b400d3d3cc8",
   "metadata": {},
   "source": [
    "# Model\n",
    "## iCGB21FR"
   ]
  },
  {
   "cell_type": "code",
   "execution_count": 1,
   "id": "458951ab-e816-4c82-87b2-5b655118b28b",
   "metadata": {
    "tags": []
   },
   "outputs": [],
   "source": [
    "from colorama import init, Fore, Style\n",
    "from cobra import Model, Reaction\n",
    "from cobra.io import read_sbml_model\n",
    "import matplotlib.pyplot as plt\n",
    "import pandas as pd\n",
    "import numpy as np"
   ]
  },
  {
   "cell_type": "markdown",
   "id": "5c6b6553-58b8-4e40-aaa9-067bb371c673",
   "metadata": {},
   "source": [
    "#### Add lysine export reaction to the model"
   ]
  },
  {
   "cell_type": "code",
   "execution_count": 2,
   "id": "ff09c964-b8d8-4831-9e35-cb50edd01ea1",
   "metadata": {
    "tags": []
   },
   "outputs": [
    {
     "name": "stderr",
     "output_type": "stream",
     "text": [
      "SBML package 'layout' not supported by cobrapy, information is not parsed\n",
      "https://juser.fz-juelich.de/record/188973 does not conform to 'http(s)://identifiers.org/collection/id' or'http(s)://identifiers.org/COLLECTION:id\n"
     ]
    },
    {
     "data": {
      "text/html": [
       "\n",
       "        <table>\n",
       "            <tr>\n",
       "                <td><strong>Name</strong></td>\n",
       "                <td>iCBG21FR</td>\n",
       "            </tr><tr>\n",
       "                <td><strong>Memory address</strong></td>\n",
       "                <td>10497bd10</td>\n",
       "            </tr><tr>\n",
       "                <td><strong>Number of metabolites</strong></td>\n",
       "                <td>1042</td>\n",
       "            </tr><tr>\n",
       "                <td><strong>Number of reactions</strong></td>\n",
       "                <td>1540</td>\n",
       "            </tr><tr>\n",
       "                <td><strong>Number of genes</strong></td>\n",
       "                <td>807</td>\n",
       "            </tr><tr>\n",
       "                <td><strong>Number of groups</strong></td>\n",
       "                <td>102</td>\n",
       "            </tr><tr>\n",
       "                <td><strong>Objective expression</strong></td>\n",
       "                <td>1.0*Growth - 1.0*Growth_reverse_699ae</td>\n",
       "            </tr><tr>\n",
       "                <td><strong>Compartments</strong></td>\n",
       "                <td>cytosol, periplasm, extracellular space</td>\n",
       "            </tr>\n",
       "          </table>"
      ],
      "text/plain": [
       "<Model iCBG21FR at 0x10497bd10>"
      ]
     },
     "execution_count": 2,
     "metadata": {},
     "output_type": "execute_result"
    }
   ],
   "source": [
    "model = read_sbml_model('/Users/macintosh/Downloads/iCGB21FR.xml')\n",
    "\n",
    "lys_exp_rxn = Reaction(\"LYSt3r\")\n",
    "lys_exp_rxn.name = \"L lysine transport out via proton antiport reversible\" #Addition of Lysine transport\n",
    "lys_exp_rxn.add_metabolites({model.metabolites.h_e: -1, model.metabolites.lys__L_c: -1, model.metabolites.h_c: 1, model.metabolites.lys__L_e: 1})\n",
    "lys_exp_rxn.gene_reaction_rule = \"( Mbar_A2583 or Mbar_A3244 )\"\n",
    "lys_exp_rxn.lower_bound, lys_exp_rxn.upper_bound = 0, 1000\n",
    "\n",
    "model.add_reactions([lys_exp_rxn])\n",
    "\n",
    "model"
   ]
  },
  {
   "cell_type": "code",
   "execution_count": 3,
   "id": "9891608d-34e5-440e-b848-d2681dc700c4",
   "metadata": {
    "tags": []
   },
   "outputs": [
    {
     "data": {
      "text/plain": [
       "12DGR120tipp     0.0\n",
       "12DGR140tipp     0.0\n",
       "12DGR161tipp     0.0\n",
       "12DGR180tipp     0.0\n",
       "12DGR181tipp     0.0\n",
       "                ... \n",
       "L_LACtex         0.0\n",
       "CYTB1           20.0\n",
       "EX_34dhbz_e      0.0\n",
       "3_4DHBZt2        0.0\n",
       "LYSt3r           0.0\n",
       "Name: fluxes, Length: 1540, dtype: float64"
      ]
     },
     "execution_count": 3,
     "metadata": {},
     "output_type": "execute_result"
    }
   ],
   "source": [
    "solution = model.optimize()\n",
    "solution.fluxes"
   ]
  },
  {
   "cell_type": "code",
   "execution_count": 4,
   "id": "ea43bfbf-a80d-408a-b5e1-a828be8e83e5",
   "metadata": {
    "tags": []
   },
   "outputs": [
    {
     "data": {
      "text/html": [
       "<h3>Objective</h3><p>1.0 Growth = 0.5706600731225543</p><h4>Uptake</h4><table border=\"1\" class=\"dataframe\">\n",
       "  <thead>\n",
       "    <tr style=\"text-align: right;\">\n",
       "      <th>Metabolite</th>\n",
       "      <th>Reaction</th>\n",
       "      <th>Flux</th>\n",
       "      <th>C-Number</th>\n",
       "      <th>C-Flux</th>\n",
       "    </tr>\n",
       "  </thead>\n",
       "  <tbody>\n",
       "    <tr>\n",
       "      <td>ca2_e</td>\n",
       "      <td>EX_ca2_e</td>\n",
       "      <td>0.03095</td>\n",
       "      <td>0</td>\n",
       "      <td>0.00%</td>\n",
       "    </tr>\n",
       "    <tr>\n",
       "      <td>cl_e</td>\n",
       "      <td>EX_cl_e</td>\n",
       "      <td>0.03499</td>\n",
       "      <td>0</td>\n",
       "      <td>0.00%</td>\n",
       "    </tr>\n",
       "    <tr>\n",
       "      <td>cu2_e</td>\n",
       "      <td>EX_cu2_e</td>\n",
       "      <td>0.01952</td>\n",
       "      <td>0</td>\n",
       "      <td>0.00%</td>\n",
       "    </tr>\n",
       "    <tr>\n",
       "      <td>fe2_e</td>\n",
       "      <td>EX_fe2_e</td>\n",
       "      <td>0.02221</td>\n",
       "      <td>0</td>\n",
       "      <td>0.00%</td>\n",
       "    </tr>\n",
       "    <tr>\n",
       "      <td>fe3_e</td>\n",
       "      <td>EX_fe3_e</td>\n",
       "      <td>0.02221</td>\n",
       "      <td>0</td>\n",
       "      <td>0.00%</td>\n",
       "    </tr>\n",
       "    <tr>\n",
       "      <td>glc__D_e</td>\n",
       "      <td>EX_glc__D_e</td>\n",
       "      <td>10</td>\n",
       "      <td>6</td>\n",
       "      <td>100.00%</td>\n",
       "    </tr>\n",
       "    <tr>\n",
       "      <td>h_e</td>\n",
       "      <td>EX_h_e</td>\n",
       "      <td>10</td>\n",
       "      <td>0</td>\n",
       "      <td>0.00%</td>\n",
       "    </tr>\n",
       "    <tr>\n",
       "      <td>k_e</td>\n",
       "      <td>EX_k_e</td>\n",
       "      <td>0.03173</td>\n",
       "      <td>0</td>\n",
       "      <td>0.00%</td>\n",
       "    </tr>\n",
       "    <tr>\n",
       "      <td>mg2_e</td>\n",
       "      <td>EX_mg2_e</td>\n",
       "      <td>0.05104</td>\n",
       "      <td>0</td>\n",
       "      <td>0.00%</td>\n",
       "    </tr>\n",
       "    <tr>\n",
       "      <td>mn2_e</td>\n",
       "      <td>EX_mn2_e</td>\n",
       "      <td>0.02258</td>\n",
       "      <td>0</td>\n",
       "      <td>0.00%</td>\n",
       "    </tr>\n",
       "    <tr>\n",
       "      <td>na1_e</td>\n",
       "      <td>EX_na1_e</td>\n",
       "      <td>0.05396</td>\n",
       "      <td>0</td>\n",
       "      <td>0.00%</td>\n",
       "    </tr>\n",
       "    <tr>\n",
       "      <td>nh4_e</td>\n",
       "      <td>EX_nh4_e</td>\n",
       "      <td>6.123</td>\n",
       "      <td>0</td>\n",
       "      <td>0.00%</td>\n",
       "    </tr>\n",
       "    <tr>\n",
       "      <td>ni2_e</td>\n",
       "      <td>EX_ni2_e</td>\n",
       "      <td>0.02114</td>\n",
       "      <td>0</td>\n",
       "      <td>0.00%</td>\n",
       "    </tr>\n",
       "    <tr>\n",
       "      <td>o2_e</td>\n",
       "      <td>EX_o2_e</td>\n",
       "      <td>10</td>\n",
       "      <td>0</td>\n",
       "      <td>0.00%</td>\n",
       "    </tr>\n",
       "    <tr>\n",
       "      <td>pi_e</td>\n",
       "      <td>EX_pi_e</td>\n",
       "      <td>0.4773</td>\n",
       "      <td>0</td>\n",
       "      <td>0.00%</td>\n",
       "    </tr>\n",
       "    <tr>\n",
       "      <td>so4_e</td>\n",
       "      <td>EX_so4_e</td>\n",
       "      <td>0.1503</td>\n",
       "      <td>0</td>\n",
       "      <td>0.00%</td>\n",
       "    </tr>\n",
       "    <tr>\n",
       "      <td>zn2_e</td>\n",
       "      <td>EX_zn2_e</td>\n",
       "      <td>0.01897</td>\n",
       "      <td>0</td>\n",
       "      <td>0.00%</td>\n",
       "    </tr>\n",
       "  </tbody>\n",
       "</table><h4>Secretion</h4><table border=\"1\" class=\"dataframe\">\n",
       "  <thead>\n",
       "    <tr style=\"text-align: right;\">\n",
       "      <th>Metabolite</th>\n",
       "      <th>Reaction</th>\n",
       "      <th>Flux</th>\n",
       "      <th>C-Number</th>\n",
       "      <th>C-Flux</th>\n",
       "    </tr>\n",
       "  </thead>\n",
       "  <tbody>\n",
       "    <tr>\n",
       "      <td>co2_e</td>\n",
       "      <td>EX_co2_e</td>\n",
       "      <td>-5.855</td>\n",
       "      <td>1</td>\n",
       "      <td>15.75%</td>\n",
       "    </tr>\n",
       "    <tr>\n",
       "      <td>gly_e</td>\n",
       "      <td>EX_gly_e</td>\n",
       "      <td>-0.0486</td>\n",
       "      <td>2</td>\n",
       "      <td>0.26%</td>\n",
       "    </tr>\n",
       "    <tr>\n",
       "      <td>glyclt_e</td>\n",
       "      <td>EX_glyclt_e</td>\n",
       "      <td>-1.141</td>\n",
       "      <td>2</td>\n",
       "      <td>6.14%</td>\n",
       "    </tr>\n",
       "    <tr>\n",
       "      <td>h2o_e</td>\n",
       "      <td>EX_h2o_e</td>\n",
       "      <td>-28.45</td>\n",
       "      <td>0</td>\n",
       "      <td>0.00%</td>\n",
       "    </tr>\n",
       "    <tr>\n",
       "      <td>icit_e</td>\n",
       "      <td>EX_icit_e</td>\n",
       "      <td>-0.2821</td>\n",
       "      <td>6</td>\n",
       "      <td>4.55%</td>\n",
       "    </tr>\n",
       "    <tr>\n",
       "      <td>mal__L_e</td>\n",
       "      <td>EX_mal__L_e</td>\n",
       "      <td>-1.683</td>\n",
       "      <td>4</td>\n",
       "      <td>18.11%</td>\n",
       "    </tr>\n",
       "    <tr>\n",
       "      <td>succ_e</td>\n",
       "      <td>EX_succ_e</td>\n",
       "      <td>-5.127</td>\n",
       "      <td>4</td>\n",
       "      <td>55.18%</td>\n",
       "    </tr>\n",
       "    <tr>\n",
       "      <td>4hba_c</td>\n",
       "      <td>SK_4hba_c</td>\n",
       "      <td>-0.0001232</td>\n",
       "      <td>7</td>\n",
       "      <td>0.00%</td>\n",
       "    </tr>\n",
       "  </tbody>\n",
       "</table>"
      ],
      "text/plain": [
       "<cobra.summary.model_summary.ModelSummary at 0x15a041110>"
      ]
     },
     "execution_count": 4,
     "metadata": {},
     "output_type": "execute_result"
    }
   ],
   "source": [
    "model.summary()"
   ]
  },
  {
   "cell_type": "code",
   "execution_count": 5,
   "id": "c9b5a785-c1c3-4cb2-93bb-7afcca44de6d",
   "metadata": {
    "tags": []
   },
   "outputs": [
    {
     "name": "stdout",
     "output_type": "stream",
     "text": [
      "L-Lysine\n",
      "lys__L_c\n",
      "L-Lysine\n",
      "lys__L_e\n",
      "L-Lysine\n",
      "lys__L_p\n"
     ]
    }
   ],
   "source": [
    "for metabolite in model.metabolites.query('Lys', 'name'):\n",
    "    print(metabolite.name)\n",
    "    print(metabolite.id)"
   ]
  },
  {
   "cell_type": "code",
   "execution_count": 6,
   "id": "6ebb8c1c-dc2a-4401-b6f3-bcc5b84eae1f",
   "metadata": {
    "tags": []
   },
   "outputs": [
    {
     "data": {
      "text/html": [
       "\n",
       "        <table>\n",
       "            <tr>\n",
       "                <td><strong>Metabolite identifier</strong></td><td>lys__L_c</td>\n",
       "            </tr><tr>\n",
       "                <td><strong>Name</strong></td><td>L-Lysine</td>\n",
       "            </tr><tr>\n",
       "                <td><strong>Memory address</strong></td>\n",
       "                <td>0x14fb94350</td>\n",
       "            </tr><tr>\n",
       "                <td><strong>Formula</strong></td><td>C6H15N2O2</td>\n",
       "            </tr><tr>\n",
       "                <td><strong>Compartment</strong></td><td>c</td>\n",
       "            </tr><tr>\n",
       "                <td><strong>In 6 reaction(s)</strong></td><td>\n",
       "                    LYSabcpp, LYSabc, LYSt3r, LYSt3pp, Growth, DAPDC\n",
       "                    </td>\n",
       "            </tr>\n",
       "        </table>"
      ],
      "text/plain": [
       "<Metabolite lys__L_c at 0x14fb94350>"
      ]
     },
     "execution_count": 6,
     "metadata": {},
     "output_type": "execute_result"
    }
   ],
   "source": [
    "model.metabolites.get_by_id('lys__L_c')"
   ]
  },
  {
   "cell_type": "code",
   "execution_count": 7,
   "id": "0d998038-e2c1-4f27-adf6-db3b0f33c4b8",
   "metadata": {
    "tags": []
   },
   "outputs": [
    {
     "data": {
      "text/plain": [
       "frozenset({<Reaction DAPDC at 0x159a39f90>,\n",
       "           <Reaction Growth at 0x15a5a1990>,\n",
       "           <Reaction LYSabc at 0x159edb050>,\n",
       "           <Reaction LYSabcpp at 0x159ed8590>,\n",
       "           <Reaction LYSt3pp at 0x159edbe90>,\n",
       "           <Reaction LYSt3r at 0x159f27f50>})"
      ]
     },
     "execution_count": 7,
     "metadata": {},
     "output_type": "execute_result"
    }
   ],
   "source": [
    "model.metabolites.lys__L_c.reactions"
   ]
  },
  {
   "cell_type": "code",
   "execution_count": 8,
   "id": "8c15fc97-b7b3-496a-bd61-cb0fe6f8ccb1",
   "metadata": {
    "tags": []
   },
   "outputs": [
    {
     "name": "stdout",
     "output_type": "stream",
     "text": [
      "LYSabcpp LYSabcpp: atp_c + h2o_c + lys__L_p --> adp_c + h_c + lys__L_c + pi_c L-lysine transport via ABC system (periplasm)\n",
      "LYSabc LYSabc: atp_c + h2o_c + lys__L_e --> adp_c + h_c + lys__L_c + pi_c L-lysine transport via ABC system\n",
      "LYSt3r LYSt3r: h_e + lys__L_c --> h_c + lys__L_e L lysine transport out via proton antiport reversible\n",
      "LYSt3pp LYSt3pp: h_p + lys__L_c --> h_c + lys__L_p L-lysine transport out via proton antiport (cytoplasm to periplasm)\n",
      "Growth Growth: 0.000215957436615497 10fthf_c + 0.497466186805283 ala__L_c + 0.000215957436615497 amet_c + 0.0062974490405647 amp_c + 0.286450592337987 arg__L_c + 0.233442241629366 asn__L_c + 0.233442241629366 asp__L_c + 52.4155146188655 atp_c + 0.0542420540814976 ca2_c + 0.0613181689413663 cl_c + 0.00284729052433628 coa_c + 0.129291683621802 ctp_c + 0.0342100689811831 cu2_c + 0.0886878118620952 cys__L_c + 0.0114582929862282 datp_c + 0.0144799266879183 dctp_c + 0.0127140840198214 dgtp_c + 0.0117989352923303 dttp_c + 0.000215957436615497 fad_c + 0.0389276218726522 fe2_c + 0.0389276218726522 fe3_c + 0.254849143586252 gln__L_c + 0.0148774528144029 glu__L_c + 0.593290278265672 gly_c + 0.208303052853126 gtp_c + 47.0666420920129 h2o_c + 2.15678814560218 h_c + 0.0917460790586501 his__L_c + 0.281353803150062 ile__L_c + 0.0556012165101363 k_c + 0.436302779712182 leu__L_c + 0.332323631867312 lys__L_c + 0.14883244216901 met__L_c + 0.0894430382011216 mg2_c + 0.000215957436615497 mlthf_c + 0.0395702629243034 mn2_c + 9.68418998275772e-05 mql8_c + 0.094560017063166 na1_c + 0.0032817885287191 nad_c + 0.00327680251610115 nadh_c + 0.00293620785264914 nadp_c + 0.00293221599297493 nadph_c + 0.120515445524632 nh4_c + 0.0370384582163968 ni2_c + 0.179414145715561 phe__L_c + 0.214073861663851 pro__L_c + 0.000215957436615497 pydx5p_c + 0.0249719719581137 pyr_c + 0.000215957436615497 ribflv_c + 0.208977072475925 ser__L_c + 0.0226301707790364 so4_c + 0.000215957436615497 thf_c + 0.000215957436615497 thmpp_c + 0.245675310415586 thr__L_c + 0.0550478411189897 trp__L_c + 0.133541106186236 tyr__L_c + 0.0968418998275772 uaagmda_c + 0.139553051327532 utp_c + 0.409798120148372 val__L_c + 0.0332356868852644 zn2_c --> 52.2462049569779 adp_c + 52.2420039553634 pi_c + 0.749462368022615 ppi_c \n",
      "DAPDC DAPDC: 26dap__M_c + h_c --> co2_c + lys__L_c Diaminopimelate decarboxylase\n"
     ]
    }
   ],
   "source": [
    "for reaction in model.metabolites.lys__L_c.reactions:\n",
    "    print(reaction.id, reaction, reaction.name)"
   ]
  },
  {
   "cell_type": "code",
   "execution_count": 9,
   "id": "821aa7fe-5fa4-4513-98fe-bcbad8a316c1",
   "metadata": {
    "tags": []
   },
   "outputs": [
    {
     "data": {
      "text/html": [
       "\n",
       "        <table>\n",
       "            <tr>\n",
       "                <td><strong>Reaction identifier</strong></td><td>DAPDC</td>\n",
       "            </tr><tr>\n",
       "                <td><strong>Name</strong></td><td>Diaminopimelate decarboxylase</td>\n",
       "            </tr><tr>\n",
       "                <td><strong>Memory address</strong></td>\n",
       "                <td>0x159a39f90</td>\n",
       "            </tr><tr>\n",
       "                <td><strong>Stoichiometry</strong></td>\n",
       "                <td>\n",
       "                    <p style='text-align:right'>26dap__M_c + h_c --> co2_c + lys__L_c</p>\n",
       "                    <p style='text-align:right'>Meso-2,6-Diaminoheptanedioate + H+ --> CO2 + L-Lysine</p>\n",
       "                </td>\n",
       "            </tr><tr>\n",
       "                <td><strong>GPR</strong></td><td>lcl_NC_006958_1_prot_WP_011014180_1_1145 or lcl_NC_006958_1_prot_WP_011265883_1_2027</td>\n",
       "            </tr><tr>\n",
       "                <td><strong>Lower bound</strong></td><td>0.0</td>\n",
       "            </tr><tr>\n",
       "                <td><strong>Upper bound</strong></td><td>1000.0</td>\n",
       "            </tr>\n",
       "        </table>\n",
       "        "
      ],
      "text/plain": [
       "<Reaction DAPDC at 0x159a39f90>"
      ]
     },
     "execution_count": 9,
     "metadata": {},
     "output_type": "execute_result"
    }
   ],
   "source": [
    "model.reactions.DAPDC"
   ]
  },
  {
   "cell_type": "markdown",
   "id": "e37d3d90-3e33-4ca4-84a6-67b2984cc4e9",
   "metadata": {},
   "source": [
    "### Changing the objective function\n",
    "Determine the maximum possible production rate of lysine"
   ]
  },
  {
   "cell_type": "code",
   "execution_count": 10,
   "id": "98661c20-f787-48b1-b5f8-ba0185909189",
   "metadata": {
    "tags": []
   },
   "outputs": [
    {
     "name": "stdout",
     "output_type": "stream",
     "text": [
      "9.43333333333333\n"
     ]
    }
   ],
   "source": [
    "with model:\n",
    "    model.objective = model.reactions.EX_lys__L_e\n",
    "    print(model.optimize().objective_value)"
   ]
  },
  {
   "cell_type": "markdown",
   "id": "62218780-fe7d-47c3-a29d-8f32806c6946",
   "metadata": {},
   "source": [
    "The maximum prosible production rate of lysine with iCGB21FR is 9.43"
   ]
  },
  {
   "cell_type": "markdown",
   "id": "9f84c124-2ff3-491b-bd91-4c1b65eb8671",
   "metadata": {},
   "source": [
    "### Model Fluxes Check"
   ]
  },
  {
   "cell_type": "code",
   "execution_count": 11,
   "id": "16544b95-4f74-4d9f-8aec-6fd20bd767d5",
   "metadata": {
    "tags": []
   },
   "outputs": [
    {
     "data": {
      "text/html": [
       "<strong><em>Optimal</em> solution with objective value 0.571</strong><br><div>\n",
       "<style scoped>\n",
       "    .dataframe tbody tr th:only-of-type {\n",
       "        vertical-align: middle;\n",
       "    }\n",
       "\n",
       "    .dataframe tbody tr th {\n",
       "        vertical-align: top;\n",
       "    }\n",
       "\n",
       "    .dataframe thead th {\n",
       "        text-align: right;\n",
       "    }\n",
       "</style>\n",
       "<table border=\"1\" class=\"dataframe\">\n",
       "  <thead>\n",
       "    <tr style=\"text-align: right;\">\n",
       "      <th></th>\n",
       "      <th>fluxes</th>\n",
       "      <th>reduced_costs</th>\n",
       "    </tr>\n",
       "  </thead>\n",
       "  <tbody>\n",
       "    <tr>\n",
       "      <th>12DGR120tipp</th>\n",
       "      <td>0.000000e+00</td>\n",
       "      <td>0.000000e+00</td>\n",
       "    </tr>\n",
       "    <tr>\n",
       "      <th>12DGR140tipp</th>\n",
       "      <td>0.000000e+00</td>\n",
       "      <td>0.000000e+00</td>\n",
       "    </tr>\n",
       "    <tr>\n",
       "      <th>12DGR161tipp</th>\n",
       "      <td>0.000000e+00</td>\n",
       "      <td>0.000000e+00</td>\n",
       "    </tr>\n",
       "    <tr>\n",
       "      <th>12DGR180tipp</th>\n",
       "      <td>0.000000e+00</td>\n",
       "      <td>0.000000e+00</td>\n",
       "    </tr>\n",
       "    <tr>\n",
       "      <th>12DGR181tipp</th>\n",
       "      <td>0.000000e+00</td>\n",
       "      <td>2.775558e-17</td>\n",
       "    </tr>\n",
       "    <tr>\n",
       "      <th>...</th>\n",
       "      <td>...</td>\n",
       "      <td>...</td>\n",
       "    </tr>\n",
       "    <tr>\n",
       "      <th>L_LACtex</th>\n",
       "      <td>0.000000e+00</td>\n",
       "      <td>1.311885e-16</td>\n",
       "    </tr>\n",
       "    <tr>\n",
       "      <th>CYTB1</th>\n",
       "      <td>2.000000e+01</td>\n",
       "      <td>0.000000e+00</td>\n",
       "    </tr>\n",
       "    <tr>\n",
       "      <th>EX_34dhbz_e</th>\n",
       "      <td>-3.173216e-13</td>\n",
       "      <td>0.000000e+00</td>\n",
       "    </tr>\n",
       "    <tr>\n",
       "      <th>3_4DHBZt2</th>\n",
       "      <td>3.173216e-13</td>\n",
       "      <td>0.000000e+00</td>\n",
       "    </tr>\n",
       "    <tr>\n",
       "      <th>LYSt3r</th>\n",
       "      <td>0.000000e+00</td>\n",
       "      <td>-1.233860e-02</td>\n",
       "    </tr>\n",
       "  </tbody>\n",
       "</table>\n",
       "<p>1540 rows × 2 columns</p>\n",
       "</div>"
      ],
      "text/plain": [
       "<Solution 0.571 at 0x14ffbea10>"
      ]
     },
     "execution_count": 11,
     "metadata": {},
     "output_type": "execute_result"
    }
   ],
   "source": [
    "model.optimize()"
   ]
  },
  {
   "cell_type": "code",
   "execution_count": 12,
   "id": "f0d872a6-6084-420e-8220-b13c1d9532c1",
   "metadata": {
    "tags": []
   },
   "outputs": [],
   "source": [
    "solution = model.optimize()"
   ]
  },
  {
   "cell_type": "code",
   "execution_count": 13,
   "id": "e356f034-546a-4bfb-8d2e-fc355b055899",
   "metadata": {
    "tags": []
   },
   "outputs": [
    {
     "data": {
      "text/plain": [
       "12DGR120tipp     0.0\n",
       "12DGR140tipp     0.0\n",
       "12DGR161tipp     0.0\n",
       "12DGR180tipp     0.0\n",
       "12DGR181tipp     0.0\n",
       "                ... \n",
       "L_LACtex         0.0\n",
       "CYTB1           20.0\n",
       "EX_34dhbz_e      0.0\n",
       "3_4DHBZt2        0.0\n",
       "LYSt3r           0.0\n",
       "Name: fluxes, Length: 1540, dtype: float64"
      ]
     },
     "execution_count": 13,
     "metadata": {},
     "output_type": "execute_result"
    }
   ],
   "source": [
    "solution.fluxes"
   ]
  },
  {
   "cell_type": "code",
   "execution_count": 14,
   "id": "c11a6de7-0df0-4563-8e99-805abc9bccdf",
   "metadata": {
    "tags": []
   },
   "outputs": [
    {
     "data": {
      "text/plain": [
       "pandas.core.series.Series"
      ]
     },
     "execution_count": 14,
     "metadata": {},
     "output_type": "execute_result"
    }
   ],
   "source": [
    "type(solution.fluxes)"
   ]
  },
  {
   "cell_type": "code",
   "execution_count": 15,
   "id": "27e3f25b-70dd-469b-bef7-b1d7f6ec0e79",
   "metadata": {
    "tags": []
   },
   "outputs": [
    {
     "data": {
      "text/plain": [
       "count    1540.000000\n",
       "mean        0.094598\n",
       "std         2.046961\n",
       "min       -28.451381\n",
       "25%         0.000000\n",
       "50%         0.000000\n",
       "75%         0.000000\n",
       "max        30.360273\n",
       "Name: fluxes, dtype: float64"
      ]
     },
     "execution_count": 15,
     "metadata": {},
     "output_type": "execute_result"
    }
   ],
   "source": [
    "solution.fluxes.describe()"
   ]
  },
  {
   "cell_type": "markdown",
   "id": "e403b285-7dd3-42ef-a1ce-392a86e776a2",
   "metadata": {},
   "source": [
    "#### Histogram of the distribution of flux values:"
   ]
  },
  {
   "cell_type": "code",
   "execution_count": 16,
   "id": "47079052-5199-4939-add6-0096efe9917a",
   "metadata": {
    "tags": []
   },
   "outputs": [
    {
     "data": {
      "image/png": "[encoded data removed]",
      "text/plain": [
       "<Figure size 640x480 with 1 Axes>"
      ]
     },
     "metadata": {},
     "output_type": "display_data"
    }
   ],
   "source": [
    "fig = solution.fluxes.hist()\n",
    "fig.set_xlabel('flux [$mmol gDW^{-1} h^{-1}]$')\n",
    "fig.set_ylabel('Frequency');"
   ]
  },
  {
   "cell_type": "code",
   "execution_count": 17,
   "id": "93e79d22-6617-474a-b094-c38ba7c482e1",
   "metadata": {
    "tags": []
   },
   "outputs": [
    {
     "data": {
      "text/plain": [
       "ACGK            0.163466\n",
       "ACHBS           0.160557\n",
       "ACLS            0.484461\n",
       "ACONT           5.330763\n",
       "ACOTA          -0.163466\n",
       "                 ...    \n",
       "Ca2t2           0.030954\n",
       "PRFGS_1         0.242579\n",
       "FRD7            0.123459\n",
       "GLYCLTt2rpp    -1.423596\n",
       "CYTB1          20.000000\n",
       "Name: fluxes, Length: 297, dtype: float64"
      ]
     },
     "execution_count": 17,
     "metadata": {},
     "output_type": "execute_result"
    }
   ],
   "source": [
    "solution.fluxes[solution.fluxes != 0.]"
   ]
  },
  {
   "cell_type": "markdown",
   "id": "b9cea829-7309-46dd-906c-207d029afe7d",
   "metadata": {},
   "source": [
    "The model is checked for fluxes"
   ]
  }
 ],
 "metadata": {
  "kernelspec": {
   "display_name": "Python 3 (ipykernel)",
   "language": "python",
   "name": "python3"
  },
  "language_info": {
   "codemirror_mode": {
    "name": "ipython",
    "version": 3
   },
   "file_extension": ".py",
   "mimetype": "text/x-python",
   "name": "python",
   "nbconvert_exporter": "python",
   "pygments_lexer": "ipython3",
   "version": "3.11.5"
  }
 },
 "nbformat": 4,
 "nbformat_minor": 5
}
