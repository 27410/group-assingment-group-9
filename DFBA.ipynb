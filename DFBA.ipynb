{
 "cells": [
  {
   "cell_type": "markdown",
   "id": "f7c60156",
   "metadata": {},
   "source": [
    "## pip install dfba  didn't work and we coudn't run the rest of the code"
   ]
  },
  {
   "cell_type": "code",
   "execution_count": 2,
   "id": "8c89d0b5",
   "metadata": {
    "scrolled": false
   },
   "outputs": [
    {
     "name": "stdout",
     "output_type": "stream",
     "text": [
      "Collecting dfbaNote: you may need to restart the kernel to use updated packages.\n",
      "\n",
      "  Using cached dfba-0.1.8.tar.gz (63 kB)\n",
      "  Installing build dependencies: started\n",
      "  Installing build dependencies: finished with status 'done'\n",
      "  Getting requirements to build wheel: started\n",
      "  Getting requirements to build wheel: finished with status 'error'\n"
     ]
    },
    {
     "name": "stderr",
     "output_type": "stream",
     "text": [
      "  error: subprocess-exited-with-error\n",
      "  \n",
      "  × Getting requirements to build wheel did not run successfully.\n",
      "  │ exit code: 1\n",
      "  ╰─> [31 lines of output]\n",
      "      C:\\Users\\harou\\AppData\\Local\\Temp\\pip-install-ww_umnw7\\dfba_4e36544ea81c454d8526d5254f1d8fb9\\versioneer.py:432: SyntaxWarning: invalid escape sequence '\\s'\n",
      "        ] = '''\n",
      "      Traceback (most recent call last):\n",
      "        File \"c:\\Users\\harou\\AppData\\Local\\Programs\\Python\\Python312\\Lib\\site-packages\\pip\\_vendor\\pyproject_hooks\\_in_process\\_in_process.py\", line 353, in <module>\n",
      "          main()\n",
      "        File \"c:\\Users\\harou\\AppData\\Local\\Programs\\Python\\Python312\\Lib\\site-packages\\pip\\_vendor\\pyproject_hooks\\_in_process\\_in_process.py\", line 335, in main\n",
      "          json_out['return_val'] = hook(**hook_input['kwargs'])\n",
      "                                   ^^^^^^^^^^^^^^^^^^^^^^^^^^^^\n",
      "        File \"c:\\Users\\harou\\AppData\\Local\\Programs\\Python\\Python312\\Lib\\site-packages\\pip\\_vendor\\pyproject_hooks\\_in_process\\_in_process.py\", line 118, in get_requires_for_build_wheel\n",
      "          return hook(config_settings)\n",
      "                 ^^^^^^^^^^^^^^^^^^^^^\n",
      "        File \"C:\\Users\\harou\\AppData\\Local\\Temp\\pip-build-env-qsx2c_dc\\overlay\\Lib\\site-packages\\setuptools\\build_meta.py\", line 325, in get_requires_for_build_wheel\n",
      "          return self._get_build_requires(config_settings, requirements=['wheel'])\n",
      "                 ^^^^^^^^^^^^^^^^^^^^^^^^^^^^^^^^^^^^^^^^^^^^^^^^^^^^^^^^^^^^^^^^^\n",
      "        File \"C:\\Users\\harou\\AppData\\Local\\Temp\\pip-build-env-qsx2c_dc\\overlay\\Lib\\site-packages\\setuptools\\build_meta.py\", line 295, in _get_build_requires\n",
      "          self.run_setup()\n",
      "        File \"C:\\Users\\harou\\AppData\\Local\\Temp\\pip-build-env-qsx2c_dc\\overlay\\Lib\\site-packages\\setuptools\\build_meta.py\", line 480, in run_setup\n",
      "          super(_BuildMetaLegacyBackend, self).run_setup(setup_script=setup_script)\n",
      "        File \"C:\\Users\\harou\\AppData\\Local\\Temp\\pip-build-env-qsx2c_dc\\overlay\\Lib\\site-packages\\setuptools\\build_meta.py\", line 311, in run_setup\n",
      "          exec(code, locals())\n",
      "        File \"<string>\", line 93, in <module>\n",
      "        File \"C:\\Users\\harou\\AppData\\Local\\Temp\\pip-install-ww_umnw7\\dfba_4e36544ea81c454d8526d5254f1d8fb9\\versioneer.py\", line 1524, in get_version\n",
      "          return get_versions()[\"version\"]\n",
      "                 ^^^^^^^^^^^^^^\n",
      "        File \"C:\\Users\\harou\\AppData\\Local\\Temp\\pip-install-ww_umnw7\\dfba_4e36544ea81c454d8526d5254f1d8fb9\\versioneer.py\", line 1451, in get_versions\n",
      "          cfg = get_config_from_root(root)\n",
      "                ^^^^^^^^^^^^^^^^^^^^^^^^^^\n",
      "        File \"C:\\Users\\harou\\AppData\\Local\\Temp\\pip-install-ww_umnw7\\dfba_4e36544ea81c454d8526d5254f1d8fb9\\versioneer.py\", line 346, in get_config_from_root\n",
      "          parser = configparser.SafeConfigParser()\n",
      "                   ^^^^^^^^^^^^^^^^^^^^^^^^^^^^^\n",
      "      AttributeError: module 'configparser' has no attribute 'SafeConfigParser'. Did you mean: 'RawConfigParser'?\n",
      "      [end of output]\n",
      "  \n",
      "  note: This error originates from a subprocess, and is likely not a problem with pip.\n",
      "error: subprocess-exited-with-error\n",
      "\n",
      "× Getting requirements to build wheel did not run successfully.\n",
      "│ exit code: 1\n",
      "╰─> See above for output.\n",
      "\n",
      "note: This error originates from a subprocess, and is likely not a problem with pip.\n"
     ]
    }
   ],
   "source": [
    "pip install dfba"
   ]
  },
  {
   "cell_type": "code",
   "execution_count": 3,
   "metadata": {},
   "outputs": [
    {
     "name": "stdout",
     "output_type": "stream",
     "text": [
      "EX_glc__D_e\n",
      "EX_lys__L_e\n",
      "EX_o2_e\n"
     ]
    }
   ],
   "source": [
    "from cobra.io import read_sbml_model\n",
    "\n",
    "model = read_sbml_model('Files/iCGB21FR_updated.xml')\n",
    "\n",
    "# Getting the exchange reaction names for glucose, ooxygen and lysine\n",
    "for reaction in model.exchanges:\n",
    "    if \"_glc__D_e\" in reaction.id or \"_o2_e\" in reaction.id or \"_lys__L_e\" in reaction.id:\n",
    "        print(reaction.id)"
   ]
  },
  {
   "cell_type": "code",
   "execution_count": 4,
   "id": "3921ce96",
   "metadata": {},
   "outputs": [
    {
     "ename": "ModuleNotFoundError",
     "evalue": "No module named 'dfba'",
     "output_type": "error",
     "traceback": [
      "\u001b[1;31m---------------------------------------------------------------------------\u001b[0m",
      "\u001b[1;31mModuleNotFoundError\u001b[0m                       Traceback (most recent call last)",
      "\u001b[1;32mc:\\Users\\harou\\OneDrive\\Bureau\\GitHub\\group-assingment-group-9\\_____DFBA.ipynb Cell 4\u001b[0m line \u001b[0;36m2\n\u001b[0;32m      <a href='vscode-notebook-cell:/c%3A/Users/harou/OneDrive/Bureau/GitHub/group-assingment-group-9/_____DFBA.ipynb#W6sZmlsZQ%3D%3D?line=0'>1</a>\u001b[0m \u001b[39mfrom\u001b[39;00m \u001b[39mcobra\u001b[39;00m\u001b[39m.\u001b[39;00m\u001b[39mio\u001b[39;00m \u001b[39mimport\u001b[39;00m read_sbml_model\n\u001b[1;32m----> <a href='vscode-notebook-cell:/c%3A/Users/harou/OneDrive/Bureau/GitHub/group-assingment-group-9/_____DFBA.ipynb#W6sZmlsZQ%3D%3D?line=1'>2</a>\u001b[0m \u001b[39mfrom\u001b[39;00m \u001b[39mdfba\u001b[39;00m \u001b[39mimport\u001b[39;00m DfbaModel, ExchangeFlux, KineticVariable\n\u001b[0;32m      <a href='vscode-notebook-cell:/c%3A/Users/harou/OneDrive/Bureau/GitHub/group-assingment-group-9/_____DFBA.ipynb#W6sZmlsZQ%3D%3D?line=2'>3</a>\u001b[0m \u001b[39mfrom\u001b[39;00m \u001b[39mdfba\u001b[39;00m\u001b[39m.\u001b[39;00m\u001b[39mplot\u001b[39;00m\u001b[39m.\u001b[39;00m\u001b[39mplotly\u001b[39;00m \u001b[39mimport\u001b[39;00m \u001b[39m*\u001b[39m\n\u001b[0;32m      <a href='vscode-notebook-cell:/c%3A/Users/harou/OneDrive/Bureau/GitHub/group-assingment-group-9/_____DFBA.ipynb#W6sZmlsZQ%3D%3D?line=4'>5</a>\u001b[0m model \u001b[39m=\u001b[39m read_sbml_model(\u001b[39m'\u001b[39m\u001b[39mFiles/iCGB21FR_updated.xml\u001b[39m\u001b[39m'\u001b[39m)\n",
      "\u001b[1;31mModuleNotFoundError\u001b[0m: No module named 'dfba'"
     ]
    }
   ],
   "source": [
    "\n",
    "from cobra.io import read_sbml_model\n",
    "from dfba import DfbaModel, ExchangeFlux, KineticVariable\n",
    "from dfba.plot.plotly import *\n",
    "\n",
    "model = read_sbml_model('Files/iCGB21FR_updated.xml')\n",
    "model.solver = \"glpk\"\n",
    "dfba_model = DfbaModel(model)\n",
    "\n",
    "biomass = KineticVariable(\"Biomass\")\n",
    "glucose = KineticVariable(\"Glucose\")\n",
    "oxygen = KineticVariable(\"Oxygen\")\n",
    "lysine = KineticVariable(\"Lysine\")\n",
    "\n",
    "dfba_model.add_kinetic_variables([biomass, glucose, oxygen, lysine])\n",
    "\n",
    "mu = ExchangeFlux(\"Growth\")\n",
    "v_G = ExchangeFlux(\"EX_glc__D_e\")\n",
    "v_O = ExchangeFlux(\"EX_o2_e\")\n",
    "v_L = ExchangeFlux(\"EX_lys__L_e\")\n",
    "\n",
    "dfba_model.add_exchange_fluxes([mu, v_G, v_O, v_L])\n",
    "\n",
    "dfba_model.add_rhs_expression(\"Biomass\", mu * biomass)\n",
    "dfba_model.add_rhs_expression(\"Glucose\", v_G * 180.1559 * biomass / 1000.0)\n",
    "dfba_model.add_rhs_expression(\"Oxygen\", v_O * 16.0 * biomass / 1000.0)\n",
    "dfba_model.add_rhs_expression(\"Lysine\", v_L * 146.19 * biomass / 1000.0)\n",
    "\n",
    "dfba_model.add_exchange_flux_lb(\"EX_glc__D_e\", 10.5*(glucose/(0.0027+glucose)), glucose)\n",
    "dfba_model.add_exchange_flux_lb(\"EX_o2_e\", 15.0*(oxygen/(0.024+oxygen)), oxygen)\n",
    "model.reactions.drain_biomass.lower_bound = 0.1   #[1/h]\n",
    "\n",
    "dfba_model.add_initial_conditions(\n",
    "    {\n",
    "        \"Biomass\": 0.03, #(gDW/L)\n",
    "        \"Glucose\": 15.5, #(g/L)\n",
    "        \"Oxygen\": 1,     #(g/L)\n",
    "        \"Lysine\" : 0     #(g/L)\n",
    "    }\n",
    ")\n",
    "# simulating model across interval from 0.0h to 25.0h with outputs for plotting every 0.1h\n",
    "concentrations, trajectories = dfba_model.simulate(0.0, 25.0, 0.01, [\"Growth\", \"EX_glc__D_e\", \"EX_o2_e\", \"EX_lys__L_e\"])"
   ]
  },
  {
   "cell_type": "code",
   "execution_count": null,
   "id": "272aa4b8",
   "metadata": {},
   "outputs": [],
   "source": []
  }
 ],
 "metadata": {
  "kernelspec": {
   "display_name": "Python 3",
   "language": "python",
   "name": "python3"
  },
  "language_info": {
   "codemirror_mode": {
    "name": "ipython",
    "version": 3
   },
   "file_extension": ".py",
   "mimetype": "text/x-python",
   "name": "python",
   "nbconvert_exporter": "python",
   "pygments_lexer": "ipython3",
   "version": "3.12.0"
  }
 },
 "nbformat": 4,
 "nbformat_minor": 5
}
