{
 "cells": [
  {
   "cell_type": "code",
   "execution_count": 1,
   "id": "040fab02",
   "metadata": {},
   "outputs": [],
   "source": [
    "#TO-BE-DONE: Haroun Bensaadi"
   ]
  },
  {
   "cell_type": "code",
   "execution_count": 91,
   "id": "3fddbd75",
   "metadata": {},
   "outputs": [],
   "source": [
    "import escher\n",
    "from escher import Builder"
   ]
  },
  {
   "cell_type": "code",
   "execution_count": 92,
   "id": "de95a79e",
   "metadata": {},
   "outputs": [
    {
     "name": "stdout",
     "output_type": "stream",
     "text": [
      "Available maps of Escherichia coli in Esher are:\n",
      "\n",
      "     - iJO1366.Nucleotide metabolism\n",
      "     - iJO1366.Fatty acid biosynthesis (saturated)\n",
      "     - iJO1366.Nucleotide and histidine biosynthesis\n",
      "     - e_coli_core.Core metabolism\n",
      "     - iJO1366.Central metabolism\n",
      "     - iJO1366.Fatty acid beta-oxidation\n"
     ]
    }
   ],
   "source": [
    "print(\"Available maps of Escherichia coli in Esher are:\\n\")\n",
    "available_maps = []\n",
    "for available_map in escher.list_available_maps():\n",
    "    if available_map[\"organism\"] == \"Escherichia coli\":\n",
    "        print(f\"     - {available_map['map_name']}\")\n",
    "        available_maps.append(available_map[\"map_name\"])"
   ]
  },
  {
   "cell_type": "code",
   "execution_count": 103,
   "id": "22bd6070",
   "metadata": {},
   "outputs": [
    {
     "name": "stdout",
     "output_type": "stream",
     "text": [
      "Downloading Map from https://escher.github.io/1-0-0/6/maps/Escherichia%20coli/e_coli_core.Core%20metabolism.json\n"
     ]
    },
    {
     "data": {
      "application/vnd.jupyter.widget-view+json": {
       "model_id": "b5d91b50df994b04a3857f262cf1b223",
       "version_major": 2,
       "version_minor": 0
      },
      "text/plain": [
       "Builder(disabled_buttons=True, hide_secondary_metabolites=True, highlight_missing=True, metabolite_data={'ATP'…"
      ]
     },
     "metadata": {},
     "output_type": "display_data"
    }
   ],
   "source": [
    "builder = Builder()\n",
    "\n",
    "builder.highlight_missing = True\n",
    "builder.hide_secondary_metabolites = True\n",
    "#builder.reaction_data = {'PGK': 100}\n",
    "\n",
    "builder.reaction_data = model.optimize().fluxes.to_dict()\n",
    "\n",
    "\n",
    "# gene_data – A dictionary with keys that correspond to gene IDs and values that will be mapped to corresponding reactions.\n",
    "# builder.gene_data\n",
    "\n",
    "#builder.hide_all_labels = True\n",
    "\n",
    "builder.disabled_buttons = True\n",
    "builder.metabolite_data={'ATP': 20}\n",
    "\n",
    "builder.reaction_scale = [\n",
    "    { 'type': 'min', 'color': '#000000', 'size': 12 },\n",
    "    { 'type': 'median', 'color': '#ffffff', 'size': 20 },\n",
    "    { 'type': 'max', 'color': '#ff0000', 'size': 25 }\n",
    "]\n",
    "\n",
    "builder.reaction_scale_preset = 'GaBuRd'\n",
    "\n",
    "builder.map_name = 'e_coli_core.Core metabolism'\n",
    "builder\n",
    "\n"
   ]
  },
  {
   "cell_type": "code",
   "execution_count": 96,
   "id": "5b893607",
   "metadata": {},
   "outputs": [],
   "source": [
    "solution = model.optimize()"
   ]
  },
  {
   "cell_type": "code",
   "execution_count": 97,
   "id": "51806e24",
   "metadata": {},
   "outputs": [
    {
     "data": {
      "text/plain": [
       "10fthf_c    0.004627\n",
       "adp_c      -0.191248\n",
       "atp_c      -0.031875\n",
       "glu__L_c   -0.001542\n",
       "pi_c        0.001928\n",
       "              ...   \n",
       "trp__L_e   -0.278647\n",
       "tyr__L_e    0.006169\n",
       "ni2_e      -0.204615\n",
       "pyr_e      -0.009254\n",
       "34dhbz_e   -0.001542\n",
       "Name: shadow_prices, Length: 1042, dtype: float64"
      ]
     },
     "execution_count": 97,
     "metadata": {},
     "output_type": "execute_result"
    }
   ],
   "source": [
    "solution.shadow_prices"
   ]
  },
  {
   "cell_type": "code",
   "execution_count": null,
   "id": "ae857b60",
   "metadata": {},
   "outputs": [],
   "source": [
    "https://escher.readthedocs.io/en/latest/escher-python.html"
   ]
  },
  {
   "cell_type": "code",
   "execution_count": null,
   "id": "064ae045",
   "metadata": {},
   "outputs": [],
   "source": []
  }
 ],
 "metadata": {
  "kernelspec": {
   "display_name": "Python 3",
   "language": "python",
   "name": "python3"
  },
  "language_info": {
   "codemirror_mode": {
    "name": "ipython",
    "version": 3
   },
   "file_extension": ".py",
   "mimetype": "text/x-python",
   "name": "python",
   "nbconvert_exporter": "python",
   "pygments_lexer": "ipython3",
   "version": "3.8.8"
  }
 },
 "nbformat": 4,
 "nbformat_minor": 5
}
