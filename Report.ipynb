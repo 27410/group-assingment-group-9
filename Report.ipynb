{
 "cells": [
  {
   "cell_type": "markdown",
   "metadata": {},
   "source": [
    "# 27410 - Group 9 Assigment - Application of Genome Scale Modeling for L-lysine production through _Corynebacterium glutamicum_ "
   ]
  },
  {
   "cell_type": "markdown",
   "metadata": {},
   "source": [
    "## 1. Introduction"
   ]
  },
  {
   "cell_type": "markdown",
   "metadata": {},
   "source": [
    "### 1.1 Literature review of the compound (<500 words)\n",
    "\n",
    "The aminoooo acid L-lysine is considered as one of the nine essential proteins building blocks for livestocks and humans beings because it is a fundamental unit for all proteins in the body. As a consequence, L-lysine products has showed a huge uptick in the market for the last decade. Nowadays, L-lysine shows increasing applications in different fields, such as, supplementation in sustenance and animal feed, ensuring that the amino acid is present in nutritionally correct concentrations. Moreover, it is also used as a chemical in the cosmetics and pharmaceutical industries, while sold as a diet supplements in retail stores in different formulations (Anastassiadis, 2007; Félix et al., 2019).\n",
    "\n",
    "Industrially, L-lysine is biomanufactured via fermentation, completely replacing the chemical synthesis which was not competitive since 1978 (Tadepally, 2019). Its final formulation is a stable, non-hygroscopic hydrochlorinated form of L-lysine-HCl, with a chemical formula of H2N(CH2)4CHNH2CO2H-HCl (Hugh Dienst & Frank Le Patourel, 1994). Its mean global price of L-lysine for animal feed has been 1.5 - 2.0 USD/kg for the past decade. Annual global production of L-lysine is around one million tons and is expected to rise in the early future due to higher demand in meat-containing diets around the world, mostly in Asia and Latin America (Meyer et al., 2017).\n",
    "\n",
    "Furthermore, non-meat plant-based feedstuff is restricted in essential amino acids; as a result, supplementation is required to ensure a healthy growth of animals. L-lysine, and other essential amino acids, ensures a rapid and robust development of the animal; without it, animal growth is limited even if excess nitrogen is available in their diets (Meyer et al., 2017).\n",
    "\n",
    "Inside our bodies, L-lysine participates in  recovering from sports injuries or surgeries, building muscle protein and calcium absorptio, but also, in body’s production of hormones, enzymes, and antibodies.\n",
    "\n",
    "###Describe the biosynthesic pathway of L-lysine ##########################\n",
    "\n"
   ]
  },
  {
   "cell_type": "markdown",
   "metadata": {},
   "source": [
    "### 1.2 Literature review of the cell factory (<500 words)\n"
   ]
  },
  {
   "cell_type": "markdown",
   "metadata": {},
   "source": [
    "Microbial fermentation is the current prefered method used to industrially manufacturer L-lysine, using the bacteria _Corynebacterium glutamicum_ (_C. glutamicum_) as the cell factory for such a purpose. Fermentation replaced the chemical synthesis due to its greater cost-effectiveness, sustainability, and scalability.\n",
    "\n",
    "_C. glutamicum_ is a Gram-positive bacterium that natively produces amino acids and it has been widely studied and engineered to enchance the lysine production rate. Various strategies have been researched, such as genome-scale modeling, metabolic engineering and gene knockouts, to optimize the biosynthesis pathway of L-lysine in _C. glutamicum_, aiming to develop high-yield strains that can produce the amino acid with high efficiency and specificity (Félix et al., 2019).\n",
    "\n",
    "On the one hand, the before mentioned bacteria present several adavantages such as its independence on external glutamate supply and complex media component, for example when using lactic-acid. \n",
    "\n",
    "A range of genetic engineered _E. coli_ and _C. glutamicum_ are available in the literature (Cheng et al., 2018). However, here a _C. glutamicum_ Genome Scale Modeling (GEM) approach will be used to potentially enchance its ability to syntehsise L-lysine \n",
    "\n",
    "On the one hand, the bacteria present a serie of adventages as a cell factory: firstly, its independence on external glutamate supply and complex media components (Zahoor A, Lindner SN, Wendisch VF. Metabolic engineering of Corynebacterium glutamicum aimed at alternative carbon sources and new products. Comput Struct Biotechnol J. 2012 Oct 30;3:e201210004. doi: 10.5936/csbj.201210004. PMID: 24688664; PMCID: PMC396215). Secondly, the bacteria presents a high versatility as a cell factory for the production of useful bulk chemicals under both aerobic and anerobic conditons. For instance, organic acids (isobutanol, ethanol, 3-methyl-1-butanol, 2,3-butanediol) and aminoa acids (L-lysine, L-alanine, L-glutamate and L-valine). \n",
    "\n",
    "On the other hand, some disadventages have been put on the table when using _C. glutamicum_ as an industrial workhorse. Firstly, the bacteria presents some limitions on the production of complex proteins (https://doi.org/10.1016/j.tibtech.2021.10.003). Secondly, metabolic engineering of _C. glutamicum_ is still challenging (Lin, K., Han, S. & Zheng, S. Application of Corynebacterium glutamicum engineering display system in three generations of biorefinery. Microb Cell Fact 21, 14 (2022). https://doi.org/10.1186/s12934-022-01741-4). Finally, some drawbacks exists associated on using the bacteria on L-threonine biosynthesis (https://doi.org/10.3390/fermentation9090822). \n"
   ]
  },
  {
   "cell_type": "markdown",
   "metadata": {},
   "source": [
    "## 2. Problem definition (<300 words)\n",
    "\n",
    "Problems to assess in this report: \n",
    "\n",
    "1) Assess if the GSM models found in the literature are good enough to play around with the Lysine pathway - assess its productivity and how to do genetic engineering with it. Are the models optimals for that?\n",
    "\n",
    "2) Play around with the carbon source with the GSM models  - are there any alternative to glucose (which is not sustanaible?) [it seems that glucose is the best one, other C sources] However, glycerol (which is considred a more ecofriendly substrate) will be assessed in detail"
   ]
  },
  {
   "cell_type": "markdown",
   "metadata": {},
   "source": [
    "## 3. *If Project category I:* Reconstruction of a new GSM for your cell factory host of interest (<1500 words)"
   ]
  },
  {
   "cell_type": "markdown",
   "metadata": {},
   "source": [
    "or"
   ]
  },
  {
   "cell_type": "markdown",
   "metadata": {},
   "source": [
    "## 3. *If Project category II:* Selection and assessment of existing GSM (<500 words)"
   ]
  },
  {
   "cell_type": "markdown",
   "metadata": {},
   "source": [
    "Pau: I understand that we are category II becuase we are reviewing an existing GSM = assesssing if iCW773 is good enough to reasearch how to either improve L-lysine production and changing its feedstock. \n",
    "\n",
    "Feierabend et al., 2021 developed a GEM model for the _Corynebacterium glutamicum_, specifically for the strain ATCC 1302 which is extensively used in the biotechnology sector to produce amino acids in the large scale. It offers several avantages such as an apparent robustness - becoming a suitable platform host for severl compunds, for instance L-lysine. The researchers team uptaded and unified GEM of _C. glutamicum_ ATCC 1302, together with high quality and the latest modeling techniques and advanced reconstructions algorithms. The resultant GEM iCGB21FR presents 1042 metabolites, 1539 reactions and 805 genes. Its phenotypic predictions resulted highly consistent with the laboratory data, being considered as a platform to investigate all canonical amino acids production.  \n"
   ]
  },
  {
   "cell_type": "markdown",
   "metadata": {},
   "source": [
    "## 4. Computer-Aided Cell Factory Engineering (<1500 words if Category II project; <500 words for Category I project)"
   ]
  },
  {
   "cell_type": "markdown",
   "metadata": {},
   "source": [
    "## 5. Discussion (<500 words)"
   ]
  },
  {
   "cell_type": "markdown",
   "metadata": {},
   "source": [
    "## 6. Conclusion (<200 words)"
   ]
  },
  {
   "cell_type": "markdown",
   "metadata": {},
   "source": [
    "## References"
   ]
  },
  {
   "cell_type": "code",
   "execution_count": 1,
   "metadata": {},
   "outputs": [
    {
     "name": "stdout",
     "output_type": "stream",
     "text": [
      "Defaulting to user installation because normal site-packages is not writeable\n",
      "Collecting docutils==0.17.1\n",
      "  Downloading docutils-0.17.1-py2.py3-none-any.whl (575 kB)\n",
      "     ---------------------------------------- 0.0/575.5 kB ? eta -:--:--\n",
      "     ----------- -------------------------- 174.1/575.5 kB 3.5 MB/s eta 0:00:01\n",
      "     ----------------------------- -------- 450.6/575.5 kB 4.7 MB/s eta 0:00:01\n",
      "     -------------------------------------  573.4/575.5 kB 5.1 MB/s eta 0:00:01\n",
      "     -------------------------------------- 575.5/575.5 kB 3.3 MB/s eta 0:00:00\n",
      "Installing collected packages: docutils\n",
      "Successfully installed docutils-0.17.1\n",
      "Note: you may need to restart the kernel to use updated packages.\n"
     ]
    }
   ],
   "source": [
    "pip install docutils==0.17.1"
   ]
  },
  {
   "cell_type": "code",
   "execution_count": null,
   "metadata": {},
   "outputs": [],
   "source": []
  }
 ],
 "metadata": {
  "kernelspec": {
   "display_name": "Python 3",
   "language": "python",
   "name": "python3"
  },
  "language_info": {
   "codemirror_mode": {
    "name": "ipython",
    "version": 3
   },
   "file_extension": ".py",
   "mimetype": "text/x-python",
   "name": "python",
   "nbconvert_exporter": "python",
   "pygments_lexer": "ipython3",
   "version": "3.8.8"
  }
 },
 "nbformat": 4,
 "nbformat_minor": 4
}
