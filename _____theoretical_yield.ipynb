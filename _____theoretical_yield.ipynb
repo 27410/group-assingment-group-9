{
 "cells": [
  {
   "cell_type": "code",
   "execution_count": 1,
   "id": "ac92683d",
   "metadata": {},
   "outputs": [],
   "source": [
    "#TO-BE-DONE: Haroun Bensaadi"
   ]
  },
  {
   "cell_type": "markdown",
   "id": "cf9a454b",
   "metadata": {},
   "source": [
    "# Maximum Theoretical yield"
   ]
  },
  {
   "cell_type": "code",
   "execution_count": 5,
   "id": "91380748",
   "metadata": {},
   "outputs": [],
   "source": [
    "model = read_sbml_model('Files/iCGB21FR_updated.xml')"
   ]
  },
  {
   "cell_type": "code",
   "execution_count": 13,
   "id": "48b66956",
   "metadata": {},
   "outputs": [
    {
     "name": "stdout",
     "output_type": "stream",
     "text": [
      "Maximum productivity = 9.43333333333334 mmol/gDW*h\n",
      "Maximum theoretical yield = 0.943333333333334 mmol-lys/mmol-glc\n"
     ]
    }
   ],
   "source": [
    "model.objective = model.reactions.DAPDC\n",
    "lys_production = model.optimize().objective_value\n",
    "print('Maximum productivity =', lys_production, 'mmol/gDW*h')\n",
    "   \n",
    "maximum_yield = lys_production / (-1*(model.reactions.EX_glc__D_e.flux))\n",
    "print('Maximum theoretical yield =', maximum_yield, 'mmol-lys/mmol-glc')"
   ]
  },
  {
   "cell_type": "markdown",
   "id": "329f5a17",
   "metadata": {},
   "source": [
    "# Maximum theoretical yield for optimal growth value"
   ]
  },
  {
   "cell_type": "code",
   "execution_count": 24,
   "id": "fbe61475",
   "metadata": {},
   "outputs": [
    {
     "name": "stdout",
     "output_type": "stream",
     "text": [
      "Maximum productivity = 6.397160584941558 mmol/gDW*h\n",
      "Maximum theoretical yield = 0.6397160584941558 mmol-lys/mmol-glc\n"
     ]
    }
   ],
   "source": [
    "model.reactions.Growth.bounds = (0.259193805 , 1000)\n",
    "model.objective = model.reactions.DAPDC\n",
    "lys_production = model.optimize().objective_value\n",
    "print('Maximum productivity =', lys_production, 'mmol/gDW*h')\n",
    "   \n",
    "maximum_yield = lys_production / (-1*(model.reactions.EX_glc__D_e.flux))\n",
    "print('Maximum theoretical yield =', maximum_yield, 'mmol-lys/mmol-glc')"
   ]
  },
  {
   "cell_type": "code",
   "execution_count": 22,
   "id": "8a6e49ef",
   "metadata": {},
   "outputs": [
    {
     "data": {
      "text/html": [
       "\n",
       "        <table>\n",
       "            <tr>\n",
       "                <td><strong>Reaction identifier</strong></td><td>EX_lys__L_e</td>\n",
       "            </tr><tr>\n",
       "                <td><strong>Name</strong></td><td>L-Lysine exchange</td>\n",
       "            </tr><tr>\n",
       "                <td><strong>Memory address</strong></td>\n",
       "                <td>0x7ff16b283ac0</td>\n",
       "            </tr><tr>\n",
       "                <td><strong>Stoichiometry</strong></td>\n",
       "                <td>\n",
       "                    <p style='text-align:right'>lys__L_e --></p>\n",
       "                    <p style='text-align:right'>L-Lysine --></p>\n",
       "                </td>\n",
       "            </tr><tr>\n",
       "                <td><strong>GPR</strong></td><td></td>\n",
       "            </tr><tr>\n",
       "                <td><strong>Lower bound</strong></td><td>0.0</td>\n",
       "            </tr><tr>\n",
       "                <td><strong>Upper bound</strong></td><td>1000.0</td>\n",
       "            </tr>\n",
       "        </table>\n",
       "        "
      ],
      "text/plain": [
       "<Reaction EX_lys__L_e at 0x7ff16b283ac0>"
      ]
     },
     "execution_count": 22,
     "metadata": {},
     "output_type": "execute_result"
    }
   ],
   "source": [
    "#Calculating the maximum theoretical yield for optimal growth value using L-lysine exchange reactions\n",
    "model.reactions.EX_lys__L_e"
   ]
  },
  {
   "cell_type": "code",
   "execution_count": 23,
   "id": "0bb49205",
   "metadata": {},
   "outputs": [
    {
     "name": "stdout",
     "output_type": "stream",
     "text": [
      "Maximum productivity = 6.311024358306451 mmol/gDW*h\n",
      "Maximum theoretical yield = 0.6311024358306451 mmol-lys/mmol-glc\n"
     ]
    }
   ],
   "source": [
    "model.reactions.Growth.bounds = (0.259193805 , 1000)\n",
    "model.objective = model.reactions.EX_lys__L_e\n",
    "lys_production = model.optimize().objective_value\n",
    "print('Maximum productivity =', lys_production, 'mmol/gDW*h')\n",
    "   \n",
    "maximum_yield = lys_production / (-1*(model.reactions.EX_glc__D_e.flux))\n",
    "print('Maximum theoretical yield =', maximum_yield, 'mmol-lys/mmol-glc')"
   ]
  },
  {
   "cell_type": "markdown",
   "id": "71c9021f",
   "metadata": {},
   "source": [
    "# Maximum theoretical yield in glycerol"
   ]
  },
  {
   "cell_type": "code",
   "execution_count": null,
   "id": "6028a809",
   "metadata": {},
   "outputs": [],
   "source": []
  }
 ],
 "metadata": {
  "kernelspec": {
   "display_name": "Python 3 (ipykernel)",
   "language": "python",
   "name": "python3"
  },
  "language_info": {
   "codemirror_mode": {
    "name": "ipython",
    "version": 3
   },
   "file_extension": ".py",
   "mimetype": "text/x-python",
   "name": "python",
   "nbconvert_exporter": "python",
   "pygments_lexer": "ipython3",
   "version": "3.9.13"
  }
 },
 "nbformat": 4,
 "nbformat_minor": 5
}
