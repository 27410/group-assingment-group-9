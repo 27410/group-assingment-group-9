{
 "cells": [
  {
   "cell_type": "code",
   "execution_count": 1,
   "id": "d3bdafce",
   "metadata": {},
   "outputs": [],
   "source": [
    "#TO-BE-fixed: Haroun Bensaadi"
   ]
  },
  {
   "cell_type": "markdown",
   "id": "f7c60156",
   "metadata": {},
   "source": [
    "## Issue: having a problem installing dFBA"
   ]
  },
  {
   "cell_type": "code",
   "execution_count": 2,
   "id": "d6848689",
   "metadata": {},
   "outputs": [
    {
     "ename": "ModuleNotFoundError",
     "evalue": "No module named 'dfba'",
     "output_type": "error",
     "traceback": [
      "\u001b[1;31m---------------------------------------------------------------------------\u001b[0m",
      "\u001b[1;31mModuleNotFoundError\u001b[0m                       Traceback (most recent call last)",
      "\u001b[1;32m<ipython-input-2-743af03523d4>\u001b[0m in \u001b[0;36m<module>\u001b[1;34m\u001b[0m\n\u001b[0;32m      1\u001b[0m \u001b[1;32mfrom\u001b[0m \u001b[0mcobra\u001b[0m\u001b[1;33m.\u001b[0m\u001b[0mio\u001b[0m \u001b[1;32mimport\u001b[0m \u001b[0mread_sbml_model\u001b[0m\u001b[1;33m\u001b[0m\u001b[1;33m\u001b[0m\u001b[0m\n\u001b[1;32m----> 2\u001b[1;33m \u001b[1;32mfrom\u001b[0m \u001b[0mdfba\u001b[0m \u001b[1;32mimport\u001b[0m \u001b[0mDfbaModel\u001b[0m\u001b[1;33m,\u001b[0m \u001b[0mExchangeFlux\u001b[0m\u001b[1;33m,\u001b[0m \u001b[0mKineticVariable\u001b[0m\u001b[1;33m\u001b[0m\u001b[1;33m\u001b[0m\u001b[0m\n\u001b[0m\u001b[0;32m      3\u001b[0m \u001b[1;32mfrom\u001b[0m \u001b[0mdfba\u001b[0m\u001b[1;33m.\u001b[0m\u001b[0mplot\u001b[0m\u001b[1;33m.\u001b[0m\u001b[0mplotly\u001b[0m \u001b[1;32mimport\u001b[0m \u001b[1;33m*\u001b[0m\u001b[1;33m\u001b[0m\u001b[1;33m\u001b[0m\u001b[0m\n\u001b[0;32m      4\u001b[0m \u001b[1;32mimport\u001b[0m \u001b[0mplotly\u001b[0m\u001b[1;33m.\u001b[0m\u001b[0mio\u001b[0m \u001b[1;32mas\u001b[0m \u001b[0mpio\u001b[0m\u001b[1;33m\u001b[0m\u001b[1;33m\u001b[0m\u001b[0m\n",
      "\u001b[1;31mModuleNotFoundError\u001b[0m: No module named 'dfba'"
     ]
    }
   ],
   "source": [
    "\n",
    "from cobra.io import read_sbml_model\n",
    "from dfba import DfbaModel, ExchangeFlux, KineticVariable\n",
    "from dfba.plot.plotly import *\n",
    "import plotly.io as pio\n"
   ]
  },
  {
   "cell_type": "code",
   "execution_count": 2,
   "id": "8c89d0b5",
   "metadata": {
    "scrolled": false
   },
   "outputs": [
    {
     "name": "stdout",
     "output_type": "stream",
     "text": [
      "Collecting dfba\n",
      "  Using cached dfba-0.1.8.tar.gz (63 kB)\n",
      "  Installing build dependencies: started\n",
      "  Installing build dependencies: finished with status 'done'\n",
      "  Getting requirements to build wheel: started\n",
      "  Getting requirements to build wheel: finished with status 'done'\n",
      "  Preparing metadata (pyproject.toml): started\n",
      "  Preparing metadata (pyproject.toml): finished with status 'done'\n",
      "Requirement already satisfied: cobra in c:\\users\\harou\\anaconda3\\envs\\anaconda3_20231119\\lib\\site-packages (from dfba) (0.22.0)\n",
      "Requirement already satisfied: depinfo in c:\\users\\harou\\anaconda3\\envs\\anaconda3_20231119\\lib\\site-packages (from dfba) (2.2.0)\n",
      "Requirement already satisfied: optlang in c:\\users\\harou\\anaconda3\\envs\\anaconda3_20231119\\lib\\site-packages (from dfba) (1.8.1)\n",
      "Collecting symengine (from dfba)\n",
      "  Using cached symengine-0.11.0-cp39-cp39-win_amd64.whl.metadata (1.2 kB)\n",
      "Requirement already satisfied: sympy in c:\\users\\harou\\anaconda3\\envs\\anaconda3_20231119\\lib\\site-packages (from dfba) (1.12)\n",
      "Requirement already satisfied: pandas in c:\\users\\harou\\anaconda3\\envs\\anaconda3_20231119\\lib\\site-packages (from dfba) (1.3.4)\n",
      "Requirement already satisfied: appdirs~=1.4 in c:\\users\\harou\\anaconda3\\envs\\anaconda3_20231119\\lib\\site-packages (from cobra->dfba) (1.4.4)\n",
      "Requirement already satisfied: diskcache~=5.0 in c:\\users\\harou\\anaconda3\\envs\\anaconda3_20231119\\lib\\site-packages (from cobra->dfba) (5.6.3)\n",
      "Requirement already satisfied: future in c:\\users\\harou\\anaconda3\\envs\\anaconda3_20231119\\lib\\site-packages (from cobra->dfba) (0.18.2)\n",
      "Requirement already satisfied: httpx~=0.14 in c:\\users\\harou\\anaconda3\\envs\\anaconda3_20231119\\lib\\site-packages (from cobra->dfba) (0.25.1)\n",
      "Requirement already satisfied: importlib-resources in c:\\users\\harou\\anaconda3\\envs\\anaconda3_20231119\\lib\\site-packages (from cobra->dfba) (6.1.1)\n",
      "Requirement already satisfied: numpy~=1.13 in c:\\users\\harou\\anaconda3\\envs\\anaconda3_20231119\\lib\\site-packages (from cobra->dfba) (1.22.4)\n",
      "Requirement already satisfied: pydantic~=1.6 in c:\\users\\harou\\anaconda3\\envs\\anaconda3_20231119\\lib\\site-packages (from cobra->dfba) (1.10.13)\n",
      "Requirement already satisfied: python-libsbml==5.19.0 in c:\\users\\harou\\anaconda3\\envs\\anaconda3_20231119\\lib\\site-packages (from cobra->dfba) (5.19.0)\n",
      "Requirement already satisfied: rich>=8.0 in c:\\users\\harou\\anaconda3\\envs\\anaconda3_20231119\\lib\\site-packages (from cobra->dfba) (13.6.0)\n",
      "Requirement already satisfied: ruamel.yaml~=0.16 in c:\\users\\harou\\anaconda3\\envs\\anaconda3_20231119\\lib\\site-packages (from cobra->dfba) (0.18.5)\n",
      "Requirement already satisfied: swiglpk in c:\\users\\harou\\anaconda3\\envs\\anaconda3_20231119\\lib\\site-packages (from cobra->dfba) (5.0.8)\n",
      "Requirement already satisfied: six>=1.9 in c:\\users\\harou\\anaconda3\\envs\\anaconda3_20231119\\lib\\site-packages (from optlang->dfba) (1.16.0)\n",
      "Requirement already satisfied: python-dateutil>=2.7.3 in c:\\users\\harou\\anaconda3\\envs\\anaconda3_20231119\\lib\\site-packages (from pandas->dfba) (2.8.2)\n",
      "Requirement already satisfied: pytz>=2017.3 in c:\\users\\harou\\anaconda3\\envs\\anaconda3_20231119\\lib\\site-packages (from pandas->dfba) (2021.3)\n",
      "Requirement already satisfied: mpmath>=0.19 in c:\\users\\harou\\anaconda3\\envs\\anaconda3_20231119\\lib\\site-packages (from sympy->dfba) (1.2.1)\n",
      "Requirement already satisfied: anyio in c:\\users\\harou\\anaconda3\\envs\\anaconda3_20231119\\lib\\site-packages (from httpx~=0.14->cobra->dfba) (2.2.0)\n",
      "Requirement already satisfied: certifi in c:\\users\\harou\\anaconda3\\envs\\anaconda3_20231119\\lib\\site-packages (from httpx~=0.14->cobra->dfba) (2021.10.8)\n",
      "Requirement already satisfied: httpcore in c:\\users\\harou\\anaconda3\\envs\\anaconda3_20231119\\lib\\site-packages (from httpx~=0.14->cobra->dfba) (1.0.1)\n",
      "Requirement already satisfied: idna in c:\\users\\harou\\anaconda3\\envs\\anaconda3_20231119\\lib\\site-packages (from httpx~=0.14->cobra->dfba) (3.2)\n",
      "Requirement already satisfied: sniffio in c:\\users\\harou\\anaconda3\\envs\\anaconda3_20231119\\lib\\site-packages (from httpx~=0.14->cobra->dfba) (1.2.0)\n",
      "Requirement already satisfied: typing-extensions>=4.2.0 in c:\\users\\harou\\anaconda3\\envs\\anaconda3_20231119\\lib\\site-packages (from pydantic~=1.6->cobra->dfba) (4.8.0)\n",
      "Requirement already satisfied: markdown-it-py>=2.2.0 in c:\\users\\harou\\anaconda3\\envs\\anaconda3_20231119\\lib\\site-packages (from rich>=8.0->cobra->dfba) (3.0.0)\n",
      "Requirement already satisfied: pygments<3.0.0,>=2.13.0 in c:\\users\\harou\\anaconda3\\envs\\anaconda3_20231119\\lib\\site-packages (from rich>=8.0->cobra->dfba) (2.16.1)\n",
      "Requirement already satisfied: ruamel.yaml.clib>=0.2.7 in c:\\users\\harou\\anaconda3\\envs\\anaconda3_20231119\\lib\\site-packages (from ruamel.yaml~=0.16->cobra->dfba) (0.2.8)\n",
      "Requirement already satisfied: zipp>=3.1.0 in c:\\users\\harou\\anaconda3\\envs\\anaconda3_20231119\\lib\\site-packages (from importlib-resources->cobra->dfba) (3.6.0)\n",
      "Requirement already satisfied: mdurl~=0.1 in c:\\users\\harou\\anaconda3\\envs\\anaconda3_20231119\\lib\\site-packages (from markdown-it-py>=2.2.0->rich>=8.0->cobra->dfba) (0.1.2)\n",
      "Requirement already satisfied: h11<0.15,>=0.13 in c:\\users\\harou\\anaconda3\\envs\\anaconda3_20231119\\lib\\site-packages (from httpcore->httpx~=0.14->cobra->dfba) (0.14.0)\n",
      "Using cached symengine-0.11.0-cp39-cp39-win_amd64.whl (16.7 MB)\n",
      "Building wheels for collected packages: dfba\n",
      "  Building wheel for dfba (pyproject.toml): started\n",
      "  Building wheel for dfba (pyproject.toml): finished with status 'error'\n",
      "Failed to build dfba\n",
      "Note: you may need to restart the kernel to use updated packages.\n"
     ]
    },
    {
     "name": "stderr",
     "output_type": "stream",
     "text": [
      "  error: subprocess-exited-with-error\n",
      "  \n",
      "  × Building wheel for dfba (pyproject.toml) did not run successfully.\n",
      "  │ exit code: 1\n",
      "  ╰─> [26 lines of output]\n",
      "      running bdist_wheel\n",
      "      running build\n",
      "      running build_py\n",
      "      creating build\n",
      "      creating build\\lib.win-amd64-cpython-39\n",
      "      creating build\\lib.win-amd64-cpython-39\\dfba\n",
      "      copying src\\dfba\\control.py -> build\\lib.win-amd64-cpython-39\\dfba\n",
      "      copying src\\dfba\\exchange.py -> build\\lib.win-amd64-cpython-39\\dfba\n",
      "      copying src\\dfba\\helpers.py -> build\\lib.win-amd64-cpython-39\\dfba\n",
      "      copying src\\dfba\\jit.py -> build\\lib.win-amd64-cpython-39\\dfba\n",
      "      copying src\\dfba\\library.py -> build\\lib.win-amd64-cpython-39\\dfba\n",
      "      copying src\\dfba\\model.py -> build\\lib.win-amd64-cpython-39\\dfba\n",
      "      copying src\\dfba\\types.py -> build\\lib.win-amd64-cpython-39\\dfba\n",
      "      copying src\\dfba\\variable.py -> build\\lib.win-amd64-cpython-39\\dfba\n",
      "      copying src\\dfba\\_version.py -> build\\lib.win-amd64-cpython-39\\dfba\n",
      "      copying src\\dfba\\__init__.py -> build\\lib.win-amd64-cpython-39\\dfba\n",
      "      creating build\\lib.win-amd64-cpython-39\\dfba\\plot\n",
      "      copying src\\dfba\\plot\\matplotlib.py -> build\\lib.win-amd64-cpython-39\\dfba\\plot\n",
      "      copying src\\dfba\\plot\\plotly.py -> build\\lib.win-amd64-cpython-39\\dfba\\plot\n",
      "      copying src\\dfba\\plot\\__init__.py -> build\\lib.win-amd64-cpython-39\\dfba\\plot\n",
      "      UPDATING build\\lib.win-amd64-cpython-39\\dfba/_version.py\n",
      "      set build\\lib.win-amd64-cpython-39\\dfba/_version.py to '0.1.8'\n",
      "      running build_ext\n",
      "      *******************************************************************************\n",
      "      cmake C:\\Users\\harou\\AppData\\Local\\Temp\\pip-install-z19e951s\\dfba_f937875c28084ad8958be9c42bd11023 -DCMAKE_LIBRARY_OUTPUT_DIRECTORY=C:\\Users\\harou\\AppData\\Local\\Temp\\pip-install-z19e951s\\dfba_f937875c28084ad8958be9c42bd11023\\build\\lib.win-amd64-cpython-39\\dfba -DCMAKE_BUILD_TYPE=Release\n",
      "      error: command 'cmake' failed: None\n",
      "      [end of output]\n",
      "  \n",
      "  note: This error originates from a subprocess, and is likely not a problem with pip.\n",
      "  ERROR: Failed building wheel for dfba\n",
      "ERROR: Could not build wheels for dfba, which is required to install pyproject.toml-based projects\n"
     ]
    }
   ],
   "source": [
    "pip install dfba"
   ]
  },
  {
   "cell_type": "code",
   "execution_count": null,
   "id": "fdbddc2d",
   "metadata": {},
   "outputs": [],
   "source": []
  },
  {
   "cell_type": "markdown",
   "id": "40f5a719",
   "metadata": {},
   "source": [
    "Dynamic flux based analysis (dFBA) is used to simulate the production of lysine in a batch culture"
   ]
  },
  {
   "cell_type": "code",
   "execution_count": 3,
   "id": "3921ce96",
   "metadata": {},
   "outputs": [
    {
     "ename": "NameError",
     "evalue": "name 'DfbaModel' is not defined",
     "output_type": "error",
     "traceback": [
      "\u001b[1;31m---------------------------------------------------------------------------\u001b[0m",
      "\u001b[1;31mNameError\u001b[0m                                 Traceback (most recent call last)",
      "\u001b[1;32m<ipython-input-3-44d3edafa70b>\u001b[0m in \u001b[0;36m<module>\u001b[1;34m\u001b[0m\n\u001b[0;32m      1\u001b[0m \u001b[0mmodel\u001b[0m \u001b[1;33m=\u001b[0m \u001b[0mread_sbml_model\u001b[0m\u001b[1;33m(\u001b[0m\u001b[1;34m'Files/iCGB21FR_updated.xml'\u001b[0m\u001b[1;33m)\u001b[0m\u001b[1;33m\u001b[0m\u001b[1;33m\u001b[0m\u001b[0m\n\u001b[0;32m      2\u001b[0m \u001b[0mmodel\u001b[0m\u001b[1;33m.\u001b[0m\u001b[0msolver\u001b[0m \u001b[1;33m=\u001b[0m \u001b[1;34m\"glpk\"\u001b[0m\u001b[1;33m\u001b[0m\u001b[1;33m\u001b[0m\u001b[0m\n\u001b[1;32m----> 3\u001b[1;33m \u001b[0mdfba_model\u001b[0m \u001b[1;33m=\u001b[0m \u001b[0mDfbaModel\u001b[0m\u001b[1;33m(\u001b[0m\u001b[0mmodel\u001b[0m\u001b[1;33m)\u001b[0m\u001b[1;33m\u001b[0m\u001b[1;33m\u001b[0m\u001b[0m\n\u001b[0m\u001b[0;32m      4\u001b[0m \u001b[1;33m\u001b[0m\u001b[0m\n\u001b[0;32m      5\u001b[0m \u001b[0mbiomass\u001b[0m \u001b[1;33m=\u001b[0m \u001b[0mKineticVariable\u001b[0m\u001b[1;33m(\u001b[0m\u001b[1;34m\"Biomass\"\u001b[0m\u001b[1;33m)\u001b[0m\u001b[1;33m\u001b[0m\u001b[1;33m\u001b[0m\u001b[0m\n",
      "\u001b[1;31mNameError\u001b[0m: name 'DfbaModel' is not defined"
     ]
    }
   ],
   "source": [
    "model = read_sbml_model('Files/iCGB21FR_updated.xml')\n",
    "model.solver = \"glpk\"\n",
    "dfba_model = DfbaModel(model)\n",
    "\n",
    "biomass = KineticVariable(\"Biomass\")\n",
    "glucose = KineticVariable(\"Glucose\")\n",
    "oxygen = KineticVariable(\"Oxygen\")\n",
    "lysine = KineticVariable(\"Lysine\")\n",
    "\n",
    "dfba_model.add_kinetic_variables([biomass, glucose, oxygen, lysine])\n",
    "\n",
    "mu = ExchangeFlux(\"drain_biomass\")\n",
    "v_G = ExchangeFlux(\"boundary_glucose\")\n",
    "v_O = ExchangeFlux(\"boundary_o2_e\")\n",
    "v_L = ExchangeFlux(\"lysine_e\")\n",
    "\n",
    "dfba_model.add_exchange_fluxes([mu, v_G, v_O, v_L])\n",
    "\n",
    "\n",
    "dfba_model.add_rhs_expression(\"Biomass\", mu * biomass)\n",
    "dfba_model.add_rhs_expression(\"Glucose\", v_G * 180.1559 * biomass / 1000.0)\n",
    "dfba_model.add_rhs_expression(\"Oxygen\", v_O * 16.0 * biomass / 1000.0)\n",
    "dfba_model.add_rhs_expression(\"Lysine\", v_L * 146.19 * biomass / 1000.0)\n",
    "\n",
    "\n",
    "dfba_model.add_exchange_flux_lb(\"boundary_glucose\", 10.5*(glucose/(0.0027+glucose)), glucose)\n",
    "dfba_model.add_exchange_flux_lb(\"boundary_o2_e\", 15.0*(oxygen/(0.024+oxygen)), oxygen)\n",
    "model.reactions.drain_biomass.lower_bound = 0.1   #[1/h]\n",
    "\n",
    "\n",
    "dfba_model.add_initial_conditions(\n",
    "    {\n",
    "        \"Biomass\": 0.03, #(gDW/L)\n",
    "        \"Glucose\": 15.5, #(g/L)\n",
    "        \"Oxygen\": 1,     #(g/L)\n",
    "        \"Lysine\" : 0     #(g/L)\n",
    "    }\n",
    ")\n",
    "# # simulate model across interval t = [0.0,25.0](hours) with outputs for plotting every 0.1h and optional list of fluxes\n",
    "\n",
    "concentrations, trajectories = dfba_model.simulate(0.0, 25.0, 0.01, [\"drain_biomass\", \"boundary_glucose\", \"boundary_o2_e\", \"lysine_e\"])\n",
    "\n",
    "pio.templates.default = \"plotly_white\""
   ]
  },
  {
   "cell_type": "code",
   "execution_count": null,
   "id": "272aa4b8",
   "metadata": {},
   "outputs": [],
   "source": []
  }
 ],
 "metadata": {
  "kernelspec": {
   "display_name": "Python 3",
   "language": "python",
   "name": "python3"
  },
  "language_info": {
   "codemirror_mode": {
    "name": "ipython",
    "version": 3
   },
   "file_extension": ".py",
   "mimetype": "text/x-python",
   "name": "python",
   "nbconvert_exporter": "python",
   "pygments_lexer": "ipython3",
   "version": "3.8.8"
  }
 },
 "nbformat": 4,
 "nbformat_minor": 5
}
