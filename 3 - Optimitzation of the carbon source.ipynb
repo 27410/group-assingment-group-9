{
 "cells": [
  {
   "cell_type": "code",
   "execution_count": null,
   "id": "d2422e11",
   "metadata": {},
   "outputs": [],
   "source": [
    "#Here two models for the bacteria Corynebacterium glutamicum are assessed to modificate the C feedstock on the production of\n",
    "#L-lysine. Glycerol is specially evaluated because it is more sustainable than the current glucose source used.\n",
    "#"
   ]
  },
  {
   "cell_type": "code",
   "execution_count": 2,
   "id": "12b43909",
   "metadata": {},
   "outputs": [],
   "source": [
    "from cobra.io import read_sbml_model, write_sbml_model\n",
    "from cobra import Reaction, Metabolite"
   ]
  },
  {
   "cell_type": "code",
   "execution_count": null,
   "id": "f81e8f2d",
   "metadata": {},
   "outputs": [],
   "source": [
    "#Assess alternative carbon source in two model fo C. glutamicum\n",
    "                ################ #**MODEL    iCW773** ##########################"
   ]
  },
  {
   "cell_type": "code",
   "execution_count": 3,
   "id": "7c3b71f0",
   "metadata": {},
   "outputs": [
    {
     "name": "stderr",
     "output_type": "stream",
     "text": [
      "No objective coefficients in model. Unclear what should be optimized\n"
     ]
    }
   ],
   "source": [
    "model = read_sbml_model('iCW773_test7.xml')\n",
    "#model = read_sbml_model('iCGB21FR.xml')"
   ]
  },
  {
   "cell_type": "code",
   "execution_count": 4,
   "id": "e91c7b91",
   "metadata": {},
   "outputs": [],
   "source": [
    "for metabolite in model.metabolites:\n",
    "    if '_e' in metabolite.id:\n",
    "        metabolite.compartment='e' #finds the extracellular metabolites, assigns to compartment e\n",
    "for metabolite in model.metabolites:\n",
    "    if '_c' in metabolite.id:\n",
    "        metabolite.compartment='c' #finds the cytoplasmic metabolites, assigns to compartment c"
   ]
  },
  {
   "cell_type": "code",
   "execution_count": 5,
   "id": "0ada29d1",
   "metadata": {},
   "outputs": [
    {
     "data": {
      "text/plain": [
       "{'c': '', 'e': ''}"
      ]
     },
     "execution_count": 5,
     "metadata": {},
     "output_type": "execute_result"
    }
   ],
   "source": [
    "model.compartments"
   ]
  },
  {
   "cell_type": "code",
   "execution_count": 6,
   "id": "983a2ffc",
   "metadata": {},
   "outputs": [],
   "source": [
    "import numpy as np\n",
    "import matplotlib.pyplot as plt\n",
    "import pandas as pd\n"
   ]
  },
  {
   "cell_type": "code",
   "execution_count": 7,
   "id": "42c4aed6",
   "metadata": {},
   "outputs": [
    {
     "data": {
      "text/html": [
       "\n",
       "        <table>\n",
       "            <tr>\n",
       "                <td><strong>Name</strong></td>\n",
       "                <td>iCW773</td>\n",
       "            </tr><tr>\n",
       "                <td><strong>Memory address</strong></td>\n",
       "                <td>19793634f10</td>\n",
       "            </tr><tr>\n",
       "                <td><strong>Number of metabolites</strong></td>\n",
       "                <td>949</td>\n",
       "            </tr><tr>\n",
       "                <td><strong>Number of reactions</strong></td>\n",
       "                <td>1207</td>\n",
       "            </tr><tr>\n",
       "                <td><strong>Number of genes</strong></td>\n",
       "                <td>773</td>\n",
       "            </tr><tr>\n",
       "                <td><strong>Number of groups</strong></td>\n",
       "                <td>0</td>\n",
       "            </tr><tr>\n",
       "                <td><strong>Objective expression</strong></td>\n",
       "                <td>0</td>\n",
       "            </tr><tr>\n",
       "                <td><strong>Compartments</strong></td>\n",
       "                <td>c, e</td>\n",
       "            </tr>\n",
       "          </table>"
      ],
      "text/plain": [
       "<Model iCW773 at 0x19793634f10>"
      ]
     },
     "execution_count": 7,
     "metadata": {},
     "output_type": "execute_result"
    }
   ],
   "source": [
    "model"
   ]
  },
  {
   "cell_type": "code",
   "execution_count": 9,
   "id": "dddfd399",
   "metadata": {},
   "outputs": [
    {
     "data": {
      "text/html": [
       "\n",
       "        <table>\n",
       "            <tr>\n",
       "                <td><strong>Metabolite identifier</strong></td><td>glc_D_e</td>\n",
       "            </tr><tr>\n",
       "                <td><strong>Name</strong></td><td>D_Glucose</td>\n",
       "            </tr><tr>\n",
       "                <td><strong>Memory address</strong></td>\n",
       "                <td>0x1979385d110</td>\n",
       "            </tr><tr>\n",
       "                <td><strong>Formula</strong></td><td>C6H12O6</td>\n",
       "            </tr><tr>\n",
       "                <td><strong>Compartment</strong></td><td>e</td>\n",
       "            </tr><tr>\n",
       "                <td><strong>In 3 reaction(s)</strong></td><td>\n",
       "                    GLCptspp, GLCabcpp, EX_glc_e\n",
       "                    </td>\n",
       "            </tr>\n",
       "        </table>"
      ],
      "text/plain": [
       "<Metabolite glc_D_e at 0x1979385d110>"
      ]
     },
     "execution_count": 9,
     "metadata": {},
     "output_type": "execute_result"
    }
   ],
   "source": [
    "model.metabolites.glc_D_e\n",
    "#model.metabolites.glc__D_e"
   ]
  },
  {
   "cell_type": "code",
   "execution_count": 11,
   "id": "ac9b2e1c",
   "metadata": {},
   "outputs": [
    {
     "data": {
      "text/html": [
       "\n",
       "        <table>\n",
       "            <tr>\n",
       "                <td><strong>Reaction identifier</strong></td><td>EX_glc_e</td>\n",
       "            </tr><tr>\n",
       "                <td><strong>Name</strong></td><td>D_Glucose exchange</td>\n",
       "            </tr><tr>\n",
       "                <td><strong>Memory address</strong></td>\n",
       "                <td>0x197978fbcd0</td>\n",
       "            </tr><tr>\n",
       "                <td><strong>Stoichiometry</strong></td>\n",
       "                <td>\n",
       "                    <p style='text-align:right'>glc_D_e <--</p>\n",
       "                    <p style='text-align:right'>D_Glucose <--</p>\n",
       "                </td>\n",
       "            </tr><tr>\n",
       "                <td><strong>GPR</strong></td><td></td>\n",
       "            </tr><tr>\n",
       "                <td><strong>Lower bound</strong></td><td>-4.67</td>\n",
       "            </tr><tr>\n",
       "                <td><strong>Upper bound</strong></td><td>-4.09906</td>\n",
       "            </tr>\n",
       "        </table>\n",
       "        "
      ],
      "text/plain": [
       "<Reaction EX_glc_e at 0x197978fbcd0>"
      ]
     },
     "execution_count": 11,
     "metadata": {},
     "output_type": "execute_result"
    }
   ],
   "source": [
    "model.exchanges.EX_glc_e"
   ]
  },
  {
   "cell_type": "code",
   "execution_count": 12,
   "id": "bc54b588",
   "metadata": {},
   "outputs": [
    {
     "data": {
      "text/html": [
       "\n",
       "        <table>\n",
       "            <tr>\n",
       "                <td><strong>Reaction identifier</strong></td><td>DAPDC</td>\n",
       "            </tr><tr>\n",
       "                <td><strong>Name</strong></td><td>diaminopimelate decarboxylase</td>\n",
       "            </tr><tr>\n",
       "                <td><strong>Memory address</strong></td>\n",
       "                <td>0x19797ba68d0</td>\n",
       "            </tr><tr>\n",
       "                <td><strong>Stoichiometry</strong></td>\n",
       "                <td>\n",
       "                    <p style='text-align:right'>26dap_M_c + h_c --> co2_c + lys_L_c</p>\n",
       "                    <p style='text-align:right'>meso-2,6_Diaminoheptanedioate + H+ --> CO2 + L_Lysine</p>\n",
       "                </td>\n",
       "            </tr><tr>\n",
       "                <td><strong>GPR</strong></td><td>cg1334 and cg2343</td>\n",
       "            </tr><tr>\n",
       "                <td><strong>Lower bound</strong></td><td>0.0365565828071713</td>\n",
       "            </tr><tr>\n",
       "                <td><strong>Upper bound</strong></td><td>1.49946356856463</td>\n",
       "            </tr>\n",
       "        </table>\n",
       "        "
      ],
      "text/plain": [
       "<Reaction DAPDC at 0x19797ba68d0>"
      ]
     },
     "execution_count": 12,
     "metadata": {},
     "output_type": "execute_result"
    }
   ],
   "source": [
    "model.reactions.DAPDC"
   ]
  },
  {
   "cell_type": "code",
   "execution_count": 14,
   "id": "976ef786",
   "metadata": {},
   "outputs": [],
   "source": [
    "model.exchanges.EX_glc_e.upper_bound=0 #Glucose cannot set at 0 before changing the bounds in this model"
   ]
  },
  {
   "cell_type": "code",
   "execution_count": 15,
   "id": "ddeee7da",
   "metadata": {},
   "outputs": [
    {
     "name": "stdout",
     "output_type": "stream",
     "text": [
      "                                     Carbon  Growth  Production\n",
      "0    meso-2,6_Diaminoheptanedioate exchange     0.0         0.0\n",
      "1                           3'-AMP exchange     0.0         0.0\n",
      "2                           3'-cmp exchange     0.0         0.0\n",
      "3                           3'-GMP exchange     0.0         0.0\n",
      "4                           3'-UMP exchange     0.0         0.0\n",
      "..                                      ...     ...         ...\n",
      "128                       Xanthine exchange     0.0         0.0\n",
      "129        Xanthosine 5'-phosphate exchange     0.0         0.0\n",
      "130                     Xanthosine exchange     0.0         0.0\n",
      "131                       D_Xylose exchange     0.0         0.0\n",
      "132                               EX_BIOTIN     0.0         0.0\n",
      "\n",
      "[133 rows x 3 columns]\n"
     ]
    }
   ],
   "source": [
    "#First we can find all carbon exchange reactions:\n",
    "carbon = []\n",
    "carbon_names = []\n",
    "\n",
    "for reaction in model.exchanges:\n",
    "    for metabolite in reaction.reactants:\n",
    "        if \"C\" in metabolite.elements:\n",
    "            carbon.append(reaction.id)\n",
    "            carbon_names.append(reaction.name) \n",
    "            \n",
    "# Second, we can establish the baseline case for later reference\n",
    "with model:\n",
    "    max_base_growth = model.slim_optimize()\n",
    "    model.objective = model.reactions.DAPDC\n",
    "    max_base_production = model.slim_optimize()\n",
    "\n",
    "    \n",
    "# Now, we will loop through every carbon source in the model and see how good it produces L-lysine.     \n",
    "# We define the lists we are going to be using\n",
    "max_growth = []\n",
    "max_production = []\n",
    "medium=model.medium\n",
    "\n",
    "with model:\n",
    "    for reaction in carbon:\n",
    "        medium['EX_glc_e'] = 0\n",
    "        medium[reaction]=1\n",
    "        model.medium = medium\n",
    "        with model:\n",
    "            max_growth.append(model.slim_optimize(error_value=0.))\n",
    "            model.objective = model.reactions.DAPDC\n",
    "            max_production.append(model.slim_optimize(error_value=0.))  # Determining max production\n",
    "        medium[reaction]=0        \n",
    "\n",
    "# We can now collect all of the data in a dataframe\n",
    "production = {'Carbon': carbon_names,\n",
    "             'Growth': max_growth,\n",
    "             'Production': max_production}\n",
    "df = pd.DataFrame(production, columns = ['Carbon', 'Growth', 'Production'])\n",
    "print(df)"
   ]
  },
  {
   "cell_type": "code",
   "execution_count": 16,
   "id": "614c051f",
   "metadata": {},
   "outputs": [
    {
     "name": "stdout",
     "output_type": "stream",
     "text": [
      "Empty DataFrame\n",
      "Columns: [Carbon, Growth, Production]\n",
      "Index: []\n"
     ]
    }
   ],
   "source": [
    "#We remove all the carbon exchanges where growth becomes equal to 0\n",
    "df= df[df['Growth'] != 0]\n",
    "print(df)"
   ]
  },
  {
   "cell_type": "code",
   "execution_count": 15,
   "id": "27ec7de4",
   "metadata": {},
   "outputs": [],
   "source": [
    "# It seems that the model doesn't allow to modify the carbon source. \n",
    "#Two strategies has been tested to such purpose. Either infeasible or 0 in all available carbon sources\n",
    "#The bacteria only can growth on glucose?\n",
    "#The plan will be to add three genes confering the skill to the bacteria of use glycerol as sole carbon source"
   ]
  },
  {
   "cell_type": "code",
   "execution_count": 16,
   "id": "b4669ce8",
   "metadata": {},
   "outputs": [],
   "source": [
    "#Adding three new genes to incorporate the skill to metbaolize glycerol. From Ecoli \n",
    "# glpF (glycerol transporter) = glycerol out --> glycerol in\n",
    "# glpK = ATP + glycerol in --> ADP + H + sn-glycerol 3-phosphate\n",
    "# glpD = a quinone + sn-glycerol 3-phosphate --> a quinol + dihydroxyacetone phosphate (which is already a glycolisi intermediate)\n",
    "#However the model already incorporate the glycerol metabolites so no clear if it is possible to add a new pathway or is the model\n",
    "#shich is restricted to switch the feedstock"
   ]
  },
  {
   "cell_type": "code",
   "execution_count": null,
   "id": "818fc0a5",
   "metadata": {},
   "outputs": [],
   "source": [
    "############################################################################################################################\n",
    "##############################################################################################################################"
   ]
  },
  {
   "cell_type": "code",
   "execution_count": null,
   "id": "06e86d14",
   "metadata": {},
   "outputs": [],
   "source": [
    "#After realizing that the model doesn't allow to change the carbon source. It is decided to test the same sytrategy \n",
    "                                ################## Model: iCGB21FR #####################"
   ]
  },
  {
   "cell_type": "code",
   "execution_count": 3,
   "id": "795c6bfc",
   "metadata": {},
   "outputs": [
    {
     "ename": "OSError",
     "evalue": "The file with 'iCGB21FR.xml' does not exist, or is not an SBML string. Provide the path to an existing SBML file or a valid SBML string representation:\n",
     "output_type": "error",
     "traceback": [
      "\u001b[1;31m---------------------------------------------------------------------------\u001b[0m",
      "\u001b[1;31mOSError\u001b[0m                                   Traceback (most recent call last)",
      "\u001b[1;32m<ipython-input-3-fbd1fec034de>\u001b[0m in \u001b[0;36m<module>\u001b[1;34m\u001b[0m\n\u001b[1;32m----> 1\u001b[1;33m \u001b[0mmodel\u001b[0m \u001b[1;33m=\u001b[0m \u001b[0mread_sbml_model\u001b[0m\u001b[1;33m(\u001b[0m\u001b[1;34m'iCGB21FR.xml'\u001b[0m\u001b[1;33m)\u001b[0m\u001b[1;33m\u001b[0m\u001b[1;33m\u001b[0m\u001b[0m\n\u001b[0m",
      "\u001b[1;32m~\\anaconda3\\lib\\site-packages\\cobra\\io\\sbml.py\u001b[0m in \u001b[0;36mread_sbml_model\u001b[1;34m(filename, number, f_replace, **kwargs)\u001b[0m\n\u001b[0;32m    458\u001b[0m         \u001b[1;32mreturn\u001b[0m \u001b[0m_sbml_to_model\u001b[0m\u001b[1;33m(\u001b[0m\u001b[0mdoc\u001b[0m\u001b[1;33m,\u001b[0m \u001b[0mnumber\u001b[0m\u001b[1;33m=\u001b[0m\u001b[0mnumber\u001b[0m\u001b[1;33m,\u001b[0m \u001b[0mf_replace\u001b[0m\u001b[1;33m=\u001b[0m\u001b[0mf_replace\u001b[0m\u001b[1;33m,\u001b[0m \u001b[1;33m**\u001b[0m\u001b[0mkwargs\u001b[0m\u001b[1;33m)\u001b[0m\u001b[1;33m\u001b[0m\u001b[1;33m\u001b[0m\u001b[0m\n\u001b[0;32m    459\u001b[0m     \u001b[1;32mexcept\u001b[0m \u001b[0mIOError\u001b[0m \u001b[1;32mas\u001b[0m \u001b[0me\u001b[0m\u001b[1;33m:\u001b[0m\u001b[1;33m\u001b[0m\u001b[1;33m\u001b[0m\u001b[0m\n\u001b[1;32m--> 460\u001b[1;33m         \u001b[1;32mraise\u001b[0m \u001b[0me\u001b[0m\u001b[1;33m\u001b[0m\u001b[1;33m\u001b[0m\u001b[0m\n\u001b[0m\u001b[0;32m    461\u001b[0m \u001b[1;33m\u001b[0m\u001b[0m\n\u001b[0;32m    462\u001b[0m     \u001b[1;32mexcept\u001b[0m \u001b[0mException\u001b[0m \u001b[1;32mas\u001b[0m \u001b[0moriginal_error\u001b[0m\u001b[1;33m:\u001b[0m\u001b[1;33m\u001b[0m\u001b[1;33m\u001b[0m\u001b[0m\n",
      "\u001b[1;32m~\\anaconda3\\lib\\site-packages\\cobra\\io\\sbml.py\u001b[0m in \u001b[0;36mread_sbml_model\u001b[1;34m(filename, number, f_replace, **kwargs)\u001b[0m\n\u001b[0;32m    455\u001b[0m     \"\"\"\n\u001b[0;32m    456\u001b[0m     \u001b[1;32mtry\u001b[0m\u001b[1;33m:\u001b[0m\u001b[1;33m\u001b[0m\u001b[1;33m\u001b[0m\u001b[0m\n\u001b[1;32m--> 457\u001b[1;33m         \u001b[0mdoc\u001b[0m \u001b[1;33m=\u001b[0m \u001b[0m_get_doc_from_filename\u001b[0m\u001b[1;33m(\u001b[0m\u001b[0mfilename\u001b[0m\u001b[1;33m)\u001b[0m\u001b[1;33m\u001b[0m\u001b[1;33m\u001b[0m\u001b[0m\n\u001b[0m\u001b[0;32m    458\u001b[0m         \u001b[1;32mreturn\u001b[0m \u001b[0m_sbml_to_model\u001b[0m\u001b[1;33m(\u001b[0m\u001b[0mdoc\u001b[0m\u001b[1;33m,\u001b[0m \u001b[0mnumber\u001b[0m\u001b[1;33m=\u001b[0m\u001b[0mnumber\u001b[0m\u001b[1;33m,\u001b[0m \u001b[0mf_replace\u001b[0m\u001b[1;33m=\u001b[0m\u001b[0mf_replace\u001b[0m\u001b[1;33m,\u001b[0m \u001b[1;33m**\u001b[0m\u001b[0mkwargs\u001b[0m\u001b[1;33m)\u001b[0m\u001b[1;33m\u001b[0m\u001b[1;33m\u001b[0m\u001b[0m\n\u001b[0;32m    459\u001b[0m     \u001b[1;32mexcept\u001b[0m \u001b[0mIOError\u001b[0m \u001b[1;32mas\u001b[0m \u001b[0me\u001b[0m\u001b[1;33m:\u001b[0m\u001b[1;33m\u001b[0m\u001b[1;33m\u001b[0m\u001b[0m\n",
      "\u001b[1;32m~\\anaconda3\\lib\\site-packages\\cobra\\io\\sbml.py\u001b[0m in \u001b[0;36m_get_doc_from_filename\u001b[1;34m(filename)\u001b[0m\n\u001b[0;32m    502\u001b[0m         \u001b[1;32melse\u001b[0m\u001b[1;33m:\u001b[0m\u001b[1;33m\u001b[0m\u001b[1;33m\u001b[0m\u001b[0m\n\u001b[0;32m    503\u001b[0m             \u001b[1;31m# string representation\u001b[0m\u001b[1;33m\u001b[0m\u001b[1;33m\u001b[0m\u001b[1;33m\u001b[0m\u001b[0m\n\u001b[1;32m--> 504\u001b[1;33m             raise IOError(\n\u001b[0m\u001b[0;32m    505\u001b[0m                 \u001b[1;34mf\"The file with '{filename}' does not exist, \"\u001b[0m\u001b[1;33m\u001b[0m\u001b[1;33m\u001b[0m\u001b[0m\n\u001b[0;32m    506\u001b[0m                 \u001b[1;34mf\"or is not an SBML string. Provide the path to \"\u001b[0m\u001b[1;33m\u001b[0m\u001b[1;33m\u001b[0m\u001b[0m\n",
      "\u001b[1;31mOSError\u001b[0m: The file with 'iCGB21FR.xml' does not exist, or is not an SBML string. Provide the path to an existing SBML file or a valid SBML string representation:\n"
     ]
    }
   ],
   "source": [
    "model = read_sbml_model('iCGB21FR.xml')"
   ]
  },
  {
   "cell_type": "code",
   "execution_count": 43,
   "id": "5b8b2335",
   "metadata": {},
   "outputs": [
    {
     "data": {
      "text/html": [
       "\n",
       "        <table>\n",
       "            <tr>\n",
       "                <td><strong>Name</strong></td>\n",
       "                <td>iCBG21FR</td>\n",
       "            </tr><tr>\n",
       "                <td><strong>Memory address</strong></td>\n",
       "                <td>23f4d06d190</td>\n",
       "            </tr><tr>\n",
       "                <td><strong>Number of metabolites</strong></td>\n",
       "                <td>1042</td>\n",
       "            </tr><tr>\n",
       "                <td><strong>Number of reactions</strong></td>\n",
       "                <td>1539</td>\n",
       "            </tr><tr>\n",
       "                <td><strong>Number of genes</strong></td>\n",
       "                <td>805</td>\n",
       "            </tr><tr>\n",
       "                <td><strong>Number of groups</strong></td>\n",
       "                <td>102</td>\n",
       "            </tr><tr>\n",
       "                <td><strong>Objective expression</strong></td>\n",
       "                <td>1.0*Growth - 1.0*Growth_reverse_699ae</td>\n",
       "            </tr><tr>\n",
       "                <td><strong>Compartments</strong></td>\n",
       "                <td>cytosol, periplasm, extracellular space</td>\n",
       "            </tr>\n",
       "          </table>"
      ],
      "text/plain": [
       "<Model iCBG21FR at 0x23f4d06d190>"
      ]
     },
     "execution_count": 43,
     "metadata": {},
     "output_type": "execute_result"
    }
   ],
   "source": [
    "model"
   ]
  },
  {
   "cell_type": "code",
   "execution_count": 44,
   "id": "16247bad",
   "metadata": {},
   "outputs": [],
   "source": [
    "import numpy as np\n",
    "import matplotlib.pyplot as plt\n",
    "import pandas as pd\n"
   ]
  },
  {
   "cell_type": "code",
   "execution_count": 45,
   "id": "f1b497d1",
   "metadata": {},
   "outputs": [
    {
     "data": {
      "text/html": [
       "\n",
       "        <table>\n",
       "            <tr>\n",
       "                <td><strong>Reaction identifier</strong></td><td>EX_glc__D_e</td>\n",
       "            </tr><tr>\n",
       "                <td><strong>Name</strong></td><td>D-Glucose exchange</td>\n",
       "            </tr><tr>\n",
       "                <td><strong>Memory address</strong></td>\n",
       "                <td>0x23f4c393750</td>\n",
       "            </tr><tr>\n",
       "                <td><strong>Stoichiometry</strong></td>\n",
       "                <td>\n",
       "                    <p style='text-align:right'>glc__D_e <=></p>\n",
       "                    <p style='text-align:right'>D-Glucose <=></p>\n",
       "                </td>\n",
       "            </tr><tr>\n",
       "                <td><strong>GPR</strong></td><td></td>\n",
       "            </tr><tr>\n",
       "                <td><strong>Lower bound</strong></td><td>-10.0</td>\n",
       "            </tr><tr>\n",
       "                <td><strong>Upper bound</strong></td><td>1000.0</td>\n",
       "            </tr>\n",
       "        </table>\n",
       "        "
      ],
      "text/plain": [
       "<Reaction EX_glc__D_e at 0x23f4c393750>"
      ]
     },
     "execution_count": 45,
     "metadata": {},
     "output_type": "execute_result"
    }
   ],
   "source": [
    "model.exchanges.EX_glc__D_e #validate target compound. No need of touching the bounds"
   ]
  },
  {
   "cell_type": "code",
   "execution_count": 46,
   "id": "54cbfeca",
   "metadata": {},
   "outputs": [
    {
     "data": {
      "text/html": [
       "\n",
       "        <table>\n",
       "            <tr>\n",
       "                <td><strong>Reaction identifier</strong></td><td>DAPDC</td>\n",
       "            </tr><tr>\n",
       "                <td><strong>Name</strong></td><td>Diaminopimelate decarboxylase</td>\n",
       "            </tr><tr>\n",
       "                <td><strong>Memory address</strong></td>\n",
       "                <td>0x23f4e9a83d0</td>\n",
       "            </tr><tr>\n",
       "                <td><strong>Stoichiometry</strong></td>\n",
       "                <td>\n",
       "                    <p style='text-align:right'>26dap__M_c + h_c --> co2_c + lys__L_c</p>\n",
       "                    <p style='text-align:right'>Meso-2,6-Diaminoheptanedioate + H+ --> CO2 + L-Lysine</p>\n",
       "                </td>\n",
       "            </tr><tr>\n",
       "                <td><strong>GPR</strong></td><td>lcl_NC_006958_1_prot_WP_011014180_1_1145 or lcl_NC_006958_1_prot_WP_011265883_1_2027</td>\n",
       "            </tr><tr>\n",
       "                <td><strong>Lower bound</strong></td><td>0.0</td>\n",
       "            </tr><tr>\n",
       "                <td><strong>Upper bound</strong></td><td>1000.0</td>\n",
       "            </tr>\n",
       "        </table>\n",
       "        "
      ],
      "text/plain": [
       "<Reaction DAPDC at 0x23f4e9a83d0>"
      ]
     },
     "execution_count": 46,
     "metadata": {},
     "output_type": "execute_result"
    }
   ],
   "source": [
    "model.reactions.DAPDC #validate target reaction"
   ]
  },
  {
   "cell_type": "code",
   "execution_count": 47,
   "id": "e695f0b1",
   "metadata": {},
   "outputs": [
    {
     "name": "stdout",
     "output_type": "stream",
     "text": [
      "                                                Carbon    Growth  Production\n",
      "0                                   D-Glucose exchange  0.281898    0.093681\n",
      "1                          2 Phosphoglycolate exchange  0.241602    0.080290\n",
      "2                                   L-Leucine exchange  0.243175    0.080813\n",
      "3                       3-Methylbutanoic acid exchange  0.242181    0.080482\n",
      "4    L-alanine-D-glutamate-meso-2,6-diaminoheptaned...  0.240053    0.079775\n",
      "..                                                 ...       ...         ...\n",
      "148                           L-Phenylalanine exchange  0.244366    0.081209\n",
      "149                              L-Tryptophan exchange  0.241505    0.080258\n",
      "150                                L-Tyrosine exchange  0.242447    0.080571\n",
      "151                                  Pyruvate exchange  0.246248    0.081834\n",
      "152        Exchange reaction for 3,4-Dihydroxybenzoate  0.083789    0.027845\n",
      "\n",
      "[153 rows x 3 columns]\n"
     ]
    }
   ],
   "source": [
    "#First we can find all carbon exchange reactions:\n",
    "carbon = []\n",
    "carbon_names = []\n",
    "\n",
    "for reaction in model.exchanges:\n",
    "    for metabolite in reaction.reactants:\n",
    "        if \"C\" in metabolite.elements:\n",
    "            carbon.append(reaction.id)\n",
    "            carbon_names.append(reaction.name) \n",
    "            \n",
    "# Second, we can establish the baseline case for later reference\n",
    "with model:\n",
    "    max_base_growth = model.slim_optimize()\n",
    "    model.objective = model.reactions.DAPDC\n",
    "    max_base_production = model.slim_optimize()\n",
    "    #Units: mmol/gDW*h\n",
    "\n",
    "    \n",
    "# Now, we will loop through every carbon source in the model and see how good it produces L-lysine.     \n",
    "# We define the lists we are going to be using\n",
    "max_growth = []\n",
    "max_production = []\n",
    "medium=model.medium\n",
    "\n",
    "with model:\n",
    "    for reaction in carbon:\n",
    "        medium['EX_glc__D_e'] = 0\n",
    "        medium[reaction]=1\n",
    "        model.medium = medium\n",
    "        with model:\n",
    "            max_growth.append(model.slim_optimize(error_value=0.))\n",
    "            model.objective = model.reactions.DAPDC\n",
    "            max_production.append(model.slim_optimize(error_value=0.))  # Determining max production\n",
    "        medium[reaction]=0        \n",
    "\n",
    "# We can now collect all of the data in a dataframe\n",
    "production = {'Carbon': carbon_names,\n",
    "             'Growth': max_growth,\n",
    "             'Production': max_production}\n",
    "df = pd.DataFrame(production, columns = ['Carbon', 'Growth', 'Production'])\n",
    "print(df)"
   ]
  },
  {
   "cell_type": "code",
   "execution_count": 48,
   "id": "33cf06f7",
   "metadata": {},
   "outputs": [
    {
     "name": "stdout",
     "output_type": "stream",
     "text": [
      "                                                Carbon    Growth  Production\n",
      "0                                   D-Glucose exchange  0.281898    0.093681\n",
      "1                          2 Phosphoglycolate exchange  0.241602    0.080290\n",
      "2                                   L-Leucine exchange  0.243175    0.080813\n",
      "3                       3-Methylbutanoic acid exchange  0.242181    0.080482\n",
      "4    L-alanine-D-glutamate-meso-2,6-diaminoheptaned...  0.240053    0.079775\n",
      "..                                                 ...       ...         ...\n",
      "148                           L-Phenylalanine exchange  0.244366    0.081209\n",
      "149                              L-Tryptophan exchange  0.241505    0.080258\n",
      "150                                L-Tyrosine exchange  0.242447    0.080571\n",
      "151                                  Pyruvate exchange  0.246248    0.081834\n",
      "152        Exchange reaction for 3,4-Dihydroxybenzoate  0.083789    0.027845\n",
      "\n",
      "[153 rows x 3 columns]\n"
     ]
    }
   ],
   "source": [
    "#We remove all the carbon exchanges where growth becomes equal to 0\n",
    "df= df[df['Growth'] != 0]\n",
    "print(df)"
   ]
  },
  {
   "cell_type": "code",
   "execution_count": 49,
   "id": "9b930a2e",
   "metadata": {},
   "outputs": [
    {
     "data": {
      "image/png": "[encoded data removed]",
      "text/plain": [
       "<Figure size 640x480 with 1 Axes>"
      ]
     },
     "metadata": {},
     "output_type": "display_data"
    }
   ],
   "source": [
    "# And we can create a scatterplot of the production over growth to view the distribution\n",
    "plt.scatter(df.get('Growth'), df.get('Production'))\n",
    "plt.xlabel('Max growth rate')\n",
    "plt.ylabel('Max production')\n",
    "plt.xlim(0, 0.3)\n",
    "plt.ylim(0, 0.15)\n",
    "plt.title('Maximal Growth rate and production')\n",
    "plt.savefig(\"Pau_trials_test\")\n",
    "plt.show()"
   ]
  },
  {
   "cell_type": "code",
   "execution_count": 50,
   "id": "d704619b",
   "metadata": {},
   "outputs": [
    {
     "name": "stdout",
     "output_type": "stream",
     "text": [
      "0.5706600731225523 0.18964382806175384\n"
     ]
    }
   ],
   "source": [
    "#The original growth and production of L-lysine using glucose:\n",
    "print(max_base_growth,max_base_production)"
   ]
  },
  {
   "cell_type": "code",
   "execution_count": 51,
   "id": "028a1fb2",
   "metadata": {},
   "outputs": [
    {
     "data": {
      "text/html": [
       "<div>\n",
       "<style scoped>\n",
       "    .dataframe tbody tr th:only-of-type {\n",
       "        vertical-align: middle;\n",
       "    }\n",
       "\n",
       "    .dataframe tbody tr th {\n",
       "        vertical-align: top;\n",
       "    }\n",
       "\n",
       "    .dataframe thead th {\n",
       "        text-align: right;\n",
       "    }\n",
       "</style>\n",
       "<table border=\"1\" class=\"dataframe\">\n",
       "  <thead>\n",
       "    <tr style=\"text-align: right;\">\n",
       "      <th></th>\n",
       "      <th>Carbon</th>\n",
       "      <th>Growth</th>\n",
       "      <th>Production</th>\n",
       "    </tr>\n",
       "  </thead>\n",
       "  <tbody>\n",
       "    <tr>\n",
       "      <th>32</th>\n",
       "      <td>Amylose (n=300 repeat units, alpha-1,4-glc) ex...</td>\n",
       "      <td>2.818378</td>\n",
       "      <td>0.936614</td>\n",
       "    </tr>\n",
       "    <tr>\n",
       "      <th>31</th>\n",
       "      <td>Starch n=1200 repeat units (300 repeat units a...</td>\n",
       "      <td>2.818378</td>\n",
       "      <td>0.936614</td>\n",
       "    </tr>\n",
       "    <tr>\n",
       "      <th>77</th>\n",
       "      <td>Glycogen (n=1500 repeat units) (glc alpha 1,4/...</td>\n",
       "      <td>2.818378</td>\n",
       "      <td>0.936614</td>\n",
       "    </tr>\n",
       "    <tr>\n",
       "      <th>94</th>\n",
       "      <td>EX malthp LPAREN e RPAREN</td>\n",
       "      <td>0.494439</td>\n",
       "      <td>0.164314</td>\n",
       "    </tr>\n",
       "    <tr>\n",
       "      <th>95</th>\n",
       "      <td>Maltohexaose exchange</td>\n",
       "      <td>0.456842</td>\n",
       "      <td>0.151819</td>\n",
       "    </tr>\n",
       "    <tr>\n",
       "      <th>96</th>\n",
       "      <td>Maltopentaose exchange</td>\n",
       "      <td>0.419244</td>\n",
       "      <td>0.139325</td>\n",
       "    </tr>\n",
       "    <tr>\n",
       "      <th>97</th>\n",
       "      <td>Maltotetraose exchange</td>\n",
       "      <td>0.381646</td>\n",
       "      <td>0.126830</td>\n",
       "    </tr>\n",
       "    <tr>\n",
       "      <th>30</th>\n",
       "      <td>Maltotriose exchange</td>\n",
       "      <td>0.350017</td>\n",
       "      <td>0.116319</td>\n",
       "    </tr>\n",
       "    <tr>\n",
       "      <th>120</th>\n",
       "      <td>Raffinose exchange</td>\n",
       "      <td>0.338081</td>\n",
       "      <td>0.112352</td>\n",
       "    </tr>\n",
       "    <tr>\n",
       "      <th>29</th>\n",
       "      <td>Maltose exchange</td>\n",
       "      <td>0.318387</td>\n",
       "      <td>0.105807</td>\n",
       "    </tr>\n",
       "    <tr>\n",
       "      <th>40</th>\n",
       "      <td>Cellobiose exchange</td>\n",
       "      <td>0.318387</td>\n",
       "      <td>0.105807</td>\n",
       "    </tr>\n",
       "    <tr>\n",
       "      <th>128</th>\n",
       "      <td>Sucrose exchange</td>\n",
       "      <td>0.318387</td>\n",
       "      <td>0.105807</td>\n",
       "    </tr>\n",
       "    <tr>\n",
       "      <th>134</th>\n",
       "      <td>Trehalose exchange</td>\n",
       "      <td>0.318387</td>\n",
       "      <td>0.105807</td>\n",
       "    </tr>\n",
       "    <tr>\n",
       "      <th>92</th>\n",
       "      <td>Lactose exchange</td>\n",
       "      <td>0.292472</td>\n",
       "      <td>0.097195</td>\n",
       "    </tr>\n",
       "    <tr>\n",
       "      <th>71</th>\n",
       "      <td>D-Glucosamine exchange</td>\n",
       "      <td>0.282239</td>\n",
       "      <td>0.093795</td>\n",
       "    </tr>\n",
       "  </tbody>\n",
       "</table>\n",
       "</div>"
      ],
      "text/plain": [
       "                                                Carbon    Growth  Production\n",
       "32   Amylose (n=300 repeat units, alpha-1,4-glc) ex...  2.818378    0.936614\n",
       "31   Starch n=1200 repeat units (300 repeat units a...  2.818378    0.936614\n",
       "77   Glycogen (n=1500 repeat units) (glc alpha 1,4/...  2.818378    0.936614\n",
       "94                           EX malthp LPAREN e RPAREN  0.494439    0.164314\n",
       "95                               Maltohexaose exchange  0.456842    0.151819\n",
       "96                              Maltopentaose exchange  0.419244    0.139325\n",
       "97                              Maltotetraose exchange  0.381646    0.126830\n",
       "30                                Maltotriose exchange  0.350017    0.116319\n",
       "120                                 Raffinose exchange  0.338081    0.112352\n",
       "29                                    Maltose exchange  0.318387    0.105807\n",
       "40                                 Cellobiose exchange  0.318387    0.105807\n",
       "128                                   Sucrose exchange  0.318387    0.105807\n",
       "134                                 Trehalose exchange  0.318387    0.105807\n",
       "92                                    Lactose exchange  0.292472    0.097195\n",
       "71                              D-Glucosamine exchange  0.282239    0.093795"
      ]
     },
     "execution_count": 51,
     "metadata": {},
     "output_type": "execute_result"
    }
   ],
   "source": [
    "#top 15 highest growth\n",
    "df.sort_values(by='Growth', ascending=False).head(15)"
   ]
  },
  {
   "cell_type": "code",
   "execution_count": 11,
   "id": "5e18c0c3",
   "metadata": {},
   "outputs": [],
   "source": [
    "#It seems that just substrates based on glucose can lead to an increase of the base growth rate and production. \n",
    "#Other alternative different to glucose doesn't increase the baseline\n",
    "#Starch looks really promising although it is still a non sustanaible feedstock\n",
    "# Let's try glicerol\n"
   ]
  },
  {
   "cell_type": "code",
   "execution_count": 52,
   "id": "d66addc8",
   "metadata": {},
   "outputs": [
    {
     "data": {
      "text/plain": [
       "[<Reaction EX_glyc3p_e at 0x23f4f3eb6d0>]"
      ]
     },
     "execution_count": 52,
     "metadata": {},
     "output_type": "execute_result"
    }
   ],
   "source": [
    "model.exchanges.query('Glycerol', 'name') #The model doesn't present the exchange with glycerol, just a intermediate\n",
    "#Glycerol cannot be tested in this model as a feedstock. Add a new pathway?"
   ]
  },
  {
   "cell_type": "code",
   "execution_count": 53,
   "id": "716ebcda",
   "metadata": {},
   "outputs": [
    {
     "data": {
      "text/html": [
       "\n",
       "        <table>\n",
       "            <tr>\n",
       "                <td><strong>Reaction identifier</strong></td><td>EX_glyc3p_e</td>\n",
       "            </tr><tr>\n",
       "                <td><strong>Name</strong></td><td>Glycerol 3-phosphate exchange</td>\n",
       "            </tr><tr>\n",
       "                <td><strong>Memory address</strong></td>\n",
       "                <td>0x23f4f3eb6d0</td>\n",
       "            </tr><tr>\n",
       "                <td><strong>Stoichiometry</strong></td>\n",
       "                <td>\n",
       "                    <p style='text-align:right'>glyc3p_e --></p>\n",
       "                    <p style='text-align:right'>Glycerol 3-phosphate --></p>\n",
       "                </td>\n",
       "            </tr><tr>\n",
       "                <td><strong>GPR</strong></td><td></td>\n",
       "            </tr><tr>\n",
       "                <td><strong>Lower bound</strong></td><td>0.0</td>\n",
       "            </tr><tr>\n",
       "                <td><strong>Upper bound</strong></td><td>1000.0</td>\n",
       "            </tr>\n",
       "        </table>\n",
       "        "
      ],
      "text/plain": [
       "<Reaction EX_glyc3p_e at 0x23f4f3eb6d0>"
      ]
     },
     "execution_count": 53,
     "metadata": {},
     "output_type": "execute_result"
    }
   ],
   "source": [
    "model.reactions.EX_glyc3p_e #It incorporates the exchange reaction of phosphorated version of Glycerol.\n",
    "#This is actually the first step of the reaction of metabolitzation of Glycerol "
   ]
  },
  {
   "cell_type": "code",
   "execution_count": 54,
   "id": "8225ef7b",
   "metadata": {},
   "outputs": [
    {
     "data": {
      "text/plain": [
       "[<Reaction GLYC3Pabc at 0x23f4ec50bd0>,\n",
       " <Reaction GLYC3Pabcpp at 0x23f4ec77ad0>,\n",
       " <Reaction EX_glyc3p_e at 0x23f4f3eb6d0>]"
      ]
     },
     "execution_count": 54,
     "metadata": {},
     "output_type": "execute_result"
    }
   ],
   "source": [
    "#Let's check in which reaction is Glyc3p used\n",
    "model.reactions.query('Glycerol 3-phosphate', 'name')"
   ]
  },
  {
   "cell_type": "code",
   "execution_count": 2,
   "id": "108a3e60",
   "metadata": {},
   "outputs": [],
   "source": [
    "#C. glutamicum has been engineered to use glycerol from the following Ecoli genes\n",
    "#Let's check if the reactions already exists in the model\n",
    "# glpF (glycerol transporter) = glycerol out --> glycerol in = It seems that the uptake takes place as a phosphorated form\n",
    "# glpK = ATP + glycerol in --> ADP + H + sn-glycerol 3-phosphate #We do not need this reation bc it is already phosphorated\n",
    "# glpD = a quinone + sn-glycerol 3-phosphate --> a quinol + dihydroxyacetone phosphate (which is already a glycolisi intermediate)\n",
    "# Let's check is glpD reaction is already in the model\n",
    "#However the model already incorporate the glycerol metabolites so no clear if it is possible to add a new pathway or is the model\n",
    "#shich is restricted to switch the feedstock"
   ]
  },
  {
   "cell_type": "code",
   "execution_count": 55,
   "id": "cac37dc4",
   "metadata": {},
   "outputs": [
    {
     "data": {
      "text/html": [
       "\n",
       "        <table>\n",
       "            <tr>\n",
       "                <td><strong>Reaction identifier</strong></td><td>GLYC3Pabc</td>\n",
       "            </tr><tr>\n",
       "                <td><strong>Name</strong></td><td>Sn-Glycerol 3-phosphate transport via ABC system</td>\n",
       "            </tr><tr>\n",
       "                <td><strong>Memory address</strong></td>\n",
       "                <td>0x23f4ec50bd0</td>\n",
       "            </tr><tr>\n",
       "                <td><strong>Stoichiometry</strong></td>\n",
       "                <td>\n",
       "                    <p style='text-align:right'>atp_c + glyc3p_e + h2o_c --> adp_c + glyc3p_c + h_c + pi_c</p>\n",
       "                    <p style='text-align:right'>ATP + Glycerol 3-phosphate + H2O --> ADP + Glycerol 3-phosphate + H+ + Phosphate</p>\n",
       "                </td>\n",
       "            </tr><tr>\n",
       "                <td><strong>GPR</strong></td><td>lcl_NC_006958_1_prot_WP_011013851_1_705 or (lcl_NC_006958_1_prot_WP_011014325_1_1345 and...</td>\n",
       "            </tr><tr>\n",
       "                <td><strong>Lower bound</strong></td><td>0.0</td>\n",
       "            </tr><tr>\n",
       "                <td><strong>Upper bound</strong></td><td>1000.0</td>\n",
       "            </tr>\n",
       "        </table>\n",
       "        "
      ],
      "text/plain": [
       "<Reaction GLYC3Pabc at 0x23f4ec50bd0>"
      ]
     },
     "execution_count": 55,
     "metadata": {},
     "output_type": "execute_result"
    }
   ],
   "source": [
    "model.reactions.GLYC3Pabc #Glyc3p uptake 1"
   ]
  },
  {
   "cell_type": "code",
   "execution_count": 56,
   "id": "91edc924",
   "metadata": {},
   "outputs": [
    {
     "data": {
      "text/html": [
       "\n",
       "        <table>\n",
       "            <tr>\n",
       "                <td><strong>Reaction identifier</strong></td><td>GLYC3Pabcpp</td>\n",
       "            </tr><tr>\n",
       "                <td><strong>Name</strong></td><td>Sn-Glycerol 3-phosphate transport via ABC system (periplasm)</td>\n",
       "            </tr><tr>\n",
       "                <td><strong>Memory address</strong></td>\n",
       "                <td>0x23f4ec77ad0</td>\n",
       "            </tr><tr>\n",
       "                <td><strong>Stoichiometry</strong></td>\n",
       "                <td>\n",
       "                    <p style='text-align:right'>atp_c + glyc3p_p + h2o_c --> adp_c + glyc3p_c + h_c + pi_c</p>\n",
       "                    <p style='text-align:right'>ATP + Glycerol 3-phosphate + H2O --> ADP + Glycerol 3-phosphate + H+ + Phosphate</p>\n",
       "                </td>\n",
       "            </tr><tr>\n",
       "                <td><strong>GPR</strong></td><td>lcl_NC_006958_1_prot_WP_011013479_1_216</td>\n",
       "            </tr><tr>\n",
       "                <td><strong>Lower bound</strong></td><td>0.0</td>\n",
       "            </tr><tr>\n",
       "                <td><strong>Upper bound</strong></td><td>1000.0</td>\n",
       "            </tr>\n",
       "        </table>\n",
       "        "
      ],
      "text/plain": [
       "<Reaction GLYC3Pabcpp at 0x23f4ec77ad0>"
      ]
     },
     "execution_count": 56,
     "metadata": {},
     "output_type": "execute_result"
    }
   ],
   "source": [
    "model.reactions.GLYC3Pabcpp #It seems similar to the uptake"
   ]
  },
  {
   "cell_type": "code",
   "execution_count": 15,
   "id": "f367619a",
   "metadata": {},
   "outputs": [
    {
     "data": {
      "text/html": [
       "\n",
       "        <table>\n",
       "            <tr>\n",
       "                <td><strong>Reaction identifier</strong></td><td>EX_glyc3p_e</td>\n",
       "            </tr><tr>\n",
       "                <td><strong>Name</strong></td><td>Glycerol 3-phosphate exchange</td>\n",
       "            </tr><tr>\n",
       "                <td><strong>Memory address</strong></td>\n",
       "                <td>0x23f4b970f90</td>\n",
       "            </tr><tr>\n",
       "                <td><strong>Stoichiometry</strong></td>\n",
       "                <td>\n",
       "                    <p style='text-align:right'>glyc3p_e --></p>\n",
       "                    <p style='text-align:right'>Glycerol 3-phosphate --></p>\n",
       "                </td>\n",
       "            </tr><tr>\n",
       "                <td><strong>GPR</strong></td><td></td>\n",
       "            </tr><tr>\n",
       "                <td><strong>Lower bound</strong></td><td>0.0</td>\n",
       "            </tr><tr>\n",
       "                <td><strong>Upper bound</strong></td><td>1000.0</td>\n",
       "            </tr>\n",
       "        </table>\n",
       "        "
      ],
      "text/plain": [
       "<Reaction EX_glyc3p_e at 0x23f4b970f90>"
      ]
     },
     "execution_count": 15,
     "metadata": {},
     "output_type": "execute_result"
    }
   ],
   "source": [
    "model.reactions.EX_glyc3p_e #Glycerol uptake again"
   ]
  },
  {
   "cell_type": "code",
   "execution_count": 21,
   "id": "eaee64e5",
   "metadata": {},
   "outputs": [
    {
     "data": {
      "text/html": [
       "\n",
       "        <table>\n",
       "            <tr>\n",
       "                <td><strong>Metabolite identifier</strong></td><td>dhap_c</td>\n",
       "            </tr><tr>\n",
       "                <td><strong>Name</strong></td><td>Dihydroxyacetone phosphate</td>\n",
       "            </tr><tr>\n",
       "                <td><strong>Memory address</strong></td>\n",
       "                <td>0x23f408786d0</td>\n",
       "            </tr><tr>\n",
       "                <td><strong>Formula</strong></td><td>C3H5O6P</td>\n",
       "            </tr><tr>\n",
       "                <td><strong>Compartment</strong></td><td>c</td>\n",
       "            </tr><tr>\n",
       "                <td><strong>In 9 reaction(s)</strong></td><td>\n",
       "                    G3PD1, FBA, MGSA, INSCR, QULNS, ALKP, G3PD5, TPI, G3PD\n",
       "                    </td>\n",
       "            </tr>\n",
       "        </table>"
      ],
      "text/plain": [
       "<Metabolite dhap_c at 0x23f408786d0>"
      ]
     },
     "execution_count": 21,
     "metadata": {},
     "output_type": "execute_result"
    }
   ],
   "source": [
    "model.metabolites.dhap_c"
   ]
  },
  {
   "cell_type": "code",
   "execution_count": 22,
   "id": "83cb8b13",
   "metadata": {},
   "outputs": [
    {
     "data": {
      "text/html": [
       "\n",
       "        <table>\n",
       "            <tr>\n",
       "                <td><strong>Reaction identifier</strong></td><td>G3PD1</td>\n",
       "            </tr><tr>\n",
       "                <td><strong>Name</strong></td><td>Glycerol-3-phosphate dehydrogenase (NAD)</td>\n",
       "            </tr><tr>\n",
       "                <td><strong>Memory address</strong></td>\n",
       "                <td>0x23f4b05b810</td>\n",
       "            </tr><tr>\n",
       "                <td><strong>Stoichiometry</strong></td>\n",
       "                <td>\n",
       "                    <p style='text-align:right'>glyc3p_c + nad_c <=> dhap_c + h_c + nadh_c</p>\n",
       "                    <p style='text-align:right'>Glycerol 3-phosphate + Nicotinamide adenine dinucleotide <=> Dihydroxyacetone phosphate + H+ + Nicotinamide adenine dinucleotide - reduced</p>\n",
       "                </td>\n",
       "            </tr><tr>\n",
       "                <td><strong>GPR</strong></td><td>lcl_NC_006958_1_prot_WP_003858849_1_1277</td>\n",
       "            </tr><tr>\n",
       "                <td><strong>Lower bound</strong></td><td>-1000.0</td>\n",
       "            </tr><tr>\n",
       "                <td><strong>Upper bound</strong></td><td>1000.0</td>\n",
       "            </tr>\n",
       "        </table>\n",
       "        "
      ],
      "text/plain": [
       "<Reaction G3PD1 at 0x23f4b05b810>"
      ]
     },
     "execution_count": 22,
     "metadata": {},
     "output_type": "execute_result"
    }
   ],
   "source": [
    "model.reactions.G3PD1\n",
    "#It seems that all reactions are already available in the model. \n",
    "#Let's test a medium with glycerol3p instead of glucose"
   ]
  },
  {
   "cell_type": "code",
   "execution_count": 57,
   "id": "6f9df905",
   "metadata": {},
   "outputs": [
    {
     "data": {
      "text/plain": [
       "{'EX_glc__D_e': 10.0,\n",
       " 'EX_h2o_e': 10.0,\n",
       " 'EX_h_e': 10.0,\n",
       " 'EX_cl_e': 10.0,\n",
       " 'EX_pi_e': 10.0,\n",
       " 'EX_nh4_e': 10.0,\n",
       " 'EX_fe3_e': 10.0,\n",
       " 'EX_k_e': 10.0,\n",
       " 'EX_ca2_e': 10.0,\n",
       " 'EX_mg2_e': 10.0,\n",
       " 'EX_mn2_e': 10.0,\n",
       " 'EX_zn2_e': 10.0,\n",
       " 'EX_cu2_e': 10.0,\n",
       " 'EX_o2_e': 10.0,\n",
       " 'EX_fe2_e': 10.0,\n",
       " 'EX_so4_e': 10.0,\n",
       " 'EX_urea_e': 10.0,\n",
       " 'EX_btn_e': 10.0,\n",
       " 'EX_na1_e': 10.0,\n",
       " 'EX_ni2_e': 10.0,\n",
       " 'EX_34dhbz_e': 10.0}"
      ]
     },
     "execution_count": 57,
     "metadata": {},
     "output_type": "execute_result"
    }
   ],
   "source": [
    "model.medium #Glycerol3p is not present in the original medium\n",
    "#Feedstock: glucose"
   ]
  },
  {
   "cell_type": "code",
   "execution_count": 82,
   "id": "9df34da3",
   "metadata": {},
   "outputs": [
    {
     "data": {
      "text/plain": [
       "{'EX_h2o_e': 10.0,\n",
       " 'EX_h_e': 10.0,\n",
       " 'EX_cl_e': 10.0,\n",
       " 'EX_pi_e': 10.0,\n",
       " 'EX_nh4_e': 10.0,\n",
       " 'EX_fe3_e': 10.0,\n",
       " 'EX_k_e': 10.0,\n",
       " 'EX_ca2_e': 10.0,\n",
       " 'EX_mg2_e': 10.0,\n",
       " 'EX_mn2_e': 10.0,\n",
       " 'EX_zn2_e': 10.0,\n",
       " 'EX_cu2_e': 10.0,\n",
       " 'EX_o2_e': 10.0,\n",
       " 'EX_fe2_e': 10.0,\n",
       " 'EX_glyc3p_e': 10,\n",
       " 'EX_so4_e': 10.0,\n",
       " 'EX_urea_e': 10.0,\n",
       " 'EX_btn_e': 10.0,\n",
       " 'EX_na1_e': 10.0,\n",
       " 'EX_ni2_e': 10.0,\n",
       " 'EX_34dhbz_e': 10.0}"
      ]
     },
     "execution_count": 82,
     "metadata": {},
     "output_type": "execute_result"
    }
   ],
   "source": [
    "medium_glyc = model.medium\n",
    "medium_glyc[\"EX_glc__D_e\"] = 0 #carbon source, glucos\n",
    "medium_glyc[\"EX_glyc3p_e\"] = 10 #Glycerol\n",
    "\n",
    "model.medium = medium_glyc\n",
    "\n",
    "model.medium"
   ]
  },
  {
   "cell_type": "code",
   "execution_count": 83,
   "id": "20fb9333",
   "metadata": {},
   "outputs": [
    {
     "data": {
      "text/plain": [
       "{'EX_h2o_e': 10.0,\n",
       " 'EX_h_e': 10.0,\n",
       " 'EX_cl_e': 10.0,\n",
       " 'EX_pi_e': 10.0,\n",
       " 'EX_nh4_e': 10.0,\n",
       " 'EX_fe3_e': 10.0,\n",
       " 'EX_k_e': 10.0,\n",
       " 'EX_ca2_e': 10.0,\n",
       " 'EX_mg2_e': 10.0,\n",
       " 'EX_mn2_e': 10.0,\n",
       " 'EX_zn2_e': 10.0,\n",
       " 'EX_cu2_e': 10.0,\n",
       " 'EX_o2_e': 10.0,\n",
       " 'EX_fe2_e': 10.0,\n",
       " 'EX_glyc3p_e': 10,\n",
       " 'EX_so4_e': 10.0,\n",
       " 'EX_urea_e': 10.0,\n",
       " 'EX_btn_e': 10.0,\n",
       " 'EX_na1_e': 10.0,\n",
       " 'EX_ni2_e': 10.0,\n",
       " 'EX_34dhbz_e': 10.0}"
      ]
     },
     "execution_count": 83,
     "metadata": {},
     "output_type": "execute_result"
    }
   ],
   "source": [
    "model.medium #Feedstock: Glycerol3p"
   ]
  },
  {
   "cell_type": "code",
   "execution_count": 84,
   "id": "e45245c2",
   "metadata": {},
   "outputs": [
    {
     "name": "stdout",
     "output_type": "stream",
     "text": [
      "Maximize\n",
      "1.0*DAPDC - 1.0*DAPDC_reverse_d3ab8\n"
     ]
    },
    {
     "data": {
      "text/html": [
       "<strong><em>Optimal</em> solution with objective value 0.136</strong><br><div>\n",
       "<style scoped>\n",
       "    .dataframe tbody tr th:only-of-type {\n",
       "        vertical-align: middle;\n",
       "    }\n",
       "\n",
       "    .dataframe tbody tr th {\n",
       "        vertical-align: top;\n",
       "    }\n",
       "\n",
       "    .dataframe thead th {\n",
       "        text-align: right;\n",
       "    }\n",
       "</style>\n",
       "<table border=\"1\" class=\"dataframe\">\n",
       "  <thead>\n",
       "    <tr style=\"text-align: right;\">\n",
       "      <th></th>\n",
       "      <th>fluxes</th>\n",
       "      <th>reduced_costs</th>\n",
       "    </tr>\n",
       "  </thead>\n",
       "  <tbody>\n",
       "    <tr>\n",
       "      <th>12DGR120tipp</th>\n",
       "      <td>0.000000</td>\n",
       "      <td>0.000000e+00</td>\n",
       "    </tr>\n",
       "    <tr>\n",
       "      <th>12DGR140tipp</th>\n",
       "      <td>0.000000</td>\n",
       "      <td>1.387779e-17</td>\n",
       "    </tr>\n",
       "    <tr>\n",
       "      <th>12DGR161tipp</th>\n",
       "      <td>0.000000</td>\n",
       "      <td>0.000000e+00</td>\n",
       "    </tr>\n",
       "    <tr>\n",
       "      <th>12DGR180tipp</th>\n",
       "      <td>0.000000</td>\n",
       "      <td>0.000000e+00</td>\n",
       "    </tr>\n",
       "    <tr>\n",
       "      <th>12DGR181tipp</th>\n",
       "      <td>0.000000</td>\n",
       "      <td>1.387779e-17</td>\n",
       "    </tr>\n",
       "    <tr>\n",
       "      <th>...</th>\n",
       "      <td>...</td>\n",
       "      <td>...</td>\n",
       "    </tr>\n",
       "    <tr>\n",
       "      <th>EX_pyr_e</th>\n",
       "      <td>0.000000</td>\n",
       "      <td>-2.113208e-03</td>\n",
       "    </tr>\n",
       "    <tr>\n",
       "      <th>L_LACtex</th>\n",
       "      <td>0.000000</td>\n",
       "      <td>0.000000e+00</td>\n",
       "    </tr>\n",
       "    <tr>\n",
       "      <th>CYTB1</th>\n",
       "      <td>17.055052</td>\n",
       "      <td>-8.673617e-17</td>\n",
       "    </tr>\n",
       "    <tr>\n",
       "      <th>EX_34dhbz_e</th>\n",
       "      <td>-1.472474</td>\n",
       "      <td>0.000000e+00</td>\n",
       "    </tr>\n",
       "    <tr>\n",
       "      <th>3_4DHBZt2</th>\n",
       "      <td>1.472474</td>\n",
       "      <td>0.000000e+00</td>\n",
       "    </tr>\n",
       "  </tbody>\n",
       "</table>\n",
       "<p>1539 rows × 2 columns</p>\n",
       "</div>"
      ],
      "text/plain": [
       "<Solution 0.136 at 0x23f4f074850>"
      ]
     },
     "execution_count": 84,
     "metadata": {},
     "output_type": "execute_result"
    }
   ],
   "source": [
    "model.objective = model.reactions.DAPDC\n",
    "print(model.objective)\n",
    "model.optimize()"
   ]
  },
  {
   "cell_type": "code",
   "execution_count": 77,
   "id": "ac346fac",
   "metadata": {},
   "outputs": [
    {
     "name": "stdout",
     "output_type": "stream",
     "text": [
      "Maximum theoretical productivity of lysine: 0.13635222926025567 mmol/gDW*h\n",
      "Theoretical max. yield of lysine: 0.013635222926025568 mmol-lyco / mmol-glc\n"
     ]
    }
   ],
   "source": [
    "# So the objective reaction has been stablished and these are the current metric for the L-lysine production\n",
    "lysine_production = model.optimize().objective_value\n",
    "print('Maximum theoretical productivity of lysine:', lysine_production, 'mmol/gDW*h')\n",
    "print(\"Theoretical max. yield of lysine:\", lysine_production / (-1*model.reactions.EX_glyc3p_e.flux), \"mmol-lyco / mmol-glc\")\n",
    "# Original Productivities of the model: \n"
   ]
  },
  {
   "cell_type": "code",
   "execution_count": 78,
   "id": "0c67c0ce",
   "metadata": {},
   "outputs": [
    {
     "name": "stdout",
     "output_type": "stream",
     "text": [
      "-10.0\n",
      "0.0\n"
     ]
    }
   ],
   "source": [
    "print(model.reactions.EX_glyc3p_e.flux) #Correpond to the Glyc3p concentration selected\n",
    "print(model.reactions.EX_glc__D_e.flux) #Correpond to the Glucose concentration selected"
   ]
  },
  {
   "cell_type": "code",
   "execution_count": 79,
   "id": "265739f7",
   "metadata": {},
   "outputs": [
    {
     "name": "stdout",
     "output_type": "stream",
     "text": [
      "0.18964382806175384\n"
     ]
    }
   ],
   "source": [
    "print(max_base_production)"
   ]
  },
  {
   "cell_type": "code",
   "execution_count": null,
   "id": "4ba3b1cf",
   "metadata": {},
   "outputs": [],
   "source": [
    "#I understand that the model predicted a lower production of Lysine when using Glycerol as a feedstock (0.14) \n",
    "#than when glucose (0.18)\n",
    "#The model iCW773_test7 is not good enough to play around with feedstocks\n",
    "# The model iCGB21FR seems better and used here"
   ]
  },
  {
   "cell_type": "code",
   "execution_count": 85,
   "id": "c4b5141e",
   "metadata": {},
   "outputs": [],
   "source": [
    "write_sbml_model(model, \"iCGB21FR_glycerolfeedstock.xml\")"
   ]
  },
  {
   "cell_type": "code",
   "execution_count": null,
   "id": "d76435e4",
   "metadata": {},
   "outputs": [],
   "source": []
  },
  {
   "cell_type": "code",
   "execution_count": null,
   "id": "6abad94c",
   "metadata": {},
   "outputs": [],
   "source": []
  },
  {
   "cell_type": "code",
   "execution_count": null,
   "id": "c1c384d7",
   "metadata": {},
   "outputs": [],
   "source": []
  },
  {
   "cell_type": "code",
   "execution_count": null,
   "id": "40c16c64",
   "metadata": {},
   "outputs": [],
   "source": []
  },
  {
   "cell_type": "code",
   "execution_count": null,
   "id": "f4ab37df",
   "metadata": {},
   "outputs": [],
   "source": []
  },
  {
   "cell_type": "code",
   "execution_count": null,
   "id": "04481063",
   "metadata": {},
   "outputs": [],
   "source": []
  },
  {
   "cell_type": "code",
   "execution_count": null,
   "id": "1719c855",
   "metadata": {},
   "outputs": [],
   "source": []
  }
 ],
 "metadata": {
  "kernelspec": {
   "display_name": "Python 3 (ipykernel)",
   "language": "python",
   "name": "python3"
  },
  "language_info": {
   "codemirror_mode": {
    "name": "ipython",
    "version": 3
   },
   "file_extension": ".py",
   "mimetype": "text/x-python",
   "name": "python",
   "nbconvert_exporter": "python",
   "pygments_lexer": "ipython3",
   "version": "3.11.4"
  }
 },
 "nbformat": 4,
 "nbformat_minor": 5
}
