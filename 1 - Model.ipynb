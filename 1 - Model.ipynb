{
 "cells": [
  {
   "cell_type": "markdown",
   "id": "8c2f0634-acad-45b2-a1e3-2b400d3d3cc8",
   "metadata": {},
   "source": [
    "# Model\n",
    "## iCW773"
   ]
  },
  {
   "cell_type": "code",
   "execution_count": 2,
   "id": "458951ab-e816-4c82-87b2-5b655118b28b",
   "metadata": {
    "tags": []
   },
   "outputs": [],
   "source": [
    "import numpy as np\n",
    "from cobra.io import read_sbml_model"
   ]
  },
  {
   "cell_type": "code",
   "execution_count": 3,
   "id": "ff09c964-b8d8-4831-9e35-cb50edd01ea1",
   "metadata": {
    "tags": []
   },
   "outputs": [
    {
     "name": "stderr",
     "output_type": "stream",
     "text": [
      "No objective coefficients in model. Unclear what should be optimized\n"
     ]
    },
    {
     "data": {
      "text/html": [
       "\n",
       "        <table>\n",
       "            <tr>\n",
       "                <td><strong>Name</strong></td>\n",
       "                <td>iCW773</td>\n",
       "            </tr><tr>\n",
       "                <td><strong>Memory address</strong></td>\n",
       "                <td>2a158c66160</td>\n",
       "            </tr><tr>\n",
       "                <td><strong>Number of metabolites</strong></td>\n",
       "                <td>949</td>\n",
       "            </tr><tr>\n",
       "                <td><strong>Number of reactions</strong></td>\n",
       "                <td>1207</td>\n",
       "            </tr><tr>\n",
       "                <td><strong>Number of genes</strong></td>\n",
       "                <td>773</td>\n",
       "            </tr><tr>\n",
       "                <td><strong>Number of groups</strong></td>\n",
       "                <td>0</td>\n",
       "            </tr><tr>\n",
       "                <td><strong>Objective expression</strong></td>\n",
       "                <td>0</td>\n",
       "            </tr><tr>\n",
       "                <td><strong>Compartments</strong></td>\n",
       "                <td></td>\n",
       "            </tr>\n",
       "          </table>"
      ],
      "text/plain": [
       "<Model iCW773 at 0x2a158c66160>"
      ]
     },
     "execution_count": 3,
     "metadata": {},
     "output_type": "execute_result"
    }
   ],
   "source": [
    "model = read_sbml_model('iCW773_test7.xml')\n",
    "\n",
    "model"
   ]
  },
  {
   "cell_type": "code",
   "execution_count": 71,
   "id": "9891608d-34e5-440e-b848-d2681dc700c4",
   "metadata": {
    "tags": []
   },
   "outputs": [
    {
     "data": {
      "text/plain": [
       "ALAR       1.293856e-24\n",
       "ALATA_L    1.293823e-24\n",
       "ASNN       0.000000e+00\n",
       "ASNS1      0.000000e+00\n",
       "ASNS2      0.000000e+00\n",
       "               ...     \n",
       "KARA2      0.000000e+00\n",
       "OMCDC      0.000000e+00\n",
       "THRD_L     0.000000e+00\n",
       "VALTA      0.000000e+00\n",
       "LEUTAi     0.000000e+00\n",
       "Name: fluxes, Length: 1207, dtype: float64"
      ]
     },
     "execution_count": 71,
     "metadata": {},
     "output_type": "execute_result"
    }
   ],
   "source": [
    "solution = model.optimize()\n",
    "solution.fluxes"
   ]
  },
  {
   "cell_type": "code",
   "execution_count": 72,
   "id": "ea43bfbf-a80d-408a-b5e1-a828be8e83e5",
   "metadata": {
    "tags": []
   },
   "outputs": [
    {
     "name": "stderr",
     "output_type": "stream",
     "text": [
      "Non-linear or non-reaction model objective. Falling back to minimal display.\n"
     ]
    },
    {
     "data": {
      "text/html": [
       "<h3>Objective</h3><p>nan Expression = nan</p><h4>Uptake</h4><table border=\"1\" class=\"dataframe\">\n",
       "  <thead>\n",
       "    <tr style=\"text-align: right;\">\n",
       "      <th>Metabolite</th>\n",
       "      <th>Reaction</th>\n",
       "      <th>Flux</th>\n",
       "      <th>C-Number</th>\n",
       "      <th>C-Flux</th>\n",
       "    </tr>\n",
       "  </thead>\n",
       "  <tbody>\n",
       "    <tr>\n",
       "      <td>glc_D_e</td>\n",
       "      <td>EX_glc_e</td>\n",
       "      <td>4.187</td>\n",
       "      <td>6</td>\n",
       "      <td>100.00%</td>\n",
       "    </tr>\n",
       "    <tr>\n",
       "      <td>nh4_e</td>\n",
       "      <td>EX_nh4_e</td>\n",
       "      <td>0.5371</td>\n",
       "      <td>0</td>\n",
       "      <td>0.00%</td>\n",
       "    </tr>\n",
       "    <tr>\n",
       "      <td>o2_e</td>\n",
       "      <td>EX_o2_e</td>\n",
       "      <td>3.195</td>\n",
       "      <td>0</td>\n",
       "      <td>0.00%</td>\n",
       "    </tr>\n",
       "    <tr>\n",
       "      <td>so4_e</td>\n",
       "      <td>EX_so4_e</td>\n",
       "      <td>0.9735</td>\n",
       "      <td>0</td>\n",
       "      <td>0.00%</td>\n",
       "    </tr>\n",
       "  </tbody>\n",
       "</table><h4>Secretion</h4><table border=\"1\" class=\"dataframe\">\n",
       "  <thead>\n",
       "    <tr style=\"text-align: right;\">\n",
       "      <th>Metabolite</th>\n",
       "      <th>Reaction</th>\n",
       "      <th>Flux</th>\n",
       "      <th>C-Number</th>\n",
       "      <th>C-Flux</th>\n",
       "    </tr>\n",
       "  </thead>\n",
       "  <tbody>\n",
       "    <tr>\n",
       "      <td>26dap_M_e</td>\n",
       "      <td>EX_26dap_M_e</td>\n",
       "      <td>-0.008519</td>\n",
       "      <td>7</td>\n",
       "      <td>0.24%</td>\n",
       "    </tr>\n",
       "    <tr>\n",
       "      <td>co2_e</td>\n",
       "      <td>EX_co2_e</td>\n",
       "      <td>-5.884</td>\n",
       "      <td>1</td>\n",
       "      <td>23.42%</td>\n",
       "    </tr>\n",
       "    <tr>\n",
       "      <td>etoh_e</td>\n",
       "      <td>EX_etoh_e</td>\n",
       "      <td>-1.803</td>\n",
       "      <td>2</td>\n",
       "      <td>14.36%</td>\n",
       "    </tr>\n",
       "    <tr>\n",
       "      <td>glyc_e</td>\n",
       "      <td>EX_glyc_e</td>\n",
       "      <td>-0.3486</td>\n",
       "      <td>3</td>\n",
       "      <td>4.16%</td>\n",
       "    </tr>\n",
       "    <tr>\n",
       "      <td>h2o_e</td>\n",
       "      <td>EX_h2o_e</td>\n",
       "      <td>-7.958</td>\n",
       "      <td>0</td>\n",
       "      <td>0.00%</td>\n",
       "    </tr>\n",
       "    <tr>\n",
       "      <td>h2s_e</td>\n",
       "      <td>EX_h2s_e</td>\n",
       "      <td>-0.9735</td>\n",
       "      <td>0</td>\n",
       "      <td>0.00%</td>\n",
       "    </tr>\n",
       "    <tr>\n",
       "      <td>h_e</td>\n",
       "      <td>EX_h_e</td>\n",
       "      <td>-4.505</td>\n",
       "      <td>0</td>\n",
       "      <td>0.00%</td>\n",
       "    </tr>\n",
       "    <tr>\n",
       "      <td>hom_L_e</td>\n",
       "      <td>EX_hom_L_e</td>\n",
       "      <td>-0.1052</td>\n",
       "      <td>4</td>\n",
       "      <td>1.68%</td>\n",
       "    </tr>\n",
       "    <tr>\n",
       "      <td>indole_e</td>\n",
       "      <td>EX_indole_e</td>\n",
       "      <td>-0.09067</td>\n",
       "      <td>8</td>\n",
       "      <td>2.89%</td>\n",
       "    </tr>\n",
       "    <tr>\n",
       "      <td>lys_L_e</td>\n",
       "      <td>EX_lys_L_e</td>\n",
       "      <td>-0.03656</td>\n",
       "      <td>6</td>\n",
       "      <td>0.87%</td>\n",
       "    </tr>\n",
       "    <tr>\n",
       "      <td>pro_L_e</td>\n",
       "      <td>EX_pro_L_e</td>\n",
       "      <td>-0.2511</td>\n",
       "      <td>5</td>\n",
       "      <td>5.00%</td>\n",
       "    </tr>\n",
       "    <tr>\n",
       "      <td>succ_e</td>\n",
       "      <td>EX_succ_e</td>\n",
       "      <td>-2.976</td>\n",
       "      <td>4</td>\n",
       "      <td>47.38%</td>\n",
       "    </tr>\n",
       "  </tbody>\n",
       "</table>"
      ],
      "text/plain": [
       "<cobra.summary.model_summary.ModelSummary at 0x13c74fa10>"
      ]
     },
     "execution_count": 72,
     "metadata": {},
     "output_type": "execute_result"
    }
   ],
   "source": [
    "model.summary()"
   ]
  },
  {
   "cell_type": "code",
   "execution_count": 73,
   "id": "c9b5a785-c1c3-4cb2-93bb-7afcca44de6d",
   "metadata": {
    "tags": []
   },
   "outputs": [
    {
     "name": "stdout",
     "output_type": "stream",
     "text": [
      "L_Lysine\n",
      "lys_L_c\n",
      "L_Lysine\n",
      "lys_L_e\n",
      "L_Lysine-tRNA (Lys)\n",
      "lystrna_c\n",
      "tRNA(Lys)\n",
      "trnalys_c\n"
     ]
    }
   ],
   "source": [
    "for metabolite in model.metabolites.query('Lys', 'name'):\n",
    "    print(metabolite.name)\n",
    "    print(metabolite.id)"
   ]
  },
  {
   "cell_type": "code",
   "execution_count": 74,
   "id": "6ebb8c1c-dc2a-4401-b6f3-bcc5b84eae1f",
   "metadata": {
    "tags": []
   },
   "outputs": [
    {
     "data": {
      "text/html": [
       "\n",
       "        <table>\n",
       "            <tr>\n",
       "                <td><strong>Metabolite identifier</strong></td><td>lys_L_c</td>\n",
       "            </tr><tr>\n",
       "                <td><strong>Name</strong></td><td>L_Lysine</td>\n",
       "            </tr><tr>\n",
       "                <td><strong>Memory address</strong></td>\n",
       "                <td>0x145c45e50</td>\n",
       "            </tr><tr>\n",
       "                <td><strong>Formula</strong></td><td>C6H15N2O2</td>\n",
       "            </tr><tr>\n",
       "                <td><strong>Compartment</strong></td><td></td>\n",
       "            </tr><tr>\n",
       "                <td><strong>In 6 reaction(s)</strong></td><td>\n",
       "                    DAPDC, PROTEIN, LYSabcpp, LYSt3pp, LYSTRS, LYSt2pp\n",
       "                    </td>\n",
       "            </tr>\n",
       "        </table>"
      ],
      "text/plain": [
       "<Metabolite lys_L_c at 0x145c45e50>"
      ]
     },
     "execution_count": 74,
     "metadata": {},
     "output_type": "execute_result"
    }
   ],
   "source": [
    "model.metabolites.get_by_id('lys_L_c')"
   ]
  },
  {
   "cell_type": "code",
   "execution_count": 75,
   "id": "0d998038-e2c1-4f27-adf6-db3b0f33c4b8",
   "metadata": {
    "tags": []
   },
   "outputs": [
    {
     "data": {
      "text/plain": [
       "frozenset({<Reaction DAPDC at 0x13d9c1e10>,\n",
       "           <Reaction LYSTRS at 0x13daf3150>,\n",
       "           <Reaction LYSabcpp at 0x13da41850>,\n",
       "           <Reaction LYSt2pp at 0x13da5e4d0>,\n",
       "           <Reaction LYSt3pp at 0x13da48450>,\n",
       "           <Reaction PROTEIN at 0x13db35510>})"
      ]
     },
     "execution_count": 75,
     "metadata": {},
     "output_type": "execute_result"
    }
   ],
   "source": [
    "model.metabolites.lys_L_c.reactions"
   ]
  },
  {
   "cell_type": "code",
   "execution_count": 76,
   "id": "8c15fc97-b7b3-496a-bd61-cb0fe6f8ccb1",
   "metadata": {
    "tags": []
   },
   "outputs": [
    {
     "name": "stdout",
     "output_type": "stream",
     "text": [
      "DAPDC DAPDC: 26dap_M_c + h_c --> co2_c + lys_L_c diaminopimelate decarboxylase\n",
      "PROTEIN PROTEIN: 1.3527 ala_L_c + 0.38519 arg_L_c + 0.39281 asn_L_c + 0.39281 asp_L_c + 40.0656 atp_c + 0.089437 cys_L_c + 0.69314 gln_L_c + 1.1139 glu_L_c + 0.71651 gly_c + 30.7601 h2o_c + 0.13619 his_L_c + 0.38316 ile_L_c + 0.71347 leu_L_c + 0.37909 lys_L_c + 0.15347 met_L_c + 0.26018 phe_L_c + 0.32319 pro_L_c + 0.498 ser_L_c + 0.5539 thr_L_c + 0.055899 trp_L_c + 0.15753 tyr_L_c + 0.55492 vaL_L_c --> 40.0656 adp_c + 40.0656 h_c + 40.0656 pi_c + protein_c PROTEIN\n",
      "LYSabcpp LYSabcpp: atp_c + h2o_c + lys_L_e --> adp_c + h_c + lys_L_c + pi_c L_lysine transport via ABC system\n",
      "LYSt3pp LYSt3pp: h_e + lys_L_c --> h_c + lys_L_e L_lysine transport out via proton antiport\n",
      "LYSTRS LYSTRS: atp_c + lys_L_c + trnalys_c --> amp_c + lystrna_c + ppi_c LysyL_tRNA synthetase\n",
      "LYSt2pp LYSt2pp: h_e + lys_L_e <=> h_c + lys_L_c L_lysine transport in via proton symport\n"
     ]
    }
   ],
   "source": [
    "for reaction in model.metabolites.lys_L_c.reactions:\n",
    "    print(reaction.id, reaction, reaction.name)"
   ]
  },
  {
   "cell_type": "code",
   "execution_count": 77,
   "id": "821aa7fe-5fa4-4513-98fe-bcbad8a316c1",
   "metadata": {
    "tags": []
   },
   "outputs": [
    {
     "data": {
      "text/html": [
       "\n",
       "        <table>\n",
       "            <tr>\n",
       "                <td><strong>Reaction identifier</strong></td><td>DAPDC</td>\n",
       "            </tr><tr>\n",
       "                <td><strong>Name</strong></td><td>diaminopimelate decarboxylase</td>\n",
       "            </tr><tr>\n",
       "                <td><strong>Memory address</strong></td>\n",
       "                <td>0x13d9c1e10</td>\n",
       "            </tr><tr>\n",
       "                <td><strong>Stoichiometry</strong></td>\n",
       "                <td>\n",
       "                    <p style='text-align:right'>26dap_M_c + h_c --> co2_c + lys_L_c</p>\n",
       "                    <p style='text-align:right'>meso-2,6_Diaminoheptanedioate + H+ --> CO2 + L_Lysine</p>\n",
       "                </td>\n",
       "            </tr><tr>\n",
       "                <td><strong>GPR</strong></td><td>cg1334 and cg2343</td>\n",
       "            </tr><tr>\n",
       "                <td><strong>Lower bound</strong></td><td>0.0365565828071713</td>\n",
       "            </tr><tr>\n",
       "                <td><strong>Upper bound</strong></td><td>1.49946356856463</td>\n",
       "            </tr>\n",
       "        </table>\n",
       "        "
      ],
      "text/plain": [
       "<Reaction DAPDC at 0x13d9c1e10>"
      ]
     },
     "execution_count": 77,
     "metadata": {},
     "output_type": "execute_result"
    }
   ],
   "source": [
    "model.reactions.DAPDC"
   ]
  },
  {
   "cell_type": "markdown",
   "id": "e37d3d90-3e33-4ca4-84a6-67b2984cc4e9",
   "metadata": {},
   "source": [
    "### Changing the objective function\n",
    "Determine the maximum possible production rate of lysine"
   ]
  },
  {
   "cell_type": "code",
   "execution_count": 78,
   "id": "98661c20-f787-48b1-b5f8-ba0185909189",
   "metadata": {
    "tags": []
   },
   "outputs": [
    {
     "name": "stdout",
     "output_type": "stream",
     "text": [
      "1.49946356856463\n"
     ]
    }
   ],
   "source": [
    "with model:\n",
    "    model.objective = model.reactions.EX_lys_L_e\n",
    "    print(model.optimize().objective_value)"
   ]
  },
  {
   "cell_type": "markdown",
   "id": "62218780-fe7d-47c3-a29d-8f32806c6946",
   "metadata": {},
   "source": [
    "The maximum prosible production rate of lysine with iCW773 is 1,499"
   ]
  },
  {
   "cell_type": "markdown",
   "id": "9f84c124-2ff3-491b-bd91-4c1b65eb8671",
   "metadata": {},
   "source": [
    "### Model Fluxes Check"
   ]
  },
  {
   "cell_type": "code",
   "execution_count": 79,
   "id": "16544b95-4f74-4d9f-8aec-6fd20bd767d5",
   "metadata": {
    "tags": []
   },
   "outputs": [
    {
     "data": {
      "text/html": [
       "<strong><em>Optimal</em> solution with objective value 0.000</strong><br><div>\n",
       "<style scoped>\n",
       "    .dataframe tbody tr th:only-of-type {\n",
       "        vertical-align: middle;\n",
       "    }\n",
       "\n",
       "    .dataframe tbody tr th {\n",
       "        vertical-align: top;\n",
       "    }\n",
       "\n",
       "    .dataframe thead th {\n",
       "        text-align: right;\n",
       "    }\n",
       "</style>\n",
       "<table border=\"1\" class=\"dataframe\">\n",
       "  <thead>\n",
       "    <tr style=\"text-align: right;\">\n",
       "      <th></th>\n",
       "      <th>fluxes</th>\n",
       "      <th>reduced_costs</th>\n",
       "    </tr>\n",
       "  </thead>\n",
       "  <tbody>\n",
       "    <tr>\n",
       "      <th>ALAR</th>\n",
       "      <td>1.293856e-24</td>\n",
       "      <td>-0.0</td>\n",
       "    </tr>\n",
       "    <tr>\n",
       "      <th>ALATA_L</th>\n",
       "      <td>1.293823e-24</td>\n",
       "      <td>0.0</td>\n",
       "    </tr>\n",
       "    <tr>\n",
       "      <th>ASNN</th>\n",
       "      <td>0.000000e+00</td>\n",
       "      <td>0.0</td>\n",
       "    </tr>\n",
       "    <tr>\n",
       "      <th>ASNS1</th>\n",
       "      <td>0.000000e+00</td>\n",
       "      <td>0.0</td>\n",
       "    </tr>\n",
       "    <tr>\n",
       "      <th>ASNS2</th>\n",
       "      <td>0.000000e+00</td>\n",
       "      <td>0.0</td>\n",
       "    </tr>\n",
       "    <tr>\n",
       "      <th>...</th>\n",
       "      <td>...</td>\n",
       "      <td>...</td>\n",
       "    </tr>\n",
       "    <tr>\n",
       "      <th>KARA2</th>\n",
       "      <td>0.000000e+00</td>\n",
       "      <td>0.0</td>\n",
       "    </tr>\n",
       "    <tr>\n",
       "      <th>OMCDC</th>\n",
       "      <td>0.000000e+00</td>\n",
       "      <td>0.0</td>\n",
       "    </tr>\n",
       "    <tr>\n",
       "      <th>THRD_L</th>\n",
       "      <td>0.000000e+00</td>\n",
       "      <td>0.0</td>\n",
       "    </tr>\n",
       "    <tr>\n",
       "      <th>VALTA</th>\n",
       "      <td>0.000000e+00</td>\n",
       "      <td>0.0</td>\n",
       "    </tr>\n",
       "    <tr>\n",
       "      <th>LEUTAi</th>\n",
       "      <td>0.000000e+00</td>\n",
       "      <td>0.0</td>\n",
       "    </tr>\n",
       "  </tbody>\n",
       "</table>\n",
       "<p>1207 rows × 2 columns</p>\n",
       "</div>"
      ],
      "text/plain": [
       "<Solution 0.000 at 0x13a9400d0>"
      ]
     },
     "execution_count": 79,
     "metadata": {},
     "output_type": "execute_result"
    }
   ],
   "source": [
    "model.optimize()"
   ]
  },
  {
   "cell_type": "code",
   "execution_count": 80,
   "id": "f0d872a6-6084-420e-8220-b13c1d9532c1",
   "metadata": {
    "tags": []
   },
   "outputs": [],
   "source": [
    "solution = model.optimize()"
   ]
  },
  {
   "cell_type": "code",
   "execution_count": 81,
   "id": "e356f034-546a-4bfb-8d2e-fc355b055899",
   "metadata": {
    "tags": []
   },
   "outputs": [
    {
     "data": {
      "text/plain": [
       "ALAR       1.293856e-24\n",
       "ALATA_L    1.293823e-24\n",
       "ASNN       0.000000e+00\n",
       "ASNS1      0.000000e+00\n",
       "ASNS2      0.000000e+00\n",
       "               ...     \n",
       "KARA2      0.000000e+00\n",
       "OMCDC      0.000000e+00\n",
       "THRD_L     0.000000e+00\n",
       "VALTA      0.000000e+00\n",
       "LEUTAi     0.000000e+00\n",
       "Name: fluxes, Length: 1207, dtype: float64"
      ]
     },
     "execution_count": 81,
     "metadata": {},
     "output_type": "execute_result"
    }
   ],
   "source": [
    "solution.fluxes"
   ]
  },
  {
   "cell_type": "code",
   "execution_count": 82,
   "id": "c11a6de7-0df0-4563-8e99-805abc9bccdf",
   "metadata": {
    "tags": []
   },
   "outputs": [
    {
     "data": {
      "text/plain": [
       "pandas.core.series.Series"
      ]
     },
     "execution_count": 82,
     "metadata": {},
     "output_type": "execute_result"
    }
   ],
   "source": [
    "type(solution.fluxes)"
   ]
  },
  {
   "cell_type": "code",
   "execution_count": 83,
   "id": "27e3f25b-70dd-469b-bef7-b1d7f6ec0e79",
   "metadata": {
    "tags": []
   },
   "outputs": [
    {
     "data": {
      "text/plain": [
       "count    1207.000000\n",
       "mean        0.111671\n",
       "std         0.950128\n",
       "min       -11.007620\n",
       "25%         0.000000\n",
       "50%         0.000000\n",
       "75%         0.000000\n",
       "max        11.007620\n",
       "Name: fluxes, dtype: float64"
      ]
     },
     "execution_count": 83,
     "metadata": {},
     "output_type": "execute_result"
    }
   ],
   "source": [
    "solution.fluxes.describe()"
   ]
  },
  {
   "cell_type": "markdown",
   "id": "e403b285-7dd3-42ef-a1ce-392a86e776a2",
   "metadata": {},
   "source": [
    "#### Histogram of the distribution of flux values:"
   ]
  },
  {
   "cell_type": "code",
   "execution_count": 84,
   "id": "47079052-5199-4939-add6-0096efe9917a",
   "metadata": {
    "tags": []
   },
   "outputs": [
    {
     "data": {
      "image/png": "[encoded data removed]",
      "text/plain": [
       "<Figure size 640x480 with 1 Axes>"
      ]
     },
     "metadata": {},
     "output_type": "display_data"
    }
   ],
   "source": [
    "fig = solution.fluxes.hist()\n",
    "fig.set_xlabel('flux [$mmol gDW^{-1} h^{-1}]$')\n",
    "fig.set_ylabel('Frequency');"
   ]
  },
  {
   "cell_type": "code",
   "execution_count": 85,
   "id": "93e79d22-6617-474a-b094-c38ba7c482e1",
   "metadata": {
    "tags": []
   },
   "outputs": [
    {
     "data": {
      "text/plain": [
       "ALAR       1.293856e-24\n",
       "ALATA_L    1.293823e-24\n",
       "ASPTA     -1.604673e+00\n",
       "VPAMT     -3.321601e-29\n",
       "CBMKr      1.580921e-25\n",
       "               ...     \n",
       "PSCVT      9.067333e-02\n",
       "SHK3Dr     9.067333e-02\n",
       "SHKK       9.067333e-02\n",
       "TRPS3      9.067333e-02\n",
       "DHAD1      4.649546e-25\n",
       "Name: fluxes, Length: 201, dtype: float64"
      ]
     },
     "execution_count": 85,
     "metadata": {},
     "output_type": "execute_result"
    }
   ],
   "source": [
    "solution.fluxes[solution.fluxes != 0.]"
   ]
  },
  {
   "cell_type": "markdown",
   "id": "b9cea829-7309-46dd-906c-207d029afe7d",
   "metadata": {},
   "source": [
    "The model is checked for fluxes"
   ]
  },
  {
   "cell_type": "markdown",
   "id": "9c7e37f2-0d08-4f26-ae3c-711063091e7d",
   "metadata": {},
   "source": [
    "## iCGB21FR"
   ]
  },
  {
   "cell_type": "code",
   "execution_count": 4,
   "id": "a4fdce67-8db1-4a08-bbd4-a676cd20121f",
   "metadata": {
    "tags": []
   },
   "outputs": [
    {
     "name": "stderr",
     "output_type": "stream",
     "text": [
      "SBML package 'layout' not supported by cobrapy, information is not parsed\n",
      "https://juser.fz-juelich.de/record/188973 does not conform to 'http(s)://identifiers.org/collection/id' or'http(s)://identifiers.org/COLLECTION:id\n"
     ]
    },
    {
     "data": {
      "text/html": [
       "\n",
       "        <table>\n",
       "            <tr>\n",
       "                <td><strong>Name</strong></td>\n",
       "                <td>iCBG21FR</td>\n",
       "            </tr><tr>\n",
       "                <td><strong>Memory address</strong></td>\n",
       "                <td>2a1625cebe0</td>\n",
       "            </tr><tr>\n",
       "                <td><strong>Number of metabolites</strong></td>\n",
       "                <td>1042</td>\n",
       "            </tr><tr>\n",
       "                <td><strong>Number of reactions</strong></td>\n",
       "                <td>1539</td>\n",
       "            </tr><tr>\n",
       "                <td><strong>Number of genes</strong></td>\n",
       "                <td>805</td>\n",
       "            </tr><tr>\n",
       "                <td><strong>Number of groups</strong></td>\n",
       "                <td>102</td>\n",
       "            </tr><tr>\n",
       "                <td><strong>Objective expression</strong></td>\n",
       "                <td>1.0*Growth - 1.0*Growth_reverse_699ae</td>\n",
       "            </tr><tr>\n",
       "                <td><strong>Compartments</strong></td>\n",
       "                <td>cytosol, periplasm, extracellular space</td>\n",
       "            </tr>\n",
       "          </table>"
      ],
      "text/plain": [
       "<Model iCBG21FR at 0x2a1625cebe0>"
      ]
     },
     "execution_count": 4,
     "metadata": {},
     "output_type": "execute_result"
    }
   ],
   "source": [
    "model2 = read_sbml_model('iCGB21FR.xml')\n",
    "\n",
    "model2"
   ]
  },
  {
   "cell_type": "code",
   "execution_count": 35,
   "id": "328268b8-77e5-4693-bf54-9cf7f2d85ca9",
   "metadata": {
    "tags": []
   },
   "outputs": [
    {
     "data": {
      "text/plain": [
       "12DGR120tipp     0.0\n",
       "12DGR140tipp     0.0\n",
       "12DGR161tipp     0.0\n",
       "12DGR180tipp     0.0\n",
       "12DGR181tipp     0.0\n",
       "                ... \n",
       "EX_pyr_e         0.0\n",
       "L_LACtex         0.0\n",
       "CYTB1           20.0\n",
       "EX_34dhbz_e      0.0\n",
       "3_4DHBZt2        0.0\n",
       "Name: fluxes, Length: 1539, dtype: float64"
      ]
     },
     "execution_count": 35,
     "metadata": {},
     "output_type": "execute_result"
    }
   ],
   "source": [
    "solution = model2.optimize()\n",
    "solution.fluxes"
   ]
  },
  {
   "cell_type": "code",
   "execution_count": 36,
   "id": "bd9f31b7-445f-4de9-9c26-ce9c57cb6e36",
   "metadata": {
    "tags": []
   },
   "outputs": [
    {
     "data": {
      "text/html": [
       "<h3>Objective</h3><p>1.0 Growth = 0.5706600731225571</p><h4>Uptake</h4><table border=\"1\" class=\"dataframe\">\n",
       "  <thead>\n",
       "    <tr style=\"text-align: right;\">\n",
       "      <th>Metabolite</th>\n",
       "      <th>Reaction</th>\n",
       "      <th>Flux</th>\n",
       "      <th>C-Number</th>\n",
       "      <th>C-Flux</th>\n",
       "    </tr>\n",
       "  </thead>\n",
       "  <tbody>\n",
       "    <tr>\n",
       "      <td>ca2_e</td>\n",
       "      <td>EX_ca2_e</td>\n",
       "      <td>0.03095</td>\n",
       "      <td>0</td>\n",
       "      <td>0.00%</td>\n",
       "    </tr>\n",
       "    <tr>\n",
       "      <td>cl_e</td>\n",
       "      <td>EX_cl_e</td>\n",
       "      <td>0.03499</td>\n",
       "      <td>0</td>\n",
       "      <td>0.00%</td>\n",
       "    </tr>\n",
       "    <tr>\n",
       "      <td>cu2_e</td>\n",
       "      <td>EX_cu2_e</td>\n",
       "      <td>0.01952</td>\n",
       "      <td>0</td>\n",
       "      <td>0.00%</td>\n",
       "    </tr>\n",
       "    <tr>\n",
       "      <td>fe2_e</td>\n",
       "      <td>EX_fe2_e</td>\n",
       "      <td>0.02221</td>\n",
       "      <td>0</td>\n",
       "      <td>0.00%</td>\n",
       "    </tr>\n",
       "    <tr>\n",
       "      <td>fe3_e</td>\n",
       "      <td>EX_fe3_e</td>\n",
       "      <td>0.02221</td>\n",
       "      <td>0</td>\n",
       "      <td>0.00%</td>\n",
       "    </tr>\n",
       "    <tr>\n",
       "      <td>glc__D_e</td>\n",
       "      <td>EX_glc__D_e</td>\n",
       "      <td>10</td>\n",
       "      <td>6</td>\n",
       "      <td>100.00%</td>\n",
       "    </tr>\n",
       "    <tr>\n",
       "      <td>h_e</td>\n",
       "      <td>EX_h_e</td>\n",
       "      <td>10</td>\n",
       "      <td>0</td>\n",
       "      <td>0.00%</td>\n",
       "    </tr>\n",
       "    <tr>\n",
       "      <td>k_e</td>\n",
       "      <td>EX_k_e</td>\n",
       "      <td>0.03173</td>\n",
       "      <td>0</td>\n",
       "      <td>0.00%</td>\n",
       "    </tr>\n",
       "    <tr>\n",
       "      <td>mg2_e</td>\n",
       "      <td>EX_mg2_e</td>\n",
       "      <td>0.05104</td>\n",
       "      <td>0</td>\n",
       "      <td>0.00%</td>\n",
       "    </tr>\n",
       "    <tr>\n",
       "      <td>mn2_e</td>\n",
       "      <td>EX_mn2_e</td>\n",
       "      <td>0.02258</td>\n",
       "      <td>0</td>\n",
       "      <td>0.00%</td>\n",
       "    </tr>\n",
       "    <tr>\n",
       "      <td>na1_e</td>\n",
       "      <td>EX_na1_e</td>\n",
       "      <td>0.05396</td>\n",
       "      <td>0</td>\n",
       "      <td>0.00%</td>\n",
       "    </tr>\n",
       "    <tr>\n",
       "      <td>nh4_e</td>\n",
       "      <td>EX_nh4_e</td>\n",
       "      <td>6.123</td>\n",
       "      <td>0</td>\n",
       "      <td>0.00%</td>\n",
       "    </tr>\n",
       "    <tr>\n",
       "      <td>ni2_e</td>\n",
       "      <td>EX_ni2_e</td>\n",
       "      <td>0.02114</td>\n",
       "      <td>0</td>\n",
       "      <td>0.00%</td>\n",
       "    </tr>\n",
       "    <tr>\n",
       "      <td>o2_e</td>\n",
       "      <td>EX_o2_e</td>\n",
       "      <td>10</td>\n",
       "      <td>0</td>\n",
       "      <td>0.00%</td>\n",
       "    </tr>\n",
       "    <tr>\n",
       "      <td>pi_e</td>\n",
       "      <td>EX_pi_e</td>\n",
       "      <td>0.4773</td>\n",
       "      <td>0</td>\n",
       "      <td>0.00%</td>\n",
       "    </tr>\n",
       "    <tr>\n",
       "      <td>so4_e</td>\n",
       "      <td>EX_so4_e</td>\n",
       "      <td>0.1503</td>\n",
       "      <td>0</td>\n",
       "      <td>0.00%</td>\n",
       "    </tr>\n",
       "    <tr>\n",
       "      <td>zn2_e</td>\n",
       "      <td>EX_zn2_e</td>\n",
       "      <td>0.01897</td>\n",
       "      <td>0</td>\n",
       "      <td>0.00%</td>\n",
       "    </tr>\n",
       "  </tbody>\n",
       "</table><h4>Secretion</h4><table border=\"1\" class=\"dataframe\">\n",
       "  <thead>\n",
       "    <tr style=\"text-align: right;\">\n",
       "      <th>Metabolite</th>\n",
       "      <th>Reaction</th>\n",
       "      <th>Flux</th>\n",
       "      <th>C-Number</th>\n",
       "      <th>C-Flux</th>\n",
       "    </tr>\n",
       "  </thead>\n",
       "  <tbody>\n",
       "    <tr>\n",
       "      <td>co2_e</td>\n",
       "      <td>EX_co2_e</td>\n",
       "      <td>-5.855</td>\n",
       "      <td>1</td>\n",
       "      <td>15.75%</td>\n",
       "    </tr>\n",
       "    <tr>\n",
       "      <td>gly_e</td>\n",
       "      <td>EX_gly_e</td>\n",
       "      <td>-0.0486</td>\n",
       "      <td>2</td>\n",
       "      <td>0.26%</td>\n",
       "    </tr>\n",
       "    <tr>\n",
       "      <td>glyclt_e</td>\n",
       "      <td>EX_glyclt_e</td>\n",
       "      <td>-1.141</td>\n",
       "      <td>2</td>\n",
       "      <td>6.14%</td>\n",
       "    </tr>\n",
       "    <tr>\n",
       "      <td>h2o_e</td>\n",
       "      <td>EX_h2o_e</td>\n",
       "      <td>-28.45</td>\n",
       "      <td>0</td>\n",
       "      <td>0.00%</td>\n",
       "    </tr>\n",
       "    <tr>\n",
       "      <td>icit_e</td>\n",
       "      <td>EX_icit_e</td>\n",
       "      <td>-0.2821</td>\n",
       "      <td>6</td>\n",
       "      <td>4.55%</td>\n",
       "    </tr>\n",
       "    <tr>\n",
       "      <td>mal__L_e</td>\n",
       "      <td>EX_mal__L_e</td>\n",
       "      <td>-1.683</td>\n",
       "      <td>4</td>\n",
       "      <td>18.11%</td>\n",
       "    </tr>\n",
       "    <tr>\n",
       "      <td>succ_e</td>\n",
       "      <td>EX_succ_e</td>\n",
       "      <td>-5.127</td>\n",
       "      <td>4</td>\n",
       "      <td>55.18%</td>\n",
       "    </tr>\n",
       "    <tr>\n",
       "      <td>4hba_c</td>\n",
       "      <td>SK_4hba_c</td>\n",
       "      <td>-0.0001232</td>\n",
       "      <td>7</td>\n",
       "      <td>0.00%</td>\n",
       "    </tr>\n",
       "  </tbody>\n",
       "</table>"
      ],
      "text/plain": [
       "<cobra.summary.model_summary.ModelSummary at 0x1462360d0>"
      ]
     },
     "execution_count": 36,
     "metadata": {},
     "output_type": "execute_result"
    }
   ],
   "source": [
    "model2.summary()"
   ]
  },
  {
   "cell_type": "code",
   "execution_count": 37,
   "id": "cf106cca-a879-4e4e-9b7b-d69421f659c0",
   "metadata": {
    "tags": []
   },
   "outputs": [
    {
     "name": "stdout",
     "output_type": "stream",
     "text": [
      "L-Lysine\n",
      "lys__L_c\n",
      "L-Lysine\n",
      "lys__L_e\n",
      "L-Lysine\n",
      "lys__L_p\n"
     ]
    }
   ],
   "source": [
    "for metabolite in model2.metabolites.query('Lys', 'name'):\n",
    "    print(metabolite.name)\n",
    "    print(metabolite.id)"
   ]
  },
  {
   "cell_type": "code",
   "execution_count": 38,
   "id": "b4ffaec8-2e19-4dfe-9998-a6247540d03e",
   "metadata": {
    "tags": []
   },
   "outputs": [
    {
     "data": {
      "text/html": [
       "\n",
       "        <table>\n",
       "            <tr>\n",
       "                <td><strong>Metabolite identifier</strong></td><td>lys__L_c</td>\n",
       "            </tr><tr>\n",
       "                <td><strong>Name</strong></td><td>L-Lysine</td>\n",
       "            </tr><tr>\n",
       "                <td><strong>Memory address</strong></td>\n",
       "                <td>0x1447d82d0</td>\n",
       "            </tr><tr>\n",
       "                <td><strong>Formula</strong></td><td>C6H15N2O2</td>\n",
       "            </tr><tr>\n",
       "                <td><strong>Compartment</strong></td><td>c</td>\n",
       "            </tr><tr>\n",
       "                <td><strong>In 5 reaction(s)</strong></td><td>\n",
       "                    DAPDC, Growth, LYSabcpp, LYSt3pp, LYSabc\n",
       "                    </td>\n",
       "            </tr>\n",
       "        </table>"
      ],
      "text/plain": [
       "<Metabolite lys__L_c at 0x1447d82d0>"
      ]
     },
     "execution_count": 38,
     "metadata": {},
     "output_type": "execute_result"
    }
   ],
   "source": [
    "model2.metabolites.get_by_id('lys__L_c')"
   ]
  },
  {
   "cell_type": "code",
   "execution_count": 39,
   "id": "f38bde5d-da45-40ab-b93d-ccf947bc2698",
   "metadata": {
    "tags": []
   },
   "outputs": [
    {
     "data": {
      "text/plain": [
       "frozenset({<Reaction DAPDC at 0x145df8bd0>,\n",
       "           <Reaction Growth at 0x14683edd0>,\n",
       "           <Reaction LYSabc at 0x1461d9bd0>,\n",
       "           <Reaction LYSabcpp at 0x1461ceb90>,\n",
       "           <Reaction LYSt3pp at 0x14613d4d0>})"
      ]
     },
     "execution_count": 39,
     "metadata": {},
     "output_type": "execute_result"
    }
   ],
   "source": [
    "model2.metabolites.lys__L_c.reactions"
   ]
  },
  {
   "cell_type": "code",
   "execution_count": 40,
   "id": "9e93a030-954f-497a-a852-2f58d8de457d",
   "metadata": {
    "tags": []
   },
   "outputs": [
    {
     "name": "stdout",
     "output_type": "stream",
     "text": [
      "DAPDC DAPDC: 26dap__M_c + h_c --> co2_c + lys__L_c Diaminopimelate decarboxylase\n",
      "Growth Growth: 0.000215957436615497 10fthf_c + 0.497466186805283 ala__L_c + 0.000215957436615497 amet_c + 0.0062974490405647 amp_c + 0.286450592337987 arg__L_c + 0.233442241629366 asn__L_c + 0.233442241629366 asp__L_c + 52.4155146188655 atp_c + 0.0542420540814976 ca2_c + 0.0613181689413663 cl_c + 0.00284729052433628 coa_c + 0.129291683621802 ctp_c + 0.0342100689811831 cu2_c + 0.0886878118620952 cys__L_c + 0.0114582929862282 datp_c + 0.0144799266879183 dctp_c + 0.0127140840198214 dgtp_c + 0.0117989352923303 dttp_c + 0.000215957436615497 fad_c + 0.0389276218726522 fe2_c + 0.0389276218726522 fe3_c + 0.254849143586252 gln__L_c + 0.0148774528144029 glu__L_c + 0.593290278265672 gly_c + 0.208303052853126 gtp_c + 47.0666420920129 h2o_c + 2.15678814560218 h_c + 0.0917460790586501 his__L_c + 0.281353803150062 ile__L_c + 0.0556012165101363 k_c + 0.436302779712182 leu__L_c + 0.332323631867312 lys__L_c + 0.14883244216901 met__L_c + 0.0894430382011216 mg2_c + 0.000215957436615497 mlthf_c + 0.0395702629243034 mn2_c + 9.68418998275772e-05 mql8_c + 0.094560017063166 na1_c + 0.0032817885287191 nad_c + 0.00327680251610115 nadh_c + 0.00293620785264914 nadp_c + 0.00293221599297493 nadph_c + 0.120515445524632 nh4_c + 0.0370384582163968 ni2_c + 0.179414145715561 phe__L_c + 0.214073861663851 pro__L_c + 0.000215957436615497 pydx5p_c + 0.0249719719581137 pyr_c + 0.000215957436615497 ribflv_c + 0.208977072475925 ser__L_c + 0.0226301707790364 so4_c + 0.000215957436615497 thf_c + 0.000215957436615497 thmpp_c + 0.245675310415586 thr__L_c + 0.0550478411189897 trp__L_c + 0.133541106186236 tyr__L_c + 0.0968418998275772 uaagmda_c + 0.139553051327532 utp_c + 0.409798120148372 val__L_c + 0.0332356868852644 zn2_c --> 52.2462049569779 adp_c + 52.2420039553634 pi_c + 0.749462368022615 ppi_c \n",
      "LYSabcpp LYSabcpp: atp_c + h2o_c + lys__L_p --> adp_c + h_c + lys__L_c + pi_c L-lysine transport via ABC system (periplasm)\n",
      "LYSt3pp LYSt3pp: h_p + lys__L_c --> h_c + lys__L_p L-lysine transport out via proton antiport (cytoplasm to periplasm)\n",
      "LYSabc LYSabc: atp_c + h2o_c + lys__L_e --> adp_c + h_c + lys__L_c + pi_c L-lysine transport via ABC system\n"
     ]
    }
   ],
   "source": [
    "for reaction in model2.metabolites.lys__L_c.reactions:\n",
    "    print(reaction.id, reaction, reaction.name)"
   ]
  },
  {
   "cell_type": "code",
   "execution_count": 41,
   "id": "c61035d4-888a-4d1b-a648-0aa296f424e4",
   "metadata": {
    "tags": []
   },
   "outputs": [
    {
     "data": {
      "text/html": [
       "\n",
       "        <table>\n",
       "            <tr>\n",
       "                <td><strong>Reaction identifier</strong></td><td>DAPDC</td>\n",
       "            </tr><tr>\n",
       "                <td><strong>Name</strong></td><td>Diaminopimelate decarboxylase</td>\n",
       "            </tr><tr>\n",
       "                <td><strong>Memory address</strong></td>\n",
       "                <td>0x145df8bd0</td>\n",
       "            </tr><tr>\n",
       "                <td><strong>Stoichiometry</strong></td>\n",
       "                <td>\n",
       "                    <p style='text-align:right'>26dap__M_c + h_c --> co2_c + lys__L_c</p>\n",
       "                    <p style='text-align:right'>Meso-2,6-Diaminoheptanedioate + H+ --> CO2 + L-Lysine</p>\n",
       "                </td>\n",
       "            </tr><tr>\n",
       "                <td><strong>GPR</strong></td><td>lcl_NC_006958_1_prot_WP_011014180_1_1145 or lcl_NC_006958_1_prot_WP_011265883_1_2027</td>\n",
       "            </tr><tr>\n",
       "                <td><strong>Lower bound</strong></td><td>0.0</td>\n",
       "            </tr><tr>\n",
       "                <td><strong>Upper bound</strong></td><td>1000.0</td>\n",
       "            </tr>\n",
       "        </table>\n",
       "        "
      ],
      "text/plain": [
       "<Reaction DAPDC at 0x145df8bd0>"
      ]
     },
     "execution_count": 41,
     "metadata": {},
     "output_type": "execute_result"
    }
   ],
   "source": [
    "model2.reactions.DAPDC"
   ]
  },
  {
   "cell_type": "markdown",
   "id": "d9f40642-6c6c-4727-b088-0025c6912391",
   "metadata": {},
   "source": [
    "### Changing the objective function\n",
    "Determine the maximum possible production rate of lysine"
   ]
  },
  {
   "cell_type": "code",
   "execution_count": 42,
   "id": "676b3861-f460-4a8c-9514-3cf7dad50dcc",
   "metadata": {
    "tags": []
   },
   "outputs": [
    {
     "name": "stdout",
     "output_type": "stream",
     "text": [
      "0.0\n"
     ]
    }
   ],
   "source": [
    "with model:\n",
    "    model2.objective = model2.reactions.EX_lys__L_e\n",
    "    print(model2.optimize().objective_value)"
   ]
  },
  {
   "cell_type": "markdown",
   "id": "f916300e-4afd-4d53-bd0c-2716035c4bd7",
   "metadata": {},
   "source": [
    "The maximum prosible production rate of lysine with iCGB21FR is 0,0"
   ]
  },
  {
   "cell_type": "markdown",
   "id": "8b66c64a-66ae-468c-b4db-5c153d7382c4",
   "metadata": {},
   "source": [
    "### Model Fluxes Check"
   ]
  },
  {
   "cell_type": "code",
   "execution_count": 43,
   "id": "8d41c4d7-a11d-4570-8f85-e9fd0b7127c8",
   "metadata": {
    "tags": []
   },
   "outputs": [
    {
     "data": {
      "text/html": [
       "<strong><em>Optimal</em> solution with objective value 0.000</strong><br><div>\n",
       "<style scoped>\n",
       "    .dataframe tbody tr th:only-of-type {\n",
       "        vertical-align: middle;\n",
       "    }\n",
       "\n",
       "    .dataframe tbody tr th {\n",
       "        vertical-align: top;\n",
       "    }\n",
       "\n",
       "    .dataframe thead th {\n",
       "        text-align: right;\n",
       "    }\n",
       "</style>\n",
       "<table border=\"1\" class=\"dataframe\">\n",
       "  <thead>\n",
       "    <tr style=\"text-align: right;\">\n",
       "      <th></th>\n",
       "      <th>fluxes</th>\n",
       "      <th>reduced_costs</th>\n",
       "    </tr>\n",
       "  </thead>\n",
       "  <tbody>\n",
       "    <tr>\n",
       "      <th>12DGR120tipp</th>\n",
       "      <td>0.0</td>\n",
       "      <td>0.0</td>\n",
       "    </tr>\n",
       "    <tr>\n",
       "      <th>12DGR140tipp</th>\n",
       "      <td>0.0</td>\n",
       "      <td>0.0</td>\n",
       "    </tr>\n",
       "    <tr>\n",
       "      <th>12DGR161tipp</th>\n",
       "      <td>0.0</td>\n",
       "      <td>0.0</td>\n",
       "    </tr>\n",
       "    <tr>\n",
       "      <th>12DGR180tipp</th>\n",
       "      <td>0.0</td>\n",
       "      <td>0.0</td>\n",
       "    </tr>\n",
       "    <tr>\n",
       "      <th>12DGR181tipp</th>\n",
       "      <td>0.0</td>\n",
       "      <td>0.0</td>\n",
       "    </tr>\n",
       "    <tr>\n",
       "      <th>...</th>\n",
       "      <td>...</td>\n",
       "      <td>...</td>\n",
       "    </tr>\n",
       "    <tr>\n",
       "      <th>EX_pyr_e</th>\n",
       "      <td>0.0</td>\n",
       "      <td>0.0</td>\n",
       "    </tr>\n",
       "    <tr>\n",
       "      <th>L_LACtex</th>\n",
       "      <td>0.0</td>\n",
       "      <td>0.0</td>\n",
       "    </tr>\n",
       "    <tr>\n",
       "      <th>CYTB1</th>\n",
       "      <td>0.0</td>\n",
       "      <td>0.0</td>\n",
       "    </tr>\n",
       "    <tr>\n",
       "      <th>EX_34dhbz_e</th>\n",
       "      <td>0.0</td>\n",
       "      <td>0.0</td>\n",
       "    </tr>\n",
       "    <tr>\n",
       "      <th>3_4DHBZt2</th>\n",
       "      <td>0.0</td>\n",
       "      <td>0.0</td>\n",
       "    </tr>\n",
       "  </tbody>\n",
       "</table>\n",
       "<p>1539 rows × 2 columns</p>\n",
       "</div>"
      ],
      "text/plain": [
       "<Solution 0.000 at 0x145f961d0>"
      ]
     },
     "execution_count": 43,
     "metadata": {},
     "output_type": "execute_result"
    }
   ],
   "source": [
    "model2.optimize()"
   ]
  },
  {
   "cell_type": "code",
   "execution_count": 44,
   "id": "4d6e0f2b-9053-43cd-91a2-e8aa83f5ef79",
   "metadata": {
    "tags": []
   },
   "outputs": [],
   "source": [
    "solution2 = model2.optimize()"
   ]
  },
  {
   "cell_type": "code",
   "execution_count": 45,
   "id": "9f9ae845-f60f-4b42-a482-ac48dcf4f656",
   "metadata": {
    "tags": []
   },
   "outputs": [
    {
     "data": {
      "text/plain": [
       "12DGR120tipp    0.0\n",
       "12DGR140tipp    0.0\n",
       "12DGR161tipp    0.0\n",
       "12DGR180tipp    0.0\n",
       "12DGR181tipp    0.0\n",
       "               ... \n",
       "EX_pyr_e        0.0\n",
       "L_LACtex        0.0\n",
       "CYTB1           0.0\n",
       "EX_34dhbz_e     0.0\n",
       "3_4DHBZt2       0.0\n",
       "Name: fluxes, Length: 1539, dtype: float64"
      ]
     },
     "execution_count": 45,
     "metadata": {},
     "output_type": "execute_result"
    }
   ],
   "source": [
    "solution2.fluxes"
   ]
  },
  {
   "cell_type": "code",
   "execution_count": 46,
   "id": "b053687e-a66f-479a-8c0c-a0e82957c0bb",
   "metadata": {
    "tags": []
   },
   "outputs": [
    {
     "data": {
      "text/plain": [
       "pandas.core.series.Series"
      ]
     },
     "execution_count": 46,
     "metadata": {},
     "output_type": "execute_result"
    }
   ],
   "source": [
    "type(solution2.fluxes)"
   ]
  },
  {
   "cell_type": "code",
   "execution_count": 47,
   "id": "ca488821-c31d-4cdd-b62f-0f21f6a7d780",
   "metadata": {
    "tags": []
   },
   "outputs": [
    {
     "data": {
      "text/plain": [
       "count    1539.0\n",
       "mean        0.0\n",
       "std         0.0\n",
       "min         0.0\n",
       "25%         0.0\n",
       "50%         0.0\n",
       "75%         0.0\n",
       "max         0.0\n",
       "Name: fluxes, dtype: float64"
      ]
     },
     "execution_count": 47,
     "metadata": {},
     "output_type": "execute_result"
    }
   ],
   "source": [
    "solution2.fluxes.describe()"
   ]
  },
  {
   "cell_type": "markdown",
   "id": "92645b32-db89-463f-abe9-7c76c29e7549",
   "metadata": {},
   "source": [
    "#### Histogram of the distribution of flux values:"
   ]
  },
  {
   "cell_type": "code",
   "execution_count": 48,
   "id": "7c6ec4a5-8c05-43ae-b454-af417e940325",
   "metadata": {
    "tags": []
   },
   "outputs": [
    {
     "data": {
      "image/png": "[encoded data removed]",
      "text/plain": [
       "<Figure size 640x480 with 1 Axes>"
      ]
     },
     "metadata": {},
     "output_type": "display_data"
    }
   ],
   "source": [
    "fig = solution2.fluxes.hist()\n",
    "fig.set_xlabel('flux [$mmol gDW^{-1} h^{-1}]$')\n",
    "fig.set_ylabel('Frequency');"
   ]
  },
  {
   "cell_type": "code",
   "execution_count": 49,
   "id": "5f99c3e5-7f55-4e81-9ab4-e9e180464303",
   "metadata": {
    "tags": []
   },
   "outputs": [
    {
     "data": {
      "text/plain": [
       "ACGK            0.163466\n",
       "ACHBS           0.160557\n",
       "ACKr            0.085056\n",
       "ACLS            0.484461\n",
       "ACONT           5.330763\n",
       "                 ...    \n",
       "Ca2t2           0.030954\n",
       "PRFGS_1         0.242579\n",
       "FRD7            0.123459\n",
       "GLYCLTt2rpp    -1.423596\n",
       "CYTB1          20.000000\n",
       "Name: fluxes, Length: 300, dtype: float64"
      ]
     },
     "execution_count": 49,
     "metadata": {},
     "output_type": "execute_result"
    }
   ],
   "source": [
    "solution.fluxes[solution.fluxes != 0.]"
   ]
  },
  {
   "cell_type": "markdown",
   "id": "3fa71439-c29f-42d1-b43c-4973a9ece973",
   "metadata": {},
   "source": [
    "The model is checked for fluxes"
   ]
  }
 ],
 "metadata": {
  "kernelspec": {
   "display_name": "Python 3",
   "language": "python",
   "name": "python3"
  },
  "language_info": {
   "codemirror_mode": {
    "name": "ipython",
    "version": 3
   },
   "file_extension": ".py",
   "mimetype": "text/x-python",
   "name": "python",
   "nbconvert_exporter": "python",
   "pygments_lexer": "ipython3",
   "version": "3.8.8"
  }
 },
 "nbformat": 4,
 "nbformat_minor": 5
}
