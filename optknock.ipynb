{
 "cells": [
  {
   "attachments": {
    "image.png": {
     "image/png": "[encoded data removed]"
    }
   },
   "cell_type": "markdown",
   "id": "bec89579",
   "metadata": {},
   "source": [
    "# Optknock\n",
    "\n",
    "Cameo works with these versions: cobra 0.20.0 and python 3.7.16\n",
    "\n",
    "**Still having an issue**\n",
    "![image.png](attachment:image.png)"
   ]
  },
  {
   "cell_type": "code",
   "execution_count": 2,
   "id": "1db0e813",
   "metadata": {},
   "outputs": [],
   "source": [
    "# %pip install cobra==0.20.0"
   ]
  },
  {
   "cell_type": "code",
   "execution_count": 3,
   "id": "d654424a",
   "metadata": {},
   "outputs": [],
   "source": [
    "%%capture\n",
    "%run gene_annotation.ipynb\n",
    "\n",
    "from colorama import init, Fore, Style\n",
    "from cobra import Model, Reaction\n",
    "from cobra.io import read_sbml_model\n",
    "import matplotlib.pyplot as plt\n",
    "import pandas as pd\n",
    "import numpy as np\n",
    "\n",
    "model = read_sbml_model('Files/iCGB21FR.xml')\n",
    "\n",
    "lys_exp_rxn = Reaction(\"LYSt3r\")\n",
    "lys_exp_rxn.name = \"L lysine transport out via proton antiport reversible\"\n",
    "lys_exp_rxn.add_metabolites({model.metabolites.h_e: -1, model.metabolites.lys__L_c: -1, model.metabolites.h_c: 1, model.metabolites.lys__L_e: 1})\n",
    "lys_exp_rxn.gene_reaction_rule = \"( Mbar_A2583 or Mbar_A3244 )\"\n",
    "lys_exp_rxn.lower_bound, lys_exp_rxn.upper_bound = 0, 1000\n",
    "\n",
    "model.add_reactions([lys_exp_rxn])"
   ]
  },
  {
   "cell_type": "code",
   "execution_count": 7,
   "id": "24cc1a9d",
   "metadata": {},
   "outputs": [
    {
     "ename": "ImportError",
     "evalue": "cannot import name 'find_gene_knockout_reactions' from 'cobra.manipulation.delete' (C:\\Users\\harou\\anaconda3\\lib\\site-packages\\cobra\\manipulation\\delete.py)",
     "output_type": "error",
     "traceback": [
      "\u001b[1;31m---------------------------------------------------------------------------\u001b[0m",
      "\u001b[1;31mImportError\u001b[0m                               Traceback (most recent call last)",
      "\u001b[1;32m<ipython-input-7-a12ef7a0489c>\u001b[0m in \u001b[0;36m<module>\u001b[1;34m\u001b[0m\n\u001b[1;32m----> 1\u001b[1;33m \u001b[1;32mfrom\u001b[0m \u001b[0mcameo\u001b[0m\u001b[1;33m.\u001b[0m\u001b[0mstrain_design\u001b[0m \u001b[1;32mimport\u001b[0m \u001b[0mOptKnock\u001b[0m\u001b[1;33m\u001b[0m\u001b[1;33m\u001b[0m\u001b[0m\n\u001b[0m\u001b[0;32m      2\u001b[0m \u001b[1;32mfrom\u001b[0m \u001b[0mcameo\u001b[0m\u001b[1;33m.\u001b[0m\u001b[0mvisualization\u001b[0m\u001b[1;33m.\u001b[0m\u001b[0mplotting\u001b[0m\u001b[1;33m.\u001b[0m\u001b[0mwith_plotly\u001b[0m \u001b[1;32mimport\u001b[0m \u001b[0mPlotlyPlotter\u001b[0m\u001b[1;33m\u001b[0m\u001b[1;33m\u001b[0m\u001b[0m\n\u001b[0;32m      3\u001b[0m \u001b[1;33m\u001b[0m\u001b[0m\n\u001b[0;32m      4\u001b[0m \u001b[0moptknock\u001b[0m \u001b[1;33m=\u001b[0m \u001b[0mOptKnock\u001b[0m\u001b[1;33m(\u001b[0m\u001b[0mmodel\u001b[0m\u001b[1;33m,\u001b[0m \u001b[0mfraction_of_optimum\u001b[0m\u001b[1;33m=\u001b[0m\u001b[1;36m0.1\u001b[0m\u001b[1;33m)\u001b[0m\u001b[1;33m\u001b[0m\u001b[1;33m\u001b[0m\u001b[0m\n\u001b[0;32m      5\u001b[0m \u001b[0mresult\u001b[0m \u001b[1;33m=\u001b[0m \u001b[0moptknock\u001b[0m\u001b[1;33m.\u001b[0m\u001b[0mrun\u001b[0m\u001b[1;33m(\u001b[0m\u001b[0mmax_knockouts\u001b[0m\u001b[1;33m=\u001b[0m\u001b[1;36m5\u001b[0m\u001b[1;33m,\u001b[0m \u001b[0mtarget\u001b[0m\u001b[1;33m=\u001b[0m\u001b[1;34m\"DAPDC\"\u001b[0m\u001b[1;33m,\u001b[0m \u001b[0mbiomass\u001b[0m\u001b[1;33m=\u001b[0m\u001b[1;34m\"Growth\"\u001b[0m\u001b[1;33m)\u001b[0m\u001b[1;33m\u001b[0m\u001b[1;33m\u001b[0m\u001b[0m\n",
      "\u001b[1;32m~\\anaconda3\\lib\\site-packages\\cameo\\strain_design\\__init__.py\u001b[0m in \u001b[0;36m<module>\u001b[1;34m\u001b[0m\n\u001b[0;32m     16\u001b[0m \u001b[1;33m\u001b[0m\u001b[0m\n\u001b[0;32m     17\u001b[0m \u001b[1;32mfrom\u001b[0m \u001b[0mcameo\u001b[0m\u001b[1;33m.\u001b[0m\u001b[0mstrain_design\u001b[0m\u001b[1;33m.\u001b[0m\u001b[0mdeterministic\u001b[0m \u001b[1;32mimport\u001b[0m \u001b[0mOptKnock\u001b[0m\u001b[1;33m,\u001b[0m \u001b[0mFSEOF\u001b[0m\u001b[1;33m,\u001b[0m \u001b[0mDifferentialFVA\u001b[0m\u001b[1;33m\u001b[0m\u001b[1;33m\u001b[0m\u001b[0m\n\u001b[1;32m---> 18\u001b[1;33m \u001b[1;32mfrom\u001b[0m \u001b[0mcameo\u001b[0m\u001b[1;33m.\u001b[0m\u001b[0mstrain_design\u001b[0m\u001b[1;33m.\u001b[0m\u001b[0mheuristic\u001b[0m \u001b[1;32mimport\u001b[0m \u001b[0mOptGene\u001b[0m\u001b[1;33m\u001b[0m\u001b[1;33m\u001b[0m\u001b[0m\n\u001b[0m",
      "\u001b[1;32m~\\anaconda3\\lib\\site-packages\\cameo\\strain_design\\heuristic\\__init__.py\u001b[0m in \u001b[0;36m<module>\u001b[1;34m\u001b[0m\n\u001b[0;32m     15\u001b[0m \u001b[1;32mfrom\u001b[0m \u001b[0m__future__\u001b[0m \u001b[1;32mimport\u001b[0m \u001b[0mabsolute_import\u001b[0m\u001b[1;33m\u001b[0m\u001b[1;33m\u001b[0m\u001b[0m\n\u001b[0;32m     16\u001b[0m \u001b[1;33m\u001b[0m\u001b[0m\n\u001b[1;32m---> 17\u001b[1;33m \u001b[1;32mfrom\u001b[0m \u001b[0mcameo\u001b[0m\u001b[1;33m.\u001b[0m\u001b[0mstrain_design\u001b[0m\u001b[1;33m.\u001b[0m\u001b[0mheuristic\u001b[0m\u001b[1;33m.\u001b[0m\u001b[0mevolutionary_based\u001b[0m \u001b[1;32mimport\u001b[0m \u001b[0mOptGene\u001b[0m\u001b[1;33m\u001b[0m\u001b[1;33m\u001b[0m\u001b[0m\n\u001b[0m",
      "\u001b[1;32m~\\anaconda3\\lib\\site-packages\\cameo\\strain_design\\heuristic\\evolutionary_based.py\u001b[0m in \u001b[0;36m<module>\u001b[1;34m\u001b[0m\n\u001b[0;32m     36\u001b[0m \u001b[1;32mfrom\u001b[0m \u001b[0mcameo\u001b[0m\u001b[1;33m.\u001b[0m\u001b[0mstrain_design\u001b[0m\u001b[1;33m.\u001b[0m\u001b[0mheuristic\u001b[0m\u001b[1;33m.\u001b[0m\u001b[0mevolutionary\u001b[0m\u001b[1;33m.\u001b[0m\u001b[0moptimization\u001b[0m \u001b[1;32mimport\u001b[0m \u001b[0mGeneKnockoutOptimization\u001b[0m\u001b[1;33m,\u001b[0m\u001b[0;31m \u001b[0m\u001b[0;31m\\\u001b[0m\u001b[1;33m\u001b[0m\u001b[1;33m\u001b[0m\u001b[0m\n\u001b[0;32m     37\u001b[0m     \u001b[0mReactionKnockoutOptimization\u001b[0m\u001b[1;33m,\u001b[0m \u001b[0mCofactorSwapOptimization\u001b[0m\u001b[1;33m,\u001b[0m \u001b[0mNADH_NADPH\u001b[0m\u001b[1;33m\u001b[0m\u001b[1;33m\u001b[0m\u001b[0m\n\u001b[1;32m---> 38\u001b[1;33m \u001b[1;32mfrom\u001b[0m \u001b[0mcameo\u001b[0m\u001b[1;33m.\u001b[0m\u001b[0mstrain_design\u001b[0m\u001b[1;33m.\u001b[0m\u001b[0mheuristic\u001b[0m\u001b[1;33m.\u001b[0m\u001b[0mevolutionary\u001b[0m\u001b[1;33m.\u001b[0m\u001b[0mprocessing\u001b[0m \u001b[1;32mimport\u001b[0m \u001b[0mprocess_reaction_knockout_solution\u001b[0m\u001b[1;33m,\u001b[0m\u001b[0;31m \u001b[0m\u001b[0;31m\\\u001b[0m\u001b[1;33m\u001b[0m\u001b[1;33m\u001b[0m\u001b[0m\n\u001b[0m\u001b[0;32m     39\u001b[0m     \u001b[0mprocess_gene_knockout_solution\u001b[0m\u001b[1;33m,\u001b[0m \u001b[0mprocess_reaction_swap_solution\u001b[0m\u001b[1;33m\u001b[0m\u001b[1;33m\u001b[0m\u001b[0m\n\u001b[0;32m     40\u001b[0m \u001b[1;32mfrom\u001b[0m \u001b[0mcameo\u001b[0m\u001b[1;33m.\u001b[0m\u001b[0mutil\u001b[0m \u001b[1;32mimport\u001b[0m \u001b[0mTimeMachine\u001b[0m\u001b[1;33m\u001b[0m\u001b[1;33m\u001b[0m\u001b[0m\n",
      "\u001b[1;32m~\\anaconda3\\lib\\site-packages\\cameo\\strain_design\\heuristic\\evolutionary\\processing.py\u001b[0m in \u001b[0;36m<module>\u001b[1;34m\u001b[0m\n\u001b[0;32m     12\u001b[0m \u001b[1;31m# See the License for the specific language governing permissions and\u001b[0m\u001b[1;33m\u001b[0m\u001b[1;33m\u001b[0m\u001b[1;33m\u001b[0m\u001b[0m\n\u001b[0;32m     13\u001b[0m \u001b[1;31m# limitations under the License.\u001b[0m\u001b[1;33m\u001b[0m\u001b[1;33m\u001b[0m\u001b[1;33m\u001b[0m\u001b[0m\n\u001b[1;32m---> 14\u001b[1;33m \u001b[1;32mfrom\u001b[0m \u001b[0mcobra\u001b[0m\u001b[1;33m.\u001b[0m\u001b[0mmanipulation\u001b[0m\u001b[1;33m.\u001b[0m\u001b[0mdelete\u001b[0m \u001b[1;32mimport\u001b[0m \u001b[0mfind_gene_knockout_reactions\u001b[0m\u001b[1;33m\u001b[0m\u001b[1;33m\u001b[0m\u001b[0m\n\u001b[0m\u001b[0;32m     15\u001b[0m \u001b[1;32mfrom\u001b[0m \u001b[0mcameo\u001b[0m\u001b[1;33m.\u001b[0m\u001b[0mcore\u001b[0m\u001b[1;33m.\u001b[0m\u001b[0mmanipulation\u001b[0m \u001b[1;32mimport\u001b[0m \u001b[0mswap_cofactors\u001b[0m\u001b[1;33m\u001b[0m\u001b[1;33m\u001b[0m\u001b[0m\n\u001b[0;32m     16\u001b[0m \u001b[1;33m\u001b[0m\u001b[0m\n",
      "\u001b[1;31mImportError\u001b[0m: cannot import name 'find_gene_knockout_reactions' from 'cobra.manipulation.delete' (C:\\Users\\harou\\anaconda3\\lib\\site-packages\\cobra\\manipulation\\delete.py)"
     ]
    }
   ],
   "source": [
    "from cameo.strain_design import OptKnock\n",
    "from cameo.visualization.plotting.with_plotly import PlotlyPlotter\n",
    "\n",
    "optknock = OptKnock(model, fraction_of_optimum=0.1)\n",
    "result = optknock.run(max_knockouts=5, target=\"DAPDC\", biomass=\"Growth\")\n",
    "result"
   ]
  },
  {
   "cell_type": "code",
   "execution_count": null,
   "id": "7071b1e5",
   "metadata": {},
   "outputs": [],
   "source": []
  }
 ],
 "metadata": {
  "kernelspec": {
   "display_name": "Python 3",
   "language": "python",
   "name": "python3"
  },
  "language_info": {
   "codemirror_mode": {
    "name": "ipython",
    "version": 3
   },
   "file_extension": ".py",
   "mimetype": "text/x-python",
   "name": "python",
   "nbconvert_exporter": "python",
   "pygments_lexer": "ipython3",
   "version": "3.8.8"
  }
 },
 "nbformat": 4,
 "nbformat_minor": 5
}
