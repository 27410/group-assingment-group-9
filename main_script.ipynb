{
 "cells": [
  {
   "cell_type": "code",
   "execution_count": 1,
   "id": "947756ce",
   "metadata": {},
   "outputs": [
    {
     "name": "stderr",
     "output_type": "stream",
     "text": [
      "SBML package 'layout' not supported by cobrapy, information is not parsed\n",
      "https://juser.fz-juelich.de/record/188973 does not conform to 'http(s)://identifiers.org/collection/id' or'http(s)://identifiers.org/COLLECTION:id\n"
     ]
    }
   ],
   "source": [
    "from cobra.io import read_sbml_model\n",
    "from collections import defaultdict\n",
    "from Bio import Entrez, SeqIO\n",
    "import re\n",
    "import time\n",
    "from Bio import pairwise2\n",
    "\n",
    "\n",
    "model = read_sbml_model('iCGB21FR.xml')"
   ]
  },
  {
   "cell_type": "markdown",
   "id": "5b7958c2",
   "metadata": {},
   "source": [
    "The issue with the model \"iCGB21FR.xml\" is that its authors have named the genes in the following format **\"lcl_{locus}_prot_{protein_id}_{unknown_digits}\"**. An exemple name of the genes from the model would look like this: lcl_NC_006958_1_prot_WP_003859586_1_2138\n",
    "\n",
    "In which **\"NC_006958\"** is the locus represent the complete sequence of Corynebacterium glutamicum ATCC 13032, and **WP_XXXXXXXXX** represent the protein_id of its genes.\n",
    "\n",
    "\n",
    "**This results in adding an extra step of finding the gene name for the concerned protein ids.**\n"
   ]
  },
  {
   "cell_type": "markdown",
   "id": "00a5d60f",
   "metadata": {},
   "source": [
    "# Mapping:\n",
    "- reaction -> genes\n",
    "- gene -> reactions"
   ]
  },
  {
   "cell_type": "code",
   "execution_count": 2,
   "id": "41463f98",
   "metadata": {},
   "outputs": [
    {
     "name": "stdout",
     "output_type": "stream",
     "text": [
      "1539 reactions in 'iCGB21FR' model\n",
      "805 genes in 'iCGB21FR' model\n"
     ]
    }
   ],
   "source": [
    "print(f\"{len(model.reactions)} reactions in 'iCGB21FR' model\")\n",
    "print(f\"{len(model.genes)} genes in 'iCGB21FR' model\")"
   ]
  },
  {
   "cell_type": "code",
   "execution_count": 3,
   "id": "127bfca5",
   "metadata": {},
   "outputs": [],
   "source": [
    "reaction_to_genes = {}\n",
    "gene_to_reactions = {}\n",
    "\n",
    "def mapReactionToGenes():    \n",
    "    for reaction in model.reactions:\n",
    "        gene_ids = []\n",
    "        for gene in reaction.genes:\n",
    "            gene_ids.append(gene.id)\n",
    "            \n",
    "        reaction_to_genes[reaction.id] = gene_ids\n",
    "\n",
    "def mapGeneToReactions():\n",
    "    for reaction_id, gene_ids in reaction_to_genes.items():\n",
    "        for gene_id in gene_ids:\n",
    "            if gene_id:\n",
    "                if gene_id not in gene_to_reactions:\n",
    "                    gene_to_reactions[gene_id] = [reaction_id]\n",
    "                else:\n",
    "                    gene_to_reactions[gene_id].append(reaction_id)\n",
    "    \n",
    "mapReactionToGenes()\n",
    "mapGeneToReactions()"
   ]
  },
  {
   "cell_type": "code",
   "execution_count": 4,
   "id": "c2141495",
   "metadata": {},
   "outputs": [
    {
     "name": "stdout",
     "output_type": "stream",
     "text": [
      "1539 reactions are mapped in total\n",
      "1077 reactions have a genetic component (coded by at least one gene)\n",
      "\n",
      "   ...\n",
      "2AGPG141tipp -> \n",
      "2AGPGAT141 -> \n",
      "2HH24DDH -> \n",
      "2MAHMP -> \n",
      "    lcl_NC_006958_1_prot_WP_011015468_1_2761\n",
      "    lcl_NC_006958_1_prot_WP_003855288_1_2949\n",
      "2PGLYCt6 -> \n",
      "3HAD140 -> \n",
      "3MBt2pp -> \n",
      "    lcl_NC_006958_1_prot_WP_011013917_1_810\n",
      "3MBt4pp -> \n",
      "    lcl_NC_006958_1_prot_WP_011013917_1_810\n",
      "3MBtex -> \n",
      "3OADPCOAT -> \n",
      "   ...\n"
     ]
    }
   ],
   "source": [
    "print(f\"{len(reaction_to_genes)} reactions are mapped in total\")\n",
    "\n",
    "reactions_coded_by_genes = 0\n",
    "for reaction, genes in list(reaction_to_genes.items()):\n",
    "    if len(genes) > 0:\n",
    "        reactions_coded_by_genes +=1\n",
    "print(f\"{reactions_coded_by_genes} reactions have a genetic component (coded by at least one gene)\\n\")\n",
    "\n",
    "print(\"   ...\")\n",
    "for reaction, genes in list(reaction_to_genes.items())[15:25]:\n",
    "    print(f\"{reaction} -> \")\n",
    "    for gene in genes:\n",
    "        print(f\"    {gene}\")\n",
    "print(\"   ...\")"
   ]
  },
  {
   "cell_type": "code",
   "execution_count": 5,
   "id": "cfd2c73a",
   "metadata": {},
   "outputs": [
    {
     "name": "stdout",
     "output_type": "stream",
     "text": [
      "\n",
      "805 genes are mapped in total\n",
      "\n",
      "lcl_NC_006958_1_prot_WP_011015468_1_2761 ->\n",
      "    2MAHMP\n",
      "    PDXPP\n",
      "    PYDXPP\n",
      "lcl_NC_006958_1_prot_WP_003855288_1_2949 ->\n",
      "    2MAHMP\n",
      "    TDP\n",
      "lcl_NC_006958_1_prot_WP_011013917_1_810 ->\n",
      "    3MBt2pp\n",
      "    3MBt4pp\n",
      "    ACt2rpp\n",
      "    ACt4pp\n",
      "    BUTt2rpp\n",
      "    BUTt4pp\n",
      "    GLYCLTt4pp\n",
      "    PACt3\n",
      "    PNTOt2\n",
      "    PPAt2pp\n",
      "    PPAt4pp\n",
      "    PYRt2rpp\n",
      "    PYRt4pp\n",
      "lcl_NC_006958_1_prot_WP_003859251_1_2275 ->\n",
      "    3OXCOAT\n",
      "    ACACT1r\n",
      "    ACACT2r\n",
      "lcl_NC_006958_1_prot_WP_011015386_1_2669 ->\n",
      "    4ABUTD\n",
      "    ALDD2x\n",
      "    ALDD2y\n",
      "    ALDD31\n",
      "    ALDD3y\n",
      "    GLXO1\n",
      "    GLYALDDr\n",
      "    LCADi\n",
      "   ...\n"
     ]
    }
   ],
   "source": [
    "print(f\"\\n{len(gene_to_reactions)} genes are mapped in total\\n\")\n",
    "\n",
    "for gene, reactions in list(gene_to_reactions.items())[:5]:\n",
    "    print(f\"{gene} ->\")\n",
    "    for reaction in reactions:\n",
    "        print(f\"    {reaction}\")\n",
    "print(\"   ...\")"
   ]
  },
  {
   "cell_type": "code",
   "execution_count": 6,
   "id": "e8d074a5",
   "metadata": {},
   "outputs": [
    {
     "name": "stdout",
     "output_type": "stream",
     "text": [
      "513 genes control 1 reaction\n",
      "149 genes control 2 reactions\n",
      "51 genes control 3 reactions\n",
      "25 genes control 4 reactions\n",
      "12 genes control 5 reactions\n",
      "19 genes control 6 reactions\n",
      "6 genes control 7 reactions\n",
      "4 genes control 8 reactions\n",
      "5 genes control 9 reactions\n",
      "5 genes control 10 reactions\n",
      "4 genes control 11 reactions\n",
      "4 genes control 13 reactions\n",
      "1 genes control 14 reactions\n",
      "2 genes control 15 reactions\n",
      "1 genes control 21 reactions\n",
      "1 genes control 22 reactions\n",
      "3 genes control 23 reactions\n"
     ]
    }
   ],
   "source": [
    "gene_to_reactions_counts = defaultdict(list)\n",
    "\n",
    "for gene, reactions in gene_to_reactions.items():\n",
    "    gene_to_reactions_counts[len(reactions)].append((gene, reactions))\n",
    "\n",
    "sorted_counts = sorted(gene_to_reactions_counts.items(), key=lambda x: x[0])\n",
    "\n",
    "for count, gene_to_reactions_data in sorted_counts:\n",
    "    reaction_str = \"reaction\" if count == 1 else \"reactions\"\n",
    "    print(f\"{len(gene_to_reactions_data)} genes control {count} {reaction_str}\")"
   ]
  },
  {
   "cell_type": "markdown",
   "id": "5f10b9d0",
   "metadata": {},
   "source": [
    "### Getting the gene data from the RefSeq database based on its protein ID\n",
    "\n",
    "Fetching every protein Id in **gene_to_reactions** and returning the data for its gene: gene_name, product, organism, sequence.\n",
    "\n",
    "The data is stored locally in **protein_id_to_gene_map** for future use, avoiding searching every time."
   ]
  },
  {
   "cell_type": "code",
   "execution_count": 7,
   "id": "0b33db8b",
   "metadata": {
    "scrolled": false
   },
   "outputs": [
    {
     "name": "stdout",
     "output_type": "stream",
     "text": [
      "786 protein ids to fetch their data\n",
      "0 protein IDs were fetched online\n",
      "786 protein IDs are stored locally\n",
      "\n",
      "WP_011014763 ->\n",
      "    ptsP\n",
      "    phosphoenolpyruvate--protein phosphotransferase\n",
      "    Corynebacterium glutamicum\n",
      "    MATVADVNQDTVLKGTGVVGGVRYASAVWITPRPELPQAGEVVAEENREAEQERFDAAAATVSSRLLERS...\n",
      "\n",
      "WP_003858695 ->\n",
      "    argB\n",
      "    acetylglutamate kinase\n",
      "    Corynebacterium\n",
      "    MNDLIKDLGSEVRANVLAEALPWLQHFRDKIVVVKYGGNAMVDDDLKAAFAADMVFLRTVGAKPVVVHGG...\n",
      "   ...\n"
     ]
    }
   ],
   "source": [
    "import re\n",
    "from Bio import Entrez, SeqIO\n",
    "import time\n",
    "import json\n",
    "\n",
    "def getFullGeneName(protein_id):\n",
    "    for gene in model.genes:\n",
    "        if protein_id in gene.id:\n",
    "            return gene\n",
    "        \n",
    "def getProteinID(full_gene):\n",
    "    \"\"\"\n",
    "    Function to get protein ID from a full gene name\n",
    "    \n",
    "    \"\"\"\n",
    "    return \"WP_\" + re.search(r\"WP_(\\d{9})\", full_gene).group(1) if re.search(r\"WP_(\\d{9})\", full_gene) else None\n",
    "\n",
    "\n",
    "def fetchProteinID(protein_id, max_retries=50, delay_between_retries=1):\n",
    "    \"\"\"\n",
    "    Function to fetch protein ID data\n",
    "    \n",
    "    \"\"\"\n",
    "    for attempt in range(max_retries):\n",
    "        try:\n",
    "            Entrez.email = \"h.bensaadi@gmail.com\"\n",
    "\n",
    "            handle = Entrez.efetch(db=\"protein\", id=protein_id, rettype=\"gb\", retmode=\"text\")\n",
    "            record = SeqIO.read(handle, \"genbank\")\n",
    "            handle.close()\n",
    "\n",
    "            gene_name, product, organism, sequence = None, None, None, None\n",
    "\n",
    "            for feature in record.features:\n",
    "                if 'gene' in feature.qualifiers:\n",
    "                    gene_name = feature.qualifiers['gene'][0]\n",
    "                if 'product' in feature.qualifiers:\n",
    "                    product = feature.qualifiers['product'][0]\n",
    "                if 'organism' in feature.qualifiers:\n",
    "                    organism = feature.qualifiers['organism'][0]\n",
    "\n",
    "            sequence = str(record.seq)\n",
    "\n",
    "            return protein_id, gene_name, product, organism, sequence\n",
    "\n",
    "        except Entrez.HTTPError as e:\n",
    "            if attempt < max_retries - 1:\n",
    "                print(f\"{protein_id}: retrying in {delay_between_retries} seconds...\")\n",
    "                time.sleep(delay_between_retries)\n",
    "            else:\n",
    "                print(f\"Max retries reached. Unable to fetch data for {protein_id}\")\n",
    "                raise\n",
    "        except Exception as e:\n",
    "            print(f\"Error: {e}\")\n",
    "            raise\n",
    "\n",
    "def loadMapFile():\n",
    "    try:\n",
    "        with open(\"protein_id_to_gene_map.json\", \"r\") as file:\n",
    "            protein_id_to_gene_map = json.load(file)\n",
    "    except FileNotFoundError:\n",
    "        protein_id_to_gene_map = {}\n",
    "    \n",
    "    return protein_id_to_gene_map\n",
    "    \n",
    "def updateMapFile(protein_id_to_gene_map):\n",
    "    with open(\"protein_id_to_gene_map.json\", \"w\") as file:\n",
    "        json.dump(protein_id_to_gene_map, file)\n",
    "           \n",
    "            \n",
    "def getUniqueGeneNumber():\n",
    "    unique_protein_ids = []\n",
    "    \n",
    "    for gene, reactions in list(gene_to_reactions.items()):\n",
    "        if getProteinID(gene) not in unique_protein_ids:\n",
    "            unique_protein_ids.append(getProteinID(gene))\n",
    "    return len(unique_protein_ids)\n",
    "    \n",
    "def mapProteinIDtoGene():\n",
    "    global protein_id_to_gene_map\n",
    "    protein_id_to_gene_map = loadMapFile()\n",
    "\n",
    "    print(f\"{getUniqueGeneNumber()} protein ids to fetch their data\")\n",
    "    \n",
    "    count_found_genes = 0\n",
    "    for gene, reactions in list(gene_to_reactions.items()):\n",
    "        if \"WP_\" in gene:\n",
    "            protein_id = getProteinID(gene)\n",
    "\n",
    "            if protein_id not in protein_id_to_gene_map:\n",
    "                protein_id, gene_name, product, organism, sequence = fetchProteinID(protein_id)\n",
    "                protein_id_to_gene_map[protein_id] = [gene_name, product, organism, sequence]\n",
    "                updateMapFile(protein_id_to_gene_map)\n",
    "                count_found_genes +=1\n",
    "                \n",
    "                print(f\"\\n{protein_id}, {gene_name}, {product}, {organism}, {sequence}\")\n",
    "\n",
    "    print(f\"{count_found_genes} protein IDs were fetched online\")\n",
    "    print(f\"{len(protein_id_to_gene_map)+1} protein IDs are stored locally\")\n",
    "     \n",
    "mapProteinIDtoGene()\n",
    "\n",
    "for protein_id, protein_data in list(protein_id_to_gene_map.items())[21:23]:\n",
    "    print(f\"\\n{protein_id} ->\")\n",
    "    gene_name, product, organism, sequence = protein_data\n",
    "    print(f\"    {gene_name}\")\n",
    "    print(f\"    {product}\")\n",
    "    print(f\"    {organism}\")\n",
    "    print(f\"    {sequence[:70]}...\")\n",
    "print(\"   ...\")"
   ]
  },
  {
   "cell_type": "markdown",
   "id": "1fedade9",
   "metadata": {},
   "source": [
    "### Serching the protein ID of a known gene \n",
    "The locally stored **protein_id_to_gene_map** are used to search for the **gene name** or its **sequence**"
   ]
  },
  {
   "cell_type": "code",
   "execution_count": 8,
   "id": "7dd7a42c",
   "metadata": {},
   "outputs": [],
   "source": [
    "def calculate_similarity(seq1, seq2):\n",
    "    alignments = pairwise2.align.globalxx(seq1, seq2, one_alignment_only=True)\n",
    "    if alignments:\n",
    "        alignment = alignments[0]\n",
    "        alignment_length = max(len(alignment[0]), len(alignment[1]))\n",
    "        similarity = alignment[2] / alignment_length\n",
    "        return similarity\n",
    "    return 0\n",
    "\n",
    "def searchGene(gene=None, reaction=None, seq=None, similarity_threshold=0.80):\n",
    "    matches = []\n",
    "    \n",
    "    protein_id_to_gene_map = loadMapFile()\n",
    "\n",
    "    for protein_id, data in protein_id_to_gene_map.items():\n",
    "        gene_name, product, organism, sequence = data\n",
    "        \n",
    "        if gene and gene_name and gene.lower() in gene_name.lower():\n",
    "            matches.append((protein_id, data))\n",
    "        \n",
    "        if reaction and product and reaction.lower() in product.lower():\n",
    "            matches.append((protein_id, data))\n",
    "        \n",
    "        if seq and sequence:\n",
    "            similarity = calculate_similarity(seq.lower(), sequence.lower())            \n",
    "            if similarity >= similarity_threshold:\n",
    "                matches.append((protein_id, f\"Similarity: {round(similarity*100, 2)}%\", data))\n",
    "    \n",
    "    print(f\"{len(matches)} match(es) were found:\")\n",
    "    return matches\n",
    "\n",
    "def getDataFromProtreinID(searched_protein_id):\n",
    "    protein_id_to_gene_map = loadMapFile()\n",
    "    for protein_id, data in protein_id_to_gene_map.items():\n",
    "        if searched_protein_id == protein_id:\n",
    "            return data\n",
    "\n",
    "def getGeneNameFromProteinID(searched_protein_id):\n",
    "    for gene, reactions in list(gene_to_reactions.items()):\n",
    "        if searched_protein_id == getProteinID(gene):\n",
    "            return gene\n",
    "    \n",
    "def getReactionsFromProteinID(searched_protein_id):\n",
    "    for gene, reactions in list(gene_to_reactions.items()):\n",
    "        if searched_protein_id == getProteinID(gene):\n",
    "            return reactions\n",
    "    "
   ]
  },
  {
   "attachments": {
    "image-3.png": {
     "image/png": "[encoded data removed]"
    }
   },
   "cell_type": "markdown",
   "id": "b491110f",
   "metadata": {},
   "source": [
    "## 1. replicating the results of an existing paper (Becker et al. 2011)\n",
    "\n",
    "![image-3.png](attachment:image-3.png)"
   ]
  },
  {
   "cell_type": "markdown",
   "id": "2d59f0f8",
   "metadata": {},
   "source": [
    "### 1. Direct search through the collected list of annoctated genes:"
   ]
  },
  {
   "cell_type": "code",
   "execution_count": 9,
   "id": "f88e3d92",
   "metadata": {},
   "outputs": [
    {
     "name": "stdout",
     "output_type": "stream",
     "text": [
      "\n",
      "lysC:\n",
      "0 match(es) were found:\n",
      "\n",
      "ddh:\n",
      "0 match(es) were found:\n",
      "\n",
      "pck:\n",
      "0 match(es) were found:\n",
      "\n",
      "dapB:\n",
      "1 match(es) were found:\n",
      "('WP_011014794', ['dapB', '4-hydroxy-tetrahydrodipicolinate reductase', 'Corynebacterium glutamicum', 'MGIKVGVLGAKGRVGQTIVAAVNESDDLELVAEIGVDDDLSLLVDNGAEVVVDFTTPNAVMGNLEFCINNGISAVVGTTGFDDARLEQVRDWLEGKDNVGVLIAPNFAISAVLTMVFSKQAARFFESAEVIELHHPNKLDAPSGTAIHTAQGIAAARKEAGMDAQPDATEQALEGSRGASVDGIPVHAVRMSGMVAHEQVIFGTQGQTLTIKQDSYDRNSFAPGVLVGVRNIAQHPGLVVGLEHYLGL'])\n",
      "\n",
      "lysA:\n",
      "1 match(es) were found:\n",
      "('WP_011014180', ['lysA', 'diaminopimelate decarboxylase', 'Corynebacterium glutamicum', 'MATVENFNELPAHVWPRNAVRQEDGVVTVAGVPLPDLAEEYGTPLFVVDEDDFRSRCRDMATAFGGPGNVHYASKAFLTKTIARWVDEEGLALDIASINELGIALAAGFPASRITAHGNNKGVEFLRALVQNGVGHVVLDSAQELELLDYVAAGEGKIQDVLIRVKPGIEAHTHEFIATSHEDQKFGFSLASGSAFEAAKAANNAENLNLVGLHCHVGSQVFDAEGFKLAAERVLGLYSQIHSELGVALPELDLGGGYGIAYTAAEEPLNVAEVASDLLTAVGKMAAELGIDAPTVLVEPGRAIAGPSTVTIYEVGTTKDVHVDDDKTRRYIAVDGGMSDNIRPALYGSEYDARVVSRFAEGDPVSTRIVGSHCESGDILINDEIYPSDITSGDFLALAATGAYCYAMSSRYNAFTRPAVVSVRAGSSRLMLRRETLDDILSLEA'])\n",
      "\n",
      "hom:\n",
      "0 match(es) were found:\n",
      "\n",
      "pyc:\n",
      "0 match(es) were found:\n",
      "\n",
      "icd:\n",
      "0 match(es) were found:\n",
      "\n",
      "fbp:\n",
      "0 match(es) were found:\n",
      "\n",
      "tkt:\n",
      "1 match(es) were found:\n",
      "('WP_011014456', ['tkt', 'transketolase', 'Corynebacterium glutamicum', 'MTTLTLSPELQALTVRNYPSDWSDVDTKAVDTVRVLAADAVENCGSGHPGTAMSLAPLAYTLYQRVMNVDPQDTNWAGRDRFVLSCGHSSLTQYIQLYLGGFGLEMDDLKALRTWDSLTPGHPEYRHTKGVEITTGPLGQGLASAVGMAMAARRERGLFDPTAAEGESPFDHHIYVIASDGDLQEGVTSEASSIAGTQQLGNLIVFWDDNRISIEDNTEIAFNEDVVARYKAYGWQTIEVEAGEDVAAIEAAVAEAKKDTKRPTFIRVRTIIGFPAPTMMNTGAVHGAALGAAEVAATKTELGFDPEAHFAIDDEVIAHTRSLAERAAQKKAAWQVKFDEWAAANPENKALFDRLNSRELPAGYADELPTWDADEKGVATRKASEAALQALGKTLPELWGGSADLAGSNNTVIKGSPSFGPESISTETWSAEPYGRNLHFGIREHAMGSILNGISLHGGTRPYGGTFLIFSDYMRPAVRLAALMETDAYYVWTHDSIGLGEDGPTHQPVETLAALRAIPGLSVLRPADANETAQAWAAALEYKEGPKGLALTRQNVPVLEGTKEKAAEGVRRGGYVLVEGSKETPDVILMGSGSEVQLAVNAAKALEAEGVAARVVSVPCMDWFQEQDAEYIESVLPAAVTARVSVEAGIAMPWYRFLGTQGRAVSLEHFGASADYQTLFEKFGITTDAVVAAAKDSING'])\n"
     ]
    }
   ],
   "source": [
    "for g in [\"lysC\", \"ddh\", \"pck\", \"dapB\", \"lysA\", \"hom\", \"pyc\", \"icd\", \"fbp\", \"tkt\"]:\n",
    "    print(f\"\\n{g}:\")\n",
    "    for match in searchGene(g):\n",
    "        print(f\"{match}\")"
   ]
  },
  {
   "cell_type": "markdown",
   "id": "7898f7ad",
   "metadata": {},
   "source": [
    "### 2. Searching through AA sequence homology:"
   ]
  },
  {
   "cell_type": "code",
   "execution_count": 10,
   "id": "8e6f2b99",
   "metadata": {},
   "outputs": [],
   "source": [
    "import requests\n",
    "\n",
    "def getDataBasedOnTaxonomy():\n",
    "    global data_from_taxonomy_search\n",
    "    \n",
    "    data_from_taxonomy_search = []\n",
    "    \n",
    "    taxonomy_codes = {\n",
    "        \"cgl\": \"Corynebacterium glutamicum ATCC 13032 (Kyowa Hakko)\",\n",
    "        \"cgb\": \"Corynebacterium glutamicum ATCC 13032 (Bielefeld)\",\n",
    "        \"cgu\": \"Corynebacterium glutamicum K051\",\n",
    "        \"cgt\": \"Corynebacterium glutamicum R\",\n",
    "        \"cgs\": \"Corynebacterium glutamicum SCgG1\",\n",
    "        \"cgg\": \"Corynebacterium glutamicum SCgG2\",\n",
    "        \"cgm\": \"Corynebacterium glutamicum MB001\",\n",
    "        \"cgj\": \"Corynebacterium glutamicum ATCC 21831\",\n",
    "        \"cgq\": \"Corynebacterium glutamicum AR1\",\n",
    "        \"cgx\": \"Corynebacterium glutamicum B253\"}\n",
    "\n",
    "    for taxonomy_code in taxonomy_codes:\n",
    "        search_url = f\"http://rest.kegg.jp/find/genes/{taxonomy_code}\"\n",
    "\n",
    "        try:\n",
    "            print(f\"Getting data for {taxonomy_codes[taxonomy_code]}\")\n",
    "            response = requests.get(search_url)\n",
    "            if response.status_code == 200:\n",
    "                data_from_taxonomy_search.append(response.text.split('\\n'))\n",
    "            else:\n",
    "                print(f\"Error: {response.status_code}\")\n",
    "        except requests.exceptions.RequestException as e:\n",
    "            print(f\"Request Exception: {e}\")\n",
    "      \n",
    "            \n",
    "def getAminoAcidsSequence(gene_id):\n",
    "    response = requests.get(f\"http://rest.kegg.jp/get/{gene_id}\")\n",
    "    \n",
    "    if response.status_code == 200:        \n",
    "        lines = response.text.split('\\n')\n",
    "        amino_acid_sequence = \"\"\n",
    "        is_aa_sequence_section = False\n",
    "\n",
    "        for line in lines:\n",
    "            if line.startswith(\"AASEQ\"):\n",
    "                is_aa_sequence_section = True\n",
    "            elif line.startswith(\"NTSEQ\"):\n",
    "                is_aa_sequence_section = False\n",
    "            elif is_aa_sequence_section and line.strip(): \n",
    "                amino_acid_sequence += line.strip()\n",
    "        return amino_acid_sequence\n",
    "\n",
    "    else:\n",
    "        return f\"Error: {response.status_code}\""
   ]
  },
  {
   "cell_type": "code",
   "execution_count": 11,
   "id": "8190ab3e",
   "metadata": {
    "scrolled": false
   },
   "outputs": [
    {
     "name": "stdout",
     "output_type": "stream",
     "text": [
      "Getting data for Corynebacterium glutamicum ATCC 13032 (Kyowa Hakko)\n",
      "Getting data for Corynebacterium glutamicum ATCC 13032 (Bielefeld)\n",
      "Getting data for Corynebacterium glutamicum K051\n",
      "Getting data for Corynebacterium glutamicum R\n",
      "Getting data for Corynebacterium glutamicum SCgG1\n",
      "Getting data for Corynebacterium glutamicum SCgG2\n",
      "Getting data for Corynebacterium glutamicum MB001\n",
      "Getting data for Corynebacterium glutamicum ATCC 21831\n",
      "Getting data for Corynebacterium glutamicum AR1\n",
      "Getting data for Corynebacterium glutamicum B253\n",
      "Found results: \n",
      "\n",
      "lysC: 2 results\n",
      "ddh: 2 results\n",
      "pck: 3 results\n",
      "pyc: 2 results\n",
      "icd: 2 results\n",
      "fbp: 11 results\n",
      "\n",
      "AA sequence for lysC: cgb:cg0306\n",
      "MALVVQKYGGSSLESAERIRNVAERIVATKKAGNDVVVVCSAMGDTTDELLELAAAVNPVPPAREMDMLLTAGERISNALVAMAIESLGAEAQSFTGSQAGVLTTERHGNARIVDVTPGRVREALDEGKICIVAGFQGVNKETRDVTTLGRGGSDTTAVALAAALNADVCEIYSDVDGVYTADPRIVPNAQKLEKLSFEEMLELAAVGSKILVLRSVEYARAFNVPLRVRSSYSNDPGTLIAGSMEDIPVEEAVLTGVATDKSEAKVTVLGISDKPGEAAKVFRALADAEINIDMVLQNVSSVEDGTTDITFTCPRSDGRRAMEILKKLQVQGNWTNVLYDDQVGKVSLVGAGMKSHPGVTAEFMEALRDVNVNIELISTSEIRISVLIREDDLDAAARALHEQFQLGGEDEAVVYAGTGR\n",
      "\n",
      "AA sequence for lysC: cgf:CGUA_00995\n",
      "MALIVQKYGGSSLESAERIRAVAERIVATKKAGNDVVVVCSAMGDTTDELLDLAQQVNPVPPAREMDMLLTAGERISNALVAMAIESFGAKAQSFTGSQAGVLTTERHGNARIIDVTPGRIRDALDEGNICIVAGFQGVNKTTRDVTTLGRGGSDTTAVALAAALDADVCEIYSDVDGVYTADPRIVPDAQKLEKLSFEEMLELAASGSKILVLRSVEYARAFNVPLRVRSSYSNDTGTLVSGSMEDIPVEEAVLSGVATDKSEAKVTLNGVKDAPGEAAKIFRALADAELNIDMVVQNVSSVVDGTTDITFTVPRADGPRAVELLEKLRDGAEGTAVLYDDQIGKVSLVGAGMKSHPGVTAEFAEALRDANINIEMITTSEIRITAVVREKDLDDATRAIHAKFQLGGDEAATVYAGTGR\n",
      "\n",
      "AA sequence for ddh: cgf:CGUA_11365\n",
      "MAEAKIRAAIVGYGNLGRSAEKLLAQAPDMELVGVFSRRDSLDTDAPVWSTDDFAAKAEAKEFDVALLCLGSATDMPSLAPEYAKHASTVDTYDNHNDVPRHYEAMDAAAKAAGTVAIVSTGWDPGMFSLNRVYAQALLPGGEQRTFWGPGLSQGHSDAVRRVEGVKKGVQYTLPDETALDKARNRQAADLTGYNTHARQVFIVLEEGADAEAIKKEIREMPDYFAPYENVEINVIDEETFDAEHTGMPHGGHVITAGDTGGFNHTIEYVLKLERNPDFTAAVQIAYARAAHRLKEQGQSGAFTVLEVAPYLISPTPLTDLIARDV\n",
      "\n",
      "AA sequence for Obg family GTPase CgtA: ddh:Desde_3708\n",
      "MFYDQAKIYVKGGDGGAGAVAFRREKYVPEGGPSGGDGGRGGKVIFVADEGLRTLVDFRYKRHYKADRGEHGQGKNMHGKSGEDMSVRIPVGTVIKDADTGEILADLIEHGQKVVVANGGRGGRGNARFMSNTNKAPTVAENGEPGEERNLLLELKLLADVGLVGFPNVGKSTIISRISAAKPKIADYHFTTLVPNLGVVELEDGESFVVADIPGLIEGAHTGAGLGHEFLRHTERTRLIFHVLDIAGSEERDPLEDFRIITEELRRYSQELASRPMLIVANKMDIPGAEENLQRLEEKLGEDYRIFPVSAATGEGLKELIYAAAQILPEVPAPQIFVRDEEQHKVTYAEAPHRFELTREGDFFVVSGKEIEKHVQMTMFDREDGLYRFQNILKAIGIERALLDEGIKVGDKVQIAGIEFEWEE\n",
      "\n",
      "AA sequence for pckA: lat:CGUJ_03595\n",
      "MEKFDLEGSSRVYRNLSTSRLYEESIRREKTILTCDGALRALTGQHTGRSAFDKFIVRDSHTENDVFWENNKYISPADFDTLKADMLDYIKDKDLFLQDLVACPHTKNAISVCVVTQYAWHSLFIRNLLKHKEDLGAVPNMMSLQVVVLPDFSADPNRHGCCSETIIAVDLTAGLILIGGTSYAGEIKKSVFTYLNHIFPERGIMPMHCSINMDKEKEDVALFFGLSGTGKTTLSASVDRFLIGDDEHGWSKEGVFNFEGGCYAKSINLSKETEPEIFSASCRFGTVLENVVVDECGIPNFKDSSVTENTRAAYPLNFIHNHAPQSIGKHPKHVIMLAADAFGVLPPVAYLNPEKAVYYFLSGYTAKVAGTEKGVLKPEATFSACFGAPFMPRDPVQYGNILKDYIVKYCVDCWLVNTGWTAGSYGEGYRMPLSVTRALLKAIFDNSIKSVPYRVDENFGFSVPLEVKGVDRKLLNPRDSWNDVEAYDQKMRELLLMFENNAEKKQIKI\n",
      "\n",
      "AA sequence for pckG: cgf:CGUA_12305\n",
      "MTSAANTVRGLVGDAPTSNERLIAWINEAVEMFQPEDVVFCDGSEEEWNRLADEAVEKGTLIRLNEEKRPNSFLARSNPADVARVESRTFICTEDEQDAGPTNNWAPPAAMKEEMTEAFTGAMKGRTMYVVPFCMGPINDPSPKLGVQLTDSPYVVMSMKVMTRMGQDALDKIGTDGDFVPCLHSVGAPLEEGQEDVAWPCNDTKYITHFPETKEIWSYGSGYGGNAILAKKCYALRIASKMAQEEGWMAEHMLLLKLTSPEGKSYNIAGAFPSACGKTNLAMITPTIEGWTAEVVGDDIAWLHLREDGLYAVNPENGFFGVAPGTAYSSNPIAMRTMEQGNTIFTNVALTDDGDVWWEGMDGETPKHLIDWRGRDWTPESSEKAAHPNSRYAVPIGQCPTAAPEFDDWRGVKLDAILFGGRRADTVPLVTEATSWEHGAMIGATLSSGQTAASAEAKVGSLRHDPYAMLPFIGYNVGDYIQNWIDMGNKGGDKLPKIFLVNWFRRGEDGRFLWPGFGENSRVLKWITQRVDGAVGAEETLVGNTARPEDLDLSGLDTPIEDVREALAVKPEEWAASVEDNEEYLEFLGPRVPQEIFEQFNTLKERIEAAVK\n",
      "\n",
      "AA sequence for GTPase CgtA/YhbZ: pck:BMSBPS_0832\n",
      "MKFVDEVKIFVAAGDGGNGCISFRREKYIPKGGPDGGDGGNGGNVYLLADENLNTLIDFCFKKSFQAEHGQNGQSSNCTGKSGKDTILKVPLGTRVIDCNTQEILGDLTYHDQKVIIAKGGWHGLGNTRFKSSLNRTPRQKTIGTPGEKRELQLELILTADVGMLGLPNAGKSTFIRAISAAKPKVANYPFTTLVPSLGMVRMDREKSFVIADIPGLIEDAAAGAGLGIRFLKHLERCRILLHLIDIKPSDGSDPMNNAHIIHGELEKYSYNLSQKPRWLVFNKIDLISDDKINVYTESIVKRLGWTEKYYLISATRQDGIKKLCWDIVNFIINTAEIVI\n",
      "\n",
      "AA sequence for pyc: cgb:cg0791\n",
      "MSTHTSSTLPAFKKILVANRGEIAVRAFRAALETGAATVAIYPREDRGSFHRSFASEAVRIGTEGSPVKAYLDIDEIIGAAKKVKADAIYPGYGFLSENAQLARECAENGITFIGPTPEVLDLTGDKSRAVTAAKKAGLPVLAESTPSKNIDEIVKSAEGQTYPIFVKAVAGGGGRGMRFVASPDELRKLATEASREAEAAFGDGAVYVERAVINPQHIEVQILGDHTGEVVHLYERDCSLQRRHQKVVEIAPAQHLDPELRDRICADAVKFCRSIGYQGAGTVEFLVDEKGNHVFIEMNPRIQVEHTVTEEVTEVDLVKAQMRLAAGATLKELGLTQDKIKTHGAALQCRITTEDPNNGFRPDTGTITAYRSPGGAGVRLDGAAQLGGEITAHFDSMLVKMTCRGSDFETAVARAQRALAEFTVSGVATNIGFLRALLREEDFTSKRIATGFIADHPHLLQAPPADDEQGRILDYLADVTVNKPHGVRPKDVAAPIDKLPNIKDLPLPRGSRDRLKQLGPAAFARDLREQDALAVTDTTFRDAHQSLLATRVRSFALKPAAEAVAKLTPELLSVEAWGGATYDVAMRFLFEDPWDRLDELREAMPNVNIQMLLRGRNTVGYTPYPDSVCRAFVKEAASSGVDIFRIFDALNDVSQMRPAIDAVLETNTAVAEVAMAYSGDLSDPNEKLYTLDYYLKMAEEIVKSGAHILAIKDMAGLLRPAAVTKLVTALRREFDLPVHVHTHDTAGGQLATYFAAAQAGADAVDGASAPLSGTTSQPSLSAIVAAFAHTRRDTGLSLEAVSDLEPYWEAVRGLYLPFESGTPGPTGRVYRHEIPGGQLSNLRAQATALGLADRFELIEDNYAAVNEMLGRPTKVTPSSKVVGDLALHLVGAGVDPADFAADPQKYDIPDSVIAFLRGELGNPPGGWPEPLRTRALEGRSEGKAPLTEVPEEEQAHLDADDSKERRNSLNRLLFPKPTEEFLEHRRRFGNTSALDDREFFYGLVEGRETLIRLPDVRTPLLVRLDAISEPDDKGMRNVVANVNGQIRPMRVRDRSVESVTATAEKADSSNKGHVAAPFAGVVTVTVAEGDEVKAGDAVAIIEAMKMEATITASVDGKIDRVVVPAATKVEGGDLIVVVS\n",
      "\n",
      "AA sequence for GTPase CgtA: hpyc:HPOKI112_01805\n",
      "MFVDSVEIIIASGKGGPGMVSFRREKFVIKGGPDGGDGGDGGDVYFEVDNNTDTLASFRGTKHHKAKNGAPGGTRNCTGKKGEDKIIVVPPGTQVFVDDKLWLDLVEPKERVLALKGGKGGLGNAHFKSATKQQPTYAQKGLEGVEKCVRLELKLIADIGLVGFPNAGKSTLISTISNAKPKIANYEFTTLVPNLGVVRVDEKSEFLMADIPGIIEGASQGKGLGISFLKHIERTKVLAFVLDASRLDLGIKEQYQRLRLELEKFSPALANKPFGVLLNKCDVVENIDKMAKDFCTFLNLEAQKLEAFDLEPYLGFLHPNLTNDFEKHPNEKSALFVLPLSAVSALNTHALKFVLLEALP\n",
      "\n",
      "AA sequence for icd: cgb:cg0766\n",
      "MAKIIWTRTDEAPLLATYSLKPVVEAFAATAGIEVETRDISLAGRILAQFPERLTEDQKVGNALAELGELAKTPEANIIKLPNISASVPQLKAAIKELQDQGYDIPELPDNATTDEEKDILARYNAVKGSAVNPVLREGNSDRRAPIAVKNFVKKFPHRMGEWSADSKTNVATMDANDFRHNEKSIILDAADEVQIKHIAADGTETILKDSLKLLEGEVLDGTVLSAKALDAFLLEQVARAKAEGILFSAHLKATMMKVSDPIIFGHVVRAYFADVFAQYGEQLLAAGLNGENGLAAILSGLESLDNGEEIKAAFEKGLEDGPDLAMVNSARGITNLHVPSDVIVDASMPAMIRTSGHMWNKDDQEQDTLAIIPDSSYAGVYQTVIEDCRKNGAFDPTTMGTVPNVGLMAQKAEEYGSHDKTFRIEADGVVQVVSSNGDVLIEHDVEANDIWRACQVKDAPIQDWVKLAVTRSRLSGMPAVFWLDPERAHDRNLASLVEKYLADHDTEGLDIQILSPVEATQLSIDRIRRGEDTISVTGNVLRDYNTDLFPILELGTSAKMLSVVPLMAGGGLFETGAGGSAPKHVQQVQEENHLRWDSLGEFLALAESFRHELNNNGNTKAGVLADALDKATEKLLNEEKSPSRKVGEIDNRGSHFWLTKFWADELAAQTEDADLAATFAPVAEALNTGAADIDAALLAVQGGATDLGGYYSPNEEKLTNIMRPVAQFNEIVDALKK\n",
      "\n",
      "AA sequence for icd: cgf:CGUA_03005\n",
      "MSTIIWTRTDEAPLLATYSFKPVVEAFASVAGINVETRDISLAARILAQFGHHDDALAELGELAKTPQANIIKLPNISASQVQLKAAIKELQAKGYDLPEYEDAKDKYAACIGSNVNPVLREGNSDRRAPQAVKNFAKKNPHSMGEWSADSKTNVATMDANDFRHNEKSVVLPAADNLSIVLVKADGSEDVLKSDLKVLEGEVIDGTFISAKALDEFLLAQVKRAKEEGILFSAHMKATMMKVSDPIIFGHIVRAFFADVFAEYGEQLQAAGLNGENGLGAIYEGLDSLDNGAEIRAAFDKAMAEGPALAQVNSAKGITNLHVPSDVIIDASMPAMIRAGGKMWNKDDQTQDTLAVIPDSSYAGVFQVVIDDCRANGAFDPTTMGTVPNVGLMAQKAEEYGSHDKTFKIAADGKVQVRNAAGDVLIEHDVEAGDIWRACQTKDAPIQDWVKLAVNRARLSGMKTIFWLDPERGHDAQLITLVEKYLKDHDTEGLDISILSPVEATKITVERMRAGEDTIGVTGNVLRDYNTDLFPILELGTSAKMLSVVPLMAGGGLFETGAGGSAPKHVQQLVEENHLRWDSLGEFLALAESFRHEKNTNGNEKAGVLADALDAATEKLLDEGKSPSRKVGENDNRGSHFFLATYWAEALAAQTEDSELAGKFTEIAKELADNAEEINQALLDVQGTEVDLGGYYAPNDEKTAAVMRPVEKFNDILAALK\n",
      "\n",
      "AA sequence for fbpA1: cgf:CGUA_01390\n",
      "MKLLRKLAAPAAIAIALGAGMSGVAAPVAGAADVTPAQVAGDVAQSTISEFTQPSDRTWVKIADQNADRVLKLKAYSPSMGRDIPLAVIPATDPQGRRVADAPTIYLLNGAGGAEQNNDWFTLNPSTADHEGTIDFYSGKGVNVVIPMAGAFSYYMDWLGTPNSGYLTGPQKWETFLTKELPGPIENYLDAGNQRGIIGFSMSATSALLFAAHNTGFYDAAGAFSGCYSTSTPITYGFTGLTLDRGGSNPQTMLGPLGGSHNLYNDALVNAAGLRGTEMYISNGSGLAGETDMAGYYTARGVDPAIASANAAVLQFEGGIIEAASNGCTHDMKAKLDSLGIPADWNFRNTGTHSWPSWRDDLQLSWPTFERAFFG\n",
      "\n",
      "AA sequence for fbpA2: cgf:CGUA_05650\n",
      "MNRLPTRAGAVLTAVTVASLGVSGAMAVPVPAPVVEIRQQAEQQLQAAIRSGEAALGLDGVDPADPRTWPVELIAAGVGVTALAAILLVHSSSTAHAGAAEDETPVETPPESAETSSEEQLDAELADFVVGSSRTVFNQPEVLGSSLNGLGALGSSDFAIPEDGYDIAANGPQNYSDTITEAKVIRKEEQDIRDLTAGAEGIQRWWVASPAMGRNVEIQIRPAADTSTEAPVLYLLDGVNAPSRSGWVSYGAHRIIQDNVTLVMPTVARASFYLDWEEDDEVLGRNQWETFLTRELPPLLESDPDLNTNGRYGVGGLSMGATGAVTLANANPELFDATFGISGCYSAESEVGYQTMRLTIESRGGDLNNLLGPLGSDTRERYDVVGDPEGLRDQAVYLSASAGEFPEGAEAGNFPVAALGVLLEQGAYLCTQDLERAMEAEGMTHQQVVYQREGVHNWDTFQAQLAPAWEHIRGALM\n",
      "\n",
      "AA sequence for fbpA3: cgf:CGUA_05655\n",
      "MNTRTTVRYAAALVVAAVAAAPFPATAQQSADDFGRSALATSSQSSWPTVGSVDAALSSADLLGSASLPTPPRTGSSLPAPVGESPVTESRIVSITDDRLPRLERWTIASPAMGRHVDVQILRPAETTEPAPMLYLLDGVDAPRDSGWLHEGHVDELFAEENVTLVMPTGAYASMYADWYADDPVLGRNQWETFLTEELPPLLEDPASGLNFNGRRAIGGLSMGASGAVAIANANPGVFAGVIGISGCYSTTSTAGRIMVGSIVENAGASVYNLYGPPGAPGWDRHNVVKDPRGLASTAVYLSAAEGVVTPEEEEYFGDRTSSALANGIVLEWGSLSCTVDLDQAMRARGMTHQQVDLLPAGVHNWPNFSGALLPGWDHIRPALY\n",
      "\n",
      "AA sequence for fbpA4: cgf:CGUA_05670\n"
     ]
    },
    {
     "name": "stdout",
     "output_type": "stream",
     "text": [
      "MSPTPRRLAATAAALAVLANAFPAAAQSSSPLHDAVALSSQTSASSTGSAVGSAASAVDAVGSARSSVPGAWVMPGSGKYPLPTDEGIVVPEVLAIEPDVGINVQKWSVASPAMKRVVQVQVRPAPEGAGAAPMLYLLDGVEATHPSDWIMLGHVDTKLRDDSVTLVMPTEARASMWADWYADDEVGGRHQWETFLTEELPPLLEDPAHGLDFNGKRGIGGISMGATGALAIANRNPDLFDAVFGISGCYSTTESLAAISNYLTVETRKNDFDNLYGPPGDWRWRHYDTEADPTGLADMTVYLSSARGVTQASSADHADADLINYVTGTVIEQATLVCTENLDAAMRTRGMAHQRVDYVEDGLHNWRNFHRFIEPAWEHIAPALEASP\n",
      "\n",
      "AA sequence for fbpA5: cgf:CGUA_09355\n",
      "MSRFTHRSLPSVLALGASAFLLAACAEPAEDNAASTSGSAAEGETVTLTVYTSEPEAKVDEINRAFMEANPDIEVEVYRAGTGDLNARIATEKETGTIGADVLWAADAPTFEGYAESGDLAELQDVNTDGIIDEAVDEEGYYVGTRIIPTVIAYNTDVMEQDQLPASWADLTDPKYRDQIVMPDPAVSGAAAFNASAWKNNEDLGEEWIIALGENNPMIAASNGPTSQEIAGGGHPLGVVVDYLVRDLAAEGSPIEVIYPTDGVPYITEPAGVFADSENQEAAERYINFLLSKEGQELAVEQNYLPVREDVGTPAGTPALADTALMEMDLDTIIADQANAVEVFQKAMQ\n",
      "\n",
      "AA sequence for fbpA6: cgf:CGUA_10100\n",
      "MRRSLTTVIATAVLAAAVTPAAAAQSSDPGLEAVALSSQQTEAVDAALFATLDAAETLDLTQPRFPSQLTSSDPSAPAPAAQPITEAAIVDKQVEDAAARLERWTVASPSMGRDVEIQIIRAVDPAAPAPHVYLLGGAESPRVSHWVSEGWAPEVFAHEQATVIMPTQAYASFYSDWRADDPVLGRSRWETFLADELAPLLAAEPELNFNGGRALGGLSMGAIGAVHLANSRPDVYDAVIGISGCYSTMDTPGQLNTHVQVGLRGGDVANMWGPVGSEDWWRHDVVANPEGLRTMAVYLYAGNGVLGQRDRNYYAGTALHEAVAGSLQERGSMHCTLALDESMRAHGMTHQKVVIDSTGAHNWNVFGSQLRPAWEHVRPALY\n",
      "\n",
      "AA sequence for fbpC: cgf:CGUA_11260\n",
      "MSTTRVLAVTLAAVLLAWPSAGAQASTSGDGSALSGEPSATGPSSTGLSSVDTAVTVSSGSSLSSNVALSSVPALVGAILAEGALGSSLFGVPGRGPSSSGPQDVSATFPPELGPAGSGAELRSVEHVTGDLHRFEVYSPSMDRIVRNEILLPGGAANTAARPTFYLLMGADGAHSGWTWARTTDYESFFADRQVNVVTPIGSVSSMQTNWYDADPVLGDNQWGTYLVNELPEIVDTHFHGSGRDAVGGVSMSGGPAFDLAAIAPDRFVAAASYSGCPATEGLFGSSFTRAAVTMNGGTPDNMWGSAFDPAWAAHNPAANLDRLAGTALFVSAAHGIPGEIDNQPSSRPLNPIETASYVCSDWFVDHARSFGHEVDWYPLAEGAHSWGLFEHQMRTSWRTIGPALGVE\n",
      "\n",
      "AA sequence for fbpA7: cgf:CGUA_12390\n",
      "MRDTASSSRSPKNVPNLRRRGAALIALPAALLMGVTTVPAVSAQSSLGSSFSDGFAPGEPPVRTPVNTTYPDVQGLPAGVSVERVDWLESRHVRVYIESAAMPDKLQKVDILLARDWHANPEKTYPEVWALDGLRARDDESGWTIETNIKQQYADRNVNVILPIGGQSSFYSDWQQPDQGTHYMWETFLTQELVPILDNEFRSNGRRAVVGLSMGGTAAMNLAQRHPYLFDFVGSFSGYLDTTTTGMPEAIAAAQMDAGGFTSTKMWGPAYSQDWIDHDPKLGIEALKDTSVYVSSGSGQDDYGLEDSVAEHPSNLAGVGLEIIARMSTQTFVDYAKRADVPVTARFRPSGTHNWAYWQFELNEAWPQMANALQISAEDRGADCVVGGAIAQATMSGIIGSCVNNEYPVGEEGEGRAQDFRNGTAFWSPDTGAHALYGRILAKYSQLGGATSWLGFPVTGERVTPDGRGRYVHFENGSIYWTAANGAYAIPKDMFTYWGTQGWENSKIGFPVAEGVEIDGGLVQKFENGWLTRSADGKNAVVHGAIGAKYGEIGTADSDLGYPTSDEIPLQGGAFQRFENGNIYWSPATGAHVVLYGAIFDHWGAANWERGEFGYPTTDTTRIPAGGLTQDFQGGTIRELSGVVTDSRN\n",
      "\n",
      "AA sequence for fbpB: cgf:CGUA_12395\n",
      "MMSATAGLRRIHTTILALIVAVATAVGLMVAGPGAVTADAEPRGWLRPDATGACEWDAHGWWVQRCDVWSPSMGRNIAVQIQPAARGGNAGYYLLDGLRATNHTNAWINDVNAAATFNNSNITLVMPIGGAGSFYADWNGPATYDLDNPVNYQWESFLTNELPAYLQQHFGVAWNNNAIAGLSMGGTAALNLAARYPDQFRQALSFSGYLTTTAPGAQTLLRMALWDAGGFNLNAMYGSMVSPRRFENDPFYNMDGLRGADNVYVSAGSGIPAREDAGILPQHVASAMFLEAVANLSTKAWSAKAVASGINVQQDYPSTGIHNWNQFGWQLNKTRPLVLDTMNAW\n",
      "\n",
      "AA sequence for Ferric transport system permease protein fbpB: hiq:CGSHiGG_03230\n",
      "MNAKKLSIMHSAYFWIILSLLAFALLPSNALDYGLFESTSDEYLEAMGWASFNLTWAWFLPVIVYGALPLLRLPQQTQAKTELFLTALSVLFMFISATVCKISMGYSVIVLLVGYTALATLSLAKLKVMQGDKFIIASLLCIILLIFFFIVYPTLAIFVSMFYDGDTFAPQQVMRILTQSYIVRVITNSLFLSGFVGIVSTVFGLAFALYTTRIARRTAFIGKIFSILPIVTPPFVVGLGVTLMLGRSGYVTEFLSEYFGFSSHNWLYGFNGIAIAQILAFAPISFMILDGALKSVHPSIEEASYTLRANRYQTFYQIIFPLLRPALANSFLIVFIQSLADFSNPLVLGGSFDVIATQIYFYIAGSQLDYASASTLGSMLLIFSLAIFIIQYIWIGNRSYVTVSGKSYRGDVQELPNGLKYTIIGMLGFWVIFNMALYGSIFYGSFTVNWGVNYTLTLKNYAMLFGQGLSDGAWPSLINTLIYAGIAAPLTAFFGLLIAYIVVRKDFQGKKSLEFLTMLCFAVPGTVAGVSYILAFNNAPLYITGTGIIVIISMVMRDLPIGMRAAIAGLGQLDKSLDEASLSLKGSSWKTLCFIVLPLLKPALLSALVTSFVRAMTTVSAIIFLVTADTRVATAYILNRVEDGEYGIAIAYGSILIVVMMAIILFFDWIVGDTRISRSKAKKMN\n",
      "\n",
      "AA sequence for fbpC: hiq:CGSHiGG_03235\n",
      "MKFNKISLSVSTALLAAGLAVSGSANAKGRLVVYCSATNILCETTTKAFGEKYDVKTSFIRNGSGSTFAKVEAEKNNPQADVWFGGTFDPQAQAAELGLIEPYKSKHIDEIVERFREPAKTKGHYVSSIYMGILGFGVNTERLAKLGIKEVPKCWKDLTDPRLKGEVQIADPQSAGTAYTALATFVQLWDEKEAFDFLKALHPNVSQYTKSGITPSRNSARGEATIGVGFLHDYALEKRNGAPLELVVPCEGTGYELGGVSILKGARNIDNAKLFVDWALSKEGQELAWKQGDSLQILTNTTAEQSPTAFDPNKLKLINYDFEKYGATEQRKALIEKWVQEVKLAK\n",
      "Searching lysC -> cgb:cg0306: \n",
      "\n",
      "1 match(es) were found:\n",
      "('WP_003855724', 'Similarity: 100.0%', [None, 'aspartate kinase', 'Corynebacterium glutamicum', 'MALVVQKYGGSSLESAERIRNVAERIVATKKAGNDVVVVCSAMGDTTDELLELAAAVNPVPPAREMDMLLTAGERISNALVAMAIESLGAEAQSFTGSQAGVLTTERHGNARIVDVTPGRVREALDEGKICIVAGFQGVNKETRDVTTLGRGGSDTTAVALAAALNADVCEIYSDVDGVYTADPRIVPNAQKLEKLSFEEMLELAAVGSKILVLRSVEYARAFNVPLRVRSSYSNDPGTLIAGSMEDIPVEEAVLTGVATDKSEAKVTVLGISDKPGEAAKVFRALADAEINIDMVLQNVSSVEDGTTDITFTCPRSDGRRAMEILKKLQVQGNWTNVLYDDQVGKVSLVGAGMKSHPGVTAEFMEALRDVNVNIELISTSEIRISVLIREDDLDAAARALHEQFQLGGEDEAVVYAGTGR'])\n",
      "Searching lysC -> cgf:CGUA_00995: \n",
      "\n",
      "1 match(es) were found:\n",
      "('WP_003855724', 'Similarity: 76.52%', [None, 'aspartate kinase', 'Corynebacterium glutamicum', 'MALVVQKYGGSSLESAERIRNVAERIVATKKAGNDVVVVCSAMGDTTDELLELAAAVNPVPPAREMDMLLTAGERISNALVAMAIESLGAEAQSFTGSQAGVLTTERHGNARIVDVTPGRVREALDEGKICIVAGFQGVNKETRDVTTLGRGGSDTTAVALAAALNADVCEIYSDVDGVYTADPRIVPNAQKLEKLSFEEMLELAAVGSKILVLRSVEYARAFNVPLRVRSSYSNDPGTLIAGSMEDIPVEEAVLTGVATDKSEAKVTVLGISDKPGEAAKVFRALADAEINIDMVLQNVSSVEDGTTDITFTCPRSDGRRAMEILKKLQVQGNWTNVLYDDQVGKVSLVGAGMKSHPGVTAEFMEALRDVNVNIELISTSEIRISVLIREDDLDAAARALHEQFQLGGEDEAVVYAGTGR'])\n",
      "Searching ddh -> cgf:CGUA_11365: \n",
      "\n",
      "0 match(es) were found:\n",
      "Searching ddh -> ddh:Desde_3708: \n",
      "\n",
      "0 match(es) were found:\n",
      "Searching pck -> lat:CGUJ_03595: \n",
      "\n",
      "0 match(es) were found:\n",
      "Searching pck -> cgf:CGUA_12305: \n",
      "\n",
      "1 match(es) were found:\n",
      "('WP_011015446', 'Similarity: 66.49%', [None, 'phosphoenolpyruvate carboxykinase (GTP)', 'Corynebacterium glutamicum', 'MTTAAIRGLQGEAPTKNKELLNWIADAVELFQPEAVVFVDGSQAEWDRMAEDLVEAGTLIKLNEEKRPNSYLARSNPSDVARVESRTFICSEKEEDAGPTNNWAPPQAMKDEMSKHYAGSMKGRTMYVVPFCMGPISDPDPKLGVQLTDSEYVVMSMRIMTRMGIEALDKIGANGSFVRCLHSVGAPLEPGQEDVAWPCNDTKYITQFPETKEIWSYGSGYGGNAILAKKCYALRIASVMAREEGWMAEHMLILKLINPEGKAYHIAAAFPSACGKTNLAMITPTIPGWTAQVVGDDIAWLKLREDGLYAVNPENGFFGVAPGTNYASNPIAMKTMEPGNTLFTNVALTDDGDIWWEGMDGDAPAHLIDWMGNDWTPESDENAAHPNSRYCVAIDQSPAAAPEFNDWEGVKIDAILFGGRRADTVPLVTQTYDWEHGTMVGALLASGQTAASAEAKVGTLRHDPMAMLPFIGYNAGEYLQNWIDMGNKGGDKMPSIFLVNWFRRGEDGRFLWPGFGDNSRVLKWVIDRIEGHVGADETVVGHTAKAEDLDLDGLDTPIEDVKEALTAPAEQWANDVEDNAEYLTFLGPRVPAEVHSQFDALKARISAAHA'])\n",
      "Searching pck -> pck:BMSBPS_0832: \n",
      "\n",
      "0 match(es) were found:\n",
      "Searching pyc -> cgb:cg0791: \n",
      "\n",
      "1 match(es) were found:\n",
      "('WP_011013816', 'Similarity: 100.0%', [None, 'pyruvate carboxylase', 'Corynebacterium glutamicum', 'MSTHTSSTLPAFKKILVANRGEIAVRAFRAALETGAATVAIYPREDRGSFHRSFASEAVRIGTEGSPVKAYLDIDEIIGAAKKVKADAIYPGYGFLSENAQLARECAENGITFIGPTPEVLDLTGDKSRAVTAAKKAGLPVLAESTPSKNIDEIVKSAEGQTYPIFVKAVAGGGGRGMRFVASPDELRKLATEASREAEAAFGDGAVYVERAVINPQHIEVQILGDHTGEVVHLYERDCSLQRRHQKVVEIAPAQHLDPELRDRICADAVKFCRSIGYQGAGTVEFLVDEKGNHVFIEMNPRIQVEHTVTEEVTEVDLVKAQMRLAAGATLKELGLTQDKIKTHGAALQCRITTEDPNNGFRPDTGTITAYRSPGGAGVRLDGAAQLGGEITAHFDSMLVKMTCRGSDFETAVARAQRALAEFTVSGVATNIGFLRALLREEDFTSKRIATGFIADHPHLLQAPPADDEQGRILDYLADVTVNKPHGVRPKDVAAPIDKLPNIKDLPLPRGSRDRLKQLGPAAFARDLREQDALAVTDTTFRDAHQSLLATRVRSFALKPAAEAVAKLTPELLSVEAWGGATYDVAMRFLFEDPWDRLDELREAMPNVNIQMLLRGRNTVGYTPYPDSVCRAFVKEAASSGVDIFRIFDALNDVSQMRPAIDAVLETNTAVAEVAMAYSGDLSDPNEKLYTLDYYLKMAEEIVKSGAHILAIKDMAGLLRPAAVTKLVTALRREFDLPVHVHTHDTAGGQLATYFAAAQAGADAVDGASAPLSGTTSQPSLSAIVAAFAHTRRDTGLSLEAVSDLEPYWEAVRGLYLPFESGTPGPTGRVYRHEIPGGQLSNLRAQATALGLADRFELIEDNYAAVNEMLGRPTKVTPSSKVVGDLALHLVGAGVDPADFAADPQKYDIPDSVIAFLRGELGNPPGGWPEPLRTRALEGRSEGKAPLTEVPEEEQAHLDADDSKERRNSLNRLLFPKPTEEFLEHRRRFGNTSALDDREFFYGLVEGRETLIRLPDVRTPLLVRLDAISEPDDKGMRNVVANVNGQIRPMRVRDRSVESVTATAEKADSSNKGHVAAPFAGVVTVTVAEGDEVKAGDAVAIIEAMKMEATITASVDGKIDRVVVPAATKVEGGDLIVVVS'])\n",
      "Searching pyc -> hpyc:HPOKI112_01805: \n",
      "\n",
      "0 match(es) were found:\n",
      "Searching icd -> cgb:cg0766: \n",
      "\n",
      "1 match(es) were found:\n",
      "('WP_011013800', 'Similarity: 100.0%', [None, 'NADP-dependent isocitrate dehydrogenase', 'Corynebacterium glutamicum', 'MAKIIWTRTDEAPLLATYSLKPVVEAFAATAGIEVETRDISLAGRILAQFPERLTEDQKVGNALAELGELAKTPEANIIKLPNISASVPQLKAAIKELQDQGYDIPELPDNATTDEEKDILARYNAVKGSAVNPVLREGNSDRRAPIAVKNFVKKFPHRMGEWSADSKTNVATMDANDFRHNEKSIILDAADEVQIKHIAADGTETILKDSLKLLEGEVLDGTVLSAKALDAFLLEQVARAKAEGILFSAHLKATMMKVSDPIIFGHVVRAYFADVFAQYGEQLLAAGLNGENGLAAILSGLESLDNGEEIKAAFEKGLEDGPDLAMVNSARGITNLHVPSDVIVDASMPAMIRTSGHMWNKDDQEQDTLAIIPDSSYAGVYQTVIEDCRKNGAFDPTTMGTVPNVGLMAQKAEEYGSHDKTFRIEADGVVQVVSSNGDVLIEHDVEANDIWRACQVKDAPIQDWVKLAVTRSRLSGMPAVFWLDPERAHDRNLASLVEKYLADHDTEGLDIQILSPVEATQLSIDRIRRGEDTISVTGNVLRDYNTDLFPILELGTSAKMLSVVPLMAGGGLFETGAGGSAPKHVQQVQEENHLRWDSLGEFLALAESFRHELNNNGNTKAGVLADALDKATEKLLNEEKSPSRKVGEIDNRGSHFWLTKFWADELAAQTEDADLAATFAPVAEALNTGAADIDAALLAVQGGATDLGGYYSPNEEKLTNIMRPVAQFNEIVDALKK'])\n",
      "Searching icd -> cgf:CGUA_03005: \n",
      "\n"
     ]
    },
    {
     "name": "stdout",
     "output_type": "stream",
     "text": [
      "1 match(es) were found:\n",
      "('WP_011013800', 'Similarity: 65.8%', [None, 'NADP-dependent isocitrate dehydrogenase', 'Corynebacterium glutamicum', 'MAKIIWTRTDEAPLLATYSLKPVVEAFAATAGIEVETRDISLAGRILAQFPERLTEDQKVGNALAELGELAKTPEANIIKLPNISASVPQLKAAIKELQDQGYDIPELPDNATTDEEKDILARYNAVKGSAVNPVLREGNSDRRAPIAVKNFVKKFPHRMGEWSADSKTNVATMDANDFRHNEKSIILDAADEVQIKHIAADGTETILKDSLKLLEGEVLDGTVLSAKALDAFLLEQVARAKAEGILFSAHLKATMMKVSDPIIFGHVVRAYFADVFAQYGEQLLAAGLNGENGLAAILSGLESLDNGEEIKAAFEKGLEDGPDLAMVNSARGITNLHVPSDVIVDASMPAMIRTSGHMWNKDDQEQDTLAIIPDSSYAGVYQTVIEDCRKNGAFDPTTMGTVPNVGLMAQKAEEYGSHDKTFRIEADGVVQVVSSNGDVLIEHDVEANDIWRACQVKDAPIQDWVKLAVTRSRLSGMPAVFWLDPERAHDRNLASLVEKYLADHDTEGLDIQILSPVEATQLSIDRIRRGEDTISVTGNVLRDYNTDLFPILELGTSAKMLSVVPLMAGGGLFETGAGGSAPKHVQQVQEENHLRWDSLGEFLALAESFRHELNNNGNTKAGVLADALDKATEKLLNEEKSPSRKVGEIDNRGSHFWLTKFWADELAAQTEDADLAATFAPVAEALNTGAADIDAALLAVQGGATDLGGYYSPNEEKLTNIMRPVAQFNEIVDALKK'])\n",
      "Searching fbp -> cgf:CGUA_01390: \n",
      "\n",
      "0 match(es) were found:\n",
      "Searching fbp -> cgf:CGUA_05650: \n",
      "\n",
      "0 match(es) were found:\n",
      "Searching fbp -> cgf:CGUA_05655: \n",
      "\n",
      "0 match(es) were found:\n",
      "Searching fbp -> cgf:CGUA_05670: \n",
      "\n",
      "0 match(es) were found:\n",
      "Searching fbp -> cgf:CGUA_09355: \n",
      "\n",
      "0 match(es) were found:\n",
      "Searching fbp -> cgf:CGUA_10100: \n",
      "\n",
      "0 match(es) were found:\n",
      "Searching fbp -> cgf:CGUA_11260: \n",
      "\n",
      "0 match(es) were found:\n",
      "Searching fbp -> cgf:CGUA_12390: \n",
      "\n",
      "0 match(es) were found:\n",
      "Searching fbp -> cgf:CGUA_12395: \n",
      "\n",
      "0 match(es) were found:\n",
      "Searching fbp -> hiq:CGSHiGG_03230: \n",
      "\n",
      "0 match(es) were found:\n",
      "Searching fbp -> hiq:CGSHiGG_03235: \n",
      "\n",
      "0 match(es) were found:\n"
     ]
    }
   ],
   "source": [
    "getDataBasedOnTaxonomy()\n",
    "\n",
    "print('Found results: \\n')\n",
    "\n",
    "found_results = {}\n",
    "\n",
    "for gene_name_to_search in [\"lysC\", \"ddh\", \"pck\", \"pyc\", \"icd\", \"fbp\", 'hom;']:\n",
    "    for data in data_from_taxonomy_search:\n",
    "        for entry in data:\n",
    "            if gene_name_to_search in entry:\n",
    "                if gene_name_to_search not in found_results:\n",
    "                    found_results[gene_name_to_search] = [entry]\n",
    "                else:\n",
    "                    found_results[gene_name_to_search].append(entry)\n",
    "                            \n",
    "    print(f\"{gene_name_to_search}: {len(found_results[gene_name_to_search])} results\")\n",
    "\n",
    "aa_sequence_results = {}\n",
    "\n",
    "for gene_name, entries in list(found_results.items()):\n",
    "    for entry in entries:\n",
    "        gene_id_kegg = entry.split(\"; \")[0].split(\"\\t\")[0]\n",
    "        gene_name_kegg = entry.split(\"; \")[0].split(\"\\t\")[1]\n",
    "        try:\n",
    "            gene_description_kegg = entry.split(\"; \")[1]\n",
    "        except:\n",
    "            pass\n",
    "        \n",
    "        print(f\"\\nAA sequence for {gene_name_kegg}: {gene_id_kegg}\")\n",
    "        aa_seq = getAminoAcidsSequence(gene_id_kegg)\n",
    "        \n",
    "        print(aa_seq)\n",
    "        \n",
    "        if gene_name not in aa_sequence_results:\n",
    "            aa_sequence_results[gene_name] = [{\"kegg_id\": gene_id_kegg, \"aa_seq\": aa_seq}]\n",
    "        else:\n",
    "            aa_sequence_results[gene_name].append({\"kegg_id\": gene_id_kegg, \"aa_seq\": aa_seq})\n",
    "\n",
    "for gene_id, data in list(aa_sequence_results.items()):    \n",
    "    for element in data:\n",
    "        print(f'Searching {gene_id} -> {element[\"kegg_id\"]}: \\n')\n",
    "        for match in searchGene(seq= element[\"aa_seq\"], similarity_threshold=0.65):\n",
    "            print(match)"
   ]
  },
  {
   "cell_type": "markdown",
   "id": "427bdba7",
   "metadata": {},
   "source": [
    "## 3. Manual search of \"fbp\": "
   ]
  },
  {
   "cell_type": "code",
   "execution_count": 12,
   "id": "2f0da803",
   "metadata": {},
   "outputs": [
    {
     "name": "stdout",
     "output_type": "stream",
     "text": [
      "Metabolite ID for D-Fructose 1-phosphate is: f1p_c\n",
      "The reactions involving D-Fructose 1-phosphate  are:\n",
      "\t- FRUptspp -> fru_p + pep_c --> f1p_c + pyr_c\n",
      "\t- FRUK -> atp_c + f1p_c --> adp_c + fdp_c + h_c\n",
      "\t- FRUpts -> fru_e + pep_c --> f1p_c + pyr_c\n"
     ]
    }
   ],
   "source": [
    "for metabolite in model.metabolites.query(\"D-Fructose 1-phosphate\", \"name\"):\n",
    "    print(f\"Metabolite ID for D-Fructose 1-phosphate is: {metabolite}\")\n",
    "    print(\"The reactions involving D-Fructose 1-phosphate  are:\")\n",
    "    for reaction in model.metabolites.f1p_c.reactions:\n",
    "        print(f\"\\t- {reaction.id} -> {reaction.reaction}\")"
   ]
  },
  {
   "cell_type": "code",
   "execution_count": 13,
   "id": "6d13c5e4",
   "metadata": {},
   "outputs": [
    {
     "data": {
      "text/html": [
       "\n",
       "        <table>\n",
       "            <tr>\n",
       "                <td><strong>Reaction identifier</strong></td><td>FRUK</td>\n",
       "            </tr><tr>\n",
       "                <td><strong>Name</strong></td><td>Fructose-1-phosphate kinase</td>\n",
       "            </tr><tr>\n",
       "                <td><strong>Memory address</strong></td>\n",
       "                <td>0x16c2bb28a30</td>\n",
       "            </tr><tr>\n",
       "                <td><strong>Stoichiometry</strong></td>\n",
       "                <td>\n",
       "                    <p style='text-align:right'>atp_c + f1p_c --> adp_c + fdp_c + h_c</p>\n",
       "                    <p style='text-align:right'>ATP + D-Fructose 1-phosphate --> ADP + D-Fructose 1,6-bisphosphate + H+</p>\n",
       "                </td>\n",
       "            </tr><tr>\n",
       "                <td><strong>GPR</strong></td><td>lcl_NC_006958_1_prot_WP_011014765_1_1834</td>\n",
       "            </tr><tr>\n",
       "                <td><strong>Lower bound</strong></td><td>0.0</td>\n",
       "            </tr><tr>\n",
       "                <td><strong>Upper bound</strong></td><td>1000.0</td>\n",
       "            </tr>\n",
       "        </table>\n",
       "        "
      ],
      "text/plain": [
       "<Reaction FRUK at 0x16c2bb28a30>"
      ]
     },
     "execution_count": 13,
     "metadata": {},
     "output_type": "execute_result"
    }
   ],
   "source": [
    "model.reactions.FRUK "
   ]
  },
  {
   "cell_type": "markdown",
   "id": "74c2da4b",
   "metadata": {},
   "source": [
    "# Summary:\n",
    "\n",
    "**Found through direct search:**\n",
    "\n",
    "- dapB = 'WP_011014794'\n",
    "- lysA = 'WP_011014180'\n",
    "- tkt = 'WP_011014456'\n",
    "\n",
    "**Found through AA sequence homology search:**\n",
    "\n",
    "- lysC = 'WP_003855724', 'Similarity: 100.0%'\n",
    "- ddh  = 'WP_011015446', 'Similarity: 66.49%'\n",
    "- pck  = 'WP_011013816', 'Similarity: 100.0%'\n",
    "- pyc  = 'WP_011013816', 'Similarity: 100.0%'\n",
    "- icd  = 'WP_011013800', 'Similarity: 100.0%'\n",
    "- hom  = 'WP_003854900', 'Similarity: 100.0%'\n",
    "\n",
    "**Found through manual search:**\n",
    "\n",
    "- fbp  = 'WP_011014765'\n"
   ]
  },
  {
   "cell_type": "code",
   "execution_count": 126,
   "id": "37df8915",
   "metadata": {},
   "outputs": [],
   "source": [
    "genes = {\n",
    "    'dapB':'WP_011014794',\n",
    "    'lysA': 'WP_011014180',\n",
    "    'tkt': 'WP_011014456',\n",
    "    'lysC': 'WP_003855724',\n",
    "    'ddh' : 'WP_011015446',\n",
    "    'pck': 'WP_011013816',\n",
    "    'pyc' : 'WP_011013816', \n",
    "    'icd': 'WP_011013800',\n",
    "    'hom' : 'WP_003854900', \n",
    "    'fbp' : 'WP_011014765'\n",
    "}"
   ]
  },
  {
   "cell_type": "markdown",
   "id": "6c516b33",
   "metadata": {},
   "source": [
    "## Implementing the genetic changes:\n",
    "- LYS1: the mutation realsed **lysC** from the feedback inhibition => **skipped because it is a protein regulation**\n",
    "- LYS2: having a second copy of **ddh** =>  **implemented by doubling the flux of PPCK and PEPCK_re** \n",
    "- LYS3: knockout of **pck** => **implemented by knocking out pck**\n",
    "- LYS4: over expression of **dapB** =>\n",
    "- LYS5: additional copy of **lysA** =>\n",
    "- LYS6: over expression of **lysC** =>\n",
    "- LYS7: leaky variant of **hom** gene =>\n",
    "- LYS8-9: imporoving  the activity of **pyc** =>\n",
    "- LYS10: overexpression of FBPase **fbp**  =>  \n",
    "- LYS11: overexpression  **tkt** =>\n"
   ]
  },
  {
   "cell_type": "markdown",
   "id": "b925cc29",
   "metadata": {},
   "source": [
    "### Main model"
   ]
  },
  {
   "cell_type": "code",
   "execution_count": 128,
   "id": "74b89e9e",
   "metadata": {},
   "outputs": [
    {
     "name": "stdout",
     "output_type": "stream",
     "text": [
      "Flux through DAPDC reaction is: 0.1896 mmol/gDW*h\n"
     ]
    },
    {
     "data": {
      "text/html": [
       "<strong><em>Optimal</em> solution with objective value 0.190</strong><br><div>\n",
       "<style scoped>\n",
       "    .dataframe tbody tr th:only-of-type {\n",
       "        vertical-align: middle;\n",
       "    }\n",
       "\n",
       "    .dataframe tbody tr th {\n",
       "        vertical-align: top;\n",
       "    }\n",
       "\n",
       "    .dataframe thead th {\n",
       "        text-align: right;\n",
       "    }\n",
       "</style>\n",
       "<table border=\"1\" class=\"dataframe\">\n",
       "  <thead>\n",
       "    <tr style=\"text-align: right;\">\n",
       "      <th></th>\n",
       "      <th>fluxes</th>\n",
       "      <th>reduced_costs</th>\n",
       "    </tr>\n",
       "  </thead>\n",
       "  <tbody>\n",
       "    <tr>\n",
       "      <th>12DGR120tipp</th>\n",
       "      <td>0.0</td>\n",
       "      <td>0.000000e+00</td>\n",
       "    </tr>\n",
       "    <tr>\n",
       "      <th>12DGR140tipp</th>\n",
       "      <td>0.0</td>\n",
       "      <td>8.673617e-19</td>\n",
       "    </tr>\n",
       "    <tr>\n",
       "      <th>12DGR161tipp</th>\n",
       "      <td>0.0</td>\n",
       "      <td>0.000000e+00</td>\n",
       "    </tr>\n",
       "    <tr>\n",
       "      <th>12DGR180tipp</th>\n",
       "      <td>0.0</td>\n",
       "      <td>0.000000e+00</td>\n",
       "    </tr>\n",
       "    <tr>\n",
       "      <th>12DGR181tipp</th>\n",
       "      <td>0.0</td>\n",
       "      <td>6.938894e-18</td>\n",
       "    </tr>\n",
       "    <tr>\n",
       "      <th>...</th>\n",
       "      <td>...</td>\n",
       "      <td>...</td>\n",
       "    </tr>\n",
       "    <tr>\n",
       "      <th>EX_pyr_e</th>\n",
       "      <td>0.0</td>\n",
       "      <td>-1.025102e-03</td>\n",
       "    </tr>\n",
       "    <tr>\n",
       "      <th>L_LACtex</th>\n",
       "      <td>0.0</td>\n",
       "      <td>0.000000e+00</td>\n",
       "    </tr>\n",
       "    <tr>\n",
       "      <th>CYTB1</th>\n",
       "      <td>20.0</td>\n",
       "      <td>1.214306e-17</td>\n",
       "    </tr>\n",
       "    <tr>\n",
       "      <th>EX_34dhbz_e</th>\n",
       "      <td>0.0</td>\n",
       "      <td>0.000000e+00</td>\n",
       "    </tr>\n",
       "    <tr>\n",
       "      <th>3_4DHBZt2</th>\n",
       "      <td>0.0</td>\n",
       "      <td>0.000000e+00</td>\n",
       "    </tr>\n",
       "  </tbody>\n",
       "</table>\n",
       "<p>1539 rows × 2 columns</p>\n",
       "</div>"
      ],
      "text/plain": [
       "<Solution 0.190 at 0x16c3615ffa0>"
      ]
     },
     "execution_count": 128,
     "metadata": {},
     "output_type": "execute_result"
    }
   ],
   "source": [
    "model.objective = model.reactions.DAPDC\n",
    "\n",
    "solution = model.optimize()\n",
    "print(f'Flux through DAPDC reaction is: {round(solution[\"DAPDC\"], 4)} mmol/gDW*h')\n",
    "solution"
   ]
  },
  {
   "cell_type": "markdown",
   "id": "0b4214fa",
   "metadata": {},
   "source": [
    "### LYS2: having a second copy of ddh "
   ]
  },
  {
   "cell_type": "code",
   "execution_count": 129,
   "id": "080ddcc5",
   "metadata": {},
   "outputs": [
    {
     "data": {
      "text/html": [
       "\n",
       "        <table>\n",
       "            <tr>\n",
       "                <td><strong>Gene identifier</strong></td><td>lcl_NC_006958_1_prot_WP_011015446_1_2735</td>\n",
       "            </tr><tr>\n",
       "                <td><strong>Name</strong></td><td>G_lcl_NC_006958_1_prot_WP_011015446_1_2735</td>\n",
       "            </tr><tr>\n",
       "                <td><strong>Memory address</strong></td>\n",
       "                <td>0x16c2b63ca30</td>\n",
       "            </tr><tr>\n",
       "                <td><strong>Functional</strong></td><td>True</td>\n",
       "            </tr><tr>\n",
       "                <td><strong>In 2 reaction(s)</strong></td><td>\n",
       "                    PPCK, PEPCK_re\n",
       "                    </td>\n",
       "            </tr>\n",
       "        </table>"
      ],
      "text/plain": [
       "<Gene lcl_NC_006958_1_prot_WP_011015446_1_2735 at 0x16c2b63ca30>"
      ]
     },
     "execution_count": 129,
     "metadata": {},
     "output_type": "execute_result"
    }
   ],
   "source": [
    "getFullGeneName(genes['ddh']) "
   ]
  },
  {
   "cell_type": "code",
   "execution_count": 130,
   "id": "38ebddf5",
   "metadata": {},
   "outputs": [
    {
     "name": "stdout",
     "output_type": "stream",
     "text": [
      "Flux through DAPDC reaction is: 0.1896 mmol/gDW*h\n"
     ]
    },
    {
     "data": {
      "text/html": [
       "<strong><em>Optimal</em> solution with objective value 0.190</strong><br><div>\n",
       "<style scoped>\n",
       "    .dataframe tbody tr th:only-of-type {\n",
       "        vertical-align: middle;\n",
       "    }\n",
       "\n",
       "    .dataframe tbody tr th {\n",
       "        vertical-align: top;\n",
       "    }\n",
       "\n",
       "    .dataframe thead th {\n",
       "        text-align: right;\n",
       "    }\n",
       "</style>\n",
       "<table border=\"1\" class=\"dataframe\">\n",
       "  <thead>\n",
       "    <tr style=\"text-align: right;\">\n",
       "      <th></th>\n",
       "      <th>fluxes</th>\n",
       "      <th>reduced_costs</th>\n",
       "    </tr>\n",
       "  </thead>\n",
       "  <tbody>\n",
       "    <tr>\n",
       "      <th>12DGR120tipp</th>\n",
       "      <td>0.0</td>\n",
       "      <td>0.000000e+00</td>\n",
       "    </tr>\n",
       "    <tr>\n",
       "      <th>12DGR140tipp</th>\n",
       "      <td>0.0</td>\n",
       "      <td>0.000000e+00</td>\n",
       "    </tr>\n",
       "    <tr>\n",
       "      <th>12DGR161tipp</th>\n",
       "      <td>0.0</td>\n",
       "      <td>0.000000e+00</td>\n",
       "    </tr>\n",
       "    <tr>\n",
       "      <th>12DGR180tipp</th>\n",
       "      <td>0.0</td>\n",
       "      <td>0.000000e+00</td>\n",
       "    </tr>\n",
       "    <tr>\n",
       "      <th>12DGR181tipp</th>\n",
       "      <td>0.0</td>\n",
       "      <td>0.000000e+00</td>\n",
       "    </tr>\n",
       "    <tr>\n",
       "      <th>...</th>\n",
       "      <td>...</td>\n",
       "      <td>...</td>\n",
       "    </tr>\n",
       "    <tr>\n",
       "      <th>EX_pyr_e</th>\n",
       "      <td>0.0</td>\n",
       "      <td>-1.025102e-03</td>\n",
       "    </tr>\n",
       "    <tr>\n",
       "      <th>L_LACtex</th>\n",
       "      <td>0.0</td>\n",
       "      <td>-1.084202e-19</td>\n",
       "    </tr>\n",
       "    <tr>\n",
       "      <th>CYTB1</th>\n",
       "      <td>20.0</td>\n",
       "      <td>0.000000e+00</td>\n",
       "    </tr>\n",
       "    <tr>\n",
       "      <th>EX_34dhbz_e</th>\n",
       "      <td>0.0</td>\n",
       "      <td>0.000000e+00</td>\n",
       "    </tr>\n",
       "    <tr>\n",
       "      <th>3_4DHBZt2</th>\n",
       "      <td>0.0</td>\n",
       "      <td>0.000000e+00</td>\n",
       "    </tr>\n",
       "  </tbody>\n",
       "</table>\n",
       "<p>1539 rows × 2 columns</p>\n",
       "</div>"
      ],
      "text/plain": [
       "<Solution 0.190 at 0x16c38e89fd0>"
      ]
     },
     "execution_count": 130,
     "metadata": {},
     "output_type": "execute_result"
    }
   ],
   "source": [
    "model_LYS_2 = model.copy()\n",
    "\n",
    "fold_change = 2\n",
    "\n",
    "model_LYS_2.reactions.PPCK.bounds = (model.reactions.PPCK.lower_bound, fold_change*model.reactions.PPCK.upper_bound)\n",
    "model_LYS_2.reactions.PEPCK_re.bounds = (model.reactions.PPCK.lower_bound, fold_change*model.reactions.PPCK.upper_bound)\n",
    "\n",
    "\n",
    "model_LYS_2.objective = model_LYS_2.reactions.DAPDC\n",
    "solution_LYS_2 = model_LYS_2.optimize()\n",
    "print(f'Flux through DAPDC reaction is: {round(solution_LYS_2[\"DAPDC\"], 4)} mmol/gDW*h')\n",
    "\n",
    "\n",
    "solution_LYS_2"
   ]
  },
  {
   "cell_type": "markdown",
   "id": "5e68b52e",
   "metadata": {},
   "source": [
    "### LYS3: knockout of pck"
   ]
  },
  {
   "cell_type": "code",
   "execution_count": 131,
   "id": "4fdd5f2b",
   "metadata": {},
   "outputs": [
    {
     "data": {
      "text/html": [
       "\n",
       "        <table>\n",
       "            <tr>\n",
       "                <td><strong>Gene identifier</strong></td><td>lcl_NC_006958_1_prot_WP_011013816_1_666</td>\n",
       "            </tr><tr>\n",
       "                <td><strong>Name</strong></td><td>G_lcl_NC_006958_1_prot_WP_011013816_1_666</td>\n",
       "            </tr><tr>\n",
       "                <td><strong>Memory address</strong></td>\n",
       "                <td>0x16c2b63c8e0</td>\n",
       "            </tr><tr>\n",
       "                <td><strong>Functional</strong></td><td>True</td>\n",
       "            </tr><tr>\n",
       "                <td><strong>In 1 reaction(s)</strong></td><td>\n",
       "                    PC\n",
       "                    </td>\n",
       "            </tr>\n",
       "        </table>"
      ],
      "text/plain": [
       "<Gene lcl_NC_006958_1_prot_WP_011013816_1_666 at 0x16c2b63c8e0>"
      ]
     },
     "execution_count": 131,
     "metadata": {},
     "output_type": "execute_result"
    }
   ],
   "source": [
    "getFullGeneName(genes['pck'])"
   ]
  },
  {
   "cell_type": "code",
   "execution_count": 132,
   "id": "52649a0f",
   "metadata": {},
   "outputs": [
    {
     "name": "stdout",
     "output_type": "stream",
     "text": [
      "Flux through DAPDC reaction is: 0.1896 mmol/gDW*h\n"
     ]
    },
    {
     "data": {
      "text/html": [
       "<strong><em>Optimal</em> solution with objective value 0.190</strong><br><div>\n",
       "<style scoped>\n",
       "    .dataframe tbody tr th:only-of-type {\n",
       "        vertical-align: middle;\n",
       "    }\n",
       "\n",
       "    .dataframe tbody tr th {\n",
       "        vertical-align: top;\n",
       "    }\n",
       "\n",
       "    .dataframe thead th {\n",
       "        text-align: right;\n",
       "    }\n",
       "</style>\n",
       "<table border=\"1\" class=\"dataframe\">\n",
       "  <thead>\n",
       "    <tr style=\"text-align: right;\">\n",
       "      <th></th>\n",
       "      <th>fluxes</th>\n",
       "      <th>reduced_costs</th>\n",
       "    </tr>\n",
       "  </thead>\n",
       "  <tbody>\n",
       "    <tr>\n",
       "      <th>12DGR120tipp</th>\n",
       "      <td>0.0</td>\n",
       "      <td>0.000000e+00</td>\n",
       "    </tr>\n",
       "    <tr>\n",
       "      <th>12DGR140tipp</th>\n",
       "      <td>0.0</td>\n",
       "      <td>0.000000e+00</td>\n",
       "    </tr>\n",
       "    <tr>\n",
       "      <th>12DGR161tipp</th>\n",
       "      <td>0.0</td>\n",
       "      <td>0.000000e+00</td>\n",
       "    </tr>\n",
       "    <tr>\n",
       "      <th>12DGR180tipp</th>\n",
       "      <td>0.0</td>\n",
       "      <td>0.000000e+00</td>\n",
       "    </tr>\n",
       "    <tr>\n",
       "      <th>12DGR181tipp</th>\n",
       "      <td>0.0</td>\n",
       "      <td>0.000000e+00</td>\n",
       "    </tr>\n",
       "    <tr>\n",
       "      <th>...</th>\n",
       "      <td>...</td>\n",
       "      <td>...</td>\n",
       "    </tr>\n",
       "    <tr>\n",
       "      <th>EX_pyr_e</th>\n",
       "      <td>0.0</td>\n",
       "      <td>-1.025102e-03</td>\n",
       "    </tr>\n",
       "    <tr>\n",
       "      <th>L_LACtex</th>\n",
       "      <td>0.0</td>\n",
       "      <td>-1.084202e-19</td>\n",
       "    </tr>\n",
       "    <tr>\n",
       "      <th>CYTB1</th>\n",
       "      <td>20.0</td>\n",
       "      <td>0.000000e+00</td>\n",
       "    </tr>\n",
       "    <tr>\n",
       "      <th>EX_34dhbz_e</th>\n",
       "      <td>0.0</td>\n",
       "      <td>0.000000e+00</td>\n",
       "    </tr>\n",
       "    <tr>\n",
       "      <th>3_4DHBZt2</th>\n",
       "      <td>0.0</td>\n",
       "      <td>0.000000e+00</td>\n",
       "    </tr>\n",
       "  </tbody>\n",
       "</table>\n",
       "<p>1539 rows × 2 columns</p>\n",
       "</div>"
      ],
      "text/plain": [
       "<Solution 0.190 at 0x16c3c1bdd00>"
      ]
     },
     "execution_count": 132,
     "metadata": {},
     "output_type": "execute_result"
    }
   ],
   "source": [
    "model_LYS_3 = model_LYS_2.copy()\n",
    "\n",
    "model_LYS_3.genes.get_by_id(\"lcl_NC_006958_1_prot_WP_011013816_1_666\").knock_out() \n",
    "\n",
    "model_LYS_3.objective = model_LYS_3.reactions.DAPDC\n",
    "solution_LYS_3 = model_LYS_3.optimize()\n",
    "print(f'Flux through DAPDC reaction is: {round(solution_LYS_3[\"DAPDC\"], 4)} mmol/gDW*h')\n",
    "solution_LYS_3"
   ]
  },
  {
   "cell_type": "markdown",
   "id": "fef9df43",
   "metadata": {},
   "source": [
    "### LYS4: over expression of **dapB**"
   ]
  },
  {
   "cell_type": "code",
   "execution_count": 133,
   "id": "5409a139",
   "metadata": {},
   "outputs": [
    {
     "data": {
      "text/html": [
       "\n",
       "        <table>\n",
       "            <tr>\n",
       "                <td><strong>Gene identifier</strong></td><td>lcl_NC_006958_1_prot_WP_011014794_1_1871</td>\n",
       "            </tr><tr>\n",
       "                <td><strong>Name</strong></td><td>G_lcl_NC_006958_1_prot_WP_011014794_1_1871</td>\n",
       "            </tr><tr>\n",
       "                <td><strong>Memory address</strong></td>\n",
       "                <td>0x16c2b5c9610</td>\n",
       "            </tr><tr>\n",
       "                <td><strong>Functional</strong></td><td>True</td>\n",
       "            </tr><tr>\n",
       "                <td><strong>In 1 reaction(s)</strong></td><td>\n",
       "                    DHDPRy\n",
       "                    </td>\n",
       "            </tr>\n",
       "        </table>"
      ],
      "text/plain": [
       "<Gene lcl_NC_006958_1_prot_WP_011014794_1_1871 at 0x16c2b5c9610>"
      ]
     },
     "execution_count": 133,
     "metadata": {},
     "output_type": "execute_result"
    }
   ],
   "source": [
    "getFullGeneName(genes['dapB'])"
   ]
  },
  {
   "cell_type": "code",
   "execution_count": 134,
   "id": "1b49b2c1",
   "metadata": {},
   "outputs": [
    {
     "data": {
      "text/html": [
       "\n",
       "        <table>\n",
       "            <tr>\n",
       "                <td><strong>Reaction identifier</strong></td><td>DHDPRy</td>\n",
       "            </tr><tr>\n",
       "                <td><strong>Name</strong></td><td>Dihydrodipicolinate reductase (NADPH)</td>\n",
       "            </tr><tr>\n",
       "                <td><strong>Memory address</strong></td>\n",
       "                <td>0x16c2b9c6d60</td>\n",
       "            </tr><tr>\n",
       "                <td><strong>Stoichiometry</strong></td>\n",
       "                <td>\n",
       "                    <p style='text-align:right'>23dhdp_c + h_c + nadph_c --> nadp_c + thdp_c</p>\n",
       "                    <p style='text-align:right'>2,3-Dihydrodipicolinate + H+ + Nicotinamide adenine dinucleotide phosphate - reduced --> Nicotinamide adenine dinucleotide phosphate + 2,3,4,5-Tetrahydrodipicolinate</p>\n",
       "                </td>\n",
       "            </tr><tr>\n",
       "                <td><strong>GPR</strong></td><td>lcl_NC_006958_1_prot_WP_011014794_1_1871</td>\n",
       "            </tr><tr>\n",
       "                <td><strong>Lower bound</strong></td><td>0.0</td>\n",
       "            </tr><tr>\n",
       "                <td><strong>Upper bound</strong></td><td>1000.0</td>\n",
       "            </tr>\n",
       "        </table>\n",
       "        "
      ],
      "text/plain": [
       "<Reaction DHDPRy at 0x16c2b9c6d60>"
      ]
     },
     "execution_count": 134,
     "metadata": {},
     "output_type": "execute_result"
    }
   ],
   "source": [
    "model.reactions.DHDPRy"
   ]
  },
  {
   "cell_type": "code",
   "execution_count": 135,
   "id": "c3f34c89",
   "metadata": {},
   "outputs": [
    {
     "name": "stdout",
     "output_type": "stream",
     "text": [
      "Flux through DAPDC reaction is: 0.1896 mmol/gDW*h\n"
     ]
    },
    {
     "data": {
      "text/html": [
       "<strong><em>Optimal</em> solution with objective value 0.190</strong><br><div>\n",
       "<style scoped>\n",
       "    .dataframe tbody tr th:only-of-type {\n",
       "        vertical-align: middle;\n",
       "    }\n",
       "\n",
       "    .dataframe tbody tr th {\n",
       "        vertical-align: top;\n",
       "    }\n",
       "\n",
       "    .dataframe thead th {\n",
       "        text-align: right;\n",
       "    }\n",
       "</style>\n",
       "<table border=\"1\" class=\"dataframe\">\n",
       "  <thead>\n",
       "    <tr style=\"text-align: right;\">\n",
       "      <th></th>\n",
       "      <th>fluxes</th>\n",
       "      <th>reduced_costs</th>\n",
       "    </tr>\n",
       "  </thead>\n",
       "  <tbody>\n",
       "    <tr>\n",
       "      <th>12DGR120tipp</th>\n",
       "      <td>0.0</td>\n",
       "      <td>0.000000e+00</td>\n",
       "    </tr>\n",
       "    <tr>\n",
       "      <th>12DGR140tipp</th>\n",
       "      <td>0.0</td>\n",
       "      <td>0.000000e+00</td>\n",
       "    </tr>\n",
       "    <tr>\n",
       "      <th>12DGR161tipp</th>\n",
       "      <td>0.0</td>\n",
       "      <td>0.000000e+00</td>\n",
       "    </tr>\n",
       "    <tr>\n",
       "      <th>12DGR180tipp</th>\n",
       "      <td>0.0</td>\n",
       "      <td>0.000000e+00</td>\n",
       "    </tr>\n",
       "    <tr>\n",
       "      <th>12DGR181tipp</th>\n",
       "      <td>0.0</td>\n",
       "      <td>0.000000e+00</td>\n",
       "    </tr>\n",
       "    <tr>\n",
       "      <th>...</th>\n",
       "      <td>...</td>\n",
       "      <td>...</td>\n",
       "    </tr>\n",
       "    <tr>\n",
       "      <th>EX_pyr_e</th>\n",
       "      <td>0.0</td>\n",
       "      <td>-1.025102e-03</td>\n",
       "    </tr>\n",
       "    <tr>\n",
       "      <th>L_LACtex</th>\n",
       "      <td>0.0</td>\n",
       "      <td>-1.084202e-19</td>\n",
       "    </tr>\n",
       "    <tr>\n",
       "      <th>CYTB1</th>\n",
       "      <td>20.0</td>\n",
       "      <td>0.000000e+00</td>\n",
       "    </tr>\n",
       "    <tr>\n",
       "      <th>EX_34dhbz_e</th>\n",
       "      <td>0.0</td>\n",
       "      <td>0.000000e+00</td>\n",
       "    </tr>\n",
       "    <tr>\n",
       "      <th>3_4DHBZt2</th>\n",
       "      <td>0.0</td>\n",
       "      <td>0.000000e+00</td>\n",
       "    </tr>\n",
       "  </tbody>\n",
       "</table>\n",
       "<p>1539 rows × 2 columns</p>\n",
       "</div>"
      ],
      "text/plain": [
       "<Solution 0.190 at 0x16c3cbe6130>"
      ]
     },
     "execution_count": 135,
     "metadata": {},
     "output_type": "execute_result"
    }
   ],
   "source": [
    "model_LYS_4 = model_LYS_3.copy()\n",
    "\n",
    "fold_change = 1.5\n",
    "\n",
    "model_LYS_4.reactions.DHDPRy.bounds = (model_LYS_3.reactions.DHDPRy.lower_bound, fold_change*model_LYS_3.reactions.DHDPRy.upper_bound)\n",
    "\n",
    "model_LYS_4.objective = model_LYS_4.reactions.DAPDC\n",
    "solution_LYS_4 = model_LYS_4.optimize()\n",
    "print(f'Flux through DAPDC reaction is: {round(solution_LYS_4[\"DAPDC\"], 4)} mmol/gDW*h')\n",
    "\n",
    "\n",
    "solution_LYS_4"
   ]
  },
  {
   "cell_type": "markdown",
   "id": "88972094",
   "metadata": {},
   "source": [
    "### LYS5: additional copy of **lysA**"
   ]
  },
  {
   "cell_type": "code",
   "execution_count": 136,
   "id": "fb684343",
   "metadata": {},
   "outputs": [
    {
     "data": {
      "text/html": [
       "\n",
       "        <table>\n",
       "            <tr>\n",
       "                <td><strong>Gene identifier</strong></td><td>lcl_NC_006958_1_prot_WP_011014180_1_1145</td>\n",
       "            </tr><tr>\n",
       "                <td><strong>Name</strong></td><td>G_lcl_NC_006958_1_prot_WP_011014180_1_1145</td>\n",
       "            </tr><tr>\n",
       "                <td><strong>Memory address</strong></td>\n",
       "                <td>0x16c2b5c9310</td>\n",
       "            </tr><tr>\n",
       "                <td><strong>Functional</strong></td><td>True</td>\n",
       "            </tr><tr>\n",
       "                <td><strong>In 1 reaction(s)</strong></td><td>\n",
       "                    DAPDC\n",
       "                    </td>\n",
       "            </tr>\n",
       "        </table>"
      ],
      "text/plain": [
       "<Gene lcl_NC_006958_1_prot_WP_011014180_1_1145 at 0x16c2b5c9310>"
      ]
     },
     "execution_count": 136,
     "metadata": {},
     "output_type": "execute_result"
    }
   ],
   "source": [
    "getFullGeneName(genes['lysA'])"
   ]
  },
  {
   "cell_type": "code",
   "execution_count": 137,
   "id": "bfe55b6f",
   "metadata": {},
   "outputs": [
    {
     "name": "stdout",
     "output_type": "stream",
     "text": [
      "Flux through DAPDC reaction is: 0.1896 mmol/gDW*h\n"
     ]
    },
    {
     "data": {
      "text/html": [
       "<strong><em>Optimal</em> solution with objective value 0.190</strong><br><div>\n",
       "<style scoped>\n",
       "    .dataframe tbody tr th:only-of-type {\n",
       "        vertical-align: middle;\n",
       "    }\n",
       "\n",
       "    .dataframe tbody tr th {\n",
       "        vertical-align: top;\n",
       "    }\n",
       "\n",
       "    .dataframe thead th {\n",
       "        text-align: right;\n",
       "    }\n",
       "</style>\n",
       "<table border=\"1\" class=\"dataframe\">\n",
       "  <thead>\n",
       "    <tr style=\"text-align: right;\">\n",
       "      <th></th>\n",
       "      <th>fluxes</th>\n",
       "      <th>reduced_costs</th>\n",
       "    </tr>\n",
       "  </thead>\n",
       "  <tbody>\n",
       "    <tr>\n",
       "      <th>12DGR120tipp</th>\n",
       "      <td>0.0</td>\n",
       "      <td>0.000000e+00</td>\n",
       "    </tr>\n",
       "    <tr>\n",
       "      <th>12DGR140tipp</th>\n",
       "      <td>0.0</td>\n",
       "      <td>0.000000e+00</td>\n",
       "    </tr>\n",
       "    <tr>\n",
       "      <th>12DGR161tipp</th>\n",
       "      <td>0.0</td>\n",
       "      <td>0.000000e+00</td>\n",
       "    </tr>\n",
       "    <tr>\n",
       "      <th>12DGR180tipp</th>\n",
       "      <td>0.0</td>\n",
       "      <td>0.000000e+00</td>\n",
       "    </tr>\n",
       "    <tr>\n",
       "      <th>12DGR181tipp</th>\n",
       "      <td>0.0</td>\n",
       "      <td>0.000000e+00</td>\n",
       "    </tr>\n",
       "    <tr>\n",
       "      <th>...</th>\n",
       "      <td>...</td>\n",
       "      <td>...</td>\n",
       "    </tr>\n",
       "    <tr>\n",
       "      <th>EX_pyr_e</th>\n",
       "      <td>0.0</td>\n",
       "      <td>-1.025102e-03</td>\n",
       "    </tr>\n",
       "    <tr>\n",
       "      <th>L_LACtex</th>\n",
       "      <td>0.0</td>\n",
       "      <td>-1.084202e-19</td>\n",
       "    </tr>\n",
       "    <tr>\n",
       "      <th>CYTB1</th>\n",
       "      <td>20.0</td>\n",
       "      <td>0.000000e+00</td>\n",
       "    </tr>\n",
       "    <tr>\n",
       "      <th>EX_34dhbz_e</th>\n",
       "      <td>0.0</td>\n",
       "      <td>0.000000e+00</td>\n",
       "    </tr>\n",
       "    <tr>\n",
       "      <th>3_4DHBZt2</th>\n",
       "      <td>0.0</td>\n",
       "      <td>0.000000e+00</td>\n",
       "    </tr>\n",
       "  </tbody>\n",
       "</table>\n",
       "<p>1539 rows × 2 columns</p>\n",
       "</div>"
      ],
      "text/plain": [
       "<Solution 0.190 at 0x16c3d526340>"
      ]
     },
     "execution_count": 137,
     "metadata": {},
     "output_type": "execute_result"
    }
   ],
   "source": [
    "model_LYS_5 = model_LYS_4.copy()\n",
    "\n",
    "fold_change = 2\n",
    "\n",
    "model_LYS_5.reactions.DAPDC.bounds = (model_LYS_4.reactions.DAPDC.lower_bound, fold_change*model_LYS_4.reactions.DAPDC.upper_bound)\n",
    "\n",
    "model_LYS_5.objective = model_LYS_5.reactions.DAPDC\n",
    "solution_LYS_5 = model_LYS_5.optimize()\n",
    "print(f'Flux through DAPDC reaction is: {round(solution_LYS_5[\"DAPDC\"], 4)} mmol/gDW*h')\n",
    "\n",
    "\n",
    "solution_LYS_5"
   ]
  },
  {
   "cell_type": "markdown",
   "id": "8431576c",
   "metadata": {},
   "source": [
    "### LYS6: over expression of lysC"
   ]
  },
  {
   "cell_type": "code",
   "execution_count": 138,
   "id": "7b7ff1e7",
   "metadata": {},
   "outputs": [
    {
     "data": {
      "text/html": [
       "\n",
       "        <table>\n",
       "            <tr>\n",
       "                <td><strong>Gene identifier</strong></td><td>lcl_NC_006958_1_prot_WP_003855724_1_250</td>\n",
       "            </tr><tr>\n",
       "                <td><strong>Name</strong></td><td>G_lcl_NC_006958_1_prot_WP_003855724_1_250</td>\n",
       "            </tr><tr>\n",
       "                <td><strong>Memory address</strong></td>\n",
       "                <td>0x16c2b5ae0a0</td>\n",
       "            </tr><tr>\n",
       "                <td><strong>Functional</strong></td><td>True</td>\n",
       "            </tr><tr>\n",
       "                <td><strong>In 1 reaction(s)</strong></td><td>\n",
       "                    ASPK\n",
       "                    </td>\n",
       "            </tr>\n",
       "        </table>"
      ],
      "text/plain": [
       "<Gene lcl_NC_006958_1_prot_WP_003855724_1_250 at 0x16c2b5ae0a0>"
      ]
     },
     "execution_count": 138,
     "metadata": {},
     "output_type": "execute_result"
    }
   ],
   "source": [
    "getFullGeneName(genes['lysC'])"
   ]
  },
  {
   "cell_type": "code",
   "execution_count": 139,
   "id": "647a00bc",
   "metadata": {},
   "outputs": [
    {
     "name": "stdout",
     "output_type": "stream",
     "text": [
      "Flux through DAPDC reaction is: 0.1896 mmol/gDW*h\n"
     ]
    },
    {
     "data": {
      "text/html": [
       "<strong><em>Optimal</em> solution with objective value 0.190</strong><br><div>\n",
       "<style scoped>\n",
       "    .dataframe tbody tr th:only-of-type {\n",
       "        vertical-align: middle;\n",
       "    }\n",
       "\n",
       "    .dataframe tbody tr th {\n",
       "        vertical-align: top;\n",
       "    }\n",
       "\n",
       "    .dataframe thead th {\n",
       "        text-align: right;\n",
       "    }\n",
       "</style>\n",
       "<table border=\"1\" class=\"dataframe\">\n",
       "  <thead>\n",
       "    <tr style=\"text-align: right;\">\n",
       "      <th></th>\n",
       "      <th>fluxes</th>\n",
       "      <th>reduced_costs</th>\n",
       "    </tr>\n",
       "  </thead>\n",
       "  <tbody>\n",
       "    <tr>\n",
       "      <th>12DGR120tipp</th>\n",
       "      <td>0.0</td>\n",
       "      <td>0.000000e+00</td>\n",
       "    </tr>\n",
       "    <tr>\n",
       "      <th>12DGR140tipp</th>\n",
       "      <td>0.0</td>\n",
       "      <td>0.000000e+00</td>\n",
       "    </tr>\n",
       "    <tr>\n",
       "      <th>12DGR161tipp</th>\n",
       "      <td>0.0</td>\n",
       "      <td>0.000000e+00</td>\n",
       "    </tr>\n",
       "    <tr>\n",
       "      <th>12DGR180tipp</th>\n",
       "      <td>0.0</td>\n",
       "      <td>0.000000e+00</td>\n",
       "    </tr>\n",
       "    <tr>\n",
       "      <th>12DGR181tipp</th>\n",
       "      <td>0.0</td>\n",
       "      <td>0.000000e+00</td>\n",
       "    </tr>\n",
       "    <tr>\n",
       "      <th>...</th>\n",
       "      <td>...</td>\n",
       "      <td>...</td>\n",
       "    </tr>\n",
       "    <tr>\n",
       "      <th>EX_pyr_e</th>\n",
       "      <td>0.0</td>\n",
       "      <td>-1.025102e-03</td>\n",
       "    </tr>\n",
       "    <tr>\n",
       "      <th>L_LACtex</th>\n",
       "      <td>0.0</td>\n",
       "      <td>-1.084202e-19</td>\n",
       "    </tr>\n",
       "    <tr>\n",
       "      <th>CYTB1</th>\n",
       "      <td>20.0</td>\n",
       "      <td>0.000000e+00</td>\n",
       "    </tr>\n",
       "    <tr>\n",
       "      <th>EX_34dhbz_e</th>\n",
       "      <td>0.0</td>\n",
       "      <td>0.000000e+00</td>\n",
       "    </tr>\n",
       "    <tr>\n",
       "      <th>3_4DHBZt2</th>\n",
       "      <td>0.0</td>\n",
       "      <td>0.000000e+00</td>\n",
       "    </tr>\n",
       "  </tbody>\n",
       "</table>\n",
       "<p>1539 rows × 2 columns</p>\n",
       "</div>"
      ],
      "text/plain": [
       "<Solution 0.190 at 0x16c3ded8550>"
      ]
     },
     "execution_count": 139,
     "metadata": {},
     "output_type": "execute_result"
    }
   ],
   "source": [
    "model_LYS_6 = model_LYS_5.copy()\n",
    "\n",
    "fold_change = 1.5\n",
    "\n",
    "model_LYS_6.reactions.ASPK.bounds = (model_LYS_5.reactions.ASPK.lower_bound, fold_change*model_LYS_5.reactions.ASPK.upper_bound)\n",
    "\n",
    "model_LYS_6.objective = model_LYS_6.reactions.DAPDC\n",
    "solution_LYS_6 = model_LYS_6.optimize()\n",
    "print(f'Flux through DAPDC reaction is: {round(solution_LYS_6[\"DAPDC\"], 4)} mmol/gDW*h')\n",
    "\n",
    "solution_LYS_6"
   ]
  },
  {
   "cell_type": "markdown",
   "id": "5d0acd6d",
   "metadata": {},
   "source": [
    "### LYS7: leaky variant of **hom** gene"
   ]
  },
  {
   "cell_type": "code",
   "execution_count": 163,
   "id": "2499566b",
   "metadata": {},
   "outputs": [
    {
     "data": {
      "text/html": [
       "\n",
       "        <table>\n",
       "            <tr>\n",
       "                <td><strong>Gene identifier</strong></td><td>lcl_NC_006958_1_prot_WP_003854900_1_1147</td>\n",
       "            </tr><tr>\n",
       "                <td><strong>Name</strong></td><td>G_lcl_NC_006958_1_prot_WP_003854900_1_1147</td>\n",
       "            </tr><tr>\n",
       "                <td><strong>Memory address</strong></td>\n",
       "                <td>0x16c2b6038e0</td>\n",
       "            </tr><tr>\n",
       "                <td><strong>Functional</strong></td><td>True</td>\n",
       "            </tr><tr>\n",
       "                <td><strong>In 2 reaction(s)</strong></td><td>\n",
       "                    HSDx, HSDy\n",
       "                    </td>\n",
       "            </tr>\n",
       "        </table>"
      ],
      "text/plain": [
       "<Gene lcl_NC_006958_1_prot_WP_003854900_1_1147 at 0x16c2b6038e0>"
      ]
     },
     "execution_count": 163,
     "metadata": {},
     "output_type": "execute_result"
    }
   ],
   "source": [
    "getFullGeneName(genes['hom'])"
   ]
  },
  {
   "cell_type": "code",
   "execution_count": 153,
   "id": "e3611c45",
   "metadata": {},
   "outputs": [
    {
     "data": {
      "text/html": [
       "\n",
       "        <table>\n",
       "            <tr>\n",
       "                <td><strong>Reaction identifier</strong></td><td>HSDx</td>\n",
       "            </tr><tr>\n",
       "                <td><strong>Name</strong></td><td></td>\n",
       "            </tr><tr>\n",
       "                <td><strong>Memory address</strong></td>\n",
       "                <td>0x16c2bc998b0</td>\n",
       "            </tr><tr>\n",
       "                <td><strong>Stoichiometry</strong></td>\n",
       "                <td>\n",
       "                    <p style='text-align:right'>hom__L_c + nad_c <-- aspsa_c + h_c + nadh_c</p>\n",
       "                    <p style='text-align:right'>L-Homoserine + Nicotinamide adenine dinucleotide <-- L-Aspartate 4-semialdehyde + H+ + Nicotinamide adenine dinucleotide - reduced</p>\n",
       "                </td>\n",
       "            </tr><tr>\n",
       "                <td><strong>GPR</strong></td><td>lcl_NC_006958_1_prot_WP_003854900_1_1147</td>\n",
       "            </tr><tr>\n",
       "                <td><strong>Lower bound</strong></td><td>-1000.0</td>\n",
       "            </tr><tr>\n",
       "                <td><strong>Upper bound</strong></td><td>0.0</td>\n",
       "            </tr>\n",
       "        </table>\n",
       "        "
      ],
      "text/plain": [
       "<Reaction HSDx at 0x16c2bc998b0>"
      ]
     },
     "execution_count": 153,
     "metadata": {},
     "output_type": "execute_result"
    }
   ],
   "source": [
    "model.reactions.HSDx"
   ]
  },
  {
   "cell_type": "code",
   "execution_count": 154,
   "id": "00a3d786",
   "metadata": {},
   "outputs": [
    {
     "data": {
      "text/html": [
       "\n",
       "        <table>\n",
       "            <tr>\n",
       "                <td><strong>Reaction identifier</strong></td><td>HSDy</td>\n",
       "            </tr><tr>\n",
       "                <td><strong>Name</strong></td><td>Homoserine dehydrogenase (NADPH)</td>\n",
       "            </tr><tr>\n",
       "                <td><strong>Memory address</strong></td>\n",
       "                <td>0x16c2bc99af0</td>\n",
       "            </tr><tr>\n",
       "                <td><strong>Stoichiometry</strong></td>\n",
       "                <td>\n",
       "                    <p style='text-align:right'>hom__L_c + nadp_c <-- aspsa_c + h_c + nadph_c</p>\n",
       "                    <p style='text-align:right'>L-Homoserine + Nicotinamide adenine dinucleotide phosphate <-- L-Aspartate 4-semialdehyde + H+ + Nicotinamide adenine dinucleotide phosphate - reduced</p>\n",
       "                </td>\n",
       "            </tr><tr>\n",
       "                <td><strong>GPR</strong></td><td>lcl_NC_006958_1_prot_WP_003854900_1_1147</td>\n",
       "            </tr><tr>\n",
       "                <td><strong>Lower bound</strong></td><td>-1000.0</td>\n",
       "            </tr><tr>\n",
       "                <td><strong>Upper bound</strong></td><td>0.0</td>\n",
       "            </tr>\n",
       "        </table>\n",
       "        "
      ],
      "text/plain": [
       "<Reaction HSDy at 0x16c2bc99af0>"
      ]
     },
     "execution_count": 154,
     "metadata": {},
     "output_type": "execute_result"
    }
   ],
   "source": [
    "model.reactions.HSDy"
   ]
  },
  {
   "cell_type": "code",
   "execution_count": 156,
   "id": "5ccb644b",
   "metadata": {},
   "outputs": [
    {
     "name": "stdout",
     "output_type": "stream",
     "text": [
      "Flux through DAPDC reaction is: 0.1896 mmol/gDW*h\n"
     ]
    },
    {
     "data": {
      "text/html": [
       "<strong><em>Optimal</em> solution with objective value 0.190</strong><br><div>\n",
       "<style scoped>\n",
       "    .dataframe tbody tr th:only-of-type {\n",
       "        vertical-align: middle;\n",
       "    }\n",
       "\n",
       "    .dataframe tbody tr th {\n",
       "        vertical-align: top;\n",
       "    }\n",
       "\n",
       "    .dataframe thead th {\n",
       "        text-align: right;\n",
       "    }\n",
       "</style>\n",
       "<table border=\"1\" class=\"dataframe\">\n",
       "  <thead>\n",
       "    <tr style=\"text-align: right;\">\n",
       "      <th></th>\n",
       "      <th>fluxes</th>\n",
       "      <th>reduced_costs</th>\n",
       "    </tr>\n",
       "  </thead>\n",
       "  <tbody>\n",
       "    <tr>\n",
       "      <th>12DGR120tipp</th>\n",
       "      <td>0.0</td>\n",
       "      <td>0.000000e+00</td>\n",
       "    </tr>\n",
       "    <tr>\n",
       "      <th>12DGR140tipp</th>\n",
       "      <td>0.0</td>\n",
       "      <td>0.000000e+00</td>\n",
       "    </tr>\n",
       "    <tr>\n",
       "      <th>12DGR161tipp</th>\n",
       "      <td>0.0</td>\n",
       "      <td>0.000000e+00</td>\n",
       "    </tr>\n",
       "    <tr>\n",
       "      <th>12DGR180tipp</th>\n",
       "      <td>0.0</td>\n",
       "      <td>0.000000e+00</td>\n",
       "    </tr>\n",
       "    <tr>\n",
       "      <th>12DGR181tipp</th>\n",
       "      <td>0.0</td>\n",
       "      <td>0.000000e+00</td>\n",
       "    </tr>\n",
       "    <tr>\n",
       "      <th>...</th>\n",
       "      <td>...</td>\n",
       "      <td>...</td>\n",
       "    </tr>\n",
       "    <tr>\n",
       "      <th>EX_pyr_e</th>\n",
       "      <td>0.0</td>\n",
       "      <td>-1.025102e-03</td>\n",
       "    </tr>\n",
       "    <tr>\n",
       "      <th>L_LACtex</th>\n",
       "      <td>0.0</td>\n",
       "      <td>-1.084202e-19</td>\n",
       "    </tr>\n",
       "    <tr>\n",
       "      <th>CYTB1</th>\n",
       "      <td>20.0</td>\n",
       "      <td>0.000000e+00</td>\n",
       "    </tr>\n",
       "    <tr>\n",
       "      <th>EX_34dhbz_e</th>\n",
       "      <td>0.0</td>\n",
       "      <td>0.000000e+00</td>\n",
       "    </tr>\n",
       "    <tr>\n",
       "      <th>3_4DHBZt2</th>\n",
       "      <td>0.0</td>\n",
       "      <td>0.000000e+00</td>\n",
       "    </tr>\n",
       "  </tbody>\n",
       "</table>\n",
       "<p>1539 rows × 2 columns</p>\n",
       "</div>"
      ],
      "text/plain": [
       "<Solution 0.190 at 0x16c2f750b20>"
      ]
     },
     "execution_count": 156,
     "metadata": {},
     "output_type": "execute_result"
    }
   ],
   "source": [
    "model_LYS_7 = model_LYS_6.copy()\n",
    "\n",
    "fold_change = 1.5\n",
    "\n",
    "model_LYS_7.reactions.HSDx.bounds = (fold_change*model_LYS_6.reactions.HSDx.lower_bound, fold_change*model_LYS_6.reactions.HSDx.upper_bound)\n",
    "model_LYS_7.reactions.HSDy.bounds = (fold_change*model_LYS_6.reactions.HSDy.lower_bound, fold_change*model_LYS_6.reactions.HSDy.upper_bound)\n",
    "\n",
    "model_LYS_7.objective = model_LYS_7.reactions.DAPDC\n",
    "\n",
    "solution_LYS_7 = model_LYS_7.optimize()\n",
    "print(f'Flux through DAPDC reaction is: {round(solution_LYS_7[\"DAPDC\"], 4)} mmol/gDW*h')\n",
    "\n",
    "solution_LYS_7"
   ]
  },
  {
   "cell_type": "markdown",
   "id": "7e282feb",
   "metadata": {},
   "source": [
    "### LYS8-9: imporoving  the activity of **pyc**"
   ]
  },
  {
   "cell_type": "code",
   "execution_count": 157,
   "id": "a5a28e42",
   "metadata": {},
   "outputs": [
    {
     "data": {
      "text/html": [
       "\n",
       "        <table>\n",
       "            <tr>\n",
       "                <td><strong>Gene identifier</strong></td><td>lcl_NC_006958_1_prot_WP_011013816_1_666</td>\n",
       "            </tr><tr>\n",
       "                <td><strong>Name</strong></td><td>G_lcl_NC_006958_1_prot_WP_011013816_1_666</td>\n",
       "            </tr><tr>\n",
       "                <td><strong>Memory address</strong></td>\n",
       "                <td>0x16c2b63c8e0</td>\n",
       "            </tr><tr>\n",
       "                <td><strong>Functional</strong></td><td>True</td>\n",
       "            </tr><tr>\n",
       "                <td><strong>In 1 reaction(s)</strong></td><td>\n",
       "                    PC\n",
       "                    </td>\n",
       "            </tr>\n",
       "        </table>"
      ],
      "text/plain": [
       "<Gene lcl_NC_006958_1_prot_WP_011013816_1_666 at 0x16c2b63c8e0>"
      ]
     },
     "execution_count": 157,
     "metadata": {},
     "output_type": "execute_result"
    }
   ],
   "source": [
    "getFullGeneName(genes['pyc'])"
   ]
  },
  {
   "cell_type": "code",
   "execution_count": 158,
   "id": "1568d8fb",
   "metadata": {},
   "outputs": [
    {
     "data": {
      "text/html": [
       "\n",
       "        <table>\n",
       "            <tr>\n",
       "                <td><strong>Reaction identifier</strong></td><td>PC</td>\n",
       "            </tr><tr>\n",
       "                <td><strong>Name</strong></td><td>Pyruvate carboxylase</td>\n",
       "            </tr><tr>\n",
       "                <td><strong>Memory address</strong></td>\n",
       "                <td>0x16c2bf51820</td>\n",
       "            </tr><tr>\n",
       "                <td><strong>Stoichiometry</strong></td>\n",
       "                <td>\n",
       "                    <p style='text-align:right'>atp_c + hco3_c + pyr_c --> adp_c + h_c + oaa_c + pi_c</p>\n",
       "                    <p style='text-align:right'>ATP + Bicarbonate + Pyruvate --> ADP + H+ + Oxaloacetate + Phosphate</p>\n",
       "                </td>\n",
       "            </tr><tr>\n",
       "                <td><strong>GPR</strong></td><td>lcl_NC_006958_1_prot_WP_011013816_1_666 or lcl_NC_006958_1_prot_WP_011014744_1_1804</td>\n",
       "            </tr><tr>\n",
       "                <td><strong>Lower bound</strong></td><td>0.0</td>\n",
       "            </tr><tr>\n",
       "                <td><strong>Upper bound</strong></td><td>1000.0</td>\n",
       "            </tr>\n",
       "        </table>\n",
       "        "
      ],
      "text/plain": [
       "<Reaction PC at 0x16c2bf51820>"
      ]
     },
     "execution_count": 158,
     "metadata": {},
     "output_type": "execute_result"
    }
   ],
   "source": [
    "model.reactions.PC"
   ]
  },
  {
   "cell_type": "code",
   "execution_count": 159,
   "id": "459d63c8",
   "metadata": {},
   "outputs": [
    {
     "name": "stdout",
     "output_type": "stream",
     "text": [
      "Flux through DAPDC reaction is: 0.1896 mmol/gDW*h\n"
     ]
    },
    {
     "data": {
      "text/html": [
       "<strong><em>Optimal</em> solution with objective value 0.190</strong><br><div>\n",
       "<style scoped>\n",
       "    .dataframe tbody tr th:only-of-type {\n",
       "        vertical-align: middle;\n",
       "    }\n",
       "\n",
       "    .dataframe tbody tr th {\n",
       "        vertical-align: top;\n",
       "    }\n",
       "\n",
       "    .dataframe thead th {\n",
       "        text-align: right;\n",
       "    }\n",
       "</style>\n",
       "<table border=\"1\" class=\"dataframe\">\n",
       "  <thead>\n",
       "    <tr style=\"text-align: right;\">\n",
       "      <th></th>\n",
       "      <th>fluxes</th>\n",
       "      <th>reduced_costs</th>\n",
       "    </tr>\n",
       "  </thead>\n",
       "  <tbody>\n",
       "    <tr>\n",
       "      <th>12DGR120tipp</th>\n",
       "      <td>0.0</td>\n",
       "      <td>0.000000e+00</td>\n",
       "    </tr>\n",
       "    <tr>\n",
       "      <th>12DGR140tipp</th>\n",
       "      <td>0.0</td>\n",
       "      <td>0.000000e+00</td>\n",
       "    </tr>\n",
       "    <tr>\n",
       "      <th>12DGR161tipp</th>\n",
       "      <td>0.0</td>\n",
       "      <td>0.000000e+00</td>\n",
       "    </tr>\n",
       "    <tr>\n",
       "      <th>12DGR180tipp</th>\n",
       "      <td>0.0</td>\n",
       "      <td>0.000000e+00</td>\n",
       "    </tr>\n",
       "    <tr>\n",
       "      <th>12DGR181tipp</th>\n",
       "      <td>0.0</td>\n",
       "      <td>0.000000e+00</td>\n",
       "    </tr>\n",
       "    <tr>\n",
       "      <th>...</th>\n",
       "      <td>...</td>\n",
       "      <td>...</td>\n",
       "    </tr>\n",
       "    <tr>\n",
       "      <th>EX_pyr_e</th>\n",
       "      <td>0.0</td>\n",
       "      <td>-1.025102e-03</td>\n",
       "    </tr>\n",
       "    <tr>\n",
       "      <th>L_LACtex</th>\n",
       "      <td>0.0</td>\n",
       "      <td>-1.084202e-19</td>\n",
       "    </tr>\n",
       "    <tr>\n",
       "      <th>CYTB1</th>\n",
       "      <td>20.0</td>\n",
       "      <td>0.000000e+00</td>\n",
       "    </tr>\n",
       "    <tr>\n",
       "      <th>EX_34dhbz_e</th>\n",
       "      <td>0.0</td>\n",
       "      <td>0.000000e+00</td>\n",
       "    </tr>\n",
       "    <tr>\n",
       "      <th>3_4DHBZt2</th>\n",
       "      <td>0.0</td>\n",
       "      <td>0.000000e+00</td>\n",
       "    </tr>\n",
       "  </tbody>\n",
       "</table>\n",
       "<p>1539 rows × 2 columns</p>\n",
       "</div>"
      ],
      "text/plain": [
       "<Solution 0.190 at 0x16c37c96a60>"
      ]
     },
     "execution_count": 159,
     "metadata": {},
     "output_type": "execute_result"
    }
   ],
   "source": [
    "model_LYS_8_9 = model_LYS_7.copy()\n",
    "\n",
    "fold_change = 1.5\n",
    "\n",
    "model_LYS_8_9.reactions.PC.bounds = (fold_change*model_LYS_7.reactions.PC.lower_bound, fold_change*model_LYS_7.reactions.PC.upper_bound)\n",
    "\n",
    "model_LYS_8_9.objective = model_LYS_8_9.reactions.DAPDC\n",
    "\n",
    "solution_LYS_8_9 = model_LYS_8_9.optimize()\n",
    "print(f'Flux through DAPDC reaction is: {round(solution_LYS_8_9[\"DAPDC\"], 4)} mmol/gDW*h')\n",
    "\n",
    "solution_LYS_8_9"
   ]
  },
  {
   "cell_type": "markdown",
   "id": "b81103f3",
   "metadata": {},
   "source": [
    "### LYS10: down regulation of **icd** by inserting a rare codon"
   ]
  },
  {
   "cell_type": "code",
   "execution_count": 169,
   "id": "32c4e24e",
   "metadata": {},
   "outputs": [
    {
     "data": {
      "text/html": [
       "\n",
       "        <table>\n",
       "            <tr>\n",
       "                <td><strong>Gene identifier</strong></td><td>lcl_NC_006958_1_prot_WP_011013800_1_641</td>\n",
       "            </tr><tr>\n",
       "                <td><strong>Name</strong></td><td>G_lcl_NC_006958_1_prot_WP_011013800_1_641</td>\n",
       "            </tr><tr>\n",
       "                <td><strong>Memory address</strong></td>\n",
       "                <td>0x16c2b603ac0</td>\n",
       "            </tr><tr>\n",
       "                <td><strong>Functional</strong></td><td>True</td>\n",
       "            </tr><tr>\n",
       "                <td><strong>In 1 reaction(s)</strong></td><td>\n",
       "                    ICDHyr\n",
       "                    </td>\n",
       "            </tr>\n",
       "        </table>"
      ],
      "text/plain": [
       "<Gene lcl_NC_006958_1_prot_WP_011013800_1_641 at 0x16c2b603ac0>"
      ]
     },
     "execution_count": 169,
     "metadata": {},
     "output_type": "execute_result"
    }
   ],
   "source": [
    "getFullGeneName(genes['icd'])"
   ]
  },
  {
   "cell_type": "code",
   "execution_count": 170,
   "id": "3f55e029",
   "metadata": {},
   "outputs": [
    {
     "data": {
      "text/html": [
       "\n",
       "        <table>\n",
       "            <tr>\n",
       "                <td><strong>Reaction identifier</strong></td><td>ICDHyr</td>\n",
       "            </tr><tr>\n",
       "                <td><strong>Name</strong></td><td>Isocitrate dehydrogenase (NADP)</td>\n",
       "            </tr><tr>\n",
       "                <td><strong>Memory address</strong></td>\n",
       "                <td>0x16c2bcb7d60</td>\n",
       "            </tr><tr>\n",
       "                <td><strong>Stoichiometry</strong></td>\n",
       "                <td>\n",
       "                    <p style='text-align:right'>icit_c + nadp_c <=> akg_c + co2_c + nadph_c</p>\n",
       "                    <p style='text-align:right'>Isocitrate + Nicotinamide adenine dinucleotide phosphate <=> 2-Oxoglutarate + CO2 + Nicotinamide adenine dinucleotide phosphate - reduced</p>\n",
       "                </td>\n",
       "            </tr><tr>\n",
       "                <td><strong>GPR</strong></td><td>lcl_NC_006958_1_prot_WP_011013800_1_641</td>\n",
       "            </tr><tr>\n",
       "                <td><strong>Lower bound</strong></td><td>-1000.0</td>\n",
       "            </tr><tr>\n",
       "                <td><strong>Upper bound</strong></td><td>1000.0</td>\n",
       "            </tr>\n",
       "        </table>\n",
       "        "
      ],
      "text/plain": [
       "<Reaction ICDHyr at 0x16c2bcb7d60>"
      ]
     },
     "execution_count": 170,
     "metadata": {},
     "output_type": "execute_result"
    }
   ],
   "source": [
    "model.reactions.ICDHyr"
   ]
  },
  {
   "cell_type": "code",
   "execution_count": 171,
   "id": "7c3aa190",
   "metadata": {},
   "outputs": [
    {
     "name": "stdout",
     "output_type": "stream",
     "text": [
      "Flux through DAPDC reaction is: 0.1896 mmol/gDW*h\n"
     ]
    },
    {
     "data": {
      "text/html": [
       "<strong><em>Optimal</em> solution with objective value 0.190</strong><br><div>\n",
       "<style scoped>\n",
       "    .dataframe tbody tr th:only-of-type {\n",
       "        vertical-align: middle;\n",
       "    }\n",
       "\n",
       "    .dataframe tbody tr th {\n",
       "        vertical-align: top;\n",
       "    }\n",
       "\n",
       "    .dataframe thead th {\n",
       "        text-align: right;\n",
       "    }\n",
       "</style>\n",
       "<table border=\"1\" class=\"dataframe\">\n",
       "  <thead>\n",
       "    <tr style=\"text-align: right;\">\n",
       "      <th></th>\n",
       "      <th>fluxes</th>\n",
       "      <th>reduced_costs</th>\n",
       "    </tr>\n",
       "  </thead>\n",
       "  <tbody>\n",
       "    <tr>\n",
       "      <th>12DGR120tipp</th>\n",
       "      <td>0.0</td>\n",
       "      <td>0.000000e+00</td>\n",
       "    </tr>\n",
       "    <tr>\n",
       "      <th>12DGR140tipp</th>\n",
       "      <td>0.0</td>\n",
       "      <td>0.000000e+00</td>\n",
       "    </tr>\n",
       "    <tr>\n",
       "      <th>12DGR161tipp</th>\n",
       "      <td>0.0</td>\n",
       "      <td>0.000000e+00</td>\n",
       "    </tr>\n",
       "    <tr>\n",
       "      <th>12DGR180tipp</th>\n",
       "      <td>0.0</td>\n",
       "      <td>0.000000e+00</td>\n",
       "    </tr>\n",
       "    <tr>\n",
       "      <th>12DGR181tipp</th>\n",
       "      <td>0.0</td>\n",
       "      <td>0.000000e+00</td>\n",
       "    </tr>\n",
       "    <tr>\n",
       "      <th>...</th>\n",
       "      <td>...</td>\n",
       "      <td>...</td>\n",
       "    </tr>\n",
       "    <tr>\n",
       "      <th>EX_pyr_e</th>\n",
       "      <td>0.0</td>\n",
       "      <td>-1.025102e-03</td>\n",
       "    </tr>\n",
       "    <tr>\n",
       "      <th>L_LACtex</th>\n",
       "      <td>0.0</td>\n",
       "      <td>-1.084202e-19</td>\n",
       "    </tr>\n",
       "    <tr>\n",
       "      <th>CYTB1</th>\n",
       "      <td>20.0</td>\n",
       "      <td>0.000000e+00</td>\n",
       "    </tr>\n",
       "    <tr>\n",
       "      <th>EX_34dhbz_e</th>\n",
       "      <td>0.0</td>\n",
       "      <td>0.000000e+00</td>\n",
       "    </tr>\n",
       "    <tr>\n",
       "      <th>3_4DHBZt2</th>\n",
       "      <td>0.0</td>\n",
       "      <td>0.000000e+00</td>\n",
       "    </tr>\n",
       "  </tbody>\n",
       "</table>\n",
       "<p>1539 rows × 2 columns</p>\n",
       "</div>"
      ],
      "text/plain": [
       "<Solution 0.190 at 0x16c3276c8e0>"
      ]
     },
     "execution_count": 171,
     "metadata": {},
     "output_type": "execute_result"
    }
   ],
   "source": [
    "model_LYS_10 = model_LYS_8_9.copy()\n",
    "\n",
    "fold_change = 0.5\n",
    "\n",
    "model_LYS_10.reactions.ICDHyr.bounds = (fold_change*model_LYS_8_9.reactions.ICDHyr.lower_bound, fold_change*model_LYS_8_9.reactions.ICDHyr.upper_bound)\n",
    "\n",
    "model_LYS_10.objective = model_LYS_10.reactions.DAPDC\n",
    "\n",
    "solution_LYS_10 = model_LYS_10.optimize()\n",
    "print(f'Flux through DAPDC reaction is: {round(solution_LYS_10[\"DAPDC\"], 4)} mmol/gDW*h')\n",
    "\n",
    "solution_LYS_10"
   ]
  },
  {
   "cell_type": "code",
   "execution_count": 172,
   "id": "b285f795",
   "metadata": {},
   "outputs": [
    {
     "data": {
      "text/html": [
       "\n",
       "        <table>\n",
       "            <tr>\n",
       "                <td><strong>Gene identifier</strong></td><td>lcl_NC_006958_1_prot_WP_011014765_1_1834</td>\n",
       "            </tr><tr>\n",
       "                <td><strong>Name</strong></td><td>G_lcl_NC_006958_1_prot_WP_011014765_1_1834</td>\n",
       "            </tr><tr>\n",
       "                <td><strong>Memory address</strong></td>\n",
       "                <td>0x16c2b5e5670</td>\n",
       "            </tr><tr>\n",
       "                <td><strong>Functional</strong></td><td>True</td>\n",
       "            </tr><tr>\n",
       "                <td><strong>In 2 reaction(s)</strong></td><td>\n",
       "                    FRUK, PFK\n",
       "                    </td>\n",
       "            </tr>\n",
       "        </table>"
      ],
      "text/plain": [
       "<Gene lcl_NC_006958_1_prot_WP_011014765_1_1834 at 0x16c2b5e5670>"
      ]
     },
     "execution_count": 172,
     "metadata": {},
     "output_type": "execute_result"
    }
   ],
   "source": [
    "getFullGeneName(genes['fbp'])"
   ]
  },
  {
   "cell_type": "code",
   "execution_count": 173,
   "id": "2cb60761",
   "metadata": {},
   "outputs": [
    {
     "data": {
      "text/html": [
       "\n",
       "        <table>\n",
       "            <tr>\n",
       "                <td><strong>Reaction identifier</strong></td><td>FRUK</td>\n",
       "            </tr><tr>\n",
       "                <td><strong>Name</strong></td><td>Fructose-1-phosphate kinase</td>\n",
       "            </tr><tr>\n",
       "                <td><strong>Memory address</strong></td>\n",
       "                <td>0x16c2bb28a30</td>\n",
       "            </tr><tr>\n",
       "                <td><strong>Stoichiometry</strong></td>\n",
       "                <td>\n",
       "                    <p style='text-align:right'>atp_c + f1p_c --> adp_c + fdp_c + h_c</p>\n",
       "                    <p style='text-align:right'>ATP + D-Fructose 1-phosphate --> ADP + D-Fructose 1,6-bisphosphate + H+</p>\n",
       "                </td>\n",
       "            </tr><tr>\n",
       "                <td><strong>GPR</strong></td><td>lcl_NC_006958_1_prot_WP_011014765_1_1834</td>\n",
       "            </tr><tr>\n",
       "                <td><strong>Lower bound</strong></td><td>0.0</td>\n",
       "            </tr><tr>\n",
       "                <td><strong>Upper bound</strong></td><td>1000.0</td>\n",
       "            </tr>\n",
       "        </table>\n",
       "        "
      ],
      "text/plain": [
       "<Reaction FRUK at 0x16c2bb28a30>"
      ]
     },
     "execution_count": 173,
     "metadata": {},
     "output_type": "execute_result"
    }
   ],
   "source": [
    "model.reactions.FRUK"
   ]
  },
  {
   "cell_type": "code",
   "execution_count": 189,
   "id": "1759fbab",
   "metadata": {},
   "outputs": [
    {
     "data": {
      "text/html": [
       "\n",
       "        <table>\n",
       "            <tr>\n",
       "                <td><strong>Reaction identifier</strong></td><td>PFK</td>\n",
       "            </tr><tr>\n",
       "                <td><strong>Name</strong></td><td>Phosphofructokinase</td>\n",
       "            </tr><tr>\n",
       "                <td><strong>Memory address</strong></td>\n",
       "                <td>0x16c2bf518b0</td>\n",
       "            </tr><tr>\n",
       "                <td><strong>Stoichiometry</strong></td>\n",
       "                <td>\n",
       "                    <p style='text-align:right'>atp_c + f6p_c --> adp_c + fdp_c + h_c</p>\n",
       "                    <p style='text-align:right'>ATP + D-Fructose 6-phosphate --> ADP + D-Fructose 1,6-bisphosphate + H+</p>\n",
       "                </td>\n",
       "            </tr><tr>\n",
       "                <td><strong>GPR</strong></td><td>lcl_NC_006958_1_prot_WP_011014765_1_1834 or lcl_NC_006958_1_prot_WP_011265707_1_1214</td>\n",
       "            </tr><tr>\n",
       "                <td><strong>Lower bound</strong></td><td>0.0</td>\n",
       "            </tr><tr>\n",
       "                <td><strong>Upper bound</strong></td><td>1000.0</td>\n",
       "            </tr>\n",
       "        </table>\n",
       "        "
      ],
      "text/plain": [
       "<Reaction PFK at 0x16c2bf518b0>"
      ]
     },
     "execution_count": 189,
     "metadata": {},
     "output_type": "execute_result"
    }
   ],
   "source": [
    "model.reactions.PFK"
   ]
  },
  {
   "cell_type": "markdown",
   "id": "3b30ab20",
   "metadata": {},
   "source": [
    "### LYS11: overexpression of FBPase"
   ]
  },
  {
   "cell_type": "code",
   "execution_count": 190,
   "id": "0000cb76",
   "metadata": {},
   "outputs": [
    {
     "name": "stdout",
     "output_type": "stream",
     "text": [
      "Flux through DAPDC reaction is: 0.1896 mmol/gDW*h\n"
     ]
    },
    {
     "data": {
      "text/html": [
       "<strong><em>Optimal</em> solution with objective value 0.190</strong><br><div>\n",
       "<style scoped>\n",
       "    .dataframe tbody tr th:only-of-type {\n",
       "        vertical-align: middle;\n",
       "    }\n",
       "\n",
       "    .dataframe tbody tr th {\n",
       "        vertical-align: top;\n",
       "    }\n",
       "\n",
       "    .dataframe thead th {\n",
       "        text-align: right;\n",
       "    }\n",
       "</style>\n",
       "<table border=\"1\" class=\"dataframe\">\n",
       "  <thead>\n",
       "    <tr style=\"text-align: right;\">\n",
       "      <th></th>\n",
       "      <th>fluxes</th>\n",
       "      <th>reduced_costs</th>\n",
       "    </tr>\n",
       "  </thead>\n",
       "  <tbody>\n",
       "    <tr>\n",
       "      <th>12DGR120tipp</th>\n",
       "      <td>0.0</td>\n",
       "      <td>0.000000e+00</td>\n",
       "    </tr>\n",
       "    <tr>\n",
       "      <th>12DGR140tipp</th>\n",
       "      <td>0.0</td>\n",
       "      <td>0.000000e+00</td>\n",
       "    </tr>\n",
       "    <tr>\n",
       "      <th>12DGR161tipp</th>\n",
       "      <td>0.0</td>\n",
       "      <td>0.000000e+00</td>\n",
       "    </tr>\n",
       "    <tr>\n",
       "      <th>12DGR180tipp</th>\n",
       "      <td>0.0</td>\n",
       "      <td>0.000000e+00</td>\n",
       "    </tr>\n",
       "    <tr>\n",
       "      <th>12DGR181tipp</th>\n",
       "      <td>0.0</td>\n",
       "      <td>0.000000e+00</td>\n",
       "    </tr>\n",
       "    <tr>\n",
       "      <th>...</th>\n",
       "      <td>...</td>\n",
       "      <td>...</td>\n",
       "    </tr>\n",
       "    <tr>\n",
       "      <th>EX_pyr_e</th>\n",
       "      <td>0.0</td>\n",
       "      <td>-1.025102e-03</td>\n",
       "    </tr>\n",
       "    <tr>\n",
       "      <th>L_LACtex</th>\n",
       "      <td>0.0</td>\n",
       "      <td>-1.084202e-19</td>\n",
       "    </tr>\n",
       "    <tr>\n",
       "      <th>CYTB1</th>\n",
       "      <td>20.0</td>\n",
       "      <td>0.000000e+00</td>\n",
       "    </tr>\n",
       "    <tr>\n",
       "      <th>EX_34dhbz_e</th>\n",
       "      <td>0.0</td>\n",
       "      <td>0.000000e+00</td>\n",
       "    </tr>\n",
       "    <tr>\n",
       "      <th>3_4DHBZt2</th>\n",
       "      <td>0.0</td>\n",
       "      <td>0.000000e+00</td>\n",
       "    </tr>\n",
       "  </tbody>\n",
       "</table>\n",
       "<p>1539 rows × 2 columns</p>\n",
       "</div>"
      ],
      "text/plain": [
       "<Solution 0.190 at 0x16c347cb1c0>"
      ]
     },
     "execution_count": 190,
     "metadata": {},
     "output_type": "execute_result"
    }
   ],
   "source": [
    "model_LYS_11 = model_LYS_10.copy()\n",
    "\n",
    "fold_change = 1.5\n",
    "\n",
    "model_LYS_11.reactions.FRUK.bounds = (fold_change*model_LYS_10.reactions.FRUK.lower_bound, fold_change*model_LYS_10.reactions.FRUK.upper_bound)\n",
    "model_LYS_11.reactions.PFK.bounds = (fold_change*model_LYS_10.reactions.PFK.lower_bound, fold_change*model_LYS_10.reactions.PFK.upper_bound)\n",
    "\n",
    "model_LYS_11.objective = model_LYS_11.reactions.DAPDC\n",
    "\n",
    "solution_LYS_11 = model_LYS_10.optimize()\n",
    "print(f'Flux through DAPDC reaction is: {round(solution_LYS_11[\"DAPDC\"], 4)} mmol/gDW*h')\n",
    "\n",
    "solution_LYS_11"
   ]
  },
  {
   "cell_type": "markdown",
   "id": "23b540d7",
   "metadata": {},
   "source": [
    "### LYS12: overexpression the transketolase operone (tkt)"
   ]
  },
  {
   "cell_type": "code",
   "execution_count": 181,
   "id": "b624b5cb",
   "metadata": {},
   "outputs": [
    {
     "data": {
      "text/html": [
       "\n",
       "        <table>\n",
       "            <tr>\n",
       "                <td><strong>Gene identifier</strong></td><td>lcl_NC_006958_1_prot_WP_011014456_1_1529</td>\n",
       "            </tr><tr>\n",
       "                <td><strong>Name</strong></td><td>G_lcl_NC_006958_1_prot_WP_011014456_1_1529</td>\n",
       "            </tr><tr>\n",
       "                <td><strong>Memory address</strong></td>\n",
       "                <td>0x16c2b676400</td>\n",
       "            </tr><tr>\n",
       "                <td><strong>Functional</strong></td><td>True</td>\n",
       "            </tr><tr>\n",
       "                <td><strong>In 2 reaction(s)</strong></td><td>\n",
       "                    TKT2, TKT1\n",
       "                    </td>\n",
       "            </tr>\n",
       "        </table>"
      ],
      "text/plain": [
       "<Gene lcl_NC_006958_1_prot_WP_011014456_1_1529 at 0x16c2b676400>"
      ]
     },
     "execution_count": 181,
     "metadata": {},
     "output_type": "execute_result"
    }
   ],
   "source": [
    "getFullGeneName(genes['tkt'])"
   ]
  },
  {
   "cell_type": "code",
   "execution_count": 182,
   "id": "5452da57",
   "metadata": {},
   "outputs": [
    {
     "data": {
      "text/html": [
       "\n",
       "        <table>\n",
       "            <tr>\n",
       "                <td><strong>Reaction identifier</strong></td><td>TKT1</td>\n",
       "            </tr><tr>\n",
       "                <td><strong>Name</strong></td><td>Transketolase</td>\n",
       "            </tr><tr>\n",
       "                <td><strong>Memory address</strong></td>\n",
       "                <td>0x16c2b742070</td>\n",
       "            </tr><tr>\n",
       "                <td><strong>Stoichiometry</strong></td>\n",
       "                <td>\n",
       "                    <p style='text-align:right'>r5p_c + xu5p__D_c <=> g3p_c + s7p_c</p>\n",
       "                    <p style='text-align:right'>Alpha-D-Ribose 5-phosphate + D-Xylulose 5-phosphate <=> Glyceraldehyde 3-phosphate + Sedoheptulose 7-phosphate</p>\n",
       "                </td>\n",
       "            </tr><tr>\n",
       "                <td><strong>GPR</strong></td><td>lcl_NC_006958_1_prot_WP_011014456_1_1529</td>\n",
       "            </tr><tr>\n",
       "                <td><strong>Lower bound</strong></td><td>-1000.0</td>\n",
       "            </tr><tr>\n",
       "                <td><strong>Upper bound</strong></td><td>1000.0</td>\n",
       "            </tr>\n",
       "        </table>\n",
       "        "
      ],
      "text/plain": [
       "<Reaction TKT1 at 0x16c2b742070>"
      ]
     },
     "execution_count": 182,
     "metadata": {},
     "output_type": "execute_result"
    }
   ],
   "source": [
    "model.reactions.TKT1"
   ]
  },
  {
   "cell_type": "code",
   "execution_count": 183,
   "id": "bc337d9c",
   "metadata": {},
   "outputs": [
    {
     "data": {
      "text/html": [
       "\n",
       "        <table>\n",
       "            <tr>\n",
       "                <td><strong>Reaction identifier</strong></td><td>TKT1</td>\n",
       "            </tr><tr>\n",
       "                <td><strong>Name</strong></td><td>Transketolase</td>\n",
       "            </tr><tr>\n",
       "                <td><strong>Memory address</strong></td>\n",
       "                <td>0x16c2b742070</td>\n",
       "            </tr><tr>\n",
       "                <td><strong>Stoichiometry</strong></td>\n",
       "                <td>\n",
       "                    <p style='text-align:right'>r5p_c + xu5p__D_c <=> g3p_c + s7p_c</p>\n",
       "                    <p style='text-align:right'>Alpha-D-Ribose 5-phosphate + D-Xylulose 5-phosphate <=> Glyceraldehyde 3-phosphate + Sedoheptulose 7-phosphate</p>\n",
       "                </td>\n",
       "            </tr><tr>\n",
       "                <td><strong>GPR</strong></td><td>lcl_NC_006958_1_prot_WP_011014456_1_1529</td>\n",
       "            </tr><tr>\n",
       "                <td><strong>Lower bound</strong></td><td>-1000.0</td>\n",
       "            </tr><tr>\n",
       "                <td><strong>Upper bound</strong></td><td>1000.0</td>\n",
       "            </tr>\n",
       "        </table>\n",
       "        "
      ],
      "text/plain": [
       "<Reaction TKT1 at 0x16c2b742070>"
      ]
     },
     "execution_count": 183,
     "metadata": {},
     "output_type": "execute_result"
    }
   ],
   "source": [
    "model.reactions.TKT2"
   ]
  },
  {
   "cell_type": "code",
   "execution_count": 188,
   "id": "444de95d",
   "metadata": {},
   "outputs": [
    {
     "name": "stdout",
     "output_type": "stream",
     "text": [
      "Flux through DAPDC reaction is: 0.1896 mmol/gDW*h\n"
     ]
    },
    {
     "data": {
      "text/html": [
       "<strong><em>Optimal</em> solution with objective value 0.190</strong><br><div>\n",
       "<style scoped>\n",
       "    .dataframe tbody tr th:only-of-type {\n",
       "        vertical-align: middle;\n",
       "    }\n",
       "\n",
       "    .dataframe tbody tr th {\n",
       "        vertical-align: top;\n",
       "    }\n",
       "\n",
       "    .dataframe thead th {\n",
       "        text-align: right;\n",
       "    }\n",
       "</style>\n",
       "<table border=\"1\" class=\"dataframe\">\n",
       "  <thead>\n",
       "    <tr style=\"text-align: right;\">\n",
       "      <th></th>\n",
       "      <th>fluxes</th>\n",
       "      <th>reduced_costs</th>\n",
       "    </tr>\n",
       "  </thead>\n",
       "  <tbody>\n",
       "    <tr>\n",
       "      <th>12DGR120tipp</th>\n",
       "      <td>0.0</td>\n",
       "      <td>0.000000e+00</td>\n",
       "    </tr>\n",
       "    <tr>\n",
       "      <th>12DGR140tipp</th>\n",
       "      <td>0.0</td>\n",
       "      <td>0.000000e+00</td>\n",
       "    </tr>\n",
       "    <tr>\n",
       "      <th>12DGR161tipp</th>\n",
       "      <td>0.0</td>\n",
       "      <td>0.000000e+00</td>\n",
       "    </tr>\n",
       "    <tr>\n",
       "      <th>12DGR180tipp</th>\n",
       "      <td>0.0</td>\n",
       "      <td>0.000000e+00</td>\n",
       "    </tr>\n",
       "    <tr>\n",
       "      <th>12DGR181tipp</th>\n",
       "      <td>0.0</td>\n",
       "      <td>0.000000e+00</td>\n",
       "    </tr>\n",
       "    <tr>\n",
       "      <th>...</th>\n",
       "      <td>...</td>\n",
       "      <td>...</td>\n",
       "    </tr>\n",
       "    <tr>\n",
       "      <th>EX_pyr_e</th>\n",
       "      <td>0.0</td>\n",
       "      <td>-1.025102e-03</td>\n",
       "    </tr>\n",
       "    <tr>\n",
       "      <th>L_LACtex</th>\n",
       "      <td>0.0</td>\n",
       "      <td>-1.084202e-19</td>\n",
       "    </tr>\n",
       "    <tr>\n",
       "      <th>CYTB1</th>\n",
       "      <td>20.0</td>\n",
       "      <td>0.000000e+00</td>\n",
       "    </tr>\n",
       "    <tr>\n",
       "      <th>EX_34dhbz_e</th>\n",
       "      <td>0.0</td>\n",
       "      <td>0.000000e+00</td>\n",
       "    </tr>\n",
       "    <tr>\n",
       "      <th>3_4DHBZt2</th>\n",
       "      <td>0.0</td>\n",
       "      <td>0.000000e+00</td>\n",
       "    </tr>\n",
       "  </tbody>\n",
       "</table>\n",
       "<p>1539 rows × 2 columns</p>\n",
       "</div>"
      ],
      "text/plain": [
       "<Solution 0.190 at 0x16c33810f70>"
      ]
     },
     "execution_count": 188,
     "metadata": {},
     "output_type": "execute_result"
    }
   ],
   "source": [
    "model_LYS_12 = model_LYS_11.copy()\n",
    "\n",
    "fold_change = 1.5\n",
    "\n",
    "model_LYS_12.reactions.TKT1.bounds = (fold_change*model_LYS_11.reactions.TKT1.lower_bound, fold_change*model_LYS_11.reactions.TKT1.upper_bound)\n",
    "model_LYS_12.reactions.TKT2.bounds = (fold_change*model_LYS_11.reactions.TKT2.lower_bound, fold_change*model_LYS_11.reactions.TKT2.upper_bound)\n",
    "model_LYS_12.objective = model_LYS_12.reactions.DAPDC\n",
    "\n",
    "solution_LYS_12 = model_LYS_12.optimize()\n",
    "print(f'Flux through DAPDC reaction is: {round(solution_LYS_12[\"DAPDC\"], 4)} mmol/gDW*h')\n",
    "\n",
    "solution_LYS_12"
   ]
  },
  {
   "cell_type": "markdown",
   "id": "2a2103cf",
   "metadata": {},
   "source": [
    "### One knokout more"
   ]
  },
  {
   "cell_type": "code",
   "execution_count": 187,
   "id": "88e1e96a",
   "metadata": {},
   "outputs": [
    {
     "name": "stdout",
     "output_type": "stream",
     "text": [
      "Flux through DAPDC reaction is: 0.1896 mmol/gDW*h\n"
     ]
    },
    {
     "data": {
      "text/html": [
       "<strong><em>Optimal</em> solution with objective value 0.190</strong><br><div>\n",
       "<style scoped>\n",
       "    .dataframe tbody tr th:only-of-type {\n",
       "        vertical-align: middle;\n",
       "    }\n",
       "\n",
       "    .dataframe tbody tr th {\n",
       "        vertical-align: top;\n",
       "    }\n",
       "\n",
       "    .dataframe thead th {\n",
       "        text-align: right;\n",
       "    }\n",
       "</style>\n",
       "<table border=\"1\" class=\"dataframe\">\n",
       "  <thead>\n",
       "    <tr style=\"text-align: right;\">\n",
       "      <th></th>\n",
       "      <th>fluxes</th>\n",
       "      <th>reduced_costs</th>\n",
       "    </tr>\n",
       "  </thead>\n",
       "  <tbody>\n",
       "    <tr>\n",
       "      <th>12DGR120tipp</th>\n",
       "      <td>0.0</td>\n",
       "      <td>0.000000e+00</td>\n",
       "    </tr>\n",
       "    <tr>\n",
       "      <th>12DGR140tipp</th>\n",
       "      <td>0.0</td>\n",
       "      <td>0.000000e+00</td>\n",
       "    </tr>\n",
       "    <tr>\n",
       "      <th>12DGR161tipp</th>\n",
       "      <td>0.0</td>\n",
       "      <td>0.000000e+00</td>\n",
       "    </tr>\n",
       "    <tr>\n",
       "      <th>12DGR180tipp</th>\n",
       "      <td>0.0</td>\n",
       "      <td>0.000000e+00</td>\n",
       "    </tr>\n",
       "    <tr>\n",
       "      <th>12DGR181tipp</th>\n",
       "      <td>0.0</td>\n",
       "      <td>0.000000e+00</td>\n",
       "    </tr>\n",
       "    <tr>\n",
       "      <th>...</th>\n",
       "      <td>...</td>\n",
       "      <td>...</td>\n",
       "    </tr>\n",
       "    <tr>\n",
       "      <th>EX_pyr_e</th>\n",
       "      <td>0.0</td>\n",
       "      <td>-1.025102e-03</td>\n",
       "    </tr>\n",
       "    <tr>\n",
       "      <th>L_LACtex</th>\n",
       "      <td>0.0</td>\n",
       "      <td>-1.084202e-19</td>\n",
       "    </tr>\n",
       "    <tr>\n",
       "      <th>CYTB1</th>\n",
       "      <td>20.0</td>\n",
       "      <td>0.000000e+00</td>\n",
       "    </tr>\n",
       "    <tr>\n",
       "      <th>EX_34dhbz_e</th>\n",
       "      <td>0.0</td>\n",
       "      <td>0.000000e+00</td>\n",
       "    </tr>\n",
       "    <tr>\n",
       "      <th>3_4DHBZt2</th>\n",
       "      <td>0.0</td>\n",
       "      <td>0.000000e+00</td>\n",
       "    </tr>\n",
       "  </tbody>\n",
       "</table>\n",
       "<p>1539 rows × 2 columns</p>\n",
       "</div>"
      ],
      "text/plain": [
       "<Solution 0.190 at 0x16c3446f8b0>"
      ]
     },
     "execution_count": 187,
     "metadata": {},
     "output_type": "execute_result"
    }
   ],
   "source": [
    "one_more_model = model_LYS_12.copy()\n",
    "with one_more_model:\n",
    "    one_more_model.genes.get_by_id(\"lcl_NC_006958_1_prot_WP_011014457_1_1531\").knock_out()\n",
    "    \n",
    "one_more_model.objective = one_more_model.reactions.DAPDC\n",
    "\n",
    "solution_one_more = one_more_model.optimize()\n",
    "print(f'Flux through DAPDC reaction is: {round(solution_one_more[\"DAPDC\"], 4)} mmol/gDW*h')\n",
    "\n",
    "solution_one_more"
   ]
  },
  {
   "cell_type": "code",
   "execution_count": null,
   "id": "72760915",
   "metadata": {},
   "outputs": [],
   "source": []
  },
  {
   "cell_type": "code",
   "execution_count": null,
   "id": "db9bf065",
   "metadata": {},
   "outputs": [],
   "source": []
  },
  {
   "cell_type": "markdown",
   "id": "3a67a777",
   "metadata": {},
   "source": [
    "## Optknock"
   ]
  },
  {
   "cell_type": "code",
   "execution_count": null,
   "id": "12c1ac63",
   "metadata": {},
   "outputs": [],
   "source": [
    "from cameo.strain_design.deterministic import OptKnock\n",
    "\n",
    "model.reactions.Growth.lower_bound = 0.1\n",
    "\n",
    "#SolverNotFound: gurobi is not a valid solver interface. Pick one from glpk_exact, glpk, scipy.\n",
    "\n",
    "model.solver = \"glpk_exact\" # Using gurobi or cplex is recommended\n",
    "optknock = OptKnock(model)\n",
    "\n",
    "result = optknock.run(max_knockouts=1, target=\"DAPDC\", biomass=\"Growth\", max_results=1)\n",
    "\n",
    "# result2 = optknock.run(, )\n"
   ]
  },
  {
   "cell_type": "code",
   "execution_count": null,
   "id": "7c5ff147",
   "metadata": {},
   "outputs": [],
   "source": []
  },
  {
   "cell_type": "code",
   "execution_count": null,
   "id": "65ef1cae",
   "metadata": {},
   "outputs": [],
   "source": []
  },
  {
   "cell_type": "code",
   "execution_count": null,
   "id": "5566b507",
   "metadata": {},
   "outputs": [],
   "source": []
  }
 ],
 "metadata": {
  "kernelspec": {
   "display_name": "Python 3",
   "language": "python",
   "name": "python3"
  },
  "language_info": {
   "codemirror_mode": {
    "name": "ipython",
    "version": 3
   },
   "file_extension": ".py",
   "mimetype": "text/x-python",
   "name": "python",
   "nbconvert_exporter": "python",
   "pygments_lexer": "ipython3",
   "version": "3.8.8"
  }
 },
 "nbformat": 4,
 "nbformat_minor": 5
}
