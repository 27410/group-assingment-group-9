{
 "cells": [
  {
   "cell_type": "code",
   "execution_count": 50,
   "id": "947756ce",
   "metadata": {},
   "outputs": [
    {
     "name": "stderr",
     "output_type": "stream",
     "text": [
      "SBML package 'layout' not supported by cobrapy, information is not parsed\n",
      "https://juser.fz-juelich.de/record/188973 does not conform to 'http(s)://identifiers.org/collection/id' or'http(s)://identifiers.org/COLLECTION:id\n"
     ]
    }
   ],
   "source": [
    "from cobra.io import read_sbml_model\n",
    "from collections import defaultdict\n",
    "from Bio import Entrez, SeqIO\n",
    "import re\n",
    "import time\n",
    "from Bio import pairwise2\n",
    "\n",
    "model = read_sbml_model('iCGB21FR.xml')"
   ]
  },
  {
   "cell_type": "markdown",
   "id": "5b7958c2",
   "metadata": {},
   "source": [
    "The issue with the model \"iCGB21FR.xml\" is that its authors have named the genes in the following format **\"lcl_{locus}_prot_{protein_id}_{unknown_digits}\"**. An exemple name of the genes from the model would look like this: lcl_NC_006958_1_prot_WP_003859586_1_2138\n",
    "\n",
    "In which **\"NC_006958\"** is the locus represent the complete sequence of Corynebacterium glutamicum ATCC 13032, and **WP_XXXXXXXXX** represent the protein_id of its genes.\n",
    "\n",
    "\n",
    "**This results in adding an extra step of finding the gene name for the concerned protein ids.**\n"
   ]
  },
  {
   "cell_type": "markdown",
   "id": "00a5d60f",
   "metadata": {},
   "source": [
    "# Mapping:\n",
    "- reaction -> genes\n",
    "- gene -> reactions"
   ]
  },
  {
   "cell_type": "code",
   "execution_count": 51,
   "id": "41463f98",
   "metadata": {},
   "outputs": [
    {
     "name": "stdout",
     "output_type": "stream",
     "text": [
      "1539 reactions in 'iCGB21FR' model\n",
      "805 genes in 'iCGB21FR' model\n"
     ]
    }
   ],
   "source": [
    "print(f\"{len(model.reactions)} reactions in 'iCGB21FR' model\")\n",
    "print(f\"{len(model.genes)} genes in 'iCGB21FR' model\")"
   ]
  },
  {
   "cell_type": "code",
   "execution_count": 52,
   "id": "127bfca5",
   "metadata": {},
   "outputs": [],
   "source": [
    "reaction_to_genes = {}\n",
    "gene_to_reactions = {}\n",
    "\n",
    "def mapReactionToGenes():    \n",
    "    for reaction in model.reactions:\n",
    "        gene_ids = []\n",
    "        for gene in reaction.genes:\n",
    "            gene_ids.append(gene.id)\n",
    "            \n",
    "        reaction_to_genes[reaction.id] = gene_ids\n",
    "\n",
    "def mapGeneToReactions():\n",
    "    for reaction_id, gene_ids in reaction_to_genes.items():\n",
    "        for gene_id in gene_ids:\n",
    "            if gene_id:\n",
    "                if gene_id not in gene_to_reactions:\n",
    "                    gene_to_reactions[gene_id] = [reaction_id]\n",
    "                else:\n",
    "                    gene_to_reactions[gene_id].append(reaction_id)\n",
    "    \n",
    "mapReactionToGenes()\n",
    "mapGeneToReactions()"
   ]
  },
  {
   "cell_type": "code",
   "execution_count": 53,
   "id": "c2141495",
   "metadata": {},
   "outputs": [
    {
     "name": "stdout",
     "output_type": "stream",
     "text": [
      "1539 reactions are mapped in total\n",
      "1077 reactions have a genetic component (coded by at least one gene)\n",
      "\n",
      "   ...\n",
      "2AGPG141tipp -> \n",
      "2AGPGAT141 -> \n",
      "2HH24DDH -> \n",
      "2MAHMP -> \n",
      "    lcl_NC_006958_1_prot_WP_003855288_1_2949\n",
      "    lcl_NC_006958_1_prot_WP_011015468_1_2761\n",
      "2PGLYCt6 -> \n",
      "3HAD140 -> \n",
      "3MBt2pp -> \n",
      "    lcl_NC_006958_1_prot_WP_011013917_1_810\n",
      "3MBt4pp -> \n",
      "    lcl_NC_006958_1_prot_WP_011013917_1_810\n",
      "3MBtex -> \n",
      "3OADPCOAT -> \n",
      "   ...\n"
     ]
    }
   ],
   "source": [
    "print(f\"{len(reaction_to_genes)} reactions are mapped in total\")\n",
    "\n",
    "reactions_coded_by_genes = 0\n",
    "for reaction, genes in list(reaction_to_genes.items()):\n",
    "    if len(genes) > 0:\n",
    "        reactions_coded_by_genes +=1\n",
    "print(f\"{reactions_coded_by_genes} reactions have a genetic component (coded by at least one gene)\\n\")\n",
    "\n",
    "print(\"   ...\")\n",
    "for reaction, genes in list(reaction_to_genes.items())[15:25]:\n",
    "    print(f\"{reaction} -> \")\n",
    "    for gene in genes:\n",
    "        print(f\"    {gene}\")\n",
    "print(\"   ...\")"
   ]
  },
  {
   "cell_type": "code",
   "execution_count": 54,
   "id": "cfd2c73a",
   "metadata": {},
   "outputs": [
    {
     "name": "stdout",
     "output_type": "stream",
     "text": [
      "\n",
      "805 genes are mapped in total\n",
      "\n",
      "lcl_NC_006958_1_prot_WP_003855288_1_2949 ->\n",
      "    2MAHMP\n",
      "    TDP\n",
      "lcl_NC_006958_1_prot_WP_011015468_1_2761 ->\n",
      "    2MAHMP\n",
      "    PDXPP\n",
      "    PYDXPP\n",
      "lcl_NC_006958_1_prot_WP_011013917_1_810 ->\n",
      "    3MBt2pp\n",
      "    3MBt4pp\n",
      "    ACt2rpp\n",
      "    ACt4pp\n",
      "    BUTt2rpp\n",
      "    BUTt4pp\n",
      "    GLYCLTt4pp\n",
      "    PACt3\n",
      "    PNTOt2\n",
      "    PPAt2pp\n",
      "    PPAt4pp\n",
      "    PYRt2rpp\n",
      "    PYRt4pp\n",
      "lcl_NC_006958_1_prot_WP_003859251_1_2275 ->\n",
      "    3OXCOAT\n",
      "    ACACT1r\n",
      "    ACACT2r\n",
      "lcl_NC_006958_1_prot_WP_011015386_1_2669 ->\n",
      "    4ABUTD\n",
      "    ALDD2x\n",
      "    ALDD2y\n",
      "    ALDD31\n",
      "    ALDD3y\n",
      "    GLXO1\n",
      "    GLYALDDr\n",
      "    LCADi\n",
      "   ...\n"
     ]
    }
   ],
   "source": [
    "print(f\"\\n{len(gene_to_reactions)} genes are mapped in total\\n\")\n",
    "\n",
    "for gene, reactions in list(gene_to_reactions.items())[:5]:\n",
    "    print(f\"{gene} ->\")\n",
    "    for reaction in reactions:\n",
    "        print(f\"    {reaction}\")\n",
    "print(\"   ...\")"
   ]
  },
  {
   "cell_type": "code",
   "execution_count": 55,
   "id": "e8d074a5",
   "metadata": {},
   "outputs": [
    {
     "name": "stdout",
     "output_type": "stream",
     "text": [
      "513 genes control 1 reaction\n",
      "149 genes control 2 reactions\n",
      "51 genes control 3 reactions\n",
      "25 genes control 4 reactions\n",
      "12 genes control 5 reactions\n",
      "19 genes control 6 reactions\n",
      "6 genes control 7 reactions\n",
      "4 genes control 8 reactions\n",
      "5 genes control 9 reactions\n",
      "5 genes control 10 reactions\n",
      "4 genes control 11 reactions\n",
      "4 genes control 13 reactions\n",
      "1 genes control 14 reactions\n",
      "2 genes control 15 reactions\n",
      "1 genes control 21 reactions\n",
      "1 genes control 22 reactions\n",
      "3 genes control 23 reactions\n"
     ]
    }
   ],
   "source": [
    "gene_to_reactions_counts = defaultdict(list)\n",
    "\n",
    "for gene, reactions in gene_to_reactions.items():\n",
    "    gene_to_reactions_counts[len(reactions)].append((gene, reactions))\n",
    "\n",
    "sorted_counts = sorted(gene_to_reactions_counts.items(), key=lambda x: x[0])\n",
    "\n",
    "for count, gene_to_reactions_data in sorted_counts:\n",
    "    reaction_str = \"reaction\" if count == 1 else \"reactions\"\n",
    "    print(f\"{len(gene_to_reactions_data)} genes control {count} {reaction_str}\")"
   ]
  },
  {
   "cell_type": "markdown",
   "id": "5f10b9d0",
   "metadata": {},
   "source": [
    "### Getting the gene data from the RefSeq database based on its protein ID\n",
    "\n",
    "Fetching every protein Id in **gene_to_reactions** and returning the data for its gene: gene_name, product, organism, sequence.\n",
    "\n",
    "The data is stored locally in **protein_id_to_gene_map** for future use, avoiding searching every time."
   ]
  },
  {
   "cell_type": "code",
   "execution_count": 56,
   "id": "0b33db8b",
   "metadata": {
    "scrolled": false
   },
   "outputs": [
    {
     "ename": "TypeError",
     "evalue": "expected string or bytes-like object",
     "output_type": "error",
     "traceback": [
      "\u001b[1;31m---------------------------------------------------------------------------\u001b[0m",
      "\u001b[1;31mTypeError\u001b[0m                                 Traceback (most recent call last)",
      "\u001b[1;32m<ipython-input-56-030ccdeccfe0>\u001b[0m in \u001b[0;36m<module>\u001b[1;34m\u001b[0m\n\u001b[0;32m     95\u001b[0m \u001b[0mprotein_id_to_gene_map\u001b[0m \u001b[1;33m=\u001b[0m \u001b[0mloadMapFile\u001b[0m\u001b[1;33m(\u001b[0m\u001b[1;33m)\u001b[0m\u001b[1;33m\u001b[0m\u001b[1;33m\u001b[0m\u001b[0m\n\u001b[0;32m     96\u001b[0m \u001b[1;33m\u001b[0m\u001b[0m\n\u001b[1;32m---> 97\u001b[1;33m \u001b[0mmapProteinIDtoGene\u001b[0m\u001b[1;33m(\u001b[0m\u001b[1;33m)\u001b[0m\u001b[1;33m\u001b[0m\u001b[1;33m\u001b[0m\u001b[0m\n\u001b[0m\u001b[0;32m     98\u001b[0m \u001b[1;33m\u001b[0m\u001b[0m\n\u001b[0;32m     99\u001b[0m \u001b[1;32mfor\u001b[0m \u001b[0mprotein_id\u001b[0m\u001b[1;33m,\u001b[0m \u001b[0mprotein_data\u001b[0m \u001b[1;32min\u001b[0m \u001b[0mlist\u001b[0m\u001b[1;33m(\u001b[0m\u001b[0mprotein_id_to_gene_map\u001b[0m\u001b[1;33m.\u001b[0m\u001b[0mitems\u001b[0m\u001b[1;33m(\u001b[0m\u001b[1;33m)\u001b[0m\u001b[1;33m)\u001b[0m\u001b[1;33m[\u001b[0m\u001b[1;36m21\u001b[0m\u001b[1;33m:\u001b[0m\u001b[1;36m23\u001b[0m\u001b[1;33m]\u001b[0m\u001b[1;33m:\u001b[0m\u001b[1;33m\u001b[0m\u001b[1;33m\u001b[0m\u001b[0m\n",
      "\u001b[1;32m<ipython-input-56-030ccdeccfe0>\u001b[0m in \u001b[0;36mmapProteinIDtoGene\u001b[1;34m()\u001b[0m\n\u001b[0;32m     76\u001b[0m \u001b[1;32mdef\u001b[0m \u001b[0mmapProteinIDtoGene\u001b[0m\u001b[1;33m(\u001b[0m\u001b[1;33m)\u001b[0m\u001b[1;33m:\u001b[0m\u001b[1;33m\u001b[0m\u001b[1;33m\u001b[0m\u001b[0m\n\u001b[0;32m     77\u001b[0m \u001b[1;33m\u001b[0m\u001b[0m\n\u001b[1;32m---> 78\u001b[1;33m     \u001b[0mprint\u001b[0m\u001b[1;33m(\u001b[0m\u001b[1;34mf\"{getUniqueGeneNumber()} protein ids to fetch its data\"\u001b[0m\u001b[1;33m)\u001b[0m\u001b[1;33m\u001b[0m\u001b[1;33m\u001b[0m\u001b[0m\n\u001b[0m\u001b[0;32m     79\u001b[0m \u001b[1;33m\u001b[0m\u001b[0m\n\u001b[0;32m     80\u001b[0m     \u001b[1;32mfor\u001b[0m \u001b[0mgene\u001b[0m\u001b[1;33m,\u001b[0m \u001b[0mreactions\u001b[0m \u001b[1;32min\u001b[0m \u001b[0mlist\u001b[0m\u001b[1;33m(\u001b[0m\u001b[0mgene_to_reactions\u001b[0m\u001b[1;33m.\u001b[0m\u001b[0mitems\u001b[0m\u001b[1;33m(\u001b[0m\u001b[1;33m)\u001b[0m\u001b[1;33m)\u001b[0m\u001b[1;33m:\u001b[0m\u001b[1;33m\u001b[0m\u001b[1;33m\u001b[0m\u001b[0m\n",
      "\u001b[1;32m<ipython-input-56-030ccdeccfe0>\u001b[0m in \u001b[0;36mgetUniqueGeneNumber\u001b[1;34m()\u001b[0m\n\u001b[0;32m     68\u001b[0m \u001b[1;33m\u001b[0m\u001b[0m\n\u001b[0;32m     69\u001b[0m     \u001b[1;32mfor\u001b[0m \u001b[0mgene\u001b[0m \u001b[1;32min\u001b[0m \u001b[0mlist\u001b[0m\u001b[1;33m(\u001b[0m\u001b[0mgene_to_reactions\u001b[0m\u001b[1;33m.\u001b[0m\u001b[0mitems\u001b[0m\u001b[1;33m(\u001b[0m\u001b[1;33m)\u001b[0m\u001b[1;33m)\u001b[0m\u001b[1;33m:\u001b[0m\u001b[1;33m\u001b[0m\u001b[1;33m\u001b[0m\u001b[0m\n\u001b[1;32m---> 70\u001b[1;33m         \u001b[1;32mif\u001b[0m \u001b[0mgetProteinID\u001b[0m\u001b[1;33m(\u001b[0m\u001b[0mgene\u001b[0m\u001b[1;33m)\u001b[0m \u001b[1;32mnot\u001b[0m \u001b[1;32min\u001b[0m \u001b[0munique_protein_ids\u001b[0m\u001b[1;33m:\u001b[0m\u001b[1;33m\u001b[0m\u001b[1;33m\u001b[0m\u001b[0m\n\u001b[0m\u001b[0;32m     71\u001b[0m             \u001b[0munique_protein_ids\u001b[0m\u001b[1;33m.\u001b[0m\u001b[0mappend\u001b[0m\u001b[1;33m(\u001b[0m\u001b[0mgetProteinID\u001b[0m\u001b[1;33m(\u001b[0m\u001b[0mgene\u001b[0m\u001b[1;33m)\u001b[0m\u001b[1;33m)\u001b[0m\u001b[1;33m\u001b[0m\u001b[1;33m\u001b[0m\u001b[0m\n\u001b[0;32m     72\u001b[0m \u001b[1;33m\u001b[0m\u001b[0m\n",
      "\u001b[1;32m<ipython-input-56-030ccdeccfe0>\u001b[0m in \u001b[0;36mgetProteinID\u001b[1;34m(full_gene)\u001b[0m\n\u001b[0;32m      9\u001b[0m \u001b[1;33m\u001b[0m\u001b[0m\n\u001b[0;32m     10\u001b[0m     \"\"\"\n\u001b[1;32m---> 11\u001b[1;33m     \u001b[1;32mreturn\u001b[0m \u001b[1;34m\"WP_\"\u001b[0m \u001b[1;33m+\u001b[0m \u001b[0mre\u001b[0m\u001b[1;33m.\u001b[0m\u001b[0msearch\u001b[0m\u001b[1;33m(\u001b[0m\u001b[1;34mr\"WP_(\\d{9})\"\u001b[0m\u001b[1;33m,\u001b[0m \u001b[0mfull_gene\u001b[0m\u001b[1;33m)\u001b[0m\u001b[1;33m.\u001b[0m\u001b[0mgroup\u001b[0m\u001b[1;33m(\u001b[0m\u001b[1;36m1\u001b[0m\u001b[1;33m)\u001b[0m \u001b[1;32mif\u001b[0m \u001b[0mre\u001b[0m\u001b[1;33m.\u001b[0m\u001b[0msearch\u001b[0m\u001b[1;33m(\u001b[0m\u001b[1;34mr\"WP_(\\d{9})\"\u001b[0m\u001b[1;33m,\u001b[0m \u001b[0mfull_gene\u001b[0m\u001b[1;33m)\u001b[0m \u001b[1;32melse\u001b[0m \u001b[1;32mNone\u001b[0m\u001b[1;33m\u001b[0m\u001b[1;33m\u001b[0m\u001b[0m\n\u001b[0m\u001b[0;32m     12\u001b[0m \u001b[1;33m\u001b[0m\u001b[0m\n\u001b[0;32m     13\u001b[0m \u001b[1;33m\u001b[0m\u001b[0m\n",
      "\u001b[1;32m~\\anaconda3\\lib\\re.py\u001b[0m in \u001b[0;36msearch\u001b[1;34m(pattern, string, flags)\u001b[0m\n\u001b[0;32m    199\u001b[0m     \"\"\"Scan through string looking for a match to the pattern, returning\n\u001b[0;32m    200\u001b[0m     a Match object, or None if no match was found.\"\"\"\n\u001b[1;32m--> 201\u001b[1;33m     \u001b[1;32mreturn\u001b[0m \u001b[0m_compile\u001b[0m\u001b[1;33m(\u001b[0m\u001b[0mpattern\u001b[0m\u001b[1;33m,\u001b[0m \u001b[0mflags\u001b[0m\u001b[1;33m)\u001b[0m\u001b[1;33m.\u001b[0m\u001b[0msearch\u001b[0m\u001b[1;33m(\u001b[0m\u001b[0mstring\u001b[0m\u001b[1;33m)\u001b[0m\u001b[1;33m\u001b[0m\u001b[1;33m\u001b[0m\u001b[0m\n\u001b[0m\u001b[0;32m    202\u001b[0m \u001b[1;33m\u001b[0m\u001b[0m\n\u001b[0;32m    203\u001b[0m \u001b[1;32mdef\u001b[0m \u001b[0msub\u001b[0m\u001b[1;33m(\u001b[0m\u001b[0mpattern\u001b[0m\u001b[1;33m,\u001b[0m \u001b[0mrepl\u001b[0m\u001b[1;33m,\u001b[0m \u001b[0mstring\u001b[0m\u001b[1;33m,\u001b[0m \u001b[0mcount\u001b[0m\u001b[1;33m=\u001b[0m\u001b[1;36m0\u001b[0m\u001b[1;33m,\u001b[0m \u001b[0mflags\u001b[0m\u001b[1;33m=\u001b[0m\u001b[1;36m0\u001b[0m\u001b[1;33m)\u001b[0m\u001b[1;33m:\u001b[0m\u001b[1;33m\u001b[0m\u001b[1;33m\u001b[0m\u001b[0m\n",
      "\u001b[1;31mTypeError\u001b[0m: expected string or bytes-like object"
     ]
    }
   ],
   "source": [
    "import re\n",
    "from Bio import Entrez, SeqIO\n",
    "import time\n",
    "import json\n",
    "\n",
    "def getProteinID(full_gene):\n",
    "    \"\"\"\n",
    "    Function to get protein ID from a full gene name\n",
    "    \n",
    "    \"\"\"\n",
    "    return \"WP_\" + re.search(r\"WP_(\\d{9})\", full_gene).group(1) if re.search(r\"WP_(\\d{9})\", full_gene) else None\n",
    "\n",
    "\n",
    "def fetchProteinID(protein_id, max_retries=50, delay_between_retries=1):\n",
    "    \"\"\"\n",
    "    Function to fetch protein ID data\n",
    "    \n",
    "    \"\"\"\n",
    "    for attempt in range(max_retries):\n",
    "        try:\n",
    "            Entrez.email = \"h.bensaadi@gmail.com\"\n",
    "\n",
    "            handle = Entrez.efetch(db=\"protein\", id=protein_id, rettype=\"gb\", retmode=\"text\")\n",
    "            record = SeqIO.read(handle, \"genbank\")\n",
    "            handle.close()\n",
    "\n",
    "            gene_name, product, organism, sequence = None, None, None, None\n",
    "\n",
    "            for feature in record.features:\n",
    "                if 'gene' in feature.qualifiers:\n",
    "                    gene_name = feature.qualifiers['gene'][0]\n",
    "                if 'product' in feature.qualifiers:\n",
    "                    product = feature.qualifiers['product'][0]\n",
    "                if 'organism' in feature.qualifiers:\n",
    "                    organism = feature.qualifiers['organism'][0]\n",
    "\n",
    "            sequence = str(record.seq)\n",
    "\n",
    "            return protein_id, gene_name, product, organism, sequence\n",
    "\n",
    "        except Entrez.HTTPError as e:\n",
    "            if attempt < max_retries - 1:\n",
    "                print(f\"{protein_id}: retrying in {delay_between_retries} seconds...\")\n",
    "                time.sleep(delay_between_retries)\n",
    "            else:\n",
    "                print(f\"Max retries reached. Unable to fetch data for {protein_id}\")\n",
    "                raise\n",
    "        except Exception as e:\n",
    "            print(f\"Error: {e}\")\n",
    "            raise\n",
    "\n",
    "def loadMapFile():\n",
    "    try:\n",
    "        with open(\"protein_id_to_gene_map.json\", \"r\") as file:\n",
    "            protein_id_to_gene_map = json.load(file)\n",
    "    except FileNotFoundError:\n",
    "        protein_id_to_gene_map = {}\n",
    "    \n",
    "    return protein_id_to_gene_map\n",
    "    \n",
    "def updateMapFile(protein_id_to_gene_map):\n",
    "    with open(\"protein_id_to_gene_map.json\", \"w\") as file:\n",
    "        json.dump(protein_id_to_gene_map, file)\n",
    "           \n",
    "            \n",
    "def getUniqueGeneNumber():\n",
    "    unique_protein_ids = []\n",
    "    \n",
    "    for gene in list(gene_to_reactions.items()):\n",
    "        if getProteinID(gene) not in unique_protein_ids:\n",
    "            unique_protein_ids.append(getProteinID(gene))\n",
    "            \n",
    "    return len(unique_protein_ids)\n",
    "    \n",
    "\n",
    "def mapProteinIDtoGene():\n",
    "\n",
    "    print(f\"{getUniqueGeneNumber()} protein ids to fetch its data\")\n",
    "    \n",
    "    for gene, reactions in list(gene_to_reactions.items()):\n",
    "        if \"WP_\" in gene:\n",
    "            protein_id = getProteinID(gene)\n",
    "\n",
    "            if protein_id not in protein_id_to_gene_map:\n",
    "                protein_id, gene_name, product, organism, sequence = fetchProteinID(protein_id)\n",
    "                protein_id_to_gene_map[protein_id] = [gene_name, product, organism, sequence]\n",
    "                \n",
    "                updateMapFile(protein_id_to_gene_map)\n",
    "                \n",
    "                print(f\"\\n{protein_id}, {gene_name}, {product}, {organism}, {sequence}\")\n",
    "\n",
    "    print(f\"{count_found_genes} protein IDs were fetched\")\n",
    "    print(f\"{len(protein_id_to_gene_map)} protein IDs are stored locally\")\n",
    "    \n",
    "protein_id_to_gene_map = loadMapFile()\n",
    " \n",
    "mapProteinIDtoGene()\n",
    "\n",
    "for protein_id, protein_data in list(protein_id_to_gene_map.items())[21:23]:\n",
    "    print(f\"\\n{protein_id} ->\")\n",
    "    gene_name, product, organism, sequence = protein_data\n",
    "    print(f\"    {gene_name}\")\n",
    "    print(f\"    {product}\")\n",
    "    print(f\"    {organism}\")\n",
    "    print(f\"    {sequence[:70]}...\")\n",
    "print(\"   ...\")"
   ]
  },
  {
   "cell_type": "code",
   "execution_count": null,
   "id": "956ed8b4",
   "metadata": {},
   "outputs": [],
   "source": [
    "unique_protein_ids = []\n",
    "\n",
    "for gene, reactions in list(gene_to_reactions.items()):\n",
    "    print(gene)\n",
    "    if getProteinID(gene) not in unique_protein_ids:\n",
    "        unique_protein_ids.append(getProteinID(gene))\n",
    "\n",
    "return len(unique_protein_ids)\n"
   ]
  },
  {
   "cell_type": "markdown",
   "id": "1fedade9",
   "metadata": {},
   "source": [
    "### Serching the protein ID of a known gene \n",
    "The locally stored **protein_id_to_gene_map** is used to search for the **gene name** or its **sequence**"
   ]
  },
  {
   "cell_type": "code",
   "execution_count": null,
   "id": "7dd7a42c",
   "metadata": {},
   "outputs": [],
   "source": [
    "def calculate_similarity(seq1, seq2):\n",
    "    alignments = pairwise2.align.globalxx(seq1, seq2, one_alignment_only=True)\n",
    "    if alignments:\n",
    "        alignment = alignments[0]\n",
    "        alignment_length = max(len(alignment[0]), len(alignment[1]))\n",
    "        similarity = alignment[2] / alignment_length\n",
    "        return similarity\n",
    "    return 0\n",
    "\n",
    "def searchGene(gene=None, metabolite=None, seq=None, similarity_threshold=0.80):\n",
    "    matches = []\n",
    "    \n",
    "    protein_id_to_gene_map = loadMapFile()\n",
    "\n",
    "    for protein_id, data in protein_id_to_gene_map.items():\n",
    "        gene_name, product, organism, sequence = data\n",
    "        \n",
    "        if gene and gene_name and gene.lower() in gene_name.lower():\n",
    "            matches.append((protein_id, data))\n",
    "        \n",
    "        if metabolite and product and metabolite.lower() in product.lower():\n",
    "            matches.append((protein_id, data))\n",
    "        \n",
    "        \n",
    "        if seq and sequence:\n",
    "            similarity = calculate_similarity(seq.lower(), sequence.lower())            \n",
    "            if similarity >= similarity_threshold:\n",
    "                matches.append((protein_id, f\"Similarity: {round(similarity*100, 2)}%\", data))\n",
    "    \n",
    "    print(f\"{len(matches)} match(es) were found:\")\n",
    "    return matches\n",
    "\n",
    "def getDataFromProtreinID(searched_protein_id):\n",
    "    protein_id_to_gene_map = loadMapFile()\n",
    "    for protein_id, data in protein_id_to_gene_map.items():\n",
    "        if searched_protein_id == protein_id:\n",
    "            return data\n",
    "\n",
    "def getGeneNameFromProteinID(searched_protein_id):\n",
    "    for gene, reactions in list(gene_to_reactions.items()):\n",
    "        if searched_protein_id == getProteinID(gene):\n",
    "            return gene\n",
    "    \n",
    "def getReactionsFromProteinID(searched_protein_id):\n",
    "    for gene, reactions in list(gene_to_reactions.items()):\n",
    "        if searched_protein_id == getProteinID(gene):\n",
    "            return reactions\n",
    "    "
   ]
  },
  {
   "cell_type": "markdown",
   "id": "b491110f",
   "metadata": {},
   "source": [
    "## Gene knockout:\n",
    "\n",
    "Replicating the knockout of 4 genes from https://link.springer.com/article/10.1007/s00726-020-02893-6 \n",
    "- gluE\n",
    "- brnE\n",
    "- brnF\n",
    "- lysP"
   ]
  },
  {
   "cell_type": "code",
   "execution_count": 57,
   "id": "76e92a6a",
   "metadata": {},
   "outputs": [
    {
     "name": "stdout",
     "output_type": "stream",
     "text": [
      "0 match(es) were found:\n",
      "0 match(es) were found:\n",
      "0 match(es) were found:\n",
      "0 match(es) were found:\n",
      "0 match(es) were found:\n",
      "0 match(es) were found:\n",
      "0 match(es) were found:\n",
      "0 match(es) were found:\n"
     ]
    }
   ],
   "source": [
    "genes = [\"gluE\", \"brnE\", \"brnF\", \"lysP\"]\n",
    "\n",
    "sequences = []\n",
    "# gluE\n",
    "sequences.append(\"\")\n",
    "# brnE\n",
    "sequences.append(\"\")\n",
    "# brnF\n",
    "sequences.append(\"\")\n",
    "# lysP\n",
    "sequences.append(\"\")\n",
    "\n",
    "\n",
    "for gene in genes:\n",
    "    searchGene(gene=gene)\n",
    "    \n",
    "for sequence in sequences:\n",
    "    searchGene(seq=sequence, similarity_threshold=0.60)"
   ]
  },
  {
   "cell_type": "markdown",
   "id": "a64b1da5",
   "metadata": {},
   "source": [
    "### Conclusion:\n",
    "The genes used in model \"iCGB21FR\" contanins that are not annotated, at least for the genes that we want to knockout (gluE, brnE, brnF and lysP).\n",
    "\n",
    "**Solution**: we need to manually find the gene name by finding the reaction through searching metabolites"
   ]
  },
  {
   "cell_type": "markdown",
   "id": "6c516b33",
   "metadata": {},
   "source": [
    "## Knocking out\n",
    "\n",
    "### 1. lysP"
   ]
  },
  {
   "cell_type": "code",
   "execution_count": 77,
   "id": "f1a95634",
   "metadata": {},
   "outputs": [],
   "source": [
    "genes = {\"lysP\": \"lcl_NC_006958_1_prot_WP_003858826_1_1288\"}"
   ]
  },
  {
   "cell_type": "code",
   "execution_count": 69,
   "id": "09091ddf",
   "metadata": {},
   "outputs": [],
   "source": [
    "searched_protein_id = getProteinID(genes[\"lysP\"])"
   ]
  },
  {
   "cell_type": "code",
   "execution_count": 78,
   "id": "080ddcc5",
   "metadata": {},
   "outputs": [
    {
     "name": "stdout",
     "output_type": "stream",
     "text": [
      "Gene:\n",
      "   - None\n",
      "Product:\n",
      "  - amino acid ABC transporter ATP-binding protein\n",
      "Organism:\n",
      "  - Corynebacterium\n",
      "Sequence:\n",
      "  - MSQLMIDAQQVCKNYGRLEVLKGIDLQVPKGTVTCLIGPSGSGKSTMLRCVNHLEKVNAGRLYVDGDLIGYRERD...\n",
      "\n",
      "Full name of the gene in the model: \n",
      "    lcl_NC_006958_1_prot_WP_003858826_1_1288\n",
      "\n",
      "Controlled reactions:\n",
      "   - ARGabc: arg__L_e + atp_c + h2o_c --> adp_c + arg__L_c + h_c + pi_c\n",
      "   - ARGabcpp: arg__L_p + atp_c + h2o_c --> adp_c + arg__L_c + h_c + pi_c\n",
      "   - GLNabc: atp_c + gln__L_e + h2o_c --> adp_c + gln__L_c + h_c + pi_c\n",
      "   - GLUabc: atp_c + glu__L_e + h2o_c --> adp_c + glu__L_c + h_c + pi_c\n",
      "   - HISabc: atp_c + h2o_c + his__L_e --> adp_c + h_c + his__L_c + pi_c\n",
      "   - HISabcpp: atp_c + h2o_c + his__L_p --> adp_c + h_c + his__L_c + pi_c\n",
      "   - LYSabc: atp_c + h2o_c + lys__L_e --> adp_c + h_c + lys__L_c + pi_c\n",
      "   - LYSabcpp: atp_c + h2o_c + lys__L_p --> adp_c + h_c + lys__L_c + pi_c\n",
      "   - ORNabc: atp_c + h2o_c + orn_e --> adp_c + h_c + orn_c + pi_c\n",
      "   - ORNabcpp: atp_c + h2o_c + orn_p --> adp_c + h_c + orn_c + pi_c\n"
     ]
    }
   ],
   "source": [
    "gene_name, product, organism, sequence = getDataFromProtreinID(searched_protein_id)\n",
    "gene = getGeneNameFromProteinID(searched_protein_id)\n",
    "reactions = getReactionsFromProteinID(searched_protein_id)\n",
    "\n",
    "print(f\"Gene:\\n   - {gene_name}\\nProduct:\\n  - {product}\\nOrganism:\\n  - {organism}\\nSequence:\\n  - {sequence[:75]}...\")\n",
    "print(f\"\\nFull name of the gene in the model: \\n    {gene}\")\n",
    "print(f\"\\nControlled reactions:\")\n",
    "for reaction in reactions:\n",
    "    print(f\"   - {model.reactions.get_by_id(reaction)}\")"
   ]
  },
  {
   "cell_type": "code",
   "execution_count": 103,
   "id": "e2debe2d",
   "metadata": {},
   "outputs": [
    {
     "name": "stdout",
     "output_type": "stream",
     "text": [
      "complete model:  <Solution 0.571 at 0x236800ccfa0>\n",
      "lcl_NC_006958_1_prot_WP_011014457_1_1531 knocked out:  <Solution 0.500 at 0x236fe33b100>\n"
     ]
    }
   ],
   "source": [
    "results_model = model.optimize()\n",
    "print('complete model: ', results_model)\n",
    "with model:\n",
    "    model.genes.get_by_id(\"lcl_NC_006958_1_prot_WP_011014457_1_1531\").knock_out()\n",
    "    model.genes.get_by_id(\"lcl_NC_006958_1_prot_WP_011014763_1_1832\").knock_out()\n",
    "    model.genes.get_by_id(\"lcl_NC_006958_1_prot_WP_011014747_1_1809\").knock_out()\n",
    "    \n",
    "    results_model_knocked_out = model.optimize()\n",
    "    print(f'lcl_NC_006958_1_prot_WP_011014457_1_1531 knocked out: ', results_model_knocked_out)\n",
    "    "
   ]
  },
  {
   "cell_type": "code",
   "execution_count": 104,
   "id": "8f51e7ab",
   "metadata": {},
   "outputs": [
    {
     "data": {
      "text/html": [
       "<strong><em>Optimal</em> solution with objective value 0.571</strong><br><div>\n",
       "<style scoped>\n",
       "    .dataframe tbody tr th:only-of-type {\n",
       "        vertical-align: middle;\n",
       "    }\n",
       "\n",
       "    .dataframe tbody tr th {\n",
       "        vertical-align: top;\n",
       "    }\n",
       "\n",
       "    .dataframe thead th {\n",
       "        text-align: right;\n",
       "    }\n",
       "</style>\n",
       "<table border=\"1\" class=\"dataframe\">\n",
       "  <thead>\n",
       "    <tr style=\"text-align: right;\">\n",
       "      <th></th>\n",
       "      <th>fluxes</th>\n",
       "      <th>reduced_costs</th>\n",
       "    </tr>\n",
       "  </thead>\n",
       "  <tbody>\n",
       "    <tr>\n",
       "      <th>12DGR120tipp</th>\n",
       "      <td>0.0</td>\n",
       "      <td>-3.469447e-18</td>\n",
       "    </tr>\n",
       "    <tr>\n",
       "      <th>12DGR140tipp</th>\n",
       "      <td>0.0</td>\n",
       "      <td>0.000000e+00</td>\n",
       "    </tr>\n",
       "    <tr>\n",
       "      <th>12DGR161tipp</th>\n",
       "      <td>0.0</td>\n",
       "      <td>-3.469447e-18</td>\n",
       "    </tr>\n",
       "    <tr>\n",
       "      <th>12DGR180tipp</th>\n",
       "      <td>0.0</td>\n",
       "      <td>-3.469447e-18</td>\n",
       "    </tr>\n",
       "    <tr>\n",
       "      <th>12DGR181tipp</th>\n",
       "      <td>0.0</td>\n",
       "      <td>2.775558e-17</td>\n",
       "    </tr>\n",
       "    <tr>\n",
       "      <th>...</th>\n",
       "      <td>...</td>\n",
       "      <td>...</td>\n",
       "    </tr>\n",
       "    <tr>\n",
       "      <th>EX_pyr_e</th>\n",
       "      <td>0.0</td>\n",
       "      <td>-3.084649e-03</td>\n",
       "    </tr>\n",
       "    <tr>\n",
       "      <th>L_LACtex</th>\n",
       "      <td>0.0</td>\n",
       "      <td>2.168404e-19</td>\n",
       "    </tr>\n",
       "    <tr>\n",
       "      <th>CYTB1</th>\n",
       "      <td>20.0</td>\n",
       "      <td>4.163336e-17</td>\n",
       "    </tr>\n",
       "    <tr>\n",
       "      <th>EX_34dhbz_e</th>\n",
       "      <td>0.0</td>\n",
       "      <td>0.000000e+00</td>\n",
       "    </tr>\n",
       "    <tr>\n",
       "      <th>3_4DHBZt2</th>\n",
       "      <td>0.0</td>\n",
       "      <td>0.000000e+00</td>\n",
       "    </tr>\n",
       "  </tbody>\n",
       "</table>\n",
       "<p>1539 rows × 2 columns</p>\n",
       "</div>"
      ],
      "text/plain": [
       "<Solution 0.571 at 0x236800ccfa0>"
      ]
     },
     "execution_count": 104,
     "metadata": {},
     "output_type": "execute_result"
    }
   ],
   "source": [
    "results_model"
   ]
  },
  {
   "cell_type": "code",
   "execution_count": 105,
   "id": "7bd270a2",
   "metadata": {},
   "outputs": [
    {
     "data": {
      "text/html": [
       "<strong><em>Optimal</em> solution with objective value 0.500</strong><br><div>\n",
       "<style scoped>\n",
       "    .dataframe tbody tr th:only-of-type {\n",
       "        vertical-align: middle;\n",
       "    }\n",
       "\n",
       "    .dataframe tbody tr th {\n",
       "        vertical-align: top;\n",
       "    }\n",
       "\n",
       "    .dataframe thead th {\n",
       "        text-align: right;\n",
       "    }\n",
       "</style>\n",
       "<table border=\"1\" class=\"dataframe\">\n",
       "  <thead>\n",
       "    <tr style=\"text-align: right;\">\n",
       "      <th></th>\n",
       "      <th>fluxes</th>\n",
       "      <th>reduced_costs</th>\n",
       "    </tr>\n",
       "  </thead>\n",
       "  <tbody>\n",
       "    <tr>\n",
       "      <th>12DGR120tipp</th>\n",
       "      <td>0.0</td>\n",
       "      <td>-1.734723e-18</td>\n",
       "    </tr>\n",
       "    <tr>\n",
       "      <th>12DGR140tipp</th>\n",
       "      <td>0.0</td>\n",
       "      <td>-1.734723e-18</td>\n",
       "    </tr>\n",
       "    <tr>\n",
       "      <th>12DGR161tipp</th>\n",
       "      <td>0.0</td>\n",
       "      <td>-1.734723e-18</td>\n",
       "    </tr>\n",
       "    <tr>\n",
       "      <th>12DGR180tipp</th>\n",
       "      <td>0.0</td>\n",
       "      <td>-1.734723e-18</td>\n",
       "    </tr>\n",
       "    <tr>\n",
       "      <th>12DGR181tipp</th>\n",
       "      <td>0.0</td>\n",
       "      <td>2.775558e-17</td>\n",
       "    </tr>\n",
       "    <tr>\n",
       "      <th>...</th>\n",
       "      <td>...</td>\n",
       "      <td>...</td>\n",
       "    </tr>\n",
       "    <tr>\n",
       "      <th>EX_pyr_e</th>\n",
       "      <td>0.0</td>\n",
       "      <td>-1.203880e-03</td>\n",
       "    </tr>\n",
       "    <tr>\n",
       "      <th>L_LACtex</th>\n",
       "      <td>0.0</td>\n",
       "      <td>-3.751148e-17</td>\n",
       "    </tr>\n",
       "    <tr>\n",
       "      <th>CYTB1</th>\n",
       "      <td>20.0</td>\n",
       "      <td>5.551115e-17</td>\n",
       "    </tr>\n",
       "    <tr>\n",
       "      <th>EX_34dhbz_e</th>\n",
       "      <td>0.0</td>\n",
       "      <td>0.000000e+00</td>\n",
       "    </tr>\n",
       "    <tr>\n",
       "      <th>3_4DHBZt2</th>\n",
       "      <td>0.0</td>\n",
       "      <td>0.000000e+00</td>\n",
       "    </tr>\n",
       "  </tbody>\n",
       "</table>\n",
       "<p>1539 rows × 2 columns</p>\n",
       "</div>"
      ],
      "text/plain": [
       "<Solution 0.500 at 0x236fe33b100>"
      ]
     },
     "execution_count": 105,
     "metadata": {},
     "output_type": "execute_result"
    }
   ],
   "source": [
    "results_model_knocked_out"
   ]
  },
  {
   "cell_type": "code",
   "execution_count": 94,
   "id": "c7f03782",
   "metadata": {},
   "outputs": [
    {
     "data": {
      "text/plain": [
       "0.0"
      ]
     },
     "execution_count": 94,
     "metadata": {},
     "output_type": "execute_result"
    }
   ],
   "source": [
    "results_model[\"LYSt3pp\"]"
   ]
  },
  {
   "cell_type": "code",
   "execution_count": 95,
   "id": "a9d21ca9",
   "metadata": {},
   "outputs": [
    {
     "data": {
      "text/plain": [
       "0.0"
      ]
     },
     "execution_count": 95,
     "metadata": {},
     "output_type": "execute_result"
    }
   ],
   "source": [
    "results_model_knocked_out[\"LYSt3pp\"]"
   ]
  },
  {
   "cell_type": "code",
   "execution_count": 91,
   "id": "c2dbcbdd",
   "metadata": {},
   "outputs": [
    {
     "data": {
      "text/html": [
       "\n",
       "        <table>\n",
       "            <tr>\n",
       "                <td><strong>Reaction identifier</strong></td><td>DAPDC</td>\n",
       "            </tr><tr>\n",
       "                <td><strong>Name</strong></td><td>Diaminopimelate decarboxylase</td>\n",
       "            </tr><tr>\n",
       "                <td><strong>Memory address</strong></td>\n",
       "                <td>0x236fd68ff40</td>\n",
       "            </tr><tr>\n",
       "                <td><strong>Stoichiometry</strong></td>\n",
       "                <td>\n",
       "                    <p style='text-align:right'>26dap__M_c + h_c --> co2_c + lys__L_c</p>\n",
       "                    <p style='text-align:right'>Meso-2,6-Diaminoheptanedioate + H+ --> CO2 + L-Lysine</p>\n",
       "                </td>\n",
       "            </tr><tr>\n",
       "                <td><strong>GPR</strong></td><td>lcl_NC_006958_1_prot_WP_011014180_1_1145 or lcl_NC_006958_1_prot_WP_011265883_1_2027</td>\n",
       "            </tr><tr>\n",
       "                <td><strong>Lower bound</strong></td><td>0.0</td>\n",
       "            </tr><tr>\n",
       "                <td><strong>Upper bound</strong></td><td>1000.0</td>\n",
       "            </tr>\n",
       "        </table>\n",
       "        "
      ],
      "text/plain": [
       "<Reaction DAPDC at 0x236fd68ff40>"
      ]
     },
     "execution_count": 91,
     "metadata": {},
     "output_type": "execute_result"
    }
   ],
   "source": [
    "model.reactions.DAPDC"
   ]
  },
  {
   "cell_type": "code",
   "execution_count": null,
   "id": "db9bf065",
   "metadata": {},
   "outputs": [],
   "source": []
  }
 ],
 "metadata": {
  "kernelspec": {
   "display_name": "Python 3",
   "language": "python",
   "name": "python3"
  },
  "language_info": {
   "codemirror_mode": {
    "name": "ipython",
    "version": 3
   },
   "file_extension": ".py",
   "mimetype": "text/x-python",
   "name": "python",
   "nbconvert_exporter": "python",
   "pygments_lexer": "ipython3",
   "version": "3.8.8"
  }
 },
 "nbformat": 4,
 "nbformat_minor": 5
}
