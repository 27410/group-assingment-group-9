{
 "cells": [
  {
   "cell_type": "code",
   "execution_count": 1,
   "id": "947756ce",
   "metadata": {},
   "outputs": [
    {
     "name": "stderr",
     "output_type": "stream",
     "text": [
      "SBML package 'layout' not supported by cobrapy, information is not parsed\n",
      "https://juser.fz-juelich.de/record/188973 does not conform to 'http(s)://identifiers.org/collection/id' or'http(s)://identifiers.org/COLLECTION:id\n"
     ]
    }
   ],
   "source": [
    "from cobra.io import read_sbml_model\n",
    "from collections import defaultdict\n",
    "from Bio import Entrez, SeqIO\n",
    "import re\n",
    "import time\n",
    "\n",
    "model = read_sbml_model('iCGB21FR.xml')"
   ]
  },
  {
   "cell_type": "markdown",
   "id": "8968468b",
   "metadata": {},
   "source": [
    "The issue with the model \"iCGB21FR.xml\" is that its authors have named the genes in the following format **\"lcl_{locus}_prot_{protein_id}_{unknown_digits}\"**. An exemple name of the genes from the model would look like this: lcl_NC_006958_1_prot_WP_003859586_1_2138\n",
    "\n",
    "In which **\"NC_006958\"** is the locus represent the complete sequence of Corynebacterium glutamicum ATCC 13032, and **WP_XXXXXXXXX** represent the protein_id of its genes.\n",
    "\n",
    "\n",
    "**This results in adding an extra step of finding the gene name for the concerned protein ids.**\n"
   ]
  },
  {
   "cell_type": "markdown",
   "id": "12841290",
   "metadata": {},
   "source": [
    "# Mapping:\n",
    "- reaction -> genes\n",
    "- gene -> reactions"
   ]
  },
  {
   "cell_type": "code",
   "execution_count": 2,
   "id": "62e1021b",
   "metadata": {},
   "outputs": [
    {
     "name": "stdout",
     "output_type": "stream",
     "text": [
      "1539 reactions in 'iCGB21FR' model\n",
      "805 genes in 'iCGB21FR' model\n"
     ]
    }
   ],
   "source": [
    "print(f\"{len(model.reactions)} reactions in 'iCGB21FR' model\")\n",
    "print(f\"{len(model.genes)} genes in 'iCGB21FR' model\")"
   ]
  },
  {
   "cell_type": "code",
   "execution_count": 3,
   "id": "b0a111fb",
   "metadata": {},
   "outputs": [],
   "source": [
    "reaction_to_genes = {}\n",
    "gene_to_reactions = {}\n",
    "\n",
    "def mapReactionToGenes():    \n",
    "    for reaction in model.reactions:\n",
    "        gene_ids = []\n",
    "        for gene in reaction.genes:\n",
    "            gene_ids.append(gene.id)\n",
    "            \n",
    "        reaction_to_genes[reaction.id] = gene_ids\n",
    "\n",
    "def mapGeneToReactions():\n",
    "    for reaction_id, gene_ids in reaction_to_genes.items():\n",
    "        for gene_id in gene_ids:\n",
    "            if gene_id:\n",
    "                if gene_id not in gene_to_reactions:\n",
    "                    gene_to_reactions[gene_id] = [reaction_id]\n",
    "                else:\n",
    "                    gene_to_reactions[gene_id].append(reaction_id)\n",
    "    \n",
    "mapReactionToGenes()\n",
    "mapGeneToReactions()"
   ]
  },
  {
   "cell_type": "code",
   "execution_count": 4,
   "id": "275d96ab",
   "metadata": {},
   "outputs": [
    {
     "name": "stdout",
     "output_type": "stream",
     "text": [
      "1539 reactions are mapped in total\n",
      "1077 reactions have a genetic component (coded by at least one gene)\n",
      "\n",
      "   ...\n",
      "2AGPG141tipp -> \n",
      "2AGPGAT141 -> \n",
      "2HH24DDH -> \n",
      "2MAHMP -> \n",
      "    lcl_NC_006958_1_prot_WP_003855288_1_2949\n",
      "    lcl_NC_006958_1_prot_WP_011015468_1_2761\n",
      "2PGLYCt6 -> \n",
      "3HAD140 -> \n",
      "3MBt2pp -> \n",
      "    lcl_NC_006958_1_prot_WP_011013917_1_810\n",
      "3MBt4pp -> \n",
      "    lcl_NC_006958_1_prot_WP_011013917_1_810\n",
      "3MBtex -> \n",
      "3OADPCOAT -> \n",
      "   ...\n"
     ]
    }
   ],
   "source": [
    "print(f\"{len(reaction_to_genes)} reactions are mapped in total\")\n",
    "\n",
    "reactions_coded_by_genes = 0\n",
    "for reaction, genes in list(reaction_to_genes.items()):\n",
    "    if len(genes) > 0:\n",
    "        reactions_coded_by_genes +=1\n",
    "print(f\"{reactions_coded_by_genes} reactions have a genetic component (coded by at least one gene)\\n\")\n",
    "\n",
    "print(\"   ...\")\n",
    "for reaction, genes in list(reaction_to_genes.items())[15:25]:\n",
    "    print(f\"{reaction} -> \")\n",
    "    for gene in genes:\n",
    "        print(f\"    {gene}\")\n",
    "print(\"   ...\")"
   ]
  },
  {
   "cell_type": "code",
   "execution_count": 5,
   "id": "6c76348d",
   "metadata": {},
   "outputs": [
    {
     "name": "stdout",
     "output_type": "stream",
     "text": [
      "\n",
      "805 genes are mapped in total\n",
      "\n",
      "lcl_NC_006958_1_prot_WP_003855288_1_2949 ->\n",
      "    2MAHMP\n",
      "    TDP\n",
      "lcl_NC_006958_1_prot_WP_011015468_1_2761 ->\n",
      "    2MAHMP\n",
      "    PDXPP\n",
      "    PYDXPP\n",
      "lcl_NC_006958_1_prot_WP_011013917_1_810 ->\n",
      "    3MBt2pp\n",
      "    3MBt4pp\n",
      "    ACt2rpp\n",
      "    ACt4pp\n",
      "    BUTt2rpp\n",
      "    BUTt4pp\n",
      "    GLYCLTt4pp\n",
      "    PACt3\n",
      "    PNTOt2\n",
      "    PPAt2pp\n",
      "    PPAt4pp\n",
      "    PYRt2rpp\n",
      "    PYRt4pp\n",
      "lcl_NC_006958_1_prot_WP_003859251_1_2275 ->\n",
      "    3OXCOAT\n",
      "    ACACT1r\n",
      "    ACACT2r\n",
      "lcl_NC_006958_1_prot_WP_011015386_1_2669 ->\n",
      "    4ABUTD\n",
      "    ALDD2x\n",
      "    ALDD2y\n",
      "    ALDD31\n",
      "    ALDD3y\n",
      "    GLXO1\n",
      "    GLYALDDr\n",
      "    LCADi\n",
      "   ...\n"
     ]
    }
   ],
   "source": [
    "print(f\"\\n{len(gene_to_reactions)} genes are mapped in total\\n\")\n",
    "\n",
    "for gene, reactions in list(gene_to_reactions.items())[:5]:\n",
    "    print(f\"{gene} ->\")\n",
    "    for reaction in reactions:\n",
    "        print(f\"    {reaction}\")\n",
    "print(\"   ...\")"
   ]
  },
  {
   "cell_type": "code",
   "execution_count": 6,
   "id": "67d0cca2",
   "metadata": {},
   "outputs": [
    {
     "name": "stdout",
     "output_type": "stream",
     "text": [
      "513 genes control 1 reaction\n",
      "149 genes control 2 reactions\n",
      "51 genes control 3 reactions\n",
      "25 genes control 4 reactions\n",
      "12 genes control 5 reactions\n",
      "19 genes control 6 reactions\n",
      "6 genes control 7 reactions\n",
      "4 genes control 8 reactions\n",
      "5 genes control 9 reactions\n",
      "5 genes control 10 reactions\n",
      "4 genes control 11 reactions\n",
      "4 genes control 13 reactions\n",
      "1 genes control 14 reactions\n",
      "2 genes control 15 reactions\n",
      "1 genes control 21 reactions\n",
      "1 genes control 22 reactions\n",
      "3 genes control 23 reactions\n"
     ]
    }
   ],
   "source": [
    "gene_to_reactions_counts = defaultdict(list)\n",
    "\n",
    "for gene, reactions in gene_to_reactions.items():\n",
    "    gene_to_reactions_counts[len(reactions)].append((gene, reactions))\n",
    "\n",
    "sorted_counts = sorted(gene_to_reactions_counts.items(), key=lambda x: x[0])\n",
    "\n",
    "for count, gene_to_reactions_data in sorted_counts:\n",
    "    reaction_str = \"reaction\" if count == 1 else \"reactions\"\n",
    "    print(f\"{len(gene_to_reactions_data)} genes control {count} {reaction_str}\")"
   ]
  },
  {
   "cell_type": "markdown",
   "id": "5f10b9d0",
   "metadata": {},
   "source": [
    "### Getting the gene data from the RefSeq database based on its protein ID\n",
    "\n",
    "Fetching every protein Id in **gene_to_reactions** and returning the data for its gene: gene_name, product, organism, sequence.\n",
    "\n",
    "The data is stored locally in **protein_id_to_gene_map** for future use, avoiding searching every time."
   ]
  },
  {
   "cell_type": "code",
   "execution_count": null,
   "id": "0e640b18",
   "metadata": {},
   "outputs": [],
   "source": []
  },
  {
   "cell_type": "code",
   "execution_count": 99,
   "id": "57541acf",
   "metadata": {
    "scrolled": false
   },
   "outputs": [
    {
     "name": "stdout",
     "output_type": "stream",
     "text": [
      "805 protein ids to fetch its data\n",
      "0 protein IDs were fetched\n",
      "785 protein IDs are stored locally\n",
      "\n",
      "WP_011014763 ->\n",
      "    ptsP\n",
      "    phosphoenolpyruvate--protein phosphotransferase\n",
      "    Corynebacterium glutamicum\n",
      "    MATVADVNQDTVLKGTGVVGGVRYASAVWITPRPELPQAGEVVAEENREAEQERFDAAAATVSSRLLERS...\n",
      "\n",
      "WP_003858695 ->\n",
      "    argB\n",
      "    acetylglutamate kinase\n",
      "    Corynebacterium\n",
      "    MNDLIKDLGSEVRANVLAEALPWLQHFRDKIVVVKYGGNAMVDDDLKAAFAADMVFLRTVGAKPVVVHGG...\n",
      "   ...\n"
     ]
    }
   ],
   "source": [
    "import re\n",
    "from Bio import Entrez, SeqIO\n",
    "import time\n",
    "import json\n",
    "\n",
    "def getProteinID(full_gene):\n",
    "    \"\"\"\n",
    "    Function to get protein ID from a full gene name\n",
    "    \n",
    "    \"\"\"\n",
    "    return \"WP_\" + re.search(r\"WP_(\\d{9})\", full_gene).group(1) if re.search(r\"WP_(\\d{9})\", full_gene) else None\n",
    "\n",
    "\n",
    "def fetchProteinID(protein_id, max_retries=50, delay_between_retries=1):\n",
    "    \"\"\"\n",
    "    Function to fetch protein ID data\n",
    "    \n",
    "    \"\"\"\n",
    "    for attempt in range(max_retries):\n",
    "        try:\n",
    "            Entrez.email = \"h.bensaadi@gmail.com\"\n",
    "\n",
    "            handle = Entrez.efetch(db=\"protein\", id=protein_id, rettype=\"gb\", retmode=\"text\")\n",
    "            record = SeqIO.read(handle, \"genbank\")\n",
    "            handle.close()\n",
    "\n",
    "            gene_name, product, organism, sequence = None, None, None, None\n",
    "\n",
    "            for feature in record.features:\n",
    "                if 'gene' in feature.qualifiers:\n",
    "                    gene_name = feature.qualifiers['gene'][0]\n",
    "                if 'product' in feature.qualifiers:\n",
    "                    product = feature.qualifiers['product'][0]\n",
    "                if 'organism' in feature.qualifiers:\n",
    "                    organism = feature.qualifiers['organism'][0]\n",
    "\n",
    "            sequence = str(record.seq)\n",
    "\n",
    "            return protein_id, gene_name, product, organism, sequence\n",
    "\n",
    "        except Entrez.HTTPError as e:\n",
    "            if attempt < max_retries - 1:\n",
    "                print(f\"{protein_id}: retrying in {delay_between_retries} seconds...\")\n",
    "                time.sleep(delay_between_retries)\n",
    "            else:\n",
    "                print(f\"Max retries reached. Unable to fetch data for {protein_id}\")\n",
    "                raise\n",
    "        except Exception as e:\n",
    "            print(f\"Error: {e}\")\n",
    "            raise\n",
    "\n",
    "def loadMapFile():\n",
    "    try:\n",
    "        with open(\"protein_id_to_gene_map.json\", \"r\") as file:\n",
    "            protein_id_to_gene_map = json.load(file)\n",
    "    except FileNotFoundError:\n",
    "        protein_id_to_gene_map = {}\n",
    "    \n",
    "    return protein_id_to_gene_map\n",
    "    \n",
    "def updateMapFile(protein_id_to_gene_map):\n",
    "    with open(\"protein_id_to_gene_map.json\", \"w\") as file:\n",
    "        json.dump(protein_id_to_gene_map, file)\n",
    "            \n",
    "def mapProteinIDtoGene():\n",
    "    protein_id_to_gene_map = loadMapFile()\n",
    "    count_found_genes = 0\n",
    "\n",
    "    print(f\"{len(list(gene_to_reactions.items()))} protein ids to fetch its data\")\n",
    "\n",
    "    for gene, reactions in list(gene_to_reactions.items()):\n",
    "        if \"WP_\" in gene:\n",
    "            protein_id = getProteinID(gene)\n",
    "\n",
    "            if protein_id not in protein_id_to_gene_map:\n",
    "                protein_id, gene_name, product, organism, sequence = fetchProteinID(protein_id)\n",
    "                protein_id_to_gene_map[protein_id] = [gene_name, product, organism, sequence]\n",
    "                \n",
    "                updateMapFile(protein_id_to_gene_map)\n",
    "                \n",
    "                print(f\"\\n{protein_id}, {gene_name}, {product}, {organism}, {sequence}\")\n",
    "\n",
    "    print(f\"{count_found_genes} protein IDs were fetched\")\n",
    "    print(f\"{len(protein_id_to_gene_map)} protein IDs are stored locally\")\n",
    "    \n",
    "    \n",
    "mapProteinIDtoGene()\n",
    "\n",
    "for protein_id, protein_data in list(protein_id_to_gene_map.items())[21:23]:\n",
    "    print(f\"\\n{protein_id} ->\")\n",
    "    gene_name, product, organism, sequence = protein_data\n",
    "    print(f\"    {gene_name}\")\n",
    "    print(f\"    {product}\")\n",
    "    print(f\"    {organism}\")\n",
    "    print(f\"    {sequence[:70]}...\")\n",
    "print(\"   ...\")"
   ]
  },
  {
   "cell_type": "markdown",
   "id": "7421937b",
   "metadata": {},
   "source": [
    "### Serching the protein ID of a known gene \n",
    "The locally stored **protein_id_to_gene_map** is used to search for the **gene name** or its **sequence**"
   ]
  },
  {
   "cell_type": "code",
   "execution_count": 74,
   "id": "8ec2eb89",
   "metadata": {},
   "outputs": [],
   "source": [
    "def searchGene(gene=None, seq=None):\n",
    "    matches = []\n",
    "    \n",
    "    protein_id_to_gene_map = loadMapFile()\n",
    "\n",
    "    for protein_id, data in protein_id_to_gene_map.items():\n",
    "        gene_name, product, organism, sequence = data\n",
    "        \n",
    "        if (gene and gene_name and gene.lower() in gene_name.lower()) or (sequence and seq and sequence.lower() in seq.lower()):\n",
    "            matches.append((protein_id, data))\n",
    "\n",
    "    return matches"
   ]
  },
  {
   "cell_type": "code",
   "execution_count": 100,
   "id": "2b009334",
   "metadata": {},
   "outputs": [
    {
     "data": {
      "text/plain": [
       "[('WP_003858695',\n",
       "  ['argB',\n",
       "   'acetylglutamate kinase',\n",
       "   'Corynebacterium',\n",
       "   'MNDLIKDLGSEVRANVLAEALPWLQHFRDKIVVVKYGGNAMVDDDLKAAFAADMVFLRTVGAKPVVVHGGGPQISEMLNRVGLQGEFKGGFRVTTPEVMDIVRMVLFGQVGRDLVGLINSHGPYAVGTSGEDAGLFTAQKRMVNIDGVPTDIGLVGDIINVDASSLMDIIEAGRIPVVSTIAPGEDGQIYNINADTAAGALAAAIGAERLLVLTNVEGLYTDWPDKSSLVSKIKATELEAILPGLDSGMIPKMESCLNAVRGGVSAAHVIDGRIAHSVLLELLTMGGIGTMVLPDVFDRENYPEGTVFRKDDKDGEL'])]"
      ]
     },
     "execution_count": 100,
     "metadata": {},
     "output_type": "execute_result"
    }
   ],
   "source": [
    "searchGene(gene=\"argB\")"
   ]
  },
  {
   "cell_type": "code",
   "execution_count": 102,
   "id": "48a8b7b4",
   "metadata": {},
   "outputs": [
    {
     "data": {
      "text/plain": [
       "[('WP_003858695',\n",
       "  ['argB',\n",
       "   'acetylglutamate kinase',\n",
       "   'Corynebacterium',\n",
       "   'MNDLIKDLGSEVRANVLAEALPWLQHFRDKIVVVKYGGNAMVDDDLKAAFAADMVFLRTVGAKPVVVHGGGPQISEMLNRVGLQGEFKGGFRVTTPEVMDIVRMVLFGQVGRDLVGLINSHGPYAVGTSGEDAGLFTAQKRMVNIDGVPTDIGLVGDIINVDASSLMDIIEAGRIPVVSTIAPGEDGQIYNINADTAAGALAAAIGAERLLVLTNVEGLYTDWPDKSSLVSKIKATELEAILPGLDSGMIPKMESCLNAVRGGVSAAHVIDGRIAHSVLLELLTMGGIGTMVLPDVFDRENYPEGTVFRKDDKDGEL'])]"
      ]
     },
     "execution_count": 102,
     "metadata": {},
     "output_type": "execute_result"
    }
   ],
   "source": [
    "searchGene(seq=\"MNDLIKDLGSEVRANVLAEALPWLQHFRDKIVVVKYGGNAMVDDDLKAAFAADMVFLRTVGAKPVVVHGGGPQISEMLNRVGLQGEFKGGFRVTTPEVMDIVRMVLFGQVGRDLVGLINSHGPYAVGTSGEDAGLFTAQKRMVNIDGVPTDIGLVGDIINVDASSLMDIIEAGRIPVVSTIAPGEDGQIYNINADTAAGALAAAIGAERLLVLTNVEGLYTDWPDKSSLVSKIKATELEAILPGLDSGMIPKMESCLNAVRGGVSAAHVIDGRIAHSVLLELLTMGGIGTMVLPDVFDRENYPEGTVFRKDDKDGEL\")"
   ]
  },
  {
   "cell_type": "markdown",
   "id": "9be057e6",
   "metadata": {},
   "source": [
    "## Gene knockout:\n",
    "\n",
    "Replicating the knockout of 4 genes from https://link.springer.com/article/10.1007/s00726-020-02893-6 \n",
    "- gluE\n",
    "- brnE\n",
    "- brnF\n",
    "- lysP"
   ]
  },
  {
   "cell_type": "code",
   "execution_count": 101,
   "id": "5bf8a1e8",
   "metadata": {},
   "outputs": [
    {
     "name": "stdout",
     "output_type": "stream",
     "text": [
      "gluE\n",
      "[]\n",
      "brnE\n",
      "[]\n",
      "brnF\n",
      "[]\n",
      "lysP\n",
      "[]\n"
     ]
    }
   ],
   "source": [
    "genes = [\"gluE\", \"brnE\", \"brnF\", \"lysP\"]\n",
    "\n",
    "for gene in genes:\n",
    "    print(gene)\n",
    "    print(searchGene(gene))"
   ]
  },
  {
   "cell_type": "code",
   "execution_count": null,
   "id": "52d89f08",
   "metadata": {
    "scrolled": false
   },
   "outputs": [],
   "source": []
  },
  {
   "cell_type": "code",
   "execution_count": null,
   "id": "97156d90",
   "metadata": {},
   "outputs": [],
   "source": []
  },
  {
   "cell_type": "markdown",
   "id": "5ba368c6",
   "metadata": {},
   "source": [
    "## Cobra part"
   ]
  },
  {
   "cell_type": "markdown",
   "id": "0ff2ca01",
   "metadata": {},
   "source": []
  },
  {
   "cell_type": "code",
   "execution_count": 12,
   "id": "ff23a340",
   "metadata": {},
   "outputs": [],
   "source": [
    "genes = {\"gluE\":\"\",\n",
    "         \"brnE\":[\"cg0315\", \"MTTDFSCILLVVAVCAVITFALRAVPFLILKPLRESQFVGKMAMWMPAGILAILTASTFRSNAIDLKTLTFGLIAVAITVVAHLLGGRRTLLSVGAGTIVFVGLVNLF\"],\n",
    "         \"brnF\":\"cg0314\",\n",
    "         \"lysP\":\"\"\n",
    "        }"
   ]
  },
  {
   "cell_type": "code",
   "execution_count": 13,
   "id": "832333ba",
   "metadata": {},
   "outputs": [
    {
     "data": {
      "text/plain": [
       "['cg0315',\n",
       " 'MTTDFSCILLVVAVCAVITFALRAVPFLILKPLRESQFVGKMAMWMPAGILAILTASTFRSNAIDLKTLTFGLIAVAITVVAHLLGGRRTLLSVGAGTIVFVGLVNLF']"
      ]
     },
     "execution_count": 13,
     "metadata": {},
     "output_type": "execute_result"
    }
   ],
   "source": [
    "genes[\"brnE\"]"
   ]
  },
  {
   "cell_type": "code",
   "execution_count": 14,
   "id": "a78dd561",
   "metadata": {},
   "outputs": [
    {
     "data": {
      "text/html": [
       "\n",
       "        <table>\n",
       "            <tr>\n",
       "                <td><strong>Reaction identifier</strong></td><td>AIRCr</td>\n",
       "            </tr><tr>\n",
       "                <td><strong>Name</strong></td><td>Phosphoribosylaminoimidazole carboxylase</td>\n",
       "            </tr><tr>\n",
       "                <td><strong>Memory address</strong></td>\n",
       "                <td>0x1d07e9e87f0</td>\n",
       "            </tr><tr>\n",
       "                <td><strong>Stoichiometry</strong></td>\n",
       "                <td>\n",
       "                    <p style='text-align:right'>air_c + co2_c <=> 5aizc_c + h_c</p>\n",
       "                    <p style='text-align:right'>5-amino-1-(5-phospho-D-ribosyl)imidazole + CO2 <=> 5-amino-1-(5-phospho-D-ribosyl)imidazole-4-carboxylate + H+</p>\n",
       "                </td>\n",
       "            </tr><tr>\n",
       "                <td><strong>GPR</strong></td><td>lcl_NC_006958_1_prot_WP_003858249_1_691 or (lcl_NC_006958_1_prot_WP_003858249_1_691 and...</td>\n",
       "            </tr><tr>\n",
       "                <td><strong>Lower bound</strong></td><td>-1000.0</td>\n",
       "            </tr><tr>\n",
       "                <td><strong>Upper bound</strong></td><td>1000.0</td>\n",
       "            </tr>\n",
       "        </table>\n",
       "        "
      ],
      "text/plain": [
       "<Reaction AIRCr at 0x1d07e9e87f0>"
      ]
     },
     "execution_count": 14,
     "metadata": {},
     "output_type": "execute_result"
    }
   ],
   "source": [
    "model.reactions.get_by_id(\"AIRCr\")"
   ]
  },
  {
   "cell_type": "code",
   "execution_count": 15,
   "id": "a4b72692",
   "metadata": {},
   "outputs": [
    {
     "data": {
      "text/html": [
       "\n",
       "        <table>\n",
       "            <tr>\n",
       "                <td><strong>Gene identifier</strong></td><td>lcl_NC_006958_1_prot_WP_011265608_1_688</td>\n",
       "            </tr><tr>\n",
       "                <td><strong>Name</strong></td><td>G_lcl_NC_006958_1_prot_WP_011265608_1_688</td>\n",
       "            </tr><tr>\n",
       "                <td><strong>Memory address</strong></td>\n",
       "                <td>0x1d07e7cdeb0</td>\n",
       "            </tr><tr>\n",
       "                <td><strong>Functional</strong></td><td>True</td>\n",
       "            </tr><tr>\n",
       "                <td><strong>In 1 reaction(s)</strong></td><td>\n",
       "                    AIRCr\n",
       "                    </td>\n",
       "            </tr>\n",
       "        </table>"
      ],
      "text/plain": [
       "<Gene lcl_NC_006958_1_prot_WP_011265608_1_688 at 0x1d07e7cdeb0>"
      ]
     },
     "execution_count": 15,
     "metadata": {},
     "output_type": "execute_result"
    }
   ],
   "source": [
    "model.genes.get_by_id(\"lcl_NC_006958_1_prot_WP_011265608_1_688\")\n"
   ]
  },
  {
   "cell_type": "code",
   "execution_count": 16,
   "id": "40776d77",
   "metadata": {},
   "outputs": [
    {
     "data": {
      "text/html": [
       "<div>\n",
       "<style scoped>\n",
       "    .dataframe tbody tr th:only-of-type {\n",
       "        vertical-align: middle;\n",
       "    }\n",
       "\n",
       "    .dataframe tbody tr th {\n",
       "        vertical-align: top;\n",
       "    }\n",
       "\n",
       "    .dataframe thead th {\n",
       "        text-align: right;\n",
       "    }\n",
       "</style>\n",
       "<table border=\"1\" class=\"dataframe\">\n",
       "  <thead>\n",
       "    <tr style=\"text-align: right;\">\n",
       "      <th></th>\n",
       "      <th>ids</th>\n",
       "      <th>growth</th>\n",
       "      <th>status</th>\n",
       "    </tr>\n",
       "  </thead>\n",
       "  <tbody>\n",
       "    <tr>\n",
       "      <th>0</th>\n",
       "      <td>{lcl_NC_006958_1_prot_WP_011014798_1_1876}</td>\n",
       "      <td>0.000000e+00</td>\n",
       "      <td>optimal</td>\n",
       "    </tr>\n",
       "    <tr>\n",
       "      <th>1</th>\n",
       "      <td>{lcl_NC_006958_1_prot_WP_011013607_1_363}</td>\n",
       "      <td>5.706601e-01</td>\n",
       "      <td>optimal</td>\n",
       "    </tr>\n",
       "    <tr>\n",
       "      <th>2</th>\n",
       "      <td>{WP_011013606_1}</td>\n",
       "      <td>5.706601e-01</td>\n",
       "      <td>optimal</td>\n",
       "    </tr>\n",
       "    <tr>\n",
       "      <th>3</th>\n",
       "      <td>{lcl_NC_006958_1_prot_WP_011013454_1_184}</td>\n",
       "      <td>5.706601e-01</td>\n",
       "      <td>optimal</td>\n",
       "    </tr>\n",
       "    <tr>\n",
       "      <th>4</th>\n",
       "      <td>{lcl_NC_006958_1_prot_WP_011015000_1_2155}</td>\n",
       "      <td>-5.440447e-16</td>\n",
       "      <td>optimal</td>\n",
       "    </tr>\n",
       "    <tr>\n",
       "      <th>...</th>\n",
       "      <td>...</td>\n",
       "      <td>...</td>\n",
       "      <td>...</td>\n",
       "    </tr>\n",
       "    <tr>\n",
       "      <th>800</th>\n",
       "      <td>{lcl_NC_006958_1_prot_WP_003862124_1_1046}</td>\n",
       "      <td>5.706601e-01</td>\n",
       "      <td>optimal</td>\n",
       "    </tr>\n",
       "    <tr>\n",
       "      <th>801</th>\n",
       "      <td>{lcl_NC_006958_1_prot_WP_003862609_1_2768}</td>\n",
       "      <td>1.528081e-16</td>\n",
       "      <td>optimal</td>\n",
       "    </tr>\n",
       "    <tr>\n",
       "      <th>802</th>\n",
       "      <td>{lcl_NC_006958_1_prot_WP_011013914_1_806}</td>\n",
       "      <td>5.706601e-01</td>\n",
       "      <td>optimal</td>\n",
       "    </tr>\n",
       "    <tr>\n",
       "      <th>803</th>\n",
       "      <td>{lcl_NC_006958_1_prot_WP_011013674_1_459}</td>\n",
       "      <td>5.706601e-01</td>\n",
       "      <td>optimal</td>\n",
       "    </tr>\n",
       "    <tr>\n",
       "      <th>804</th>\n",
       "      <td>{lcl_NC_006958_1_prot_WP_011013931_1_832}</td>\n",
       "      <td>5.706601e-01</td>\n",
       "      <td>optimal</td>\n",
       "    </tr>\n",
       "  </tbody>\n",
       "</table>\n",
       "<p>805 rows × 3 columns</p>\n",
       "</div>"
      ],
      "text/plain": [
       "                                            ids        growth   status\n",
       "0    {lcl_NC_006958_1_prot_WP_011014798_1_1876}  0.000000e+00  optimal\n",
       "1     {lcl_NC_006958_1_prot_WP_011013607_1_363}  5.706601e-01  optimal\n",
       "2                              {WP_011013606_1}  5.706601e-01  optimal\n",
       "3     {lcl_NC_006958_1_prot_WP_011013454_1_184}  5.706601e-01  optimal\n",
       "4    {lcl_NC_006958_1_prot_WP_011015000_1_2155} -5.440447e-16  optimal\n",
       "..                                          ...           ...      ...\n",
       "800  {lcl_NC_006958_1_prot_WP_003862124_1_1046}  5.706601e-01  optimal\n",
       "801  {lcl_NC_006958_1_prot_WP_003862609_1_2768}  1.528081e-16  optimal\n",
       "802   {lcl_NC_006958_1_prot_WP_011013914_1_806}  5.706601e-01  optimal\n",
       "803   {lcl_NC_006958_1_prot_WP_011013674_1_459}  5.706601e-01  optimal\n",
       "804   {lcl_NC_006958_1_prot_WP_011013931_1_832}  5.706601e-01  optimal\n",
       "\n",
       "[805 rows x 3 columns]"
      ]
     },
     "execution_count": 16,
     "metadata": {},
     "output_type": "execute_result"
    }
   ],
   "source": [
    "import cobra\n",
    "from cobra.io import read_sbml_model\n",
    "from cobra.flux_analysis import single_gene_deletion, double_gene_deletion, double_reaction_deletion\n",
    "\n",
    "\n",
    "# OptKnock\n",
    "gene_knockout_result = single_gene_deletion(model)\n",
    "gene_knockout_result\n"
   ]
  },
  {
   "cell_type": "code",
   "execution_count": 17,
   "id": "6601fab3",
   "metadata": {},
   "outputs": [
    {
     "ename": "AttributeError",
     "evalue": "module 'cobra.flux_analysis' has no attribute 'find_gene_knockout_strategies'",
     "output_type": "error",
     "traceback": [
      "\u001b[1;31m---------------------------------------------------------------------------\u001b[0m",
      "\u001b[1;31mAttributeError\u001b[0m                            Traceback (most recent call last)",
      "\u001b[1;32m<ipython-input-17-5526cdc8c852>\u001b[0m in \u001b[0;36m<module>\u001b[1;34m\u001b[0m\n\u001b[1;32m----> 1\u001b[1;33m \u001b[0moptknock_genes\u001b[0m \u001b[1;33m=\u001b[0m \u001b[0mcobra\u001b[0m\u001b[1;33m.\u001b[0m\u001b[0mflux_analysis\u001b[0m\u001b[1;33m.\u001b[0m\u001b[0mfind_gene_knockout_strategies\u001b[0m\u001b[1;33m(\u001b[0m\u001b[0mgene_knockout_result\u001b[0m\u001b[1;33m)\u001b[0m\u001b[1;33m\u001b[0m\u001b[1;33m\u001b[0m\u001b[0m\n\u001b[0m",
      "\u001b[1;31mAttributeError\u001b[0m: module 'cobra.flux_analysis' has no attribute 'find_gene_knockout_strategies'"
     ]
    }
   ],
   "source": [
    "optknock_genes = cobra.flux_analysis.find_gene_knockout_strategies(gene_knockout_result)"
   ]
  },
  {
   "cell_type": "code",
   "execution_count": null,
   "id": "cebce727",
   "metadata": {},
   "outputs": [],
   "source": [
    "# Example: Double Gene Deletion (OptGene-like)\n",
    "double_gene_knockout_result = double_gene_deletion(model)\n",
    "optgene_genes = cobra.flux_analysis.find_gene_knockout_strategies(double_gene_knockout_result)\n",
    "\n",
    "# Example: Double Reaction Deletion (OptCouple-like)\n",
    "double_reaction_knockout_result = double_reaction_deletion(model)\n",
    "optcouple_genes = cobra.flux_analysis.find_gene_knockout_strategies(double_reaction_knockout_result)\n",
    "\n",
    "# Display the results\n",
    "print(\"OptKnock Genes:\", optknock_genes)\n",
    "print(\"OptGene-like Genes:\", optgene_genes)\n",
    "print(\"OptCouple-like Genes:\", optcouple_genes)\n"
   ]
  },
  {
   "cell_type": "code",
   "execution_count": null,
   "id": "cc7ce6a6",
   "metadata": {},
   "outputs": [],
   "source": [
    "print('complete model: ', model.optimize())\n",
    "with model:\n",
    "    model.reactions.PFK.knock_out()\n",
    "    print('pfk knocked out: ', model.optimize())"
   ]
  },
  {
   "cell_type": "code",
   "execution_count": null,
   "id": "90a3339b",
   "metadata": {},
   "outputs": [],
   "source": [
    "for metabolite in model.genes.query('brnEF', 'name'):\n",
    "    print(metabolite.name)"
   ]
  },
  {
   "cell_type": "code",
   "execution_count": null,
   "id": "ec70e2ac",
   "metadata": {},
   "outputs": [],
   "source": [
    "def searchGeneName(gene_query):\n",
    "    for gene in model.genes:\n",
    "        if \"kegg.genes\" in gene.annotation:\n",
    "            if gene_query in gene.annotation[\"kegg.genes\"]:\n",
    "                print(gene.id)\n",
    "                print(gene.annotation)\n",
    "                break\n",
    "            else:\n",
    "                print(f\"{gene_query} not found\")\n",
    "                break\n"
   ]
  },
  {
   "cell_type": "code",
   "execution_count": null,
   "id": "340ef532",
   "metadata": {},
   "outputs": [],
   "source": [
    "searchGeneName(\"cg0314\")"
   ]
  },
  {
   "cell_type": "code",
   "execution_count": null,
   "id": "084a47a7",
   "metadata": {},
   "outputs": [],
   "source": [
    "searchGeneName(\"cg0315\")"
   ]
  },
  {
   "cell_type": "code",
   "execution_count": null,
   "id": "71c04042",
   "metadata": {},
   "outputs": [],
   "source": [
    "model.genes[0].reactions"
   ]
  },
  {
   "cell_type": "code",
   "execution_count": null,
   "id": "32dea7db",
   "metadata": {},
   "outputs": [],
   "source": [
    "reaction = model.reactions.query('2MAHMP')\n",
    "reaction"
   ]
  },
  {
   "cell_type": "code",
   "execution_count": null,
   "id": "f669db50",
   "metadata": {
    "scrolled": true
   },
   "outputs": [],
   "source": [
    "model.reactions[250].genes"
   ]
  },
  {
   "cell_type": "code",
   "execution_count": null,
   "id": "738ec679",
   "metadata": {},
   "outputs": [],
   "source": [
    "len(\"MKKRINVTGAVLVKENRILAAQRGPEMSLPGYWEFPGGKIEQGETPEASLARELKEELLCDATVGEHLTTTEHEYDFGIVVLSTYFCTLNDAEPQLTEHAEIRWVAPHELESLEWAPADIPAVKLLVEQLA\")"
   ]
  },
  {
   "attachments": {
    "image.png": {
     "image/png": "[encoded data removed]"
    }
   },
   "cell_type": "markdown",
   "id": "4dc99b4e",
   "metadata": {},
   "source": [
    "![image.png](attachment:image.png)"
   ]
  },
  {
   "cell_type": "code",
   "execution_count": null,
   "id": "661396cf",
   "metadata": {},
   "outputs": [],
   "source": [
    "from bioservices import KEGG\n",
    "\n",
    "k = KEGG()\n",
    "k.organism = \"cgb\"\n",
    "\n",
    "pathwayIds = k.pathwayIds\n",
    "enzymeIds = k.enzymeIds\n",
    "compoundIds = k.compoundIds"
   ]
  },
  {
   "cell_type": "code",
   "execution_count": null,
   "id": "7ae480c2",
   "metadata": {},
   "outputs": [],
   "source": [
    "s = KEGG()\n",
    "data = s.get(\"cgb04660\")\n",
    "dict_data = s.parse(data)['GENE']\n",
    "type(dict_data)\n"
   ]
  },
  {
   "cell_type": "code",
   "execution_count": null,
   "id": "376de7a9",
   "metadata": {},
   "outputs": [],
   "source": []
  }
 ],
 "metadata": {
  "kernelspec": {
   "display_name": "Python 3",
   "language": "python",
   "name": "python3"
  },
  "language_info": {
   "codemirror_mode": {
    "name": "ipython",
    "version": 3
   },
   "file_extension": ".py",
   "mimetype": "text/x-python",
   "name": "python",
   "nbconvert_exporter": "python",
   "pygments_lexer": "ipython3",
   "version": "3.8.8"
  }
 },
 "nbformat": 4,
 "nbformat_minor": 5
}
